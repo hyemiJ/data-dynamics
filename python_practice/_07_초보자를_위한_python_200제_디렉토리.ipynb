{
  "nbformat": 4,
  "nbformat_minor": 0,
  "metadata": {
    "colab": {
      "provenance": [],
      "authorship_tag": "ABX9TyMHxZZIJVHGknrOW/seLHcQ",
      "include_colab_link": true
    },
    "kernelspec": {
      "name": "python3",
      "display_name": "Python 3"
    },
    "language_info": {
      "name": "python"
    }
  },
  "cells": [
    {
      "cell_type": "markdown",
      "metadata": {
        "id": "view-in-github",
        "colab_type": "text"
      },
      "source": [
        "<a href=\"https://colab.research.google.com/github/hyemiJ/data-dynamics/blob/main/python_practice/_07_%EC%B4%88%EB%B3%B4%EC%9E%90%EB%A5%BC_%EC%9C%84%ED%95%9C_python_200%EC%A0%9C_%EB%94%94%EB%A0%89%ED%86%A0%EB%A6%AC.ipynb\" target=\"_parent\"><img src=\"https://colab.research.google.com/assets/colab-badge.svg\" alt=\"Open In Colab\"/></a>"
      ]
    },
    {
      "cell_type": "code",
      "execution_count": 2,
      "metadata": {
        "colab": {
          "base_uri": "https://localhost:8080/"
        },
        "id": "M9u1M2-KYbrh",
        "outputId": "9313ace4-743f-4c4e-befa-e767464d5686"
      },
      "outputs": [
        {
          "output_type": "stream",
          "name": "stdout",
          "text": [
            "['anscombe.json', 'README.md', 'mnist_train_small.csv', 'mnist_test.csv', 'california_housing_train.csv', 'california_housing_test.csv']\n"
          ]
        }
      ],
      "source": [
        "# 디렉토리에 있는 파일 목록 얻기.\n",
        "import os,glob\n",
        "\n",
        "folder = 'sample_data'\n",
        "file_list = os.listdir(folder)\n",
        "print(file_list)"
      ]
    },
    {
      "cell_type": "code",
      "source": [
        "#디렉토리에 있는 파일 검색 목록 얻기.\n",
        "files = '*.csv'               # *.csv 현재 위치 검색\n",
        "file_list = glob.glob(files)\n",
        "print(file_list)\n",
        "\n",
        "files = folder + '/*.csv'\n",
        "file_list = glob.glob(files)  # sample_data/*.csv 검색\n",
        "print(file_list)"
      ],
      "metadata": {
        "colab": {
          "base_uri": "https://localhost:8080/"
        },
        "id": "SIpaHC3m84JY",
        "outputId": "263ea54a-39ca-40da-b98f-5bd19ebba9d4"
      },
      "execution_count": 6,
      "outputs": [
        {
          "output_type": "stream",
          "name": "stdout",
          "text": [
            "[]\n",
            "['sample_data/mnist_train_small.csv', 'sample_data/mnist_test.csv', 'sample_data/california_housing_train.csv', 'sample_data/california_housing_test.csv']\n"
          ]
        }
      ]
    },
    {
      "cell_type": "code",
      "source": [
        "#현재 디렉터리 확인하고 작업 위치 바꾸기\n",
        "here = os.getcwd()      #현재 디렉토리 위치 저장\n",
        "print(here)\n",
        "\n",
        "os.chdir('..')          # 상위 디렉토리로 이동\n",
        "print(os.getcwd())      # /\n",
        "\n",
        "os.chdir(here)          # 다시 원래 경로로 복귀\n",
        "print(os.getcwd())      # /content"
      ],
      "metadata": {
        "colab": {
          "base_uri": "https://localhost:8080/"
        },
        "id": "DjIEt4ME9LXE",
        "outputId": "7b5f54ca-6dfe-4885-8a5f-311f7422106f"
      },
      "execution_count": 16,
      "outputs": [
        {
          "output_type": "stream",
          "name": "stdout",
          "text": [
            "/content\n",
            "/\n",
            "/content\n"
          ]
        }
      ]
    },
    {
      "cell_type": "code",
      "source": [
        "# 디렉토리 생성 (mkdir)\n",
        "newfolder = input('새로 생성할 디렉토리 이름은? ')\n",
        "try :\n",
        "  os.mkdir(newfolder)\n",
        "  print(newfolder + '가 생성되었습니다.')\n",
        "except Exception as e:\n",
        "  print(e)"
      ],
      "metadata": {
        "colab": {
          "base_uri": "https://localhost:8080/"
        },
        "id": "3AFRxHFL-OYl",
        "outputId": "9c3a077b-b02f-477e-a3d5-333bdf4159f8"
      },
      "execution_count": 17,
      "outputs": [
        {
          "output_type": "stream",
          "name": "stdout",
          "text": [
            "새로 생성할 디렉토리 이름은? task\n",
            "task가 생성되었습니다.\n"
          ]
        }
      ]
    },
    {
      "cell_type": "code",
      "source": [
        "# 디렉토리 제거 (rmdir)\n",
        "target = newfolder\n",
        "k = input(target + '를 제거하시겠습니까? (y/n)')\n",
        "if k == 'y' :\n",
        "  try :\n",
        "    os.rmdir(target)\n",
        "    print(target + '가 제거되었습니다.')\n",
        "  except Exception as e:\n",
        "    print(e)"
      ],
      "metadata": {
        "colab": {
          "base_uri": "https://localhost:8080/"
        },
        "id": "FzxHn8Eh-fEV",
        "outputId": "26358298-058b-43c3-bb62-7617457044f3"
      },
      "execution_count": 18,
      "outputs": [
        {
          "output_type": "stream",
          "name": "stdout",
          "text": [
            "task를 제거하시겠습니까? (y/n)y\n",
            "task가 제거되었습니다.\n"
          ]
        }
      ]
    },
    {
      "cell_type": "code",
      "source": [
        "# test 데이터 만들기\n",
        "mkdir = 'test_folder'\n",
        "try :\n",
        "  os.mkdir(mkdir)\n",
        "  print(mkdir + '가 생성되었습니다.')\n",
        "except Exception as e:\n",
        "  print(e)\n",
        "\n",
        "for i in range(5) :\n",
        "  with open(f'test_folder/test{i}.txt','w') as f:\n",
        "   f.write(f'test{i}')"
      ],
      "metadata": {
        "colab": {
          "base_uri": "https://localhost:8080/"
        },
        "id": "17wihYigAYvl",
        "outputId": "82522bd8-7889-464c-ec6c-ae6219700fae"
      },
      "execution_count": 22,
      "outputs": [
        {
          "output_type": "stream",
          "name": "stdout",
          "text": [
            "test_folder가 생성되었습니다.\n"
          ]
        }
      ]
    },
    {
      "cell_type": "code",
      "source": [
        "#하위 디렉토리 , 파일 전체 제거 (rm -rf)\n",
        "import shutil\n",
        "\n",
        "target = 'test_folder'\n",
        "k = input(target + '를 제거하시겠습니까? (y/n)')\n",
        "if k == 'y' :\n",
        "  try :\n",
        "    shutil.rmtree(target)\n",
        "    print(target + '의 하위가 모두 제거되었습니다.')\n",
        "  except Exception as e:\n",
        "    print(e)"
      ],
      "metadata": {
        "colab": {
          "base_uri": "https://localhost:8080/"
        },
        "id": "_BBwCtE0B4Mi",
        "outputId": "56cb4e99-8094-49fe-df2d-b35392397b9a"
      },
      "execution_count": 23,
      "outputs": [
        {
          "output_type": "stream",
          "name": "stdout",
          "text": [
            "test_folder를 제거하시겠습니까? (y/n)y\n",
            "test_folder의 하위가 모두 제거되었습니다.\n"
          ]
        }
      ]
    },
    {
      "cell_type": "code",
      "source": [
        "# testdir 만들기\n",
        "mkdir = 'testdir'\n",
        "try :\n",
        "  os.mkdir(mkdir)\n",
        "  print(mkdir + '가 생성되었습니다.')\n",
        "except Exception as e:\n",
        "  print(e)"
      ],
      "metadata": {
        "colab": {
          "base_uri": "https://localhost:8080/"
        },
        "id": "4GCkNNa7CuWC",
        "outputId": "5e6d1f0e-335a-4c13-bd0d-3db002be7348"
      },
      "execution_count": 24,
      "outputs": [
        {
          "output_type": "stream",
          "name": "stdout",
          "text": [
            "testdir가 생성되었습니다.\n"
          ]
        }
      ]
    },
    {
      "cell_type": "code",
      "source": [
        "# 파일이 존재하는지 확인.\n",
        "dir = 'testdir'\n",
        "\n",
        "if os.path.exists(dir) :\n",
        "  print(dir + '이 존재합니다.')\n",
        "else :\n",
        "  print(dir + '이 존재하지 않습니다.')"
      ],
      "metadata": {
        "colab": {
          "base_uri": "https://localhost:8080/"
        },
        "id": "bNxU4wRgDBPE",
        "outputId": "ce88f7e7-e251-46f9-f3fe-1ec6b139ac4d"
      },
      "execution_count": 25,
      "outputs": [
        {
          "output_type": "stream",
          "name": "stdout",
          "text": [
            "testdir이 존재합니다.\n"
          ]
        }
      ]
    },
    {
      "cell_type": "code",
      "source": [
        "# 테스트 파일 만들기\n",
        "with open('test.txt','w') as f:\n",
        "  f.write('test')\n",
        "  print('test.txt 파일이 생성되었습니다.')"
      ],
      "metadata": {
        "colab": {
          "base_uri": "https://localhost:8080/"
        },
        "id": "U3ZMO_GUDQCA",
        "outputId": "e59895c7-dab5-4764-e0b2-6d29ab677938"
      },
      "execution_count": 27,
      "outputs": [
        {
          "output_type": "stream",
          "name": "stdout",
          "text": [
            "test.txt 파일이 생성되었습니다.\n"
          ]
        }
      ]
    },
    {
      "cell_type": "code",
      "source": [
        "files = os.listdir()\n",
        "print(files)\n",
        "for file in files :\n",
        "  if os.path.isdir(file) :\n",
        "    print(file + '은 디렉토리입니다.')\n",
        "  elif os.path.isfile(file) :\n",
        "    print(file + '은 파일입니다.')"
      ],
      "metadata": {
        "colab": {
          "base_uri": "https://localhost:8080/"
        },
        "id": "dGTW-FSvDf15",
        "outputId": "3b94644d-bd0e-40ab-f966-0370ce61058c"
      },
      "execution_count": 28,
      "outputs": [
        {
          "output_type": "stream",
          "name": "stdout",
          "text": [
            "['.config', 'testdir', 'test.txt', '.ipynb_checkpoints', 'sample_data']\n",
            ".config은 디렉토리입니다.\n",
            "testdir은 디렉토리입니다.\n",
            "test.txt은 파일입니다.\n",
            ".ipynb_checkpoints은 디렉토리입니다.\n",
            "sample_data은 디렉토리입니다.\n"
          ]
        }
      ]
    },
    {
      "cell_type": "code",
      "source": [],
      "metadata": {
        "id": "x_qnlcmmD8sT"
      },
      "execution_count": null,
      "outputs": []
    }
  ]
}