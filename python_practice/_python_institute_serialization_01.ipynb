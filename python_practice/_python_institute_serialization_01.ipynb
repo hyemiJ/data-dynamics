{
  "nbformat": 4,
  "nbformat_minor": 0,
  "metadata": {
    "colab": {
      "provenance": [],
      "authorship_tag": "ABX9TyNeifhM1sS4pZyx9ZgnWV91",
      "include_colab_link": true
    },
    "kernelspec": {
      "name": "python3",
      "display_name": "Python 3"
    },
    "language_info": {
      "name": "python"
    }
  },
  "cells": [
    {
      "cell_type": "markdown",
      "metadata": {
        "id": "view-in-github",
        "colab_type": "text"
      },
      "source": [
        "<a href=\"https://colab.research.google.com/github/hyemiJ/data-dynamics/blob/main/python_practice/_python_institute_serialization_01.ipynb\" target=\"_parent\"><img src=\"https://colab.research.google.com/assets/colab-badge.svg\" alt=\"Open In Colab\"/></a>"
      ]
    },
    {
      "cell_type": "code",
      "execution_count": 1,
      "metadata": {
        "id": "QeX0QzoObN48"
      },
      "outputs": [],
      "source": [
        "# 직렬화\n",
        "import pickle\t\t\t#import\n",
        "\n",
        "a = dict()\n",
        "a['EUR'] = {'code' : 'Euro', 'symbol' : '€'}\n",
        "a['GBP'] = {'code' : 'British Pound', 'symbol' : '£'}\n",
        "a['JPY'] = {'code' : 'Japanese Yen', 'symbol' : '¥'}\n",
        "a['KOR'] = {'code' : 'South Korean Won', 'symbol' : '₩'}\n",
        "a['USD'] = {'code' : 'US Dollar', 'symbol' : '$'}\n",
        "\n",
        "b = ['a', 123, [10, 20, 1000]]\n",
        "\n",
        "with open('data.pickle', 'wb') as f:\t\t\t#wb 모드로 열기\n",
        "    pickle.dump(a, f)  # 첫 번째 dump: 딕셔너리 'a'를 직렬화하여 'data.pickle' 파일에 씀\n",
        "    pickle.dump(b, f)  # 두 번째 dump: 리스트 'b'를 직렬화하여 'data.pickle' 파일에 씀"
      ]
    },
    {
      "cell_type": "code",
      "source": [
        "# 역직렬화\n",
        "with open('data.pickle', 'rb') as f:    #rb 모드로 열기\n",
        "    data1 = pickle.load(f)      #load()를 통해 데이터를 불러들여 변수에 할당\n",
        "    data2 = pickle.load(f)\n",
        "\n",
        "print(data1)\n",
        "print(type(data1))\n",
        "print()\n",
        "\n",
        "print(data2)\n",
        "print(type(data2))"
      ],
      "metadata": {
        "colab": {
          "base_uri": "https://localhost:8080/"
        },
        "id": "cY3sFnW8hDRp",
        "outputId": "6ad567e4-7c8d-4c49-a64f-a218a8376bb5"
      },
      "execution_count": 2,
      "outputs": [
        {
          "output_type": "stream",
          "name": "stdout",
          "text": [
            "{'EUR': {'code': 'Euro', 'symbol': '€'}, 'GBP': {'code': 'British Pound', 'symbol': '£'}, 'JPY': {'code': 'Japanese Yen', 'symbol': '¥'}, 'KOR': {'code': 'South Korean Won', 'symbol': '₩'}, 'USD': {'code': 'US Dollar', 'symbol': '$'}}\n",
            "<class 'dict'>\n",
            "\n",
            "['a', 123, [10, 20, 1000]]\n",
            "<class 'list'>\n"
          ]
        }
      ]
    },
    {
      "cell_type": "code",
      "source": [
        "a = ['a', 'b', 1, 2, [3, 4]]\n",
        "bytes = pickle.dumps(a)\n",
        "print('pickle.dumps(a) bytes의 타입 :',type(bytes))\n",
        "\n",
        "result = pickle.loads(bytes)\n",
        "print(\"pickle.load(btyes) result의 타입s:\",type(result))\n",
        "print(\"result :\", result)"
      ],
      "metadata": {
        "colab": {
          "base_uri": "https://localhost:8080/"
        },
        "id": "9daL94kfi5XO",
        "outputId": "1f2d87a2-2949-443d-ede5-ce10ebb3cfae"
      },
      "execution_count": 3,
      "outputs": [
        {
          "output_type": "stream",
          "name": "stdout",
          "text": [
            "pickle.dumps(a) bytes의 타입 : <class 'bytes'>\n",
            "pickle.load(btyes) result의 타입s: <class 'list'>\n",
            "result : ['a', 'b', 1, 2, [3, 4]]\n"
          ]
        }
      ]
    },
    {
      "cell_type": "code",
      "source": [
        "import pickle\n",
        "\n",
        "def hello():\n",
        "  print('Hello !')\n",
        "\n",
        "with open('hello.pickle', 'wb') as f:\n",
        "  pickle.dump(hello, f)"
      ],
      "metadata": {
        "id": "_cqHERGkn4mT"
      },
      "execution_count": 4,
      "outputs": []
    },
    {
      "cell_type": "code",
      "source": [
        "import pickle\n",
        "\n",
        "with open('hello.pickle','rb') as f:\n",
        "  data1 = pickle.load(f)\n",
        "\n",
        "print(type(data1))\n",
        "print(data1)\n",
        "data1()"
      ],
      "metadata": {
        "colab": {
          "base_uri": "https://localhost:8080/"
        },
        "id": "fkfKM5MrtVaP",
        "outputId": "6a3c020d-adff-408f-8b28-7f994e3fef94"
      },
      "execution_count": 5,
      "outputs": [
        {
          "output_type": "stream",
          "name": "stdout",
          "text": [
            "<class 'function'>\n",
            "<function hello at 0x7800a4fbc680>\n",
            "Hello !\n"
          ]
        }
      ]
    },
    {
      "cell_type": "code",
      "source": [
        "def hello():\n",
        "  print('Hello ! 안녕!')"
      ],
      "metadata": {
        "id": "dXNyTCYWttIZ"
      },
      "execution_count": 6,
      "outputs": []
    },
    {
      "cell_type": "code",
      "source": [
        "import pickle\n",
        "\n",
        "with open('hello.pickle','rb') as f:\n",
        "  data2 = pickle.load(f)\n",
        "\n",
        "print(type(data2))\n",
        "print(data2)\n",
        "data2()"
      ],
      "metadata": {
        "colab": {
          "base_uri": "https://localhost:8080/"
        },
        "id": "zQfaDWUQuPUs",
        "outputId": "36f23e2e-7262-44ad-c555-b2af82199b3a"
      },
      "execution_count": 7,
      "outputs": [
        {
          "output_type": "stream",
          "name": "stdout",
          "text": [
            "<class 'function'>\n",
            "<function hello at 0x7800bca2d620>\n",
            "Hello ! 안녕!\n"
          ]
        }
      ]
    },
    {
      "cell_type": "code",
      "source": [
        "data1()\n",
        "data2()"
      ],
      "metadata": {
        "colab": {
          "base_uri": "https://localhost:8080/"
        },
        "id": "rL6ZLaERuQ7l",
        "outputId": "9ffc5304-52be-476e-ba09-9a99daf5d82e"
      },
      "execution_count": 8,
      "outputs": [
        {
          "output_type": "stream",
          "name": "stdout",
          "text": [
            "Hello !\n",
            "Hello ! 안녕!\n"
          ]
        }
      ]
    },
    {
      "cell_type": "code",
      "source": [],
      "metadata": {
        "id": "8Bh1VpbTwZXS"
      },
      "execution_count": null,
      "outputs": []
    }
  ]
}