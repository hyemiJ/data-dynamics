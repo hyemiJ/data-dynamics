{
  "nbformat": 4,
  "nbformat_minor": 0,
  "metadata": {
    "colab": {
      "provenance": [],
      "authorship_tag": "ABX9TyOZUAIXc8ZqoeXFS7aXi3qM",
      "include_colab_link": true
    },
    "kernelspec": {
      "name": "python3",
      "display_name": "Python 3"
    },
    "language_info": {
      "name": "python"
    }
  },
  "cells": [
    {
      "cell_type": "markdown",
      "metadata": {
        "id": "view-in-github",
        "colab_type": "text"
      },
      "source": [
        "<a href=\"https://colab.research.google.com/github/hyemiJ/data-dynamics/blob/main/python_practice/_python_institute_GUI_02.ipynb\" target=\"_parent\"><img src=\"https://colab.research.google.com/assets/colab-badge.svg\" alt=\"Open In Colab\"/></a>"
      ]
    },
    {
      "cell_type": "code",
      "execution_count": null,
      "metadata": {
        "id": "xQGyGSdYA9Ex"
      },
      "outputs": [],
      "source": [
        "# 실습\n",
        "# Label\n",
        "import tkinter as tk\n",
        "\n",
        "controller = tk.Tk()\n",
        "\n",
        "label = tk.Label(controller, text=\"여기는 설명을 돕는 Lable 구역\")\n",
        "label.pack()\n",
        "cotroller.mainloop()"
      ]
    },
    {
      "cell_type": "code",
      "source": [
        "#Frame\n",
        "import tkinter as tk\n",
        "\n",
        "controller = tk.Tk()\n",
        "\n",
        "label = tk.Label(controller, text=\"여기는 설명을 돕는 Lable 구역\")\n",
        "label.pack()\n",
        "frame = tk.Frame(controller, height=50, width=100,\n",
        "                 background=\"deep sky blue\")\n",
        "frame.pack()\n",
        "B\n",
        "cotroller.mainloop()"
      ],
      "metadata": {
        "id": "H_jioAcPDGKY"
      },
      "execution_count": null,
      "outputs": []
    },
    {
      "cell_type": "code",
      "source": [
        "#Button\n",
        "import tkinter as tk\n",
        "\n",
        "controller = tk.Tk()\n",
        "\n",
        "label = tk.Label(controller, text=\"여기는 설명을 돕는 Lable 구역\")\n",
        "label.pack()\n",
        "frame = tk.Frame(controller, height=50, width=100,\n",
        "                 background=\"deep sky blue\")\n",
        "frame.pack()\n",
        "button = tk.Button(controller, text=\"버튼\")\n",
        "button.pack()\n",
        "cotroller.mainloop()"
      ],
      "metadata": {
        "id": "s64sbr9BEDKa"
      },
      "execution_count": null,
      "outputs": []
    },
    {
      "cell_type": "code",
      "source": [
        "#IntVar 1\n",
        "import tkinter as tk\n",
        "\n",
        "controller = tk.Tk()\n",
        "\n",
        "label = tk.Label(controller, text=\"여기는 설명을 돕는 Lable 구역\")\n",
        "label.pack()\n",
        "frame = tk.Frame(controller, height=50, width=100,\n",
        "                 background=\"deep sky blue\")\n",
        "frame.pack()\n",
        "button = tk.Button(controller, text=\"버튼\")\n",
        "button.pack()\n",
        "switch = tk.IntVar()\n",
        "switch.set(1)\n",
        "\n",
        "cotroller.mainloop()"
      ],
      "metadata": {
        "id": "Au8jYFdrFo73"
      },
      "execution_count": null,
      "outputs": []
    },
    {
      "cell_type": "code",
      "source": [
        "#IntVar 2 - Checkbutton\n",
        "import tkinter as tk\n",
        "\n",
        "controller = tk.Tk()\n",
        "\n",
        "label = tk.Label(controller, text=\"여기는 설명을 돕는 Lable 구역\")\n",
        "label.pack()\n",
        "frame = tk.Frame(controller, height=50, width=100,\n",
        "                 background=\"deep sky blue\")\n",
        "frame.pack()\n",
        "button = tk.Button(controller, text=\"버튼\")\n",
        "button.pack()\n",
        "switch = tk.IntVar()\n",
        "switch.set(1)\n",
        "check_button = tk.Checkbutton(controller, text=\"체크버튼\",\n",
        "                              variable=switch)\n",
        "check_button.pack()\n",
        "\n",
        "cotroller.mainloop()"
      ],
      "metadata": {
        "id": "lKFPAfzrMd4Q"
      },
      "execution_count": null,
      "outputs": []
    },
    {
      "cell_type": "code",
      "source": [
        "#Entry\n",
        "import tkinter as tk\n",
        "\n",
        "controller = tk.Tk()\n",
        "\n",
        "label = tk.Label(controller, text=\"여기는 설명을 돕는 Lable 구역\")\n",
        "label.pack()\n",
        "frame = tk.Frame(controller, height=50, width=100,\n",
        "                 background=\"deep sky blue\")\n",
        "frame.pack()\n",
        "button = tk.Button(controller, text=\"버튼\")\n",
        "button.pack()\n",
        "switch = tk.IntVar()\n",
        "switch.set(1)\n",
        "check_button = tk.Checkbutton(controller, text=\"체크버튼\",\n",
        "                              variable=switch)\n",
        "check_button.pack()\n",
        "entry = tk.Entry(controller)\n",
        "entry.pack()\n",
        "\n",
        "cotroller.mainloop()"
      ],
      "metadata": {
        "id": "cZxfRXMGNVsz"
      },
      "execution_count": null,
      "outputs": []
    },
    {
      "cell_type": "code",
      "source": [
        "#RedioButton\n",
        "import tkinter as tk\n",
        "\n",
        "controller = tk.Tk()\n",
        "\n",
        "label = tk.Label(controller, text=\"여기는 설명을 돕는 Lable 구역\")\n",
        "label.pack()\n",
        "frame = tk.Frame(controller, height=50, width=100,\n",
        "                 background=\"deep sky blue\")\n",
        "frame.pack()\n",
        "button = tk.Button(controller, text=\"버튼\")\n",
        "button.pack()\n",
        "switch = tk.IntVar()\n",
        "switch.set(1)\n",
        "check_button = tk.Checkbutton(controller, text=\"체크버튼\",\n",
        "                              variable=switch)\n",
        "check_button.pack()\n",
        "entry = tk.Entry(controller)\n",
        "entry.pack()\n",
        "radio_button1 = tk.Radiobutton(controller, text=\"남자\",\n",
        "                              variable=switch, value = 1)\n",
        "radio_button1.pack()\n",
        "radio_button2 = tk.Radiobutton(controller, text=\"여자\",\n",
        "                              variable=switch, value = 0)\n",
        "radio_button2.pack()\n",
        "\n",
        "cotroller.mainloop()"
      ],
      "metadata": {
        "id": "OEtLCGiWPcdY"
      },
      "execution_count": null,
      "outputs": []
    }
  ]
}