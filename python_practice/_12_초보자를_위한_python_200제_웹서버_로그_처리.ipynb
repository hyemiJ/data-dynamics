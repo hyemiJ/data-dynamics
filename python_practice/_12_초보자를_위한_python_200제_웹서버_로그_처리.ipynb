{
  "nbformat": 4,
  "nbformat_minor": 0,
  "metadata": {
    "colab": {
      "provenance": [],
      "authorship_tag": "ABX9TyN8I97K/WRRUMviduzmIOXL",
      "include_colab_link": true
    },
    "kernelspec": {
      "name": "python3",
      "display_name": "Python 3"
    },
    "language_info": {
      "name": "python"
    }
  },
  "cells": [
    {
      "cell_type": "markdown",
      "metadata": {
        "id": "view-in-github",
        "colab_type": "text"
      },
      "source": [
        "<a href=\"https://colab.research.google.com/github/hyemiJ/data-dynamics/blob/main/python_practice/_12_%EC%B4%88%EB%B3%B4%EC%9E%90%EB%A5%BC_%EC%9C%84%ED%95%9C_python_200%EC%A0%9C_%EC%9B%B9%EC%84%9C%EB%B2%84_%EB%A1%9C%EA%B7%B8_%EC%B2%98%EB%A6%AC.ipynb\" target=\"_parent\"><img src=\"https://colab.research.google.com/assets/colab-badge.svg\" alt=\"Open In Colab\"/></a>"
      ]
    },
    {
      "cell_type": "markdown",
      "source": [
        "### 웹 서버 로그 처리하기\n",
        "- 우리는 인터넷 웹 브라우저를 통해 웹서버에 접속하여 다양한 컨텐츠를 이용한다.\n",
        "- 웹서버는 웹브라우저에 대한 요청에 필요한 작업을 수행하고 HTML 페이지를 구성한 후 웹브라우저로 응답한다.\n",
        "- 웹서버는 웹브라우저의 요청에 대한 응답 내용을 요약하여 접근 로그 파일에 기록한다.\n",
        "\n",
        "- 아파치 웹서버는 오픈소스로 많은 웹사이트에서 사용하는 인기 있는 웹서버이다.\n",
        "  - 아파치 웹서버 로그에 대한 자세한 내용은 링크를 참조한다.\n",
        "  - https://httpd.apache.org/docs/2.2/ko/logs.html\n",
        "\n",
        "- 공개 제공되는 웹 로그를 찾아 다운로드 한 후 실습을 진행한다.\n",
        "  - https://github.com/elastic/examples/blob/master/Common%20Data%20Formats/apache_logs/apache_logs"
      ],
      "metadata": {
        "id": "KN6SNnxeoePA"
      }
    },
    {
      "cell_type": "code",
      "source": [
        "# data 형태 보기\n",
        "with open('apache_logs.txt') as f:\n",
        "  logs = f.readlines()\n",
        "\n",
        "  print(logs[0])\n",
        "\n",
        "  log = logs[0]\n",
        "  log = log.split()\n",
        "  for i, l in enumerate(log) :\n",
        "    print(f\"인덱스 {i}: {l}\")"
      ],
      "metadata": {
        "colab": {
          "base_uri": "https://localhost:8080/"
        },
        "id": "LNaC73e9qI8r",
        "outputId": "21665e3b-19f4-4514-ae7b-2824b0a3f9eb"
      },
      "execution_count": 9,
      "outputs": [
        {
          "output_type": "stream",
          "name": "stdout",
          "text": [
            "83.149.9.216 - - [17/May/2015:10:05:03 +0000] \"GET /presentations/logstash-monitorama-2013/images/kibana-search.png HTTP/1.1\" 200 203023 \"http://semicomplete.com/presentations/logstash-monitorama-2013/\" \"Mozilla/5.0 (Macintosh; Intel Mac OS X 10_9_1) AppleWebKit/537.36 (KHTML, like Gecko) Chrome/32.0.1700.77 Safari/537.36\"\n",
            "\n",
            "인덱스 0: 83.149.9.216\n",
            "인덱스 1: -\n",
            "인덱스 2: -\n",
            "인덱스 3: [17/May/2015:10:05:03\n",
            "인덱스 4: +0000]\n",
            "인덱스 5: \"GET\n",
            "인덱스 6: /presentations/logstash-monitorama-2013/images/kibana-search.png\n",
            "인덱스 7: HTTP/1.1\"\n",
            "인덱스 8: 200\n",
            "인덱스 9: 203023\n",
            "인덱스 10: \"http://semicomplete.com/presentations/logstash-monitorama-2013/\"\n",
            "인덱스 11: \"Mozilla/5.0\n",
            "인덱스 12: (Macintosh;\n",
            "인덱스 13: Intel\n",
            "인덱스 14: Mac\n",
            "인덱스 15: OS\n",
            "인덱스 16: X\n",
            "인덱스 17: 10_9_1)\n",
            "인덱스 18: AppleWebKit/537.36\n",
            "인덱스 19: (KHTML,\n",
            "인덱스 20: like\n",
            "인덱스 21: Gecko)\n",
            "인덱스 22: Chrome/32.0.1700.77\n",
            "인덱스 23: Safari/537.36\"\n"
          ]
        }
      ]
    },
    {
      "cell_type": "code",
      "execution_count": 11,
      "metadata": {
        "colab": {
          "base_uri": "https://localhost:8080/"
        },
        "id": "PTTpCeY-jzoj",
        "outputId": "9d1bef85-4082-4b88-bc5f-e91c88264808"
      },
      "outputs": [
        {
          "output_type": "stream",
          "name": "stdout",
          "text": [
            "9126\n"
          ]
        }
      ],
      "source": [
        "# 총 페이지 뷰 수 계산\n",
        "pageviews = 0\n",
        "\n",
        "with open('apache_logs.txt') as f:\n",
        "  logs = f.readlines()\n",
        "  for log in logs:\n",
        "    log = log.split()\n",
        "    status = log[8]\n",
        "    if status == '200':\n",
        "        pageviews +=1\n",
        "print(pageviews)"
      ]
    },
    {
      "cell_type": "code",
      "source": [
        "# 고유 방문자 수 계산\n",
        "# 동일한 IP를 가진 클라이언트가 웹사이트에 10번을 접속해도 한사람이 방문되도록 계산.\n",
        "visitip = []\n",
        "\n",
        "with open('apache_logs.txt') as f:\n",
        "  logs = f.readlines()\n",
        "  for log in logs:\n",
        "    log = log.split()\n",
        "    ip = log[0] # 클라이언트 ip\n",
        "    if ip not in visitip: # ip 리스트들에 없으면 추가, 있으면 패스.\n",
        "      visitip.append(ip)\n",
        "print('고유 방문자 수 :',len(visitip))"
      ],
      "metadata": {
        "colab": {
          "base_uri": "https://localhost:8080/"
        },
        "id": "0msGIaqkqC7x",
        "outputId": "d2448f7f-7e26-44b2-8b9a-19d48b665593"
      },
      "execution_count": 12,
      "outputs": [
        {
          "output_type": "stream",
          "name": "stdout",
          "text": [
            "고유 방문자 수 : 1753\n"
          ]
        }
      ]
    },
    {
      "cell_type": "code",
      "source": [
        "# 서비스 용량 계산\n",
        "# 웹서버가 서비스한 콘텐츠의 총량을 계산한다.\n",
        "KB = 1024\n",
        "total_service = 0\n",
        "\n",
        "with open('apache_logs.txt') as f:\n",
        "  logs = f.readlines()\n",
        "  for log in logs:\n",
        "    log = log.split()\n",
        "    servicebyte = log[9]\n",
        "    if servicebyte.isdigit():\n",
        "      total_service += int(servicebyte)\n",
        "\n",
        "total_service = total_service/KB\n",
        "print('서비스 용량 :',total_service,'KB')"
      ],
      "metadata": {
        "colab": {
          "base_uri": "https://localhost:8080/"
        },
        "id": "tQJJg5V8rtCk",
        "outputId": "8dc6d539-476f-4085-9d9e-81df4b372ce6"
      },
      "execution_count": 13,
      "outputs": [
        {
          "output_type": "stream",
          "name": "stdout",
          "text": [
            "서비스 용량 : 2682893.30078125 KB\n"
          ]
        }
      ]
    },
    {
      "cell_type": "code",
      "source": [
        "# 사용자별 서비스 용량 계산\n",
        "# IP 별 서비스 용량을 계산한다.\n",
        "service = {}\n",
        "\n",
        "with open('apache_logs.txt') as f:\n",
        "  logs = f.readlines()\n",
        "  for log in logs:\n",
        "    log = log.split()\n",
        "    ip = log[0]\n",
        "    servicebyte = log[9]\n",
        "    if servicebyte.isdigit():\n",
        "      if ip in service:\n",
        "        service[ip] += int(servicebyte)\n",
        "      else:\n",
        "        service[ip] = int(servicebyte)\n",
        "\n",
        "result = sorted(service.items(), key=lambda x: x[1], reverse=True)\n",
        "\n",
        "print('    사용자 IP    |  서비스 용량    ')\n",
        "print('-'*30)\n",
        "for ip, b in result[:10]:\n",
        "  print(ip,' | ', b)"
      ],
      "metadata": {
        "colab": {
          "base_uri": "https://localhost:8080/"
        },
        "id": "ukYMb6h0s1xO",
        "outputId": "e4641c60-84a4-4fc2-f813-cded935b197c"
      },
      "execution_count": 18,
      "outputs": [
        {
          "output_type": "stream",
          "name": "stdout",
          "text": [
            "    사용자 IP    |  서비스 용량    \n",
            "------------------------------\n",
            "68.180.224.225  |  168132893\n",
            "94.23.164.135  |  162949356\n",
            "190.153.25.242  |  110134505\n",
            "100.2.4.116  |  108670362\n",
            "88.198.255.242  |  108632904\n",
            "184.154.149.126  |  108613506\n",
            "66.249.73.135  |  75500527\n",
            "117.28.234.67  |  69210509\n",
            "82.200.166.110  |  65259653\n",
            "192.95.12.193  |  54377808\n"
          ]
        }
      ]
    },
    {
      "cell_type": "code",
      "source": [],
      "metadata": {
        "id": "hJngICMwtf16"
      },
      "execution_count": null,
      "outputs": []
    }
  ]
}