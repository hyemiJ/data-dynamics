{
  "nbformat": 4,
  "nbformat_minor": 0,
  "metadata": {
    "colab": {
      "provenance": [],
      "authorship_tag": "ABX9TyMtj6Y2fqyekcik2Q6KPUog",
      "include_colab_link": true
    },
    "kernelspec": {
      "name": "python3",
      "display_name": "Python 3"
    },
    "language_info": {
      "name": "python"
    }
  },
  "cells": [
    {
      "cell_type": "markdown",
      "metadata": {
        "id": "view-in-github",
        "colab_type": "text"
      },
      "source": [
        "<a href=\"https://colab.research.google.com/github/hyemiJ/data-dynamics/blob/main/python_practice/_04_%EC%B4%88%EB%B3%B4%EC%9E%90%EB%A5%BC_%EC%9C%84%ED%95%9C_python_200%EC%A0%9C_%EB%94%95%EC%85%94%EB%84%88%EB%A6%AC.ipynb\" target=\"_parent\"><img src=\"https://colab.research.google.com/assets/colab-badge.svg\" alt=\"Open In Colab\"/></a>"
      ]
    },
    {
      "cell_type": "code",
      "execution_count": 1,
      "metadata": {
        "colab": {
          "base_uri": "https://localhost:8080/"
        },
        "id": "iYs2PlT3-noI",
        "outputId": "a4e8a532-b05c-4bb0-e89f-942ae4ed820b"
      },
      "outputs": [
        {
          "output_type": "stream",
          "name": "stdout",
          "text": [
            "{'태양': 'Sun', '수성': 'Mercury', '금성': 'Venus', '지구': 'Earth', '화성': 'Mars'}\n"
          ]
        }
      ],
      "source": [
        "#사전에 요소 추가하기\n",
        "l1 = ['태양','수성', '금성', '지구', '화성']\n",
        "l2 = ['Sun', 'Mercury', 'Venus', 'Earth', 'Mars']\n",
        "result = {}\n",
        "for i,value in enumerate(l1):\n",
        "  result[value] = l2[i]\n",
        "print(result)"
      ]
    },
    {
      "cell_type": "code",
      "source": [
        "#사전 특정 요소값 변경\n",
        "dic = {'A':1 , 'B':2, 'C':3}\n",
        "dic['B'] = 4\n",
        "print(dic)"
      ],
      "metadata": {
        "colab": {
          "base_uri": "https://localhost:8080/"
        },
        "id": "6ie2LhSe_b7h",
        "outputId": "f51bc636-688a-402a-f1eb-8ce331d83533"
      },
      "execution_count": 2,
      "outputs": [
        {
          "output_type": "stream",
          "name": "stdout",
          "text": [
            "{'A': 1, 'B': 4, 'C': 3}\n"
          ]
        }
      ]
    },
    {
      "cell_type": "code",
      "source": [
        "#사전 특정 요소값 제거\n",
        "dic = {'A':1 , 'B':2, 'C':3}\n",
        "del dic['B']\n",
        "print(dic)"
      ],
      "metadata": {
        "colab": {
          "base_uri": "https://localhost:8080/"
        },
        "id": "vibbDZLK_00p",
        "outputId": "f71274ed-724a-40c3-d0da-ff892fb6f680"
      },
      "execution_count": 3,
      "outputs": [
        {
          "output_type": "stream",
          "name": "stdout",
          "text": [
            "{'A': 1, 'C': 3}\n"
          ]
        }
      ]
    },
    {
      "cell_type": "code",
      "source": [
        "#사전 모든 요소값 제거 (빈 사전만들기)\n",
        "dic = {'A':1 , 'B':2, 'C':3}\n",
        "dic.clear()\n",
        "print(dic)"
      ],
      "metadata": {
        "colab": {
          "base_uri": "https://localhost:8080/"
        },
        "id": "BG9nk1fmAAoB",
        "outputId": "95471eb5-0b54-46bf-d3c5-2967610984d7"
      },
      "execution_count": 4,
      "outputs": [
        {
          "output_type": "stream",
          "name": "stdout",
          "text": [
            "{}\n"
          ]
        }
      ]
    },
    {
      "cell_type": "code",
      "source": [
        "#사전의 키 추출하기\n",
        "print('데이터:',result)\n",
        "keys = result.keys()\n",
        "print(keys) # 사전의 view 객체로 리턴한다. 순서가 없는 자료형임의 주의한다.\n",
        "\n",
        "keys = list(result.keys()) # 리스트 형태로 저장.\n",
        "print(keys)"
      ],
      "metadata": {
        "colab": {
          "base_uri": "https://localhost:8080/"
        },
        "id": "2a2JybRmAP2B",
        "outputId": "92129bba-daca-4343-9e60-dc7a3a49b0e1"
      },
      "execution_count": 8,
      "outputs": [
        {
          "output_type": "stream",
          "name": "stdout",
          "text": [
            "데이터: {'태양': 'Sun', '수성': 'Mercury', '금성': 'Venus', '지구': 'Earth', '화성': 'Mars'}\n",
            "dict_keys(['태양', '수성', '금성', '지구', '화성'])\n",
            "['태양', '수성', '금성', '지구', '화성']\n"
          ]
        }
      ]
    },
    {
      "cell_type": "code",
      "source": [
        "#사전의 값 추출하기\n",
        "print('데이터:',result)\n",
        "values = result.values()\n",
        "print(values) # 사전의 view 객체로 리턴한다. 순서가 없는 자료형임의 주의한다.\n",
        "\n",
        "values = list(result.values()) # 리스트 형태로 저장.\n",
        "print(values)"
      ],
      "metadata": {
        "colab": {
          "base_uri": "https://localhost:8080/"
        },
        "id": "Spr7K6-fATih",
        "outputId": "390341a8-293f-4d0c-a48f-921cea21400f"
      },
      "execution_count": 9,
      "outputs": [
        {
          "output_type": "stream",
          "name": "stdout",
          "text": [
            "데이터: {'태양': 'Sun', '수성': 'Mercury', '금성': 'Venus', '지구': 'Earth', '화성': 'Mars'}\n",
            "dict_values(['Sun', 'Mercury', 'Venus', 'Earth', 'Mars'])\n",
            "['Sun', 'Mercury', 'Venus', 'Earth', 'Mars']\n"
          ]
        }
      ]
    },
    {
      "cell_type": "code",
      "source": [
        "#사전의 모든 요소 추출하기\n",
        "print('데이터:',result)\n",
        "items = result.items()\n",
        "print(items) # 사전의 view 객체로 리턴한다. 순서가 없는 자료형임의 주의한다.\n",
        "\n",
        "items = list(result.items()) # 튜플 리스트 형태로 저장.\n",
        "print(items)\n",
        "for k,v in items:\n",
        "  print(k,v)\n",
        "\n",
        "for k,v in result.items():\n",
        "  print(k,v)"
      ],
      "metadata": {
        "colab": {
          "base_uri": "https://localhost:8080/"
        },
        "id": "jytfNTVsBSGo",
        "outputId": "2b9f7c98-0704-4922-9f03-377ae67fd6ee"
      },
      "execution_count": 12,
      "outputs": [
        {
          "output_type": "stream",
          "name": "stdout",
          "text": [
            "데이터: {'태양': 'Sun', '수성': 'Mercury', '금성': 'Venus', '지구': 'Earth', '화성': 'Mars'}\n",
            "dict_items([('태양', 'Sun'), ('수성', 'Mercury'), ('금성', 'Venus'), ('지구', 'Earth'), ('화성', 'Mars')])\n",
            "[('태양', 'Sun'), ('수성', 'Mercury'), ('금성', 'Venus'), ('지구', 'Earth'), ('화성', 'Mars')]\n",
            "태양 Sun\n",
            "수성 Mercury\n",
            "금성 Venus\n",
            "지구 Earth\n",
            "화성 Mars\n",
            "태양 Sun\n",
            "수성 Mercury\n",
            "금성 Venus\n",
            "지구 Earth\n",
            "화성 Mars\n"
          ]
        }
      ]
    },
    {
      "cell_type": "code",
      "source": [
        "#사전에 특정 키가 존재하는지 확인.\n",
        "print('데이터:', result)\n",
        "if '태양' in result:\n",
        "  print('태양은 있음')\n",
        "else:\n",
        "  print('태양은 없음')\n",
        "\n",
        "if '해왕성' in result:\n",
        "  print('해왕성은 있음')\n",
        "else:\n",
        "  print('해왕성은 없음')"
      ],
      "metadata": {
        "colab": {
          "base_uri": "https://localhost:8080/"
        },
        "id": "ZDPRBPa2BbpK",
        "outputId": "241c4281-e297-47d3-9726-f2958946d6e8"
      },
      "execution_count": 14,
      "outputs": [
        {
          "output_type": "stream",
          "name": "stdout",
          "text": [
            "데이터: {'태양': 'Sun', '수성': 'Mercury', '금성': 'Venus', '지구': 'Earth', '화성': 'Mars'}\n",
            "태양은 있음\n",
            "해왕성은 없음\n"
          ]
        }
      ]
    },
    {
      "cell_type": "code",
      "source": [
        "# 사전 정렬하기(키나 값을 통해 오름차순 또는 내림차순의 정렬을 수행한다.)\n",
        "dic = {'Marry':1002, 'Sams':2111, 'Aimy': 9231, 'Tom': 2024, 'Michale':2199}\n",
        "print(sorted(dic)) # key를 기준으로 오름차순 정렬\n",
        "print(sorted(dic, reverse=True)) # key를 기준으로 내림차순 정렬\n",
        "print(sorted(dic, key=lambda x:dic[x])) # value를 기준으로 오름차순 정렬\n",
        "print(sorted(dic, key=lambda x:dic[x], reverse=True)) # value를 기준으로 내림차순 정렬\n",
        "\n",
        "print('*'*50)\n",
        "print(sorted(dic.items(), reverse=True)) # key를 기준으로 내림차순 정렬\n",
        "print(sorted(dic.items())) # key를 기준으로 오름차순 정렬\n",
        "print(sorted(dic.items(), key=lambda x:x[1], reverse=True)) # value를 기준으로 내림차순 정렬\n",
        "print(sorted(dic.items(), key=lambda x:x[1])) # value를 기준으로 오름차순 정렬"
      ],
      "metadata": {
        "colab": {
          "base_uri": "https://localhost:8080/"
        },
        "id": "TBfBaxOGCB4W",
        "outputId": "00fc4da6-0c64-46a8-cb3c-623020528e14"
      },
      "execution_count": 21,
      "outputs": [
        {
          "output_type": "stream",
          "name": "stdout",
          "text": [
            "['Aimy', 'Marry', 'Michale', 'Sams', 'Tom']\n",
            "['Tom', 'Sams', 'Michale', 'Marry', 'Aimy']\n",
            "['Marry', 'Tom', 'Sams', 'Michale', 'Aimy']\n",
            "['Aimy', 'Michale', 'Sams', 'Tom', 'Marry']\n",
            "**************************************************\n",
            "[('Tom', 2024), ('Sams', 2111), ('Michale', 2199), ('Marry', 1002), ('Aimy', 9231)]\n",
            "[('Aimy', 9231), ('Marry', 1002), ('Michale', 2199), ('Sams', 2111), ('Tom', 2024)]\n",
            "[('Aimy', 9231), ('Michale', 2199), ('Sams', 2111), ('Tom', 2024), ('Marry', 1002)]\n",
            "[('Marry', 1002), ('Tom', 2024), ('Sams', 2111), ('Michale', 2199), ('Aimy', 9231)]\n"
          ]
        }
      ]
    },
    {
      "cell_type": "code",
      "source": [],
      "metadata": {
        "id": "LtxR5GhuDMWX"
      },
      "execution_count": null,
      "outputs": []
    }
  ]
}