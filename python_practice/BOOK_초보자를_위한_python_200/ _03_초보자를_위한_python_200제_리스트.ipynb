{
  "nbformat": 4,
  "nbformat_minor": 0,
  "metadata": {
    "colab": {
      "provenance": [],
      "authorship_tag": "ABX9TyOZl0/sENI4gKY1G8/WFstc",
      "include_colab_link": true
    },
    "kernelspec": {
      "name": "python3",
      "display_name": "Python 3"
    },
    "language_info": {
      "name": "python"
    }
  },
  "cells": [
    {
      "cell_type": "markdown",
      "metadata": {
        "id": "view-in-github",
        "colab_type": "text"
      },
      "source": [
        "<a href=\"https://colab.research.google.com/github/hyemiJ/data-dynamics/blob/main/python_practice/%20_03_%EC%B4%88%EB%B3%B4%EC%9E%90%EB%A5%BC_%EC%9C%84%ED%95%9C_python_200%EC%A0%9C_%EB%A6%AC%EC%8A%A4%ED%8A%B8.ipynb\" target=\"_parent\"><img src=\"https://colab.research.google.com/assets/colab-badge.svg\" alt=\"Open In Colab\"/></a>"
      ]
    },
    {
      "cell_type": "code",
      "execution_count": null,
      "metadata": {
        "colab": {
          "base_uri": "https://localhost:8080/"
        },
        "id": "IFOMHtQ3K9QH",
        "outputId": "93d3924a-26dd-4c76-b035-45b029267a1c"
      },
      "outputs": [
        {
          "output_type": "stream",
          "name": "stdout",
          "text": [
            "[0, 1, 2, 3, 4, 5, 6, 7, 8, 9]\n",
            "45\n"
          ]
        }
      ],
      "source": [
        "#순차적 리스트 생성\n",
        "range1 = range(10)\n",
        "print(list(range1))\n",
        "\n",
        "result = 0\n",
        "for i in range(10):\n",
        "  result +=i\n",
        "print(result)"
      ]
    },
    {
      "cell_type": "code",
      "source": [
        "#리스트 특정 위치 요소 찾기\n",
        "lst = [1, 2, 3, [1, 'a']]\n",
        "value1 = lst[0]\n",
        "value2 = lst[3][1]\n",
        "print(value1,value2)"
      ],
      "metadata": {
        "colab": {
          "base_uri": "https://localhost:8080/"
        },
        "id": "vy973JDRhXsO",
        "outputId": "9bb4e49a-d18f-492d-a312-35736268eba0"
      },
      "execution_count": null,
      "outputs": [
        {
          "output_type": "stream",
          "name": "stdout",
          "text": [
            "1 a\n"
          ]
        }
      ]
    },
    {
      "cell_type": "code",
      "source": [
        "#리스트의 특정 요소 위치 구하기\n",
        "lst = [1, 2, 3, 4, 5, 4, 3, 2, 1]\n",
        "find_me = 2\n",
        "print('find_me의 인덱스 위치는 ? :',lst.index(find_me))\n",
        "print('find_me의 lst[5]이후의 인덱스 위치는 ? :',lst.index(find_me,5))"
      ],
      "metadata": {
        "colab": {
          "base_uri": "https://localhost:8080/"
        },
        "id": "pVrCvuX7iKz-",
        "outputId": "b103168d-8dee-49f0-fd92-f9fda7a0d44d"
      },
      "execution_count": null,
      "outputs": [
        {
          "output_type": "stream",
          "name": "stdout",
          "text": [
            "find_me의 인덱스 위치는 ? : 1\n",
            "find_me의 lst[5]이후의 인덱스 위치는 ? : 7\n"
          ]
        }
      ]
    },
    {
      "cell_type": "code",
      "source": [
        "#리스트 특정 구간 요소 추출\n",
        "first_lst = lst[:4]\n",
        "second_lst = lst[4:]\n",
        "print('1.',first_lst)\n",
        "print('2.',second_lst)"
      ],
      "metadata": {
        "colab": {
          "base_uri": "https://localhost:8080/"
        },
        "id": "l57sKeGgit_B",
        "outputId": "8ce7cf35-0b0c-4cfd-8bc5-aa14ea6540da"
      },
      "execution_count": null,
      "outputs": [
        {
          "output_type": "stream",
          "name": "stdout",
          "text": [
            "1. [1, 2, 3, 4]\n",
            "2. [5, 4, 3, 2, 1]\n"
          ]
        }
      ]
    },
    {
      "cell_type": "code",
      "source": [
        "#리스트 step 활용\n",
        "lst = list(range(1,21))\n",
        "even_lst = lst[1::2]\n",
        "print(even_lst)\n",
        "odd_list = lst[::2]\n",
        "print(odd_list)"
      ],
      "metadata": {
        "colab": {
          "base_uri": "https://localhost:8080/"
        },
        "id": "6lwk_X7-jlWy",
        "outputId": "0942c55c-a7a6-46fd-df95-f9474055bcf0"
      },
      "execution_count": null,
      "outputs": [
        {
          "output_type": "stream",
          "name": "stdout",
          "text": [
            "[2, 4, 6, 8, 10, 12, 14, 16, 18, 20]\n",
            "[1, 3, 5, 7, 9, 11, 13, 15, 17, 19]\n"
          ]
        }
      ]
    },
    {
      "cell_type": "code",
      "source": [
        "# 리스트의 역정렬 ,resversed. (list_name.reverse() =>원본이 변경됨의 유의)\n",
        "lst = [1, 3, 5, 2, 4]\n",
        "lst2 = reversed(lst) # reversed는 역순으로 순환할 수 있는 iterator객체를 반환. 사용하기 위해서는 list로 형변환이 필요 원본 데이터를 변경하지 않음.\n",
        "lst3 = lst[::-1] # 슬라이싱을 활용하여 reversed와 같은 결과가 출력됨.lst3 = lst[::-1] # 슬라이싱을 활용하여 reversed와 같은 결과가 출력됨.\n",
        "\n",
        "print(lst)\n",
        "print(list(lst2))\n",
        "print(lst3)"
      ],
      "metadata": {
        "colab": {
          "base_uri": "https://localhost:8080/"
        },
        "id": "WiscUMydj-xK",
        "outputId": "9b6fbe6e-9187-4c6a-dbf9-9ece0ee3b546"
      },
      "execution_count": null,
      "outputs": [
        {
          "output_type": "stream",
          "name": "stdout",
          "text": [
            "[1, 3, 5, 2, 4]\n",
            "[4, 2, 5, 3, 1]\n",
            "[4, 2, 5, 3, 1]\n"
          ]
        }
      ]
    },
    {
      "cell_type": "code",
      "source": [
        "# 리스트 합치기\n",
        "l1 = ['a', 'b', 'c']\n",
        "l2 = [1, 2, 3]\n",
        "l3 = l1 +l2\n",
        "print(l3)"
      ],
      "metadata": {
        "colab": {
          "base_uri": "https://localhost:8080/"
        },
        "id": "jtB8BQwekeKT",
        "outputId": "bf4ad658-9b54-4259-d642-85a6da1ef546"
      },
      "execution_count": null,
      "outputs": [
        {
          "output_type": "stream",
          "name": "stdout",
          "text": [
            "['a', 'b', 'c', 1, 2, 3]\n"
          ]
        }
      ]
    },
    {
      "cell_type": "code",
      "source": [
        "# 리스트 반복하기\n",
        "l3 = l2 * 2\n",
        "print(l3)"
      ],
      "metadata": {
        "colab": {
          "base_uri": "https://localhost:8080/"
        },
        "id": "M4PGjuH2tHNR",
        "outputId": "053ad1ac-cc60-4807-b09d-29a662ae16b2"
      },
      "execution_count": null,
      "outputs": [
        {
          "output_type": "stream",
          "name": "stdout",
          "text": [
            "[1, 2, 3, 1, 2, 3]\n"
          ]
        }
      ]
    },
    {
      "cell_type": "code",
      "source": [
        "#리스트에 요소 추가하기\n",
        "lst = []\n",
        "for i in range(3):\n",
        "  lst.append(i)\n",
        "print(lst)"
      ],
      "metadata": {
        "colab": {
          "base_uri": "https://localhost:8080/"
        },
        "id": "7uOqLWGGtRsZ",
        "outputId": "970e483a-140f-40a6-983d-91b842b1f5af"
      },
      "execution_count": null,
      "outputs": [
        {
          "output_type": "stream",
          "name": "stdout",
          "text": [
            "[0, 1, 2]\n"
          ]
        }
      ]
    },
    {
      "cell_type": "code",
      "source": [
        "#입력값을 받아 요소 추가하기\n",
        "lst =[]\n",
        "while len(lst) <3:\n",
        "  lst.append(input(\"리스트에 추가할 값을 입력하세요\"))\n",
        "  print(lst)"
      ],
      "metadata": {
        "colab": {
          "base_uri": "https://localhost:8080/"
        },
        "id": "-iMshiMMtkZX",
        "outputId": "bb2d1ddd-6433-4c77-e5d1-6fefc0b10750"
      },
      "execution_count": null,
      "outputs": [
        {
          "output_type": "stream",
          "name": "stdout",
          "text": [
            "리스트에 추가할 값을 입력하세요1\n",
            "['1']\n",
            "리스트에 추가할 값을 입력하세요2\n",
            "['1', '2']\n",
            "리스트에 추가할 값을 입력하세요3\n",
            "['1', '2', '3']\n"
          ]
        }
      ]
    },
    {
      "cell_type": "code",
      "source": [
        "# 리스트의 특정 위치에 요소 삽입하기\n",
        "lst = [1, 2, 4, 5, 7]\n",
        "idx = lst.index(2)+1\n",
        "lst.insert(idx,3)\n",
        "print(lst)\n",
        "idx = lst.index(5)+1\n",
        "lst.insert(idx,6)\n",
        "print(lst)"
      ],
      "metadata": {
        "colab": {
          "base_uri": "https://localhost:8080/"
        },
        "id": "FZr25iP-uMvb",
        "outputId": "0a222c78-4aa6-41a5-cfe8-626cfa6d220d"
      },
      "execution_count": null,
      "outputs": [
        {
          "output_type": "stream",
          "name": "stdout",
          "text": [
            "[1, 2, 3, 4, 5, 7]\n",
            "[1, 2, 3, 4, 5, 6, 7]\n"
          ]
        }
      ]
    },
    {
      "cell_type": "code",
      "source": [
        "# 리스트의 특정 위치 요소 제거하기(del 키워드 사용 =>index를 활용)\n",
        "lst = [1, 2, 2, 3, 4, 5, 5]\n",
        "idx =lst.index(2)\n",
        "del lst[idx]\n",
        "idx =lst.index(5)\n",
        "del lst[idx]\n",
        "print(lst)"
      ],
      "metadata": {
        "colab": {
          "base_uri": "https://localhost:8080/"
        },
        "id": "Z84aBuD9uty6",
        "outputId": "db198759-2abe-4d0e-8ba1-52abd2e1e967"
      },
      "execution_count": null,
      "outputs": [
        {
          "output_type": "stream",
          "name": "stdout",
          "text": [
            "[1, 2, 3, 4, 5]\n"
          ]
        }
      ]
    },
    {
      "cell_type": "code",
      "source": [
        "# 리스트에서 특정 위치 요소 제거하기(list_name.remove() =>값을 활용)\n",
        "lst = [1, 2, 2, 3, 4, 5, 5]\n",
        "lst.remove(2)\n",
        "lst.remove(5)\n",
        "print(lst)"
      ],
      "metadata": {
        "colab": {
          "base_uri": "https://localhost:8080/"
        },
        "id": "ZgsfissBvR98",
        "outputId": "7fd8a17a-7c3a-4025-d9bf-bda363d398d7"
      },
      "execution_count": null,
      "outputs": [
        {
          "output_type": "stream",
          "name": "stdout",
          "text": [
            "[1, 2, 3, 4, 5]\n"
          ]
        }
      ]
    },
    {
      "cell_type": "code",
      "source": [
        "# 리스트에서 특정 구간 모든 요소 제거 (del 키워드 사용)\n",
        "lst = [1, 2, 'a', 'b', 3, 4]\n",
        "del lst[2:4]\n",
        "print(lst)"
      ],
      "metadata": {
        "colab": {
          "base_uri": "https://localhost:8080/"
        },
        "id": "x1ZStyNc4VkR",
        "outputId": "6d8f525a-a919-442a-dcf6-d0cb98da7784"
      },
      "execution_count": null,
      "outputs": [
        {
          "output_type": "stream",
          "name": "stdout",
          "text": [
            "[1, 2, 3, 4]\n"
          ]
        }
      ]
    },
    {
      "cell_type": "code",
      "source": [
        "#리스트에 있는 요소 갯수 구하기\n",
        "lst = [1, 2, 3, 4, 2, 2, 1, 3, 4, 7, 1, 3]\n",
        "print(len(lst))"
      ],
      "metadata": {
        "colab": {
          "base_uri": "https://localhost:8080/"
        },
        "id": "JMHpqVX444MN",
        "outputId": "d835613a-09ee-4ecf-c72f-cc343e2fe4a4"
      },
      "execution_count": null,
      "outputs": [
        {
          "output_type": "stream",
          "name": "stdout",
          "text": [
            "12\n"
          ]
        }
      ]
    },
    {
      "cell_type": "code",
      "source": [
        "# 리스트에서 특정 요소 갯수 구하기\n",
        "lst = [1, 2, 3, 4, 2, 2, 1, 3, 4, 7, 1, 3]\n",
        "cnt = lst.count(2)\n",
        "print(cnt)"
      ],
      "metadata": {
        "colab": {
          "base_uri": "https://localhost:8080/"
        },
        "id": "3hQ2R6mM5EU9",
        "outputId": "7cb68cf1-0bd1-4967-b0f0-554f25856a48"
      },
      "execution_count": null,
      "outputs": [
        {
          "output_type": "stream",
          "name": "stdout",
          "text": [
            "3\n"
          ]
        }
      ]
    },
    {
      "cell_type": "code",
      "source": [
        "# 리스트 전체 제거\n",
        "print(lst)\n",
        "del lst\n",
        "print(lst)"
      ],
      "metadata": {
        "colab": {
          "base_uri": "https://localhost:8080/",
          "height": 193
        },
        "id": "orzckXhU6GMq",
        "outputId": "c906528a-7459-48ed-e2cd-51a809858bb8"
      },
      "execution_count": null,
      "outputs": [
        {
          "output_type": "stream",
          "name": "stdout",
          "text": [
            "[1, 2, 3, 4, 2, 2, 1, 3, 4, 7, 1, 3]\n"
          ]
        },
        {
          "output_type": "error",
          "ename": "NameError",
          "evalue": "name 'lst' is not defined",
          "traceback": [
            "\u001b[0;31m---------------------------------------------------------------------------\u001b[0m",
            "\u001b[0;31mNameError\u001b[0m                                 Traceback (most recent call last)",
            "\u001b[0;32m<ipython-input-19-9260cf8f8af2>\u001b[0m in \u001b[0;36m<cell line: 0>\u001b[0;34m()\u001b[0m\n\u001b[1;32m      2\u001b[0m \u001b[0mprint\u001b[0m\u001b[0;34m(\u001b[0m\u001b[0mlst\u001b[0m\u001b[0;34m)\u001b[0m\u001b[0;34m\u001b[0m\u001b[0;34m\u001b[0m\u001b[0m\n\u001b[1;32m      3\u001b[0m \u001b[0;32mdel\u001b[0m \u001b[0mlst\u001b[0m\u001b[0;34m\u001b[0m\u001b[0;34m\u001b[0m\u001b[0m\n\u001b[0;32m----> 4\u001b[0;31m \u001b[0mprint\u001b[0m\u001b[0;34m(\u001b[0m\u001b[0mlst\u001b[0m\u001b[0;34m)\u001b[0m\u001b[0;34m\u001b[0m\u001b[0;34m\u001b[0m\u001b[0m\n\u001b[0m",
            "\u001b[0;31mNameError\u001b[0m: name 'lst' is not defined"
          ]
        }
      ]
    },
    {
      "cell_type": "code",
      "source": [
        "#리스트 요소 정렬 (list_name.sort)\n",
        "name_list = ['Marry', 'Bob', 'Sams', 'Tom', 'Kelly', 'Michale']\n",
        "name_list.sort()\n",
        "print(name_list)"
      ],
      "metadata": {
        "colab": {
          "base_uri": "https://localhost:8080/"
        },
        "id": "d_kR9oLU6Ruu",
        "outputId": "dc5ac647-d838-41f0-b8f7-435b893b3768"
      },
      "execution_count": null,
      "outputs": [
        {
          "output_type": "stream",
          "name": "stdout",
          "text": [
            "['Bob', 'Kelly', 'Marry', 'Michale', 'Sams', 'Tom']\n"
          ]
        }
      ]
    },
    {
      "cell_type": "code",
      "source": [
        "#리스트 요소 정렬 (sorted(list_name,reverse=false) default가 false이다.)\n",
        "name_list = ['Marry', 'Bob', 'Sams', 'Tom', 'Kelly', 'Michale']\n",
        "l1 = sorted(name_list)\n",
        "l2 = sorted(name_list,reverse=False)\n",
        "l3 = sorted(name_list,reverse=True)\n",
        "print(l1)\n",
        "print(l2)\n",
        "print(l3)\n",
        "print(name_list) # 원본에 변화가 없다. 리스트를 정렬한 결과를 리스트의 형태로 리턴한다."
      ],
      "metadata": {
        "colab": {
          "base_uri": "https://localhost:8080/"
        },
        "id": "dbdr2jvj61FS",
        "outputId": "74df0bc1-63c0-4967-ae47-76098211b4e6"
      },
      "execution_count": null,
      "outputs": [
        {
          "output_type": "stream",
          "name": "stdout",
          "text": [
            "['Bob', 'Kelly', 'Marry', 'Michale', 'Sams', 'Tom']\n",
            "['Bob', 'Kelly', 'Marry', 'Michale', 'Sams', 'Tom']\n",
            "['Tom', 'Sams', 'Michale', 'Marry', 'Kelly', 'Bob']\n",
            "['Marry', 'Bob', 'Sams', 'Tom', 'Kelly', 'Michale']\n"
          ]
        }
      ]
    },
    {
      "cell_type": "code",
      "source": [
        "#리스트 요소 무작위로 섞기\n",
        "from random import shuffle\n",
        "\n",
        "lst = list(range(1,11))\n",
        "for i in range(3):\n",
        "  shuffle(lst)\n",
        "  print(lst) # 실행할때마다 결과가 달라짐."
      ],
      "metadata": {
        "colab": {
          "base_uri": "https://localhost:8080/"
        },
        "id": "d71hwwTz7Q6v",
        "outputId": "2b968a44-4688-43d7-e1b4-c823e939c540"
      },
      "execution_count": null,
      "outputs": [
        {
          "output_type": "stream",
          "name": "stdout",
          "text": [
            "[8, 5, 4, 9, 1, 6, 7, 3, 10, 2]\n",
            "[8, 6, 4, 2, 5, 1, 10, 7, 3, 9]\n",
            "[2, 5, 9, 10, 4, 6, 1, 7, 8, 3]\n"
          ]
        }
      ]
    },
    {
      "cell_type": "code",
      "source": [
        "#리스트의 모든 요소를 인덱스와 쌍으로 추출하기\n",
        "name_list = ['Marry', 'Bob', 'Sams', 'Tom', 'Kelly', 'Michale']\n",
        "result = list(enumerate(name_list))\n",
        "print(result)\n",
        "for i, name in result:\n",
        "  print(f\"{i}번째 {name}\")"
      ],
      "metadata": {
        "colab": {
          "base_uri": "https://localhost:8080/"
        },
        "id": "UPugwL9j8Ijg",
        "outputId": "eb16ddef-8bd2-479d-86c9-b5c90557c744"
      },
      "execution_count": null,
      "outputs": [
        {
          "output_type": "stream",
          "name": "stdout",
          "text": [
            "[(0, 'Marry'), (1, 'Bob'), (2, 'Sams'), (3, 'Tom'), (4, 'Kelly'), (5, 'Michale')]\n",
            "0번째 Marry\n",
            "1번째 Bob\n",
            "2번째 Sams\n",
            "3번째 Tom\n",
            "4번째 Kelly\n",
            "5번째 Michale\n"
          ]
        }
      ]
    },
    {
      "cell_type": "code",
      "source": [
        "#리스트의 모든 요소의 합 구하기\n",
        "lst = [1, 5, 7, 9, 2, 5, 6, 9, 1, 5, 2, 9]\n",
        "result = sum(lst)\n",
        "print(result) # 숫자형에만 해당하며 , 숫자가 아닐경우 TypeError 발생"
      ],
      "metadata": {
        "colab": {
          "base_uri": "https://localhost:8080/"
        },
        "id": "Qf4ZmSaa8wQ9",
        "outputId": "f050fa00-40ba-41b7-a00c-030d22613698"
      },
      "execution_count": null,
      "outputs": [
        {
          "output_type": "stream",
          "name": "stdout",
          "text": [
            "61\n"
          ]
        }
      ]
    },
    {
      "cell_type": "code",
      "source": [
        "#리스트의 요소가 모두 참인지 확인하기\n",
        "l1 = [0, 1, 2, 3, 4]\n",
        "l2 = [1, 2, 3, 4, 5]\n",
        "l3 = [True, True, True]\n",
        "l4 = ['',[],{},None,False,0]\n",
        "print(all(l1)) # 숫자 0\n",
        "print(all(l2))\n",
        "\n",
        "print(all(l3))\n",
        "print(all(l4))"
      ],
      "metadata": {
        "colab": {
          "base_uri": "https://localhost:8080/"
        },
        "id": "k6_Kwzfo9CDp",
        "outputId": "3a18f114-b406-4e41-aa93-cf389f4f0e68"
      },
      "execution_count": null,
      "outputs": [
        {
          "output_type": "stream",
          "name": "stdout",
          "text": [
            "False\n",
            "True\n",
            "True\n",
            "False\n"
          ]
        }
      ]
    },
    {
      "cell_type": "code",
      "source": [
        "#리스트의 요소가 하나라도 참인지 확인하기\n",
        "l1 = [0, 1, 2, 3, 4]\n",
        "l2 = [1, 2, 3, 4, 5]\n",
        "l3 = [True, True, True]\n",
        "l4 = ['',[],{},None,False,0]\n",
        "print(any(l1))\n",
        "print(any(l2))\n",
        "print(any(l3))\n",
        "print(any(l4)) # 전부 거짓"
      ],
      "metadata": {
        "colab": {
          "base_uri": "https://localhost:8080/"
        },
        "id": "tuz3_9459h-X",
        "outputId": "bdbe9ffe-35a8-468d-a827-3934bb6cad90"
      },
      "execution_count": null,
      "outputs": [
        {
          "output_type": "stream",
          "name": "stdout",
          "text": [
            "True\n",
            "True\n",
            "True\n",
            "False\n"
          ]
        }
      ]
    },
    {
      "cell_type": "code",
      "source": [],
      "metadata": {
        "id": "SVGYuFt5-Jgz"
      },
      "execution_count": null,
      "outputs": []
    }
  ]
}