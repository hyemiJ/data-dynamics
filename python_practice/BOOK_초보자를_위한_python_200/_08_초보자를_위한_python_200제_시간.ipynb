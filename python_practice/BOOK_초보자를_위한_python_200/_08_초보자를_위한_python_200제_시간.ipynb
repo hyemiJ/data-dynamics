{
 "nbformat": 4,
 "nbformat_minor": 0,
 "metadata": {
  "colab": {
   "provenance": [],
   "authorship_tag": "ABX9TyMXwqTkFXrTbAaS2Lhv1rxB",
   "include_colab_link": true
  },
  "kernelspec": {
   "name": "python3",
   "display_name": "Python 3"
  },
  "language_info": {
   "name": "python"
  }
 },
 "cells": [
  {
   "cell_type": "markdown",
   "metadata": {
    "id": "view-in-github",
    "colab_type": "text"
   },
   "source": [
    "<a href=\"https://colab.research.google.com/github/hyemiJ/data-dynamics/blob/main/python_practice/_08_%EC%B4%88%EB%B3%B4%EC%9E%90%EB%A5%BC_%EC%9C%84%ED%95%9C_python_200%EC%A0%9C_%EC%8B%9C%EA%B0%84.ipynb\" target=\"_parent\"><img src=\"https://colab.research.google.com/assets/colab-badge.svg\" alt=\"Open In Colab\"/></a>"
   ]
  },
  {
   "cell_type": "markdown",
   "source": [
    "### 시간 관련 함수\n",
    "- time의 모듈은 시간과 관련되어 있는 다양한 함수 제공\n",
    "- time.localtime() 은 대한민국의 현재 시간을 time.struct_time 형식으로 리턴\n",
    "> 참고로 대한민국 표준시는 UTC 기준 UTC +9 이다.\n",
    "- struct_time 은 9 개의 속성을 지니며 속성 이름이나 인덱스로 접근이 가능하다.\n",
    "\n",
    "| 인덱스 | 속성 이름 | 설명 |\n",
    "|--------|-----------|------|\n",
    "| 0      | tm_year   | 현재 년도 |\n",
    "| 1      | tm_mon    | 현재 월 |\n",
    "| 2      | tm_day    | 현재 날짜 |\n",
    "| 3      | tm_hour   | 현재 시간 |\n",
    "| 4      | tm_min    | 현재 분 |\n",
    "| 5      | tm_sec    | 현재 초 (0~61, 61은 윤초시에 사용) |\n",
    "| 6      | tm_wday   | 현재 요일 인덱스로 표현(월:0 ~ 일:6) |\n",
    "| 7      | tm_yday   | 1월 1일부터 현재까지 날짜 수 (1~366) |\n",
    "| 8      | tm_isdst  | 섬머 타임일 경우 1, 아닐 경우 0, 모를 경우 -1 |\n",
    "\n",
    "- 접근 방법\n",
    "```python\n",
    "t = localtime() # 현재 시간\n",
    "print(t[0]) # 현재 년도\n",
    "print(t.tm_year) # 현재 년도\n",
    "```\n",
    "\n",
    "- time 모듈의 stftime()은 strcttme 형식의 데이터를 포멧 문자열을 이용해 특정 형식으로 시간을 표현\n",
    "\n",
    "| 포맷 문자열 | 설명        |\n",
    "|-------------|-------------|\n",
    "| %Y          | 년도         |\n",
    "| %m          | 월          |\n",
    "| %d          | 일          |\n",
    "| %H          | 시          |\n",
    "| %M          | 분          |\n",
    "| %S          | 초          |\n",
    "| %x          | 월/일/년도   |\n",
    "| %X          | 시:분:초     |\n"
   ],
   "metadata": {
    "id": "4LU0V8axcjrq"
   }
  },
  {
   "cell_type": "code",
   "execution_count": 3,
   "metadata": {
    "id": "FlAW2NAWKir3"
   },
   "outputs": [],
   "source": [
    "# 현재 시간을 \"년-월-일 시:분:초\" 로 출력\n",
    "from time import localtime, strftime\n",
    "log_file = 'TEST_practice.log'\n",
    "\n",
    "def writelog(log_file, log_string):\n",
    "  time_stamp = strftime(\"%Y-%m-%d %H:%M:%S\", localtime())\n",
    "  log_string = time_stamp + \": \" + log_string + '\\n'\n",
    "\n",
    "  with open(log_file, 'a') as f:\n",
    "    f.writelines(log_string)\n",
    "\n",
    "writelog(log_file, '1. 점심을 먹고 배부르다.')\n",
    "writelog(log_file, '2. 일을 시작한다.')\n",
    "writelog(log_file, '3. 차를 마신다.')"
   ]
  },
  {
   "cell_type": "code",
   "source": [
    "with open(log_file, 'r') as f:\n",
    "  print(f.read())"
   ],
   "metadata": {
    "colab": {
     "base_uri": "https://localhost:8080/"
    },
    "id": "Tro-r0DGbqXH",
    "outputId": "051e3973-e986-4a31-b572-f0bcf8ca3724"
   },
   "execution_count": 4,
   "outputs": [
    {
     "output_type": "stream",
     "name": "stdout",
     "text": [
      "2025-04-10 06:43:08: 1. 점심을 먹고 배부르다.\n",
      "2025-04-10 06:43:08: 2. 일을 시작한다.\n",
      "2025-04-10 06:43:08: 3. 차를 마신다.\n",
      "\n"
     ]
    }
   ]
  },
  {
   "cell_type": "code",
   "source": [
    "#올해 경과된 날짜수 계산\n",
    "t = localtime()\n",
    "start_day = f\"{t.tm_year}-01-01\"\n",
    "end_day = t.tm_yday\n",
    "print(f\"{start_day}이후 오늘은 {end_day}일 째 되는 날입니다.\")"
   ],
   "metadata": {
    "colab": {
     "base_uri": "https://localhost:8080/"
    },
    "id": "yZeqa4CBcFHR",
    "outputId": "6314b6ea-cfa3-48f4-9906-69bce2e3b1b2"
   },
   "execution_count": 5,
   "outputs": [
    {
     "output_type": "stream",
     "name": "stdout",
     "text": [
      "2025-01-01이후 오늘은 100일 째 되는 날입니다.\n"
     ]
    }
   ]
  },
  {
   "cell_type": "code",
   "source": [
    "#오늘의 요일 계산\n",
    "today = strftime(\"%Y년 %m월 %d일\", localtime())\n",
    "weekdays = ['월', '화', '수', '목', '금', '토', '일']\n",
    "print(f\"{today} 은(는) {weekdays[t.tm_wday]}요일 입니다.\")"
   ],
   "metadata": {
    "colab": {
     "base_uri": "https://localhost:8080/"
    },
    "id": "Qdh6jN1yg7fv",
    "outputId": "ab38a110-9744-450d-9662-0c756788a472"
   },
   "execution_count": 10,
   "outputs": [
    {
     "output_type": "stream",
     "name": "stdout",
     "text": [
      "2025년 04월 10일은(는) 목요일 입니다.\n"
     ]
    }
   ]
  },
  {
   "cell_type": "markdown",
   "source": [
    "#### datetime 모듈\n",
    "- datetime 모듈은 시간을 단순한 방법으로 처리할 수 있는 다양한 클래스 제공.\n",
    "- datetime 객체는 date 객체와 time 객체에서 제공하는 기능들을 모두 제공하는 객체.\n",
    "- datetime.now() 는 현재 시간을 1/1000000 초 단위까지 게산하여 표시"
   ],
   "metadata": {
    "id": "SyJNXh-4iyXm"
   }
  },
  {
   "cell_type": "code",
   "source": [
    "from datetime import datetime\n",
    "\n",
    "start = datetime.now()\n",
    "print(\"1부터 100만까지 더하는 작업을 수행합니다.\")\n",
    "result = 0\n",
    "for i in range(1000000):\n",
    "  result +=i\n",
    "end = datetime.now()\n",
    "print(f\"결과 : {result}\")\n",
    "time = end - start\n",
    "print(f\"수행 시간 : {time} 초\")\n",
    "print(f\"수행 시간(초 단위 float) : {time.total_seconds()} 초\")\n",
    "print(f\"수행 시간(ms) : {time.total_seconds() * 1000} 밀리초\")\n",
    "print(f\"수행 시간 : {time.microseconds} 마이크로초\")"
   ],
   "metadata": {
    "colab": {
     "base_uri": "https://localhost:8080/"
    },
    "id": "3uKZfZXliMPm",
    "outputId": "a1242f4a-217f-4d04-95b7-9c47210cbc6b"
   },
   "execution_count": 19,
   "outputs": [
    {
     "output_type": "stream",
     "name": "stdout",
     "text": [
      "1부터 100만까지 더하는 작업을 수행합니다.\n",
      "결과 : 499999500000\n",
      "수행 시간 : 0:00:00.140066 초\n",
      "수행 시간(초 단위 float) : 0.140066 초\n",
      "수행 시간(ms) : 140.066 밀리초\n",
      "수행 시간 : 140066 마이크로초\n"
     ]
    }
   ]
  },
  {
   "cell_type": "code",
   "source": [],
   "metadata": {
    "id": "0ymq_zaUjrmb"
   },
   "execution_count": null,
   "outputs": []
  }
 ]
}
