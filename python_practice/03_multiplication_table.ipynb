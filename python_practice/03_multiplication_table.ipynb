{
  "nbformat": 4,
  "nbformat_minor": 0,
  "metadata": {
    "colab": {
      "provenance": [],
      "authorship_tag": "ABX9TyNTmcdwcHpBZyFJXP02KBWt",
      "include_colab_link": true
    },
    "kernelspec": {
      "name": "python3",
      "display_name": "Python 3"
    },
    "language_info": {
      "name": "python"
    }
  },
  "cells": [
    {
      "cell_type": "markdown",
      "metadata": {
        "id": "view-in-github",
        "colab_type": "text"
      },
      "source": [
        "<a href=\"https://colab.research.google.com/github/hyemiJ/data-dynamics/blob/main/python_practice/03_multiplication_table.ipynb\" target=\"_parent\"><img src=\"https://colab.research.google.com/assets/colab-badge.svg\" alt=\"Open In Colab\"/></a>"
      ]
    },
    {
      "cell_type": "code",
      "execution_count": null,
      "metadata": {
        "id": "8715O599_LCk"
      },
      "outputs": [],
      "source": []
    },
    {
      "cell_type": "markdown",
      "source": [
        "다음 조건을 만족하는 구구단 출력 프로그램을 작성한다.\n",
        "- 사용자로 부터 입력 받은 시작 단과 끝 단까지의 구구단을 출력한다.\n",
        "- 각 단은 1 부터 9 까지 곱한 결과를 보여준다.\n",
        "\n",
        "프로그램은 다음 기능을 수행한다\n",
        "- 시작 단과 끝 단 입력받기\n",
        "- 유효성 검사(1~9 사이의 값, 시작단이 끝단보다 작거나 같아야함.)\n",
        "- 조건을 충족하면 해당 범위의 구구단 출력\n",
        "- 조건을 충족하지 않으면 오류 메세지 출력"
      ],
      "metadata": {
        "id": "Z8h4qGwE_QZA"
      }
    },
    {
      "cell_type": "code",
      "source": [
        "while True:\n",
        "  try:\n",
        "    first_number = int(input('1~9사이의 수를 입력하세요.').strip())\n",
        "  except ValueError:\n",
        "    first_number = 0\n",
        "  if 1 <= first_number <= 9:\n",
        "    break\n",
        "  else:\n",
        "    print('다시 입력해주세요.')\n",
        "\n",
        "while True:\n",
        "  try:\n",
        "    second_number = int(input(f\"{first_number}~9사이의 수를 입력해주세요\").strip())\n",
        "  except ValueError:\n",
        "    second_number = 0\n",
        "  if first_number <= second_number <=9:\n",
        "    break\n",
        "  else:\n",
        "    print('다시 입력해주세요.')\n",
        "\n",
        "for number1 in range(first_number, second_number + 1):\n",
        "  for number2 in range(1, 10):\n",
        "    print(\"%2dx%2d=%2d\"%(number1, number2, number1 * number2),end=\" \")\n",
        "  print()\n"
      ],
      "metadata": {
        "colab": {
          "base_uri": "https://localhost:8080/"
        },
        "id": "fPJhxxOp_x6v",
        "outputId": "f6be100b-86fb-4eea-ebcc-90eafbbd7675"
      },
      "execution_count": 4,
      "outputs": [
        {
          "output_type": "stream",
          "name": "stdout",
          "text": [
            "1~9사이의 수를 입력하세요.6\n",
            "6~9사이의 수를 입력해주세요1\n",
            "다시 입력해주세요.\n",
            "6~9사이의 수를 입력해주세요8\n",
            " 6x 1= 6  6x 2=12  6x 3=18  6x 4=24  6x 5=30  6x 6=36  6x 7=42  6x 8=48  6x 9=54 \n",
            " 7x 1= 7  7x 2=14  7x 3=21  7x 4=28  7x 5=35  7x 6=42  7x 7=49  7x 8=56  7x 9=63 \n",
            " 8x 1= 8  8x 2=16  8x 3=24  8x 4=32  8x 5=40  8x 6=48  8x 7=56  8x 8=64  8x 9=72 \n"
          ]
        }
      ]
    },
    {
      "cell_type": "code",
      "source": [],
      "metadata": {
        "id": "IMQ1v6IdEspQ"
      },
      "execution_count": null,
      "outputs": []
    }
  ]
}