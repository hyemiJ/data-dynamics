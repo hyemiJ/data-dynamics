{
  "nbformat": 4,
  "nbformat_minor": 0,
  "metadata": {
    "colab": {
      "provenance": [],
      "authorship_tag": "ABX9TyNJta3x2Kk3xQeHusWTxRnB",
      "include_colab_link": true
    },
    "kernelspec": {
      "name": "python3",
      "display_name": "Python 3"
    },
    "language_info": {
      "name": "python"
    }
  },
  "cells": [
    {
      "cell_type": "markdown",
      "metadata": {
        "id": "view-in-github",
        "colab_type": "text"
      },
      "source": [
        "<a href=\"https://colab.research.google.com/github/hyemiJ/data-dynamics/blob/main/python_practice/_python_institute_OOP_02.ipynb\" target=\"_parent\"><img src=\"https://colab.research.google.com/assets/colab-badge.svg\" alt=\"Open In Colab\"/></a>"
      ]
    },
    {
      "cell_type": "code",
      "execution_count": null,
      "metadata": {
        "id": "kA3nagdz9Red"
      },
      "outputs": [],
      "source": [
        "#데코레이터 동작 원리 살피기\n",
        "def simple_hello():\n",
        "  print(\"Hello from simple function\")\n",
        "\n",
        "def simple_decorator(function):\n",
        "  print(f\"We are about to call : {function.__name__}\")\n",
        "  return function"
      ]
    },
    {
      "cell_type": "code",
      "source": [
        "decorated = simple_decorator(simple_hello)\n",
        "decorated()"
      ],
      "metadata": {
        "colab": {
          "base_uri": "https://localhost:8080/"
        },
        "id": "9RKaJmNdbTUw",
        "outputId": "862a9d8d-863d-4c58-d586-75abaf15a282"
      },
      "execution_count": null,
      "outputs": [
        {
          "output_type": "stream",
          "name": "stdout",
          "text": [
            "We are about to call : simple_hello\n",
            "Hello from simple function\n"
          ]
        }
      ]
    },
    {
      "cell_type": "code",
      "source": [
        "#데코레이터 만들기\n",
        "def simple_decorator(function):\n",
        "  print(f\"We are about to call : {function.__name__}\")\n",
        "  return function\n",
        "\n",
        "@simple_decorator\n",
        "def simple_hello():\n",
        "  print(\"Hello from simple function\")\n",
        "\n",
        "simple_hello()"
      ],
      "metadata": {
        "colab": {
          "base_uri": "https://localhost:8080/"
        },
        "id": "dm8F-MNybdrj",
        "outputId": "dcc72f1d-260c-435e-a3e3-edd8d940b2cb"
      },
      "execution_count": null,
      "outputs": [
        {
          "output_type": "stream",
          "name": "stdout",
          "text": [
            "We are about to call : simple_hello\n",
            "Hello from simple function\n"
          ]
        }
      ]
    },
    {
      "cell_type": "code",
      "source": [
        "#데코레이터 *args,**kwargs\n",
        "def simple_decorator(function):\n",
        "  def internal_wrapper(*args,**kwargs):\n",
        "    print(f\"{function.__name__} was called with the following arguments\")\n",
        "    print(f\"\\t{args}\\n\\t{kwargs}\\n\")\n",
        "    function(*args,**kwargs)\n",
        "    print(\"Decorator is still operating\")\n",
        "  return internal_wrapper\n",
        "\n",
        "@simple_decorator\n",
        "def combiner(*args,**kwargs):\n",
        "  print(f\"\\tHello from the decorated function; received arguments : {args} {kwargs}\")"
      ],
      "metadata": {
        "id": "C26aDIalcvt0"
      },
      "execution_count": null,
      "outputs": []
    },
    {
      "cell_type": "code",
      "source": [
        "combiner('a', 'b', exec=\"yes\")"
      ],
      "metadata": {
        "colab": {
          "base_uri": "https://localhost:8080/"
        },
        "id": "dJP3A758gIJZ",
        "outputId": "4fa5e682-1509-4b4b-a0cc-9466d9286dae"
      },
      "execution_count": null,
      "outputs": [
        {
          "output_type": "stream",
          "name": "stdout",
          "text": [
            "combiner was called with the following arguments\n",
            "\t('a', 'b')\n",
            "\t{'exec': 'yes'}\n",
            "\n",
            "\tHello from the decorated function; received arguments : ('a', 'b') {'exec': 'yes'}\n",
            "Decorator is still operating\n"
          ]
        }
      ]
    },
    {
      "cell_type": "code",
      "source": [
        "#인자를 활용한 데코레이터\n",
        "def warehouse(material):\n",
        "  def wrapper(function):\n",
        "    def internal_wrapper(*args):\n",
        "      print(f\"Wrapping items from {function.__name__} with {material}\")\n",
        "      function(*args)\n",
        "      print()\n",
        "    return internal_wrapper\n",
        "  return wrapper\n",
        "\n",
        "@warehouse(\"kraft\")\n",
        "def pack_books(*args):\n",
        "  print(\"packbooks :\",args)\n",
        "\n",
        "@warehouse(\"foil\")\n",
        "def pack_toys(*args):\n",
        "  print(\"packtoys :\",args)\n",
        "\n",
        "@warehouse(\"cardboard\")\n",
        "def pack_fruits(*args):\n",
        "  print(\"packfruits :\",args)"
      ],
      "metadata": {
        "id": "DorBZ3IjgQIt"
      },
      "execution_count": null,
      "outputs": []
    },
    {
      "cell_type": "code",
      "source": [
        "pack_books(\"Alice in Wonderland\", \"Winnie the Pooh\")\n",
        "pack_toys(\"doll\", \"car\")\n",
        "pack_fruits(\"plum\", \"pear\")"
      ],
      "metadata": {
        "colab": {
          "base_uri": "https://localhost:8080/"
        },
        "id": "oEVIIQfRkb6X",
        "outputId": "6657b17a-bb12-4391-8da0-497e070105b4"
      },
      "execution_count": null,
      "outputs": [
        {
          "output_type": "stream",
          "name": "stdout",
          "text": [
            "Wrapping items from pack_books with kraft\n",
            "packbooks : ('Alice in Wonderland', 'Winnie the Pooh')\n",
            "\n",
            "Wrapping items from pack_toys with foil\n",
            "packtoys : ('doll', 'car')\n",
            "\n",
            "Wrapping items from pack_fruits with cardboard\n",
            "packfruits : ('plum', 'pear')\n",
            "\n"
          ]
        }
      ]
    },
    {
      "cell_type": "code",
      "source": [
        "def outer_decorator(function):\n",
        "  def wrapper(*args):\n",
        "    print('outer_decorator')\n",
        "    return function(*args)\n",
        "  return wrapper\n",
        "\n",
        "def inner_decorator(function):\n",
        "  def wrapper(*args):\n",
        "    print('inner_decorator')\n",
        "    return function(*args)\n",
        "  return wrapper\n",
        "\n",
        "@outer_decorator\n",
        "@inner_decorator\n",
        "def test(string):\n",
        "  print(string)\n",
        "\n",
        "test('test')"
      ],
      "metadata": {
        "colab": {
          "base_uri": "https://localhost:8080/"
        },
        "id": "6eIxmucMkrZU",
        "outputId": "ad4770d2-4a11-4853-b162-0fa9cfbe10fb"
      },
      "execution_count": null,
      "outputs": [
        {
          "output_type": "stream",
          "name": "stdout",
          "text": [
            "outer_decorator\n",
            "inner_decorator\n",
            "test\n"
          ]
        }
      ]
    },
    {
      "cell_type": "code",
      "source": [
        "outer_decorator(inner_decorator(test('test')))"
      ],
      "metadata": {
        "colab": {
          "base_uri": "https://localhost:8080/",
          "height": 156
        },
        "id": "f4VBir-ojjdK",
        "outputId": "65397621-fe69-4611-d298-b143c120426a"
      },
      "execution_count": null,
      "outputs": [
        {
          "output_type": "stream",
          "name": "stdout",
          "text": [
            "outer_decorator\n",
            "inner_decorator\n",
            "test\n"
          ]
        },
        {
          "output_type": "execute_result",
          "data": {
            "text/plain": [
              "<function __main__.outer_decorator.<locals>.wrapper(*args)>"
            ],
            "text/html": [
              "<div style=\"max-width:800px; border: 1px solid var(--colab-border-color);\"><style>\n",
              "      pre.function-repr-contents {\n",
              "        overflow-x: auto;\n",
              "        padding: 8px 12px;\n",
              "        max-height: 500px;\n",
              "      }\n",
              "\n",
              "      pre.function-repr-contents.function-repr-contents-collapsed {\n",
              "        cursor: pointer;\n",
              "        max-height: 100px;\n",
              "      }\n",
              "    </style>\n",
              "    <pre style=\"white-space: initial; background:\n",
              "         var(--colab-secondary-surface-color); padding: 8px 12px;\n",
              "         border-bottom: 1px solid var(--colab-border-color);\"><b>outer_decorator.&lt;locals&gt;.wrapper</b><br/>def wrapper(*args)</pre><pre class=\"function-repr-contents function-repr-contents-collapsed\" style=\"\"><a class=\"filepath\" style=\"display:none\" href=\"#\">/tmp/ipython-input-9-891543455.py</a>&lt;no docstring&gt;</pre></div>"
            ]
          },
          "metadata": {},
          "execution_count": 10
        }
      ]
    },
    {
      "cell_type": "code",
      "source": [
        "test = test('test')\n",
        "\n",
        "# 1. inner_decorator가 먼저 적용됨\n",
        "test = inner_decorator(test)\n",
        "\n",
        "# 2. 그 결과를 outer_decorator가 다시 감쌈\n",
        "test = outer_decorator(test)"
      ],
      "metadata": {
        "colab": {
          "base_uri": "https://localhost:8080/"
        },
        "id": "vdpa6foxlUEh",
        "outputId": "760e1e6a-bd58-465b-85a6-9a489f380609"
      },
      "execution_count": null,
      "outputs": [
        {
          "output_type": "stream",
          "name": "stdout",
          "text": [
            "outer_decorator\n",
            "inner_decorator\n",
            "test\n"
          ]
        }
      ]
    },
    {
      "cell_type": "code",
      "source": [
        "class Decorator:\n",
        "  def __init__(self,function):\n",
        "    print(\"Decorator init\")\n",
        "    self.function = function\n",
        "\n",
        "  def __call__(self, *args, **kwargs):\n",
        "    print(\"function name :\",self.function.__name__)\n",
        "    self.function(*args, **kwargs)\n",
        "    print(\"function args :\",args)\n",
        "    print(\"function kwargs :\",kwargs)\n",
        "    print(\"decorator is still operating\")\n",
        "\n",
        "@Decorator\n",
        "def test(*args,**kwargs):\n",
        "  print(\"test args:\", args)\n",
        "  print(\"test kwargs:\", kwargs)\n",
        "\n",
        "b = test('a','b',exec='yes')\n",
        "b"
      ],
      "metadata": {
        "colab": {
          "base_uri": "https://localhost:8080/"
        },
        "id": "Yx0RFv0tnTdT",
        "outputId": "6b8de426-046d-4a7b-9dfe-c82e689a6557"
      },
      "execution_count": null,
      "outputs": [
        {
          "output_type": "stream",
          "name": "stdout",
          "text": [
            "Decorator init\n",
            "function name : test\n",
            "test args: ('a', 'b')\n",
            "test kwargs: {'exec': 'yes'}\n",
            "function args : ('a', 'b')\n",
            "function kwargs : {'exec': 'yes'}\n",
            "decorator is still operating\n"
          ]
        }
      ]
    },
    {
      "cell_type": "code",
      "source": [
        "print(type(b))"
      ],
      "metadata": {
        "colab": {
          "base_uri": "https://localhost:8080/"
        },
        "id": "63Zckf6Cp-6a",
        "outputId": "8bdd0aa8-036e-4195-bc31-f0db0fa9decc"
      },
      "execution_count": null,
      "outputs": [
        {
          "output_type": "stream",
          "name": "stdout",
          "text": [
            "<class 'NoneType'>\n"
          ]
        }
      ]
    },
    {
      "cell_type": "code",
      "source": [
        "class Decorator:\n",
        "  def __init__(self,function):\n",
        "    print(\"Decorator init\")\n",
        "    self.function = function\n",
        "\n",
        "  def __call__(self, *args, **kwargs):\n",
        "    print(\"function name :\",self.function.__name__)\n",
        "    self.function(*args, **kwargs)\n",
        "    print(\"function args :\",args)\n",
        "    print(\"function kwargs :\",kwargs)\n",
        "    print(\"decorator is still operating\")\n",
        "    return self.function(*args, **kwargs)\n",
        "\n",
        "@Decorator\n",
        "def test(*args,**kwargs):\n",
        "  print(\"test args:\", args)\n",
        "  print(\"test kwargs:\", kwargs)\n",
        "\n",
        "test('a','b',exec='yes')"
      ],
      "metadata": {
        "colab": {
          "base_uri": "https://localhost:8080/"
        },
        "id": "KAA3anrPry1B",
        "outputId": "f4490d2c-9ad0-453d-d1ee-0fc0e2496f65"
      },
      "execution_count": null,
      "outputs": [
        {
          "output_type": "stream",
          "name": "stdout",
          "text": [
            "Decorator init\n",
            "function name : test\n",
            "test args: ('a', 'b')\n",
            "test kwargs: {'exec': 'yes'}\n",
            "function args : ('a', 'b')\n",
            "function kwargs : {'exec': 'yes'}\n",
            "decorator is still operating\n",
            "test args: ('a', 'b')\n",
            "test kwargs: {'exec': 'yes'}\n"
          ]
        }
      ]
    },
    {
      "cell_type": "code",
      "source": [
        "class Decorator:\n",
        "  def __init__(self,function):\n",
        "    print(\"Decorator init\")\n",
        "    self.function = function\n",
        "\n",
        "  def __call__(self, *args, **kwargs):\n",
        "    print(\"function name :\",self.function.__name__)\n",
        "    self.function(*args, **kwargs)\n",
        "    print(\"function args :\",args)\n",
        "    print(\"function kwargs :\",kwargs)\n",
        "    print(\"decorator is still operating\")\n",
        "    return self.function(*args, **kwargs)\n",
        "\n",
        "# 데코레이터 처리 과정\n",
        "# Decorator 붙이지 않고 직접 적용\n",
        "def test(*args, **kwargs):\n",
        "    print(\"test args:\", args)\n",
        "    print(\"test kwargs:\", kwargs)\n",
        "\n",
        "decorated_test = Decorator(test) # init\n",
        "decorated_test('a', 'b', exec='yes') # call"
      ],
      "metadata": {
        "colab": {
          "base_uri": "https://localhost:8080/"
        },
        "id": "bOsrJbsOsYtT",
        "outputId": "a590eb99-121a-430d-d04f-fde93226ab93"
      },
      "execution_count": null,
      "outputs": [
        {
          "output_type": "stream",
          "name": "stdout",
          "text": [
            "Decorator init\n",
            "function name : test\n",
            "test args: ('a', 'b')\n",
            "test kwargs: {'exec': 'yes'}\n",
            "function args : ('a', 'b')\n",
            "function kwargs : {'exec': 'yes'}\n",
            "decorator is still operating\n",
            "test args: ('a', 'b')\n",
            "test kwargs: {'exec': 'yes'}\n"
          ]
        }
      ]
    },
    {
      "cell_type": "code",
      "source": [
        "class Decorator:\n",
        "  def __init__(self,argument):\n",
        "    print(\"Decorator init\")\n",
        "    self.argument = argument\n",
        "\n",
        "  def __call__(self, function):\n",
        "    print(\"Decorator call\")\n",
        "    print('Decorator argument :',self.argument)\n",
        "    def wrapper(*args, **kwargs):\n",
        "      print(\"function name :\", function.__name__)\n",
        "      function(*args, **kwargs)\n",
        "      print(\"function args :\",args)\n",
        "      print(\"function kwargs :\",kwargs)\n",
        "      print(\"decorator is still operating\")\n",
        "    return wrapper\n",
        "\n",
        "@Decorator('인자')\n",
        "def test(*args, **kwargs):\n",
        "    print(\"test args:\", args)\n",
        "    print(\"test kwargs:\", kwargs)\n",
        "\n",
        "test('a', 'b', exec='yes')"
      ],
      "metadata": {
        "colab": {
          "base_uri": "https://localhost:8080/"
        },
        "id": "CxISm3b8tcsQ",
        "outputId": "41f7e56a-6f5c-4644-e098-b9cd9517e60b"
      },
      "execution_count": null,
      "outputs": [
        {
          "output_type": "stream",
          "name": "stdout",
          "text": [
            "Decorator init\n",
            "Decorator call\n",
            "Decorator argument : 인자\n",
            "function name : test\n",
            "test args: ('a', 'b')\n",
            "test kwargs: {'exec': 'yes'}\n",
            "function args : ('a', 'b')\n",
            "function kwargs : {'exec': 'yes'}\n",
            "decorator is still operating\n"
          ]
        }
      ]
    },
    {
      "cell_type": "code",
      "source": [
        "def object_counter(cls):\n",
        "    # 기존 __getattribute__ 메서드를 __getattr_clone 이름으로 백업 (*클래스에 저장)\n",
        "    cls.__getattr_clone = cls.__getattribute__\n",
        "\n",
        "    def new_attr(self, name):\n",
        "        if name == 'mileage':\n",
        "            print('마일리지 속성을 읽었습니다.')\n",
        "        # 원래의 __getattribute__ 메서드를 통해 실제 속성 값을 가져옴\n",
        "        return cls.__getattr_clone(self, name)\n",
        "\n",
        "    # __getattribute__를 새로운 함수로 덮어씀 (모든 속성 접근 시 실행됨)\n",
        "    cls.__getattribute__ = new_attr\n",
        "\n",
        "    # 수정된 클래스를 반환\n",
        "    return cls\n",
        "\n",
        "@object_counter\n",
        "class Car:\n",
        "  def __init__(self,VIN):\n",
        "    self.mileage = 0\n",
        "    self.VIN = VIN\n",
        "\n",
        "car = Car(\"ABC123\")\n",
        "print(car.mileage)"
      ],
      "metadata": {
        "colab": {
          "base_uri": "https://localhost:8080/"
        },
        "id": "vjZV84-6xwks",
        "outputId": "4125541b-2299-4709-b526-40ba7c06952c"
      },
      "execution_count": null,
      "outputs": [
        {
          "output_type": "stream",
          "name": "stdout",
          "text": [
            "마일리지 속성을 읽었습니다.\n",
            "0\n"
          ]
        }
      ]
    },
    {
      "cell_type": "code",
      "source": [
        "print(car.mileage)"
      ],
      "metadata": {
        "colab": {
          "base_uri": "https://localhost:8080/"
        },
        "id": "gm4QLyoZ13h5",
        "outputId": "1be15ba8-6d9d-43b5-8de2-c15636a8d5a0"
      },
      "execution_count": null,
      "outputs": [
        {
          "output_type": "stream",
          "name": "stdout",
          "text": [
            "마일리지 속성을 읽었습니다.\n",
            "0\n"
          ]
        }
      ]
    },
    {
      "cell_type": "code",
      "source": [],
      "metadata": {
        "id": "jQoLdzFX3sUd"
      },
      "execution_count": null,
      "outputs": []
    }
  ]
}