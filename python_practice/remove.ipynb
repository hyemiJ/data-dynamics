{
  "nbformat": 4,
  "nbformat_minor": 0,
  "metadata": {
    "colab": {
      "provenance": []
    },
    "kernelspec": {
      "name": "python3",
      "display_name": "Python 3"
    },
    "language_info": {
      "name": "python"
    }
  },
  "cells": [
    {
      "cell_type": "markdown",
      "source": [
        "다음 조건들을 만족하는 학생 성적 관리 프로그램을 작성한다.\n",
        "- 최소 3명 이상의 학생 정보를 딕셔너리 형태로 저장한다.\n",
        "- 각 학생마다 이름, 국어, 수학, 영어 점수를 포함해야한다\n",
        "- 모든 점수는 0점부터 100점 사이여야한다\n",
        "\n",
        "프로그램은 다음과 같은 기능을 수행한다.\n",
        "- 각 학생의 세과목 평균 점수를 계산하고 출력 (소수점 첫째자리까지 반올림)\n",
        "  - 출력 :\"[학생이름]'s average score : [평균점수]\"\n",
        "- 수학 점수가 90점 이상인 학생들의 이름을 찾아출력\n",
        "  - 출력 : \"Students with math score 90+ : [이름1], [이름2], ...\"\n",
        "- 전체 평균이 가장 높은 학생의 이름과 점수를 출력\n",
        "  - 출력 :\"Top student : [학생이름]\\([평균점수]points)\""
      ],
      "metadata": {
        "id": "vOf7PjBQlgdu"
      }
    },
    {
      "cell_type": "code",
      "source": [
        "students = {'sunny' :{'kor': 100, 'eng': 50,'math': 70},\n",
        "            'dongho':{'kor': 60, 'eng': 90,'math': 90},\n",
        "            'minji' :{'kor': 90, 'eng': 100,'math': 50},}"
      ],
      "metadata": {
        "id": "85tv5HCKm3ty"
      },
      "execution_count": null,
      "outputs": []
    },
    {
      "cell_type": "code",
      "source": [
        "def get_avg(score_list):\n",
        "  \"\"\"\n",
        "  학생 평균을 산출합니다.\n",
        "  :param scorelist: (list) 과목들의 점수를 리스형태\n",
        "  :return:          float\n",
        "  \"\"\"\n",
        "  return round(sum(score_list)/len(score_list),1)"
      ],
      "metadata": {
        "id": "4eSzMX8goWou"
      },
      "execution_count": null,
      "outputs": []
    },
    {
      "cell_type": "code",
      "source": [
        "student_avg_dict= {} # 1.각 학생들의 평균을 담을 dict\n",
        "math_90_list= [] # 2. 90점 이상의 학생이름을 담을 list\n",
        "student_best_list= [] # 3. 평균 최고 학생들을 담을 list"
      ],
      "metadata": {
        "id": "4qb7tJaMomZY"
      },
      "execution_count": null,
      "outputs": []
    },
    {
      "cell_type": "code",
      "source": [
        "for name, score in students.items():\n",
        "  student_avg_dict[name] = get_avg(score.values())\n",
        "\n",
        "  if score.get('math')>=90:\n",
        "    math_90_list.append(f\"[{name}]\")"
      ],
      "metadata": {
        "id": "Z3v59qlfqdF_"
      },
      "execution_count": null,
      "outputs": []
    },
    {
      "cell_type": "code",
      "source": [
        "max_score= max(student_avg_dict.values())"
      ],
      "metadata": {
        "id": "O9ibmtYjq8sq"
      },
      "execution_count": null,
      "outputs": []
    },
    {
      "cell_type": "code",
      "source": [
        "for name, score in student_avg_dict.items():\n",
        "  if score == max_score:\n",
        "    student_best_list.append(f\"[{name}]({score} points)\")"
      ],
      "metadata": {
        "id": "Pt-CZNWYrLdB"
      },
      "execution_count": null,
      "outputs": []
    },
    {
      "cell_type": "code",
      "source": [
        "#출력\n",
        "#1. 평균 출력\n",
        "for name, score in student_avg_dict.items():\n",
        "  print(f\"[{name}]'s average score: {score}\")"
      ],
      "metadata": {
        "colab": {
          "base_uri": "https://localhost:8080/"
        },
        "id": "vyYZp7Xpr79Z",
        "outputId": "9b739d24-0ec5-4be2-a903-df7d45435913"
      },
      "execution_count": null,
      "outputs": [
        {
          "output_type": "stream",
          "name": "stdout",
          "text": [
            "[sunny]'s average score: 73.3\n",
            "[dongho]'s average score: 80.0\n",
            "[minji]'s average score: 80.0\n"
          ]
        }
      ]
    },
    {
      "cell_type": "code",
      "source": [
        "#2. 수학 고득점자 출력\n",
        "if len(student_best_list)>0:\n",
        "  print(\"Student with math score 90+:\",\", \".join(math_90_list))"
      ],
      "metadata": {
        "colab": {
          "base_uri": "https://localhost:8080/"
        },
        "id": "y7cfHFCBr-DG",
        "outputId": "10c9ff15-1614-4c03-a0a4-778e884dc296"
      },
      "execution_count": null,
      "outputs": [
        {
          "output_type": "stream",
          "name": "stdout",
          "text": [
            "Student with math score 90+: [dongho]\n"
          ]
        }
      ]
    },
    {
      "cell_type": "code",
      "source": [
        "# 3.최고 점수 학생들을 출력\n",
        "print(f\"Top student:\",\", \".join(student_best_list))"
      ],
      "metadata": {
        "colab": {
          "base_uri": "https://localhost:8080/"
        },
        "id": "4O8JemKztNnz",
        "outputId": "3ce33ccf-2ae4-4ee2-986f-381eba2f59f2"
      },
      "execution_count": null,
      "outputs": [
        {
          "output_type": "stream",
          "name": "stdout",
          "text": [
            "Top student: [dongho](80.0 points), [minji](80.0 points)\n"
          ]
        }
      ]
    },
    {
      "cell_type": "code",
      "source": [],
      "metadata": {
        "id": "gFiAwqZ1uOwG"
      },
      "execution_count": null,
      "outputs": []
    }
  ]
}
