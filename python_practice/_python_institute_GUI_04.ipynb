{
  "nbformat": 4,
  "nbformat_minor": 0,
  "metadata": {
    "colab": {
      "provenance": [],
      "authorship_tag": "ABX9TyPjqpQs7mvrj4G1puZ3iZ9Y",
      "include_colab_link": true
    },
    "kernelspec": {
      "name": "python3",
      "display_name": "Python 3"
    },
    "language_info": {
      "name": "python"
    }
  },
  "cells": [
    {
      "cell_type": "markdown",
      "metadata": {
        "id": "view-in-github",
        "colab_type": "text"
      },
      "source": [
        "<a href=\"https://colab.research.google.com/github/hyemiJ/data-dynamics/blob/main/python_practice/_python_institute_GUI_04.ipynb\" target=\"_parent\"><img src=\"https://colab.research.google.com/assets/colab-badge.svg\" alt=\"Open In Colab\"/></a>"
      ]
    },
    {
      "cell_type": "code",
      "execution_count": null,
      "metadata": {
        "id": "xAboBqSDEGar"
      },
      "outputs": [],
      "source": [
        "# 위젯 속성 접근\n",
        "old_value = Widget[\"prop\"] #read\n",
        "Widget[\"prop\"] = new_value #update"
      ]
    },
    {
      "cell_type": "code",
      "source": [
        "import tkinter as tk\n",
        "\n",
        "def on_off():\n",
        "  global button\n",
        "  state = button[\"text\"]\n",
        "  if state == \"ON\":\n",
        "    state = \"OFF\"\n",
        "  else:\n",
        "    state = \"ON\"\n",
        "  button[\"text\"] = state\n",
        "\n",
        "root = tk.Tk()\n",
        "button = tk.Button(root, text=\"OFF\", command=on_off)\n",
        "button.pack()\n",
        "root.mainloop()"
      ],
      "metadata": {
        "id": "sBjxYXLDEdNO"
      },
      "execution_count": null,
      "outputs": []
    },
    {
      "cell_type": "code",
      "source": [
        "import tkinter as tk\n",
        "\n",
        "def on_off():\n",
        "  global button\n",
        "  state = button.cget(\"text\")\n",
        "  if state == \"ON\":\n",
        "    state = \"OFF\"\n",
        "  else:\n",
        "    state = \"ON\"\n",
        "  button.config(text=state)\n",
        "\n",
        "root = tk.Tk()\n",
        "button = tk.Button(root, text=\"OFF\", command=on_off)\n",
        "button.pack()\n",
        "root.mainloop()"
      ],
      "metadata": {
        "id": "fTANUhUsGA1g"
      },
      "execution_count": null,
      "outputs": []
    },
    {
      "cell_type": "code",
      "source": [
        "#font (Button / Label)\n",
        "(\"font_family_name\", \"font_size\")\n",
        "(\"font_family_name\", \"font_size\", \"font_style\")"
      ],
      "metadata": {
        "id": "my_UudwFH9nF"
      },
      "execution_count": null,
      "outputs": []
    },
    {
      "cell_type": "code",
      "source": [
        "import tkinter as tk\n",
        "\n",
        "root = tk.Tk()\n",
        "label1 = tk.Label(root, text=\"테스트 테스트 테스트 글꼴 테스트 abcdef 12345\")\n",
        "label1.grid(row=0, column=0)\n",
        "label2 = tk.Label(root, text=\"테스트 테스트 테스트 글꼴 테스트 abcdef 12345\", font=(\"Times\", \"12\"))\n",
        "label2.grid(row=1, column=0)\n",
        "label3 = tk.Label(root, text=\"테스트 테스트 테스트 글꼴 테스트 abcdef 12345\", font=(\"Arial\", \"16\", \"bold\"))\n",
        "label3.grid(row=2, column=0)\n",
        "root.mainloop()"
      ],
      "metadata": {
        "id": "QooOkYQjIkPH"
      },
      "execution_count": null,
      "outputs": []
    },
    {
      "cell_type": "code",
      "source": [
        "#위젯의 크기\n",
        "import tkinter as tk\n",
        "\n",
        "root = tk.Tk()\n",
        "button1 = tk.Button(root, text=\"Ordinary button\")\n",
        "button1.pack()\n",
        "button2 = tk.Button(root, text=\"Exceptional button\")\n",
        "button2.pack()\n",
        "button2[\"borderwidth\"] = 10\n",
        "button2[\"highlightthickness\"] = 10\n",
        "button2[\"padx\"] = 10\n",
        "button2[\"pady\"] = 10\n",
        "button2[\"underline\"] = 1\n",
        "root.mainloop()"
      ],
      "metadata": {
        "id": "yLAx0sRNJxXd"
      },
      "execution_count": null,
      "outputs": []
    },
    {
      "cell_type": "code",
      "source": [
        "#위젯의 색상\n",
        "import tkinter as tk\n",
        "\n",
        "root = tk.Tk()\n",
        "button1 = tk.Button(root, text=\"Ordinary button\")\n",
        "button1.pack()\n",
        "button2 = tk.Button(root, text=\"Colorful button\")\n",
        "button2.pack()\n",
        "button2.config(bg=\"#000000\", fg=\"yellow\")\n",
        "button2.config(activeforeground=\"#FF000\", activebackground =\"green\")\n",
        "root.mainloop()"
      ],
      "metadata": {
        "id": "dW2B3Ve0Nn-b"
      },
      "execution_count": null,
      "outputs": []
    },
    {
      "cell_type": "code",
      "source": [
        "#위젯 텍스트 정렬\n",
        "import tkinter as tk\n",
        "\n",
        "root = tk.Tk()\n",
        "button1 = tk.Button(root, text=\"Ordinary button\")\n",
        "button1.pack()\n",
        "button2 = tk.Button(root, text=\"Regular button\")\n",
        "button2[\"anchor\"] = tk.E\n",
        "button2[\"width\"] = 20    # 20px\n",
        "button2.pack()\n",
        "button3 = tk.Button(root, text=\"Another button\")\n",
        "button3[\"anchor\"] = tk.SW\n",
        "button3[\"width\"] = 20\n",
        "button3[\"height\"] = 3\n",
        "button3.pack()\n",
        "\n",
        "root.mainloop()"
      ],
      "metadata": {
        "id": "sVyT998xPRo3"
      },
      "execution_count": null,
      "outputs": []
    },
    {
      "cell_type": "code",
      "source": [
        "# 커서 속성\n",
        "import tkinter as tk\n",
        "\n",
        "root = tk.TK()\n",
        "label1 = tk.Label(root, height=3, text=\"arrow\", cursor=\"arrow\")\n",
        "label1.pack()\n",
        "label2 = tk.Label(root, height=3, text=\"heart\", cursor=\"heart\")\n",
        "label2.pack()\n",
        "label3 = tk.Label(root, height=3, text=\"clock\", cursor=\"clock\")\n",
        "label3.pack()\n",
        "\n",
        "root.mainloopro"
      ],
      "metadata": {
        "id": "1nkCUg_XSXQ0"
      },
      "execution_count": null,
      "outputs": []
    },
    {
      "cell_type": "code",
      "source": [
        "# 위젯 메서드\n",
        "# after, after_cancel\n",
        "\n",
        "import tkinter as tk\n",
        "\n",
        "def blink():\n",
        "  global is_white\n",
        "  if is_white:\n",
        "    color = 'black'\n",
        "  else:\n",
        "    color = 'white'\n",
        "  is_white = not is_white\n",
        "  frame.config(bg=color)\n",
        "  frame.after(500,blink)\n",
        "\n",
        "root = tk.Tk()\n",
        "is_white = True\n",
        "frame = tk.Frame(root, width=100, height=100, bg='white')\n",
        "frame.after(500,blink)\n",
        "frame.pack()\n",
        "root.mainloop()"
      ],
      "metadata": {
        "id": "lPyYaRrhaL3P"
      },
      "execution_count": null,
      "outputs": []
    },
    {
      "cell_type": "code",
      "source": [
        "import tkinter as tk\n",
        "\n",
        "# 전역 변수로 스케줄링된 작업의 ID를 저장할 변수를 선언합니다.\n",
        "after_id = None\n",
        "is_white = True # 프레임 색상 상태를 추적하는 변수\n",
        "\n",
        "def blink():\n",
        "  \"\"\"\n",
        "  프레임의 배경색을 번갈아 가며 변경하고, 다음 blink 호출을 예약하는 함수입니다.\n",
        "  \"\"\"\n",
        "  global is_white, after_id # after_id를 전역 변수로 선언하여 함수 외부에서 접근 및 수정 가능하게 합니다.\n",
        "\n",
        "  if is_white:\n",
        "    color = 'black'\n",
        "  else:\n",
        "    color = 'white'\n",
        "\n",
        "  is_white = not is_white # 색상 상태 반전\n",
        "  frame.config(bg=color) # 프레임 배경색 변경\n",
        "\n",
        "  # 500ms 후에 blink 함수를 다시 호출하도록 예약하고, 그 예약 ID를 after_id에 저장합니다.\n",
        "  after_id = frame.after(500, blink)\n",
        "  print(f\"Blink scheduled with ID: {after_id}\") # 스케줄링 ID 확인 (선택 사항)\n",
        "\n",
        "def stop_blinking():\n",
        "  \"\"\"\n",
        "  'blink' 함수에 의해 스케줄링된 반복 작업을 취소하는 함수입니다.\n",
        "  \"\"\"\n",
        "  global after_id\n",
        "  if after_id: # 스케줄링된 작업 ID가 존재한다면 (즉, 깜빡임이 활성화되어 있다면)\n",
        "    frame.after_cancel(after_id) # 해당 ID의 작업을 취소합니다.\n",
        "    print(f\"Blink cancelled with ID: {after_id}\")\n",
        "    after_id = None # ID를 초기화하여 다시 취소되지 않도록 합니다.\n",
        "    # 중지 후 프레임 텍스트 변경\n",
        "    status_label.config(text=\"깜빡임 중지됨!\")\n",
        "  else:\n",
        "    print(\"깜빡이는 중이 아닙니다.\")\n",
        "\n",
        "# Tkinter 메인 윈도우 생성\n",
        "root = tk.Tk()\n",
        "root.title(\"After / After_cancel 테스트\")\n",
        "\n",
        "# 상태 메시지를 표시할 레이블 추가\n",
        "status_label = tk.Label(root, text=\"깜빡이는 중...\")\n",
        "status_label.pack(pady=5)\n",
        "\n",
        "# 깜빡일 프레임 생성\n",
        "frame = tk.Frame(root, width=100, height=100, bg='white')\n",
        "frame.pack(pady=10)\n",
        "\n",
        "# 앱 시작 시 첫 blink 호출 예약\n",
        "# 이 첫 호출의 ID도 after_id에 저장되어야 stop_blinking에서 취소 가능합니다.\n",
        "after_id = frame.after(500, blink)\n",
        "\n",
        "# '중지' 버튼 추가\n",
        "# 이 버튼을 클릭하면 stop_blinking 함수가 호출되어 깜빡임을 중지합니다.\n",
        "stop_button = tk.Button(root, text=\"깜빡임 중지\", command=stop_blinking)\n",
        "stop_button.pack(pady=5)\n",
        "\n",
        "root.mainloop()"
      ],
      "metadata": {
        "id": "RLLkxWKpekQm"
      },
      "execution_count": null,
      "outputs": []
    },
    {
      "cell_type": "code",
      "source": [
        "#destroy()\n",
        "import tkinter as tk\n",
        "\n",
        "def cancel_f():\n",
        "  frame.destroy()\n",
        "\n",
        "root = tk.TK()\n",
        "frame = tk.Frame(root, width=200, height=100, bg='green')\n",
        "button = tk.Button(frame, text=\"frame 자식 button\")\n",
        "button.place(x=10, y=10)\n",
        "frame.after(5000, cancel_f)\n",
        "frame.pack()\n",
        "\n",
        "root.mainloop()"
      ],
      "metadata": {
        "id": "jvPhn6OQiWZm"
      },
      "execution_count": null,
      "outputs": []
    },
    {
      "cell_type": "code",
      "source": [
        "#포커스\n",
        "import tkinter as tk\n",
        "\n",
        "def flip_focus():\n",
        "  if root.focus_get() is button1:\n",
        "    button2.focus_set()\n",
        "  else:\n",
        "    button1.focus_set()\n",
        "  root.after(1000,flip_focus)\n",
        "\n",
        "root = tk.Tk()\n",
        "button1 = tk.Button(root, text=\"Button 1\")\n",
        "button1.pack()\n",
        "button2 = tk.Button(root, text=\"Button 2\")\n",
        "button2.pack()\n",
        "root.after(1000,flip_focus)\n",
        "root.mainloop()"
      ],
      "metadata": {
        "id": "8GOGaI9bOJ8X"
      },
      "execution_count": null,
      "outputs": []
    },
    {
      "cell_type": "code",
      "source": [
        "#observer\n",
        "\n",
        "import tkinter as tk\n",
        "\n",
        "def r_observer(*args):\n",
        "  print(\"Reading\")\n",
        "\n",
        "def w_observer(*args):\n",
        "  print(\"Writing\")\n",
        "\n",
        "root = tk.Tk() #창을 쓰지 않더라도 변수 생성을 위해서는 꼭 필요함.\n",
        "var_s = tk.StringVar()\n",
        "var_s.set(\"abc\")\n",
        "\n",
        "r_obsid = var_s.trace(\"r\", r_observer)\n",
        "w_obsid = var_s.trace(\"w\", w_observer)\n",
        "\n",
        "var_s.set(var_s.get()+\"d\")  # 읽고 쓰기\n",
        "var_s.trace_vdelete(\"r\", r_obsid) # 읽기 관찰자 삭제\n",
        "var_s.set(var_s.get()+\"e\") # 읽고 쓰기\n",
        "var_s.trace_vdelete(\"w\",w_observer) # 쓰기 관찰자 삭제\n",
        "var_s.set(var_s.get()+\"f\") # 읽고 쓰기\n",
        "\n",
        "print(var_s.get())\n"
      ],
      "metadata": {
        "id": "JjwM66bGVn5H"
      },
      "execution_count": null,
      "outputs": []
    }
  ]
}