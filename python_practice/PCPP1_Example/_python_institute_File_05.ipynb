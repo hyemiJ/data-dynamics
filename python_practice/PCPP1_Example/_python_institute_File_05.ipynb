{
  "nbformat": 4,
  "nbformat_minor": 0,
  "metadata": {
    "colab": {
      "provenance": [],
      "authorship_tag": "ABX9TyNoDuanAJV9xTw/ra0sFC9v",
      "include_colab_link": true
    },
    "kernelspec": {
      "name": "python3",
      "display_name": "Python 3"
    },
    "language_info": {
      "name": "python"
    }
  },
  "cells": [
    {
      "cell_type": "markdown",
      "metadata": {
        "id": "view-in-github",
        "colab_type": "text"
      },
      "source": [
        "<a href=\"https://colab.research.google.com/github/hyemiJ/data-dynamics/blob/main/python_practice/PCPP1_Example/_python_institute_File_05.ipynb\" target=\"_parent\"><img src=\"https://colab.research.google.com/assets/colab-badge.svg\" alt=\"Open In Colab\"/></a>"
      ]
    },
    {
      "cell_type": "code",
      "execution_count": 1,
      "metadata": {
        "id": "Fq5uD_fir6nJ"
      },
      "outputs": [],
      "source": [
        "#configparser\n",
        "\n",
        "import configparser"
      ]
    },
    {
      "cell_type": "code",
      "source": [
        "# 구성 파일 예제 만들기\n",
        "conf = \"\"\"[DEFAULT]\n",
        "host = localhost # This is a comment.\n",
        "\n",
        "[mariadb]\n",
        "name = joy\n",
        "user = user1\n",
        "password = password\n",
        "\n",
        "[redis]\n",
        "port = 6379\n",
        "db = 0\"\"\"\n",
        "\n",
        "with open('config.ini', 'w') as f:\n",
        "    f.write(conf)"
      ],
      "metadata": {
        "id": "1ffCPR1yt8m_"
      },
      "execution_count": 1,
      "outputs": []
    },
    {
      "cell_type": "code",
      "source": [
        "import configparser\n",
        "\n",
        "config = configparser.ConfigParser()\n",
        "data = config.read('config.ini')\n",
        "print('='*30)\n",
        "print(data)"
      ],
      "metadata": {
        "colab": {
          "base_uri": "https://localhost:8080/"
        },
        "id": "d6qxMf2EPHqH",
        "outputId": "5f505674-4e5a-4d20-fee8-a8b261f25f5f"
      },
      "execution_count": 5,
      "outputs": [
        {
          "output_type": "stream",
          "name": "stdout",
          "text": [
            "==============================\n",
            "['config.ini']\n"
          ]
        }
      ]
    },
    {
      "cell_type": "code",
      "source": [
        "import configparser\n",
        "\n",
        "config = configparser.ConfigParser()\n",
        "data = config.read('config.ini')\n",
        "print('='*30)\n",
        "print(data)\n",
        "print('='*30)\n",
        "print('section : ', config.sections())\n",
        "print('='*30)\n",
        "print('[DEFAULT]host : ', config['DEFAULT']['host'])\n",
        "print()\n",
        "print('[DB]name : ', config['mariadb']['name'])\n",
        "print('[DB]user : ', config['mariadb']['user'])\n",
        "print()\n",
        "print('[REDIS]host : ', config.get('redis','host'))\n",
        "print('[REDIS]port : ', int(config.get('redis', 'port')))\n",
        "print('[REDIS]db : ', config.get('redis', 'db'))\n",
        "print('='*30)"
      ],
      "metadata": {
        "colab": {
          "base_uri": "https://localhost:8080/"
        },
        "id": "wZPdDpPWyhaN",
        "outputId": "0c32cd00-ddb3-49a5-ae66-d51874ee7dad"
      },
      "execution_count": 4,
      "outputs": [
        {
          "output_type": "stream",
          "name": "stdout",
          "text": [
            "==============================\n",
            "['config.ini']\n",
            "==============================\n",
            "section :  ['mariadb', 'redis']\n",
            "==============================\n",
            "[DEFAULT]host :  localhost # This is a comment.\n",
            "\n",
            "[DB]name :  joy\n",
            "[DB]user :  user1\n",
            "\n",
            "[REDIS]host :  localhost # This is a comment.\n",
            "[REDIS]port :  6379\n",
            "[REDIS]db :  0\n",
            "==============================\n"
          ]
        }
      ]
    },
    {
      "cell_type": "code",
      "source": [
        "#read_dict\n",
        "import configparser\n",
        "\n",
        "config = configparser.ConfigParser()\n",
        "data_dict = {\n",
        "    'DEFAULT' : {\n",
        "        'host' : 'localhost'\n",
        "    },\n",
        "    'mariadb' : {\n",
        "        'name' : 'joy',\n",
        "        'user' : 'user1',\n",
        "        'password' : 'password'\n",
        "    },\n",
        "    'redis' : {\n",
        "        'port' : '6379',\n",
        "        'db' : '0'\n",
        "    }\n",
        "}\n",
        "config.read_dict(data_dict)\n",
        "\n",
        "\n",
        "print('='*30)\n",
        "print(data_dict)\n",
        "print('='*30)\n",
        "print('section : ', config.sections())\n",
        "print('='*30)\n",
        "print('[DEFAULT]host : ', config['DEFAULT']['host'])\n",
        "print()\n",
        "print('[DB]name : ', config['mariadb']['name'])\n",
        "print('[DB]user : ', config['mariadb']['user'])\n",
        "print()\n",
        "print('[REDIS]host : ', config.get('redis','host'))\n",
        "print('[REDIS]port : ', int(config.get('redis', 'port')))\n",
        "print('[REDIS]db : ', config.get('redis', 'db'))\n",
        "print('='*30)"
      ],
      "metadata": {
        "colab": {
          "base_uri": "https://localhost:8080/"
        },
        "id": "dOdOzhhSzbwS",
        "outputId": "a40d41ea-1557-4c73-b104-20632a9a4b92"
      },
      "execution_count": 7,
      "outputs": [
        {
          "output_type": "stream",
          "name": "stdout",
          "text": [
            "==============================\n",
            "{'DEFAULT': {'host': 'localhost'}, 'mariadb': {'name': 'joy', 'user': 'user1', 'password': 'password'}, 'redis': {'port': '6379', 'db': '0'}}\n",
            "==============================\n",
            "section :  ['mariadb', 'redis']\n",
            "==============================\n",
            "[DEFAULT]host :  localhost\n",
            "\n",
            "[DB]name :  joy\n",
            "[DB]user :  user1\n",
            "\n",
            "[REDIS]host :  localhost\n",
            "[REDIS]port :  6379\n",
            "[REDIS]db :  0\n",
            "==============================\n"
          ]
        }
      ]
    },
    {
      "cell_type": "code",
      "source": [
        "# 구성 파일 생성\n",
        "import configparser\n",
        "\n",
        "config = configparser.ConfigParser()\n",
        "config['DEFAULT'] = {'host': 'localhost'}\n",
        "config['mariadb'] = {'name': 'joy', 'user': 'user1', 'password': 'password'}\n",
        "config['redis'] = {'port': '6379', 'db': '0'}\n",
        "\n",
        "with open('config_create.ini', 'w') as config_file:\n",
        "    config.write(config_file)"
      ],
      "metadata": {
        "id": "LEu4UQU2P44q"
      },
      "execution_count": 8,
      "outputs": []
    },
    {
      "cell_type": "code",
      "source": [
        "import configparser\n",
        "\n",
        "config = configparser.ConfigParser()\n",
        "config.read('config_create.ini')\n",
        "print('변경 전 user :', config['mariadb']['user'])\n",
        "config['mariadb']['user'] = 'user2'\n",
        "\n",
        "with open('config_create.ini', 'w') as config_file:\n",
        "    config.write(config_file)\n",
        "\n",
        "config.read('config_create.ini')\n",
        "print('변경 후 user :', config['mariadb']['user'])\n"
      ],
      "metadata": {
        "colab": {
          "base_uri": "https://localhost:8080/"
        },
        "id": "05w5XziNR3A9",
        "outputId": "f5d136c9-6d97-4309-92c0-2e2a98ba9a56"
      },
      "execution_count": 9,
      "outputs": [
        {
          "output_type": "stream",
          "name": "stdout",
          "text": [
            "변경 전 user : user1\n",
            "변경 후 user : user2\n"
          ]
        }
      ]
    },
    {
      "cell_type": "code",
      "source": [
        "#보간 interpolation 확인\n",
        "%%writefile config_interpolation.ini\n",
        "[DEFAULT]\n",
        "host = localhost\n",
        "\n",
        "[mariadb]\n",
        "name = joy\n",
        "user = user1\n",
        "password = password\n",
        "\n",
        "[redis]\n",
        "port = 6379\n",
        "db = 0\n",
        "dsn = redis://%(host)s"
      ],
      "metadata": {
        "colab": {
          "base_uri": "https://localhost:8080/"
        },
        "id": "_vE8yt9WTC8G",
        "outputId": "7b19b688-8417-4a63-9b76-c961df3fb2c8"
      },
      "execution_count": 13,
      "outputs": [
        {
          "output_type": "stream",
          "name": "stdout",
          "text": [
            "Overwriting config_interpolation.ini\n"
          ]
        }
      ]
    },
    {
      "cell_type": "code",
      "source": [
        "import configparser\n",
        "\n",
        "config = configparser.ConfigParser()\n",
        "config.read('config_interpolation.ini')\n",
        "\n",
        "print(config.get('redis', 'dsn'))"
      ],
      "metadata": {
        "colab": {
          "base_uri": "https://localhost:8080/"
        },
        "id": "2aiD4XolXI99",
        "outputId": "4d283a35-d4a0-4736-a8a0-50814085bb15"
      },
      "execution_count": 14,
      "outputs": [
        {
          "output_type": "stream",
          "name": "stdout",
          "text": [
            "redis://localhost\n"
          ]
        }
      ]
    },
    {
      "cell_type": "code",
      "source": [],
      "metadata": {
        "id": "0rC6eZoHXOWt"
      },
      "execution_count": null,
      "outputs": []
    }
  ]
}