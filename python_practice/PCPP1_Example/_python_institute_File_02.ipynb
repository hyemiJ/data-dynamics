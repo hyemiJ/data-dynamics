{
  "nbformat": 4,
  "nbformat_minor": 0,
  "metadata": {
    "colab": {
      "provenance": [],
      "authorship_tag": "ABX9TyOt6YbE0oJT3+Tg8w3bYRpp",
      "include_colab_link": true
    },
    "kernelspec": {
      "name": "python3",
      "display_name": "Python 3"
    },
    "language_info": {
      "name": "python"
    }
  },
  "cells": [
    {
      "cell_type": "markdown",
      "metadata": {
        "id": "view-in-github",
        "colab_type": "text"
      },
      "source": [
        "<a href=\"https://colab.research.google.com/github/hyemiJ/data-dynamics/blob/main/python_practice/PCPP1_Example/_python_institute_File_02.ipynb\" target=\"_parent\"><img src=\"https://colab.research.google.com/assets/colab-badge.svg\" alt=\"Open In Colab\"/></a>"
      ]
    },
    {
      "cell_type": "code",
      "execution_count": null,
      "metadata": {
        "id": "-TfUh4GEVTo8"
      },
      "outputs": [],
      "source": [
        "# XML 다시보기\n",
        "# - 예제 파일 만들기\n",
        "cars = \"\"\"<?xml version = \"1.0\" encoding = \"utf-8\"?>\n",
        "<!-- cars.xml - List of cars ready to sell -->\n",
        "<!DOCTYPE cars_for_sale SYSTEM \"cars.dtd\">\n",
        "<cars_for_sale>\n",
        "\t<car>\n",
        "    \t<id>1</id>\n",
        "        <brand>Ford</brand>\n",
        "        <model>Mustang</model>\n",
        "        <production_year>1972</production_year>\n",
        "        <price currency=\"USD\">35900</price>\n",
        "\t</car>\n",
        "    <car>\n",
        "    \t<id>2</id>\n",
        "        <brand>Aston Martin</brand>\n",
        "        <model>Rapide</model>\n",
        "        <production_year>2010</production_year>\n",
        "        <price currency=\"GBP\">32000</price>\n",
        "\t</car>\n",
        "</cars_for_sale>\n",
        "\"\"\"\n",
        "with open(\"cars.xml\", \"w\") as f:\n",
        "    f.write(cars)"
      ]
    },
    {
      "cell_type": "code",
      "source": [
        "import xml.etree.ElementTree as ET\n",
        "tree = ET.parse(\"cars.xml\") # 트리 객체 생성\n",
        "root = tree.getroot() # 루트 요소 접근\n",
        "\n",
        "type(root)"
      ],
      "metadata": {
        "colab": {
          "base_uri": "https://localhost:8080/"
        },
        "id": "vgKQ42CKXbL7",
        "outputId": "52897adb-3be5-4fa4-abdd-fd15f54bfe23"
      },
      "execution_count": null,
      "outputs": [
        {
          "output_type": "execute_result",
          "data": {
            "text/plain": [
              "xml.etree.ElementTree.Element"
            ]
          },
          "metadata": {},
          "execution_count": 23
        }
      ]
    },
    {
      "cell_type": "code",
      "source": [
        "import xml.etree.ElementTree as ET\n",
        "\n",
        "root = ET.fromstring(cars)\n",
        "\n",
        "type(root)"
      ],
      "metadata": {
        "colab": {
          "base_uri": "https://localhost:8080/"
        },
        "id": "fXpokYwqX9Ae",
        "outputId": "528cd857-29cd-44a5-89e8-fbff743b6f86"
      },
      "execution_count": null,
      "outputs": [
        {
          "output_type": "execute_result",
          "data": {
            "text/plain": [
              "xml.etree.ElementTree.Element"
            ]
          },
          "metadata": {},
          "execution_count": 5
        }
      ]
    },
    {
      "cell_type": "code",
      "source": [
        "#요소 접근\n",
        "import xml.etree.ElementTree as ET\n",
        "tree = ET.parse(\"cars.xml\") # 트리 객체 생성\n",
        "root = tree.getroot() # 루트 요소 접근\n",
        "print(\"root.tag ::\", root.tag)\n",
        "print(\"root.attrib ::\", root.attrib)\n",
        "print(\"root에는 다음과 같은 자식 요소들이 있다.\")\n",
        "for child in root:\n",
        "  print(\"child.tag ::\",child.tag)\n",
        "  print(\"child.attrib ::\",child.attrib)"
      ],
      "metadata": {
        "colab": {
          "base_uri": "https://localhost:8080/"
        },
        "id": "xlWOoTbUYM9-",
        "outputId": "26e5117d-b22c-42d3-94d8-5e9141c44a9d"
      },
      "execution_count": null,
      "outputs": [
        {
          "output_type": "stream",
          "name": "stdout",
          "text": [
            "root.tag :: cars_for_sale\n",
            "root.attrib :: {}\n",
            "root에는 다음과 같은 자식 요소들이 있다.\n",
            "child.tag :: car\n",
            "child.attrib :: {}\n",
            "child.tag :: car\n",
            "child.attrib :: {}\n"
          ]
        }
      ]
    },
    {
      "cell_type": "code",
      "source": [
        "import xml.etree.ElementTree as ET\n",
        "tree = ET.parse(\"cars.xml\") # 트리 객체 생성\n",
        "root = tree.getroot() # 루트 요소 접근\n",
        "\n",
        "print(root.tag,\":\")\n",
        "print(\"=\"*30)\n",
        "for car in root:\n",
        "  print('id ::', car[0].text)\n",
        "  print('brand ::', car[1].text)\n",
        "  print('model ::', car[2].text)\n",
        "  print('currency ::', car[3].attrib['currency'])\n",
        "  print('price ::', car[3].text)\n",
        "  print(\"=\"*30)"
      ],
      "metadata": {
        "colab": {
          "base_uri": "https://localhost:8080/"
        },
        "id": "PNeHMPiOaz-T",
        "outputId": "fcfeb017-bdae-450a-ded1-d793b9e967a3"
      },
      "execution_count": null,
      "outputs": [
        {
          "output_type": "stream",
          "name": "stdout",
          "text": [
            "cars_for_sale :\n",
            "==============================\n",
            "id :: 1\n",
            "brand :: Ford\n",
            "model :: Mustang\n",
            "production_year :: 1972\n",
            "currency :: USD\n",
            "price :: 35900\n",
            "==============================\n",
            "id :: 2\n",
            "brand :: Aston Martin\n",
            "model :: Rapide\n",
            "production_year :: 2010\n",
            "currency :: GBP\n",
            "price :: 32000\n",
            "==============================\n"
          ]
        }
      ]
    },
    {
      "cell_type": "code",
      "source": [
        "import xml.etree.ElementTree as ET\n",
        "\n",
        "tree = ET.parse(\"cars.xml\") # 트리 객체 생성\n",
        "root = tree.getroot() # 루트 요소 접근\n",
        "\n",
        "for brand in root.iter('brand'):\n",
        "  print(brand.text)"
      ],
      "metadata": {
        "colab": {
          "base_uri": "https://localhost:8080/"
        },
        "id": "A_IV2fdRcohD",
        "outputId": "7ba94ed5-379e-4cae-f00c-87514758aa8d"
      },
      "execution_count": null,
      "outputs": [
        {
          "output_type": "stream",
          "name": "stdout",
          "text": [
            "Ford\n",
            "Aston Martin\n"
          ]
        }
      ]
    },
    {
      "cell_type": "code",
      "source": [
        "import xml.etree.ElementTree as ET\n",
        "\n",
        "tree = ET.parse(\"cars.xml\") # 트리 객체 생성\n",
        "root = tree.getroot() # 루트 요소 접근\n",
        "\n",
        "for car in root.findall(\"car\"):          #직계 자식만 찾음\n",
        "  print(car.find(\"brand\").text)\n",
        "\n",
        "  price = car.find(\"price\")\n",
        "  print(price.attrib['currency'])        #attrib 를 활용하여 요소 속성에 접근\n",
        "  print(price.get(\"currency\"))           # get()을 활용하여 요소 속성에 접근"
      ],
      "metadata": {
        "colab": {
          "base_uri": "https://localhost:8080/"
        },
        "id": "NACfw5-veVM4",
        "outputId": "6ee32140-caf5-4116-889b-a1c3852cd7a4"
      },
      "execution_count": null,
      "outputs": [
        {
          "output_type": "stream",
          "name": "stdout",
          "text": [
            "Ford\n",
            "USD\n",
            "USD\n",
            "Aston Martin\n",
            "GBP\n",
            "GBP\n"
          ]
        }
      ]
    },
    {
      "cell_type": "code",
      "source": [
        "import xml.etree.ElementTree as ET\n",
        "\n",
        "tree = ET.parse(\"cars.xml\") # 트리 객체 생성\n",
        "root = tree.getroot() # 루트 요소 접근\n",
        "\n",
        "print(root.find('car').find('price').get('currency'))\n",
        "print(root.find('car').find('price').text)"
      ],
      "metadata": {
        "colab": {
          "base_uri": "https://localhost:8080/"
        },
        "id": "kYGaeZm7fWem",
        "outputId": "5d7d5ce8-0c5c-4334-fd0e-bf926ddc0e22"
      },
      "execution_count": null,
      "outputs": [
        {
          "output_type": "stream",
          "name": "stdout",
          "text": [
            "USD\n",
            "35900\n"
          ]
        }
      ]
    },
    {
      "cell_type": "code",
      "source": [
        "#문서 수정\n",
        "import xml.etree.ElementTree as ET\n",
        "\n",
        "tree = ET.parse(\"cars.xml\") # 트리 객체 생성\n",
        "root = tree.getroot() # 루트 요소 접근\n",
        "for child in root:\n",
        "  child.tag = \"car_update\"        #child 요소 이름 변경\n",
        "  print(child.tag, child.attrib)\n",
        "  for sub_child in child:\n",
        "    print(sub_child.tag, sub_child.text)"
      ],
      "metadata": {
        "colab": {
          "base_uri": "https://localhost:8080/"
        },
        "id": "unxI-wzIjdK8",
        "outputId": "f56e64e9-a65f-47b5-fc8a-c0e3c3821247"
      },
      "execution_count": null,
      "outputs": [
        {
          "output_type": "stream",
          "name": "stdout",
          "text": [
            "car_update {}\n",
            "id 1\n",
            "brand Ford\n",
            "model Mustang\n",
            "production_year 1972\n",
            "price 35900\n",
            "car_update {}\n",
            "id 2\n",
            "brand Aston Martin\n",
            "model Rapide\n",
            "production_year 2010\n",
            "price 32000\n"
          ]
        }
      ]
    },
    {
      "cell_type": "code",
      "source": [
        "#문서 요소 제거\n",
        "import xml.etree.ElementTree as ET\n",
        "\n",
        "\n",
        "tree = ET.parse(\"cars.xml\") # 트리 객체 생성\n",
        "root = tree.getroot() # 루트 요소 접근\n",
        "\n",
        "for child in root:\n",
        "  child.remove(child.find('production_year'))    #요소 지우기\n",
        "  print(child.tag,\":\")\n",
        "  for sub_child in child:\n",
        "    print(sub_child.tag,\"::\", sub_child.text)"
      ],
      "metadata": {
        "colab": {
          "base_uri": "https://localhost:8080/"
        },
        "id": "RL27Z15IqDhR",
        "outputId": "2aa614d1-b0cb-44c6-93e5-bfb08a3bdc2b"
      },
      "execution_count": null,
      "outputs": [
        {
          "output_type": "stream",
          "name": "stdout",
          "text": [
            "car :\n",
            "id :: 1\n",
            "brand :: Ford\n",
            "model :: Mustang\n",
            "price :: 35900\n",
            "car :\n",
            "id :: 2\n",
            "brand :: Aston Martin\n",
            "model :: Rapide\n",
            "price :: 32000\n"
          ]
        }
      ]
    },
    {
      "cell_type": "code",
      "source": [
        "# 정말 지워졌나 확인\n",
        "import xml.etree.ElementTree as ET\n",
        "tree = ET.parse(\"cars.xml\") # 트리 객체 생성\n",
        "root = tree.getroot() # 루트 요소 접근\n",
        "\n",
        "print(root.tag,\":\")\n",
        "print(\"=\"*30)\n",
        "for car in root:\n",
        "  print('id ::', car[0].text)\n",
        "  print('brand ::', car[1].text)\n",
        "  print('model ::', car[2].text)\n",
        "  print(\"지워지지 않았나봐 ::\",car[3].text)\n",
        "  print('currency ::', car[4].attrib['currency'])\n",
        "  print('price ::', car[4].text)\n",
        "  print(\"=\"*30)"
      ],
      "metadata": {
        "colab": {
          "base_uri": "https://localhost:8080/"
        },
        "id": "2x_9wY84rjKf",
        "outputId": "ddcdc554-1f59-423f-ec48-50b9f1df1506"
      },
      "execution_count": null,
      "outputs": [
        {
          "output_type": "stream",
          "name": "stdout",
          "text": [
            "cars_for_sale :\n",
            "==============================\n",
            "id :: 1\n",
            "brand :: Ford\n",
            "model :: Mustang\n",
            "지워지지 않았나봐 :: 1972\n",
            "currency :: USD\n",
            "price :: 35900\n",
            "==============================\n",
            "id :: 2\n",
            "brand :: Aston Martin\n",
            "model :: Rapide\n",
            "지워지지 않았나봐 :: 2010\n",
            "currency :: GBP\n",
            "price :: 32000\n",
            "==============================\n"
          ]
        }
      ]
    },
    {
      "cell_type": "code",
      "source": [
        "import xml.etree.ElementTree as ET\n",
        "\n",
        "\n",
        "tree = ET.parse(\"cars.xml\") # 트리 객체 생성\n",
        "root = tree.getroot() # 루트 요소 접근\n",
        "\n",
        "for child in root:\n",
        "  child.find(\"price\").set(\"currency\", \"EUR\")\n",
        "  print(child.tag,\":\")\n",
        "  for sub_child in child:\n",
        "    if sub_child.tag == \"price\":\n",
        "      print(f\"({sub_child.get('currency')})\", end=\" \")\n",
        "    print(sub_child.tag,\"::\", sub_child.text)\n"
      ],
      "metadata": {
        "colab": {
          "base_uri": "https://localhost:8080/"
        },
        "id": "XysoanLewv-U",
        "outputId": "c81d1473-4941-45fc-ddc3-c2acd9f63559"
      },
      "execution_count": null,
      "outputs": [
        {
          "output_type": "stream",
          "name": "stdout",
          "text": [
            "car :\n",
            "id :: 1\n",
            "brand :: Ford\n",
            "model :: Mustang\n",
            "production_year :: 1972\n",
            "(EUR) price :: 35900\n",
            "car :\n",
            "id :: 2\n",
            "brand :: Aston Martin\n",
            "model :: Rapide\n",
            "production_year :: 2010\n",
            "(EUR) price :: 32000\n"
          ]
        }
      ]
    },
    {
      "cell_type": "code",
      "source": [
        "# 변경사항 저장\n",
        "import xml.etree.ElementTree as ET\n",
        "\n",
        "\n",
        "tree = ET.parse(\"cars.xml\") # 트리 객체 생성\n",
        "root = tree.getroot() # 루트 요소 접근\n",
        "\n",
        "for child in root:\n",
        "  child.find(\"price\").set(\"currency\", \"EUR\")\n",
        "  print(child.tag,\":\")\n",
        "  for sub_child in child:\n",
        "    if sub_child.tag == \"price\":\n",
        "      print(f\"({sub_child.get('currency')})\", end=\" \")\n",
        "    print(sub_child.tag,\"::\", sub_child.text)\n",
        "\n",
        "tree.write(\"cars_update.xml\",'UTF-8',True)   # 저장"
      ],
      "metadata": {
        "colab": {
          "base_uri": "https://localhost:8080/"
        },
        "id": "zWutSyKpxnoq",
        "outputId": "ab2c5498-23e6-4b26-c73e-f09e8f1abeba"
      },
      "execution_count": null,
      "outputs": [
        {
          "output_type": "stream",
          "name": "stdout",
          "text": [
            "car :\n",
            "id :: 1\n",
            "brand :: Ford\n",
            "model :: Mustang\n",
            "production_year :: 1972\n",
            "(EUR) price :: 35900\n",
            "car :\n",
            "id :: 2\n",
            "brand :: Aston Martin\n",
            "model :: Rapide\n",
            "production_year :: 2010\n",
            "(EUR) price :: 32000\n"
          ]
        }
      ]
    },
    {
      "cell_type": "code",
      "source": [
        "#변경 사항 확인\n",
        "import xml.etree.ElementTree as ET\n",
        "\n",
        "\n",
        "tree = ET.parse(\"cars_update.xml\") # 트리 객체 생성\n",
        "root = tree.getroot() # 루트 요소 접근\n",
        "\n",
        "for child in root:\n",
        "  print(child.tag,\":\")\n",
        "  for sub_child in child:\n",
        "    if sub_child.tag == \"price\":\n",
        "      print(f\"({sub_child.get('currency')})\", end=\" \")\n",
        "    print(sub_child.tag,\"::\", sub_child.text)"
      ],
      "metadata": {
        "colab": {
          "base_uri": "https://localhost:8080/"
        },
        "id": "TP-xE1wOza1C",
        "outputId": "49c70dc6-ed97-4958-bbce-889edb44ce65"
      },
      "execution_count": null,
      "outputs": [
        {
          "output_type": "stream",
          "name": "stdout",
          "text": [
            "car :\n",
            "id :: 1\n",
            "brand :: Ford\n",
            "model :: Mustang\n",
            "production_year :: 1972\n",
            "(EUR) price :: 35900\n",
            "car :\n",
            "id :: 2\n",
            "brand :: Aston Martin\n",
            "model :: Rapide\n",
            "production_year :: 2010\n",
            "(EUR) price :: 32000\n"
          ]
        }
      ]
    },
    {
      "cell_type": "code",
      "source": [
        "# 요소 만들기\n",
        "import xml.etree.ElementTree as ET\n",
        "\n",
        "root = ET.Element('data')\n",
        "ET.dump(root)"
      ],
      "metadata": {
        "colab": {
          "base_uri": "https://localhost:8080/"
        },
        "id": "Qmke3eqtzh7A",
        "outputId": "331f0936-f94a-4440-b19b-15dc70268a60"
      },
      "execution_count": null,
      "outputs": [
        {
          "output_type": "stream",
          "name": "stdout",
          "text": [
            "<data />\n"
          ]
        }
      ]
    },
    {
      "cell_type": "code",
      "source": [
        "# 자식 요소 만들기\n",
        "import xml.etree.ElementTree as ET\n",
        "\n",
        "root = ET.Element('data')\n",
        "mv_1 = ET.SubElement(root, 'movie', {'title': 'The Little Prince', 'rate': '5'})\n",
        "mv_2 = ET.SubElement(root, 'movie', {'title': 'The Lion King', 'rate': '4'})\n",
        "ET.dump(root)"
      ],
      "metadata": {
        "colab": {
          "base_uri": "https://localhost:8080/"
        },
        "id": "ysJ_N1o40owI",
        "outputId": "dcee878f-ba52-4b7e-e002-b3a8f366ca33"
      },
      "execution_count": null,
      "outputs": [
        {
          "output_type": "stream",
          "name": "stdout",
          "text": [
            "<data><movie title=\"The Little Prince\" rate=\"5\" /><movie title=\"The Lion King\" rate=\"4\" /></data>\n"
          ]
        }
      ]
    },
    {
      "cell_type": "code",
      "source": [
        "<data>\n",
        "  <movie title=\"The Little Prince\" rate=\"5\" />\n",
        "  <movie title=\"The Lion King\" rate=\"4\" />\n",
        "</data>"
      ],
      "metadata": {
        "id": "H4JXQdoz1i0D"
      },
      "execution_count": null,
      "outputs": []
    }
  ]
}