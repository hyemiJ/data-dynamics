{
  "nbformat": 4,
  "nbformat_minor": 0,
  "metadata": {
    "colab": {
      "provenance": [],
      "authorship_tag": "ABX9TyOq9CVtsGhZ73n4EaUSOPZu",
      "include_colab_link": true
    },
    "kernelspec": {
      "name": "python3",
      "display_name": "Python 3"
    },
    "language_info": {
      "name": "python"
    }
  },
  "cells": [
    {
      "cell_type": "markdown",
      "metadata": {
        "id": "view-in-github",
        "colab_type": "text"
      },
      "source": [
        "<a href=\"https://colab.research.google.com/github/hyemiJ/data-dynamics/blob/main/python_practice/PCPP1_Example/_python_institute_File_03.ipynb\" target=\"_parent\"><img src=\"https://colab.research.google.com/assets/colab-badge.svg\" alt=\"Open In Colab\"/></a>"
      ]
    },
    {
      "cell_type": "code",
      "execution_count": null,
      "metadata": {
        "id": "AE3tN_2oV0Z7"
      },
      "outputs": [],
      "source": [
        "# 예제 파일 만들기\n",
        "\n",
        "contacts = \"\"\"Name,Phone\n",
        "mother,222-3333-4444\n",
        "father,222-3333-5555\n",
        "wife,2222-3333-6666\n",
        "baby,222-3333-7777\"\"\"\n",
        "\n",
        "with open(\"contacts.csv\", \"w\") as f:\n",
        "    f.write(contacts)"
      ]
    },
    {
      "cell_type": "code",
      "source": [
        "import csv\n",
        "\n",
        "with open(\"contacts.csv\", newline='') as csv_file:\n",
        "    reader = csv.reader(csv_file, delimiter=',')\n",
        "    for row in reader:\n",
        "        print(row)"
      ],
      "metadata": {
        "colab": {
          "base_uri": "https://localhost:8080/"
        },
        "id": "BEr01Yr6Xvq9",
        "outputId": "f206cdfc-e7ed-4c1b-bb09-59a6e147921d"
      },
      "execution_count": null,
      "outputs": [
        {
          "output_type": "stream",
          "name": "stdout",
          "text": [
            "['Name', 'Phone']\n",
            "['mother', '222-3333-4444']\n",
            "['father', '222-3333-5555']\n",
            "['wife', '2222-3333-6666']\n",
            "['baby', '222-3333-7777']\n"
          ]
        }
      ]
    },
    {
      "cell_type": "code",
      "source": [
        "import csv\n",
        "\n",
        "with open(\"contacts.csv\", newline='') as csv_file:\n",
        "    reader = csv.reader(csv_file, delimiter=',')\n",
        "    for row in reader:\n",
        "        print(','.join(row))"
      ],
      "metadata": {
        "colab": {
          "base_uri": "https://localhost:8080/"
        },
        "id": "CEtx4BHPX-9i",
        "outputId": "fdb6c6e2-91d1-4633-8b15-15022ab86ccb"
      },
      "execution_count": null,
      "outputs": [
        {
          "output_type": "stream",
          "name": "stdout",
          "text": [
            "Name,Phone\n",
            "mother,222-3333-4444\n",
            "father,222-3333-5555\n",
            "wife,2222-3333-6666\n",
            "baby,222-3333-7777\n"
          ]
        }
      ]
    },
    {
      "cell_type": "code",
      "source": [
        "import csv\n",
        "\n",
        "with open(\"contacts.csv\", newline='') as csv_file:\n",
        "    reader = csv.DictReader(csv_file)\n",
        "    for row in reader:\n",
        "        print(row['Name'], \":\", row['Phone'])"
      ],
      "metadata": {
        "colab": {
          "base_uri": "https://localhost:8080/"
        },
        "id": "j-myvtrqZPDG",
        "outputId": "3f501f1b-e322-47f4-9572-0b98a73fb9b6"
      },
      "execution_count": null,
      "outputs": [
        {
          "output_type": "stream",
          "name": "stdout",
          "text": [
            "mother : 222-3333-4444\n",
            "father : 222-3333-5555\n",
            "wife : 2222-3333-6666\n",
            "baby : 222-3333-7777\n"
          ]
        }
      ]
    },
    {
      "cell_type": "code",
      "source": [
        "contacts = \"\"\"mother,222-3333-4444\n",
        "father,222-3333-5555\n",
        "wife,2222-3333-6666\n",
        "baby,222-3333-7777\"\"\"\n",
        "\n",
        "with open(\"no_header_contacts.csv\", \"w\") as f:\n",
        "    f.write(contacts)"
      ],
      "metadata": {
        "id": "LbEwEWt2aE-x"
      },
      "execution_count": null,
      "outputs": []
    },
    {
      "cell_type": "code",
      "source": [
        "import csv\n",
        "\n",
        "with open(\"no_header_contacts.csv\", newline='') as csv_file:\n",
        "    header = ['Name', 'Phone','age']\n",
        "    reader = csv.DictReader(csv_file, fieldnames=header)\n",
        "    for row in reader:\n",
        "        print(row['Name'], \":\", row['Phone'] ,\"-> header_over :\", row['age'])"
      ],
      "metadata": {
        "colab": {
          "base_uri": "https://localhost:8080/"
        },
        "id": "xykbpsrBbwV1",
        "outputId": "649da7c8-e3b5-4ca8-f263-adfb4cfc9e4c"
      },
      "execution_count": null,
      "outputs": [
        {
          "output_type": "stream",
          "name": "stdout",
          "text": [
            "mother : 222-3333-4444 -> header_over : None\n",
            "father : 222-3333-5555 -> header_over : None\n",
            "wife : 2222-3333-6666 -> header_over : None\n",
            "baby : 222-3333-7777 -> header_over : None\n"
          ]
        }
      ]
    },
    {
      "cell_type": "code",
      "source": [
        "#csv 작성\n",
        "import csv\n",
        "\n",
        "with open(\"contacts.csv\", \"w\", newline='') as csv_file:\n",
        "    writer = csv.writer(csv_file, delimiter=',')\n",
        "    writer.writerow(['Name', 'Phone'])\n",
        "    writer.writerow(['mother', '222-3333-4444'])\n",
        "    writer.writerow(['father', '222-3333-5555'])\n",
        "    writer.writerow(['wife', '2222-3333-6666'])\n",
        "    writer.writerow(['baby', '222-3333-7777'])\n",
        "print(\"끝\")"
      ],
      "metadata": {
        "colab": {
          "base_uri": "https://localhost:8080/"
        },
        "id": "fTlwVx8Gb_jI",
        "outputId": "fb5295ee-eede-4e4a-b4a1-c7be8139e411"
      },
      "execution_count": null,
      "outputs": [
        {
          "output_type": "stream",
          "name": "stdout",
          "text": [
            "끝\n"
          ]
        }
      ]
    },
    {
      "cell_type": "code",
      "source": [
        "import csv\n",
        "\n",
        "with open(\"quote_contacts.csv\", \"w\", newline='') as csv_file:\n",
        "    writer = csv.writer(csv_file, delimiter=',', quotechar='\"', quoting=csv.QUOTE_MINIMAL)\n",
        "    writer.writerow(['Name', 'Phone'])\n",
        "    writer.writerow(['mother', '222-3333-4444'])\n",
        "    writer.writerow(['father', '222-3333-5555'])\n",
        "    writer.writerow(['wife', '2222-3333-6666'])\n",
        "    writer.writerow(['baby', '222-3333-7777'])\n",
        "    writer.writerow(['grandmother,grandfather', '222-3333-7777'])"
      ],
      "metadata": {
        "id": "tSz61sqEiS-6"
      },
      "execution_count": null,
      "outputs": []
    },
    {
      "cell_type": "code",
      "source": [
        "with open(\"quote_contacts.csv\", newline='') as csv_file:\n",
        "    reader = csv.reader(csv_file, delimiter=',', quotechar='\"')\n",
        "    for row in reader:\n",
        "        print(row)"
      ],
      "metadata": {
        "colab": {
          "base_uri": "https://localhost:8080/"
        },
        "id": "03befrI1zqgk",
        "outputId": "b47263a1-cf97-4ac3-cad2-07e5a6563550"
      },
      "execution_count": null,
      "outputs": [
        {
          "output_type": "stream",
          "name": "stdout",
          "text": [
            "['Name', 'Phone']\n",
            "['mother', '222-3333-4444']\n",
            "['father', '222-3333-5555']\n",
            "['wife', '2222-3333-6666']\n",
            "['baby', '222-3333-7777']\n",
            "['grandmother,grandfather', '222-3333-7777']\n"
          ]
        }
      ]
    },
    {
      "cell_type": "code",
      "source": [
        "#DictWriter\n",
        "import csv\n",
        "\n",
        "with open(\"contacts.csv\", \"w\", newline='') as csv_file:\n",
        "    fieldnames = ['Name', 'Phone']\n",
        "    writer = csv.DictWriter(csv_file, fieldnames=fieldnames)\n",
        "    writer.writeheader()  #header 작성\n",
        "    writer.writerow({'Name': 'mother', 'Phone': '222-3333-4444'})\n",
        "    writer.writerow({'Name': 'father', 'Phone': '222-3333-5555'})\n",
        "    writer.writerow({'Name': 'wife', 'Phone': '2222-3333-6666'})\n",
        "    writer.writerow({'Name': 'baby', 'Phone': '222-3333-7777'})\n",
        "    writer.writerow({'Name': 'grandmother,grandfather', 'Phone': '222-3333-7777'})"
      ],
      "metadata": {
        "id": "f7_wYhCsztQD"
      },
      "execution_count": null,
      "outputs": []
    }
  ]
}