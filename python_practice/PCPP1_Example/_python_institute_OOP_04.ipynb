{
  "nbformat": 4,
  "nbformat_minor": 0,
  "metadata": {
    "colab": {
      "provenance": [],
      "authorship_tag": "ABX9TyOGhHtKfxgGY0QqKPyRJNLP",
      "include_colab_link": true
    },
    "kernelspec": {
      "name": "python3",
      "display_name": "Python 3"
    },
    "language_info": {
      "name": "python"
    }
  },
  "cells": [
    {
      "cell_type": "markdown",
      "metadata": {
        "id": "view-in-github",
        "colab_type": "text"
      },
      "source": [
        "<a href=\"https://colab.research.google.com/github/hyemiJ/data-dynamics/blob/main/python_practice/_python_institute_OOP_04.ipynb\" target=\"_parent\"><img src=\"https://colab.research.google.com/assets/colab-badge.svg\" alt=\"Open In Colab\"/></a>"
      ]
    },
    {
      "cell_type": "code",
      "execution_count": 2,
      "metadata": {
        "colab": {
          "base_uri": "https://localhost:8080/"
        },
        "id": "8k9xSpBnG0FB",
        "outputId": "c4f45b16-4c8a-48c4-dd28-aabc9c6937ea"
      },
      "outputs": [
        {
          "output_type": "stream",
          "name": "stdout",
          "text": [
            "Color , hello !\n"
          ]
        }
      ],
      "source": [
        "# 기본 클래스\n",
        "class Color:\n",
        "  def hello(self):\n",
        "    print('Color , hello !')\n",
        "\n",
        "color = Color()\n",
        "color.hello()"
      ]
    },
    {
      "cell_type": "code",
      "source": [
        "# 추상클래스\n",
        "import abc\n",
        "\n",
        "class Color(abc.ABC):\n",
        "  @abc.abstractmethod\n",
        "  def hello(self):\n",
        "    pass\n",
        "\n",
        "class Red(Color):\n",
        "  def hello(self):\n",
        "    print('Red , hello !')\n",
        "\n",
        "class Blue(Color):\n",
        "  def hello(self):\n",
        "    print('Blue , hello !')\n",
        "\n",
        "red = Red()\n",
        "red.hello()"
      ],
      "metadata": {
        "colab": {
          "base_uri": "https://localhost:8080/"
        },
        "id": "pjIhtnX-JuOF",
        "outputId": "024b1af1-75ea-45bc-e554-28d90f9870be"
      },
      "execution_count": 3,
      "outputs": [
        {
          "output_type": "stream",
          "name": "stdout",
          "text": [
            "Red , hello !\n"
          ]
        }
      ]
    },
    {
      "cell_type": "code",
      "source": [
        "# 추상 클래스 인스턴스 불가\n",
        "color = Color()"
      ],
      "metadata": {
        "colab": {
          "base_uri": "https://localhost:8080/",
          "height": 141
        },
        "id": "91qoBYwnLDE-",
        "outputId": "39019753-5529-4725-c89c-6c8164f1c8f6"
      },
      "execution_count": 4,
      "outputs": [
        {
          "output_type": "error",
          "ename": "TypeError",
          "evalue": "Can't instantiate abstract class Color with abstract method hello",
          "traceback": [
            "\u001b[0;31m---------------------------------------------------------------------------\u001b[0m",
            "\u001b[0;31mTypeError\u001b[0m                                 Traceback (most recent call last)",
            "\u001b[0;32m/tmp/ipython-input-4-1318593433.py\u001b[0m in \u001b[0;36m<cell line: 0>\u001b[0;34m()\u001b[0m\n\u001b[0;32m----> 1\u001b[0;31m \u001b[0mcolor\u001b[0m \u001b[0;34m=\u001b[0m \u001b[0mColor\u001b[0m\u001b[0;34m(\u001b[0m\u001b[0;34m)\u001b[0m\u001b[0;34m\u001b[0m\u001b[0;34m\u001b[0m\u001b[0m\n\u001b[0m",
            "\u001b[0;31mTypeError\u001b[0m: Can't instantiate abstract class Color with abstract method hello"
          ]
        }
      ]
    },
    {
      "cell_type": "code",
      "source": [
        "# 추상 메서드 pass\n",
        "class Green(Color):\n",
        "  def hello(self):\n",
        "    pass\n",
        "\n",
        "green = Green()\n",
        "green.hello()"
      ],
      "metadata": {
        "id": "tu1-wJiwL5Af"
      },
      "execution_count": 5,
      "outputs": []
    },
    {
      "cell_type": "code",
      "source": [
        "class Pink(Color):\n",
        "  def bye(self):\n",
        "    pass\n",
        "\n",
        "pink = Pink()"
      ],
      "metadata": {
        "colab": {
          "base_uri": "https://localhost:8080/",
          "height": 176
        },
        "id": "e5KGOlx1M9BU",
        "outputId": "b724cb0d-2439-4b1b-dcec-f4e8bcf94646"
      },
      "execution_count": 6,
      "outputs": [
        {
          "output_type": "error",
          "ename": "TypeError",
          "evalue": "Can't instantiate abstract class Pink with abstract method hello",
          "traceback": [
            "\u001b[0;31m---------------------------------------------------------------------------\u001b[0m",
            "\u001b[0;31mTypeError\u001b[0m                                 Traceback (most recent call last)",
            "\u001b[0;32m/tmp/ipython-input-6-1294416428.py\u001b[0m in \u001b[0;36m<cell line: 0>\u001b[0;34m()\u001b[0m\n\u001b[1;32m      3\u001b[0m     \u001b[0;32mpass\u001b[0m\u001b[0;34m\u001b[0m\u001b[0;34m\u001b[0m\u001b[0m\n\u001b[1;32m      4\u001b[0m \u001b[0;34m\u001b[0m\u001b[0m\n\u001b[0;32m----> 5\u001b[0;31m \u001b[0mpink\u001b[0m \u001b[0;34m=\u001b[0m \u001b[0mPink\u001b[0m\u001b[0;34m(\u001b[0m\u001b[0;34m)\u001b[0m\u001b[0;34m\u001b[0m\u001b[0;34m\u001b[0m\u001b[0m\n\u001b[0m",
            "\u001b[0;31mTypeError\u001b[0m: Can't instantiate abstract class Pink with abstract method hello"
          ]
        }
      ]
    },
    {
      "cell_type": "code",
      "source": [
        "# 첫 번째 추상 클래스\n",
        "class Shape(abc.ABC):\n",
        "  @abc.abstractmethod\n",
        "  def draw(self):\n",
        "    pass\n",
        "\n",
        "# 두 번째 추상 클래스\n",
        "class Color(abc.ABC):\n",
        "  @abc.abstractmethod\n",
        "  def fill(self):\n",
        "    pass\n",
        "\n",
        "# 두 개의 추상 클래스를 다중 상속받는 클래스\n",
        "class ColoredShape(Shape, Color):\n",
        "  def draw(self):\n",
        "    print(\"Drawing a colored shape\")\n",
        "\n",
        "  def fill(self):\n",
        "    print(\"Filling the colored shape\")\n",
        "\n",
        "# 다중 상속받은 클래스의 인스턴스 생성 및 메서드 호출\n",
        "cs = ColoredShape()\n",
        "cs.draw()\n",
        "cs.fill()\n",
        "\n",
        "# Shape 추상 클래스를 상속받지만 Color 추상 클래스는 상속받지 않은 클래스\n",
        "class Circle(Shape):\n",
        "    def draw(self):\n",
        "        print(\"Drawing a circle\")\n",
        "\n",
        "# Color 추상 클래스를 상속받지만 Shape 추상 클래스는 상속받지 않은 클래스\n",
        "class RedColor(Color):\n",
        "    def fill(self):\n",
        "        print(\"Filling with red color\")"
      ],
      "metadata": {
        "colab": {
          "base_uri": "https://localhost:8080/"
        },
        "id": "BXaRkHWEN5xO",
        "outputId": "503d13ae-3467-46c7-b38f-94998184225f"
      },
      "execution_count": 7,
      "outputs": [
        {
          "output_type": "stream",
          "name": "stdout",
          "text": [
            "Drawing a colored shape\n",
            "Filling the colored shape\n"
          ]
        }
      ]
    },
    {
      "cell_type": "code",
      "source": [],
      "metadata": {
        "id": "e7jerUWFRDRm"
      },
      "execution_count": null,
      "outputs": []
    }
  ]
}