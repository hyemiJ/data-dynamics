{
  "nbformat": 4,
  "nbformat_minor": 0,
  "metadata": {
    "colab": {
      "provenance": [],
      "authorship_tag": "ABX9TyM4moGqpy60b2wT1sIO4bB1",
      "include_colab_link": true
    },
    "kernelspec": {
      "name": "python3",
      "display_name": "Python 3"
    },
    "language_info": {
      "name": "python"
    }
  },
  "cells": [
    {
      "cell_type": "markdown",
      "metadata": {
        "id": "view-in-github",
        "colab_type": "text"
      },
      "source": [
        "<a href=\"https://colab.research.google.com/github/hyemiJ/data-dynamics/blob/main/python_practice/_python_institute_PEP_01.ipynb\" target=\"_parent\"><img src=\"https://colab.research.google.com/assets/colab-badge.svg\" alt=\"Open In Colab\"/></a>"
      ]
    },
    {
      "cell_type": "code",
      "execution_count": null,
      "metadata": {
        "colab": {
          "base_uri": "https://localhost:8080/"
        },
        "id": "9a_UEcsXr0IH",
        "outputId": "55f649e8-3b4c-4cab-dde4-0b6979c6a1df"
      },
      "outputs": [
        {
          "output_type": "stream",
          "name": "stdout",
          "text": [
            "The Zen of Python, by Tim Peters\n",
            "\n",
            "Beautiful is better than ugly.\n",
            "Explicit is better than implicit.\n",
            "Simple is better than complex.\n",
            "Complex is better than complicated.\n",
            "Flat is better than nested.\n",
            "Sparse is better than dense.\n",
            "Readability counts.\n",
            "Special cases aren't special enough to break the rules.\n",
            "Although practicality beats purity.\n",
            "Errors should never pass silently.\n",
            "Unless explicitly silenced.\n",
            "In the face of ambiguity, refuse the temptation to guess.\n",
            "There should be one-- and preferably only one --obvious way to do it.\n",
            "Although that way may not be obvious at first unless you're Dutch.\n",
            "Now is better than never.\n",
            "Although never is often better than *right* now.\n",
            "If the implementation is hard to explain, it's a bad idea.\n",
            "If the implementation is easy to explain, it may be a good idea.\n",
            "Namespaces are one honking great idea -- let's do more of those!\n"
          ]
        }
      ],
      "source": [
        "import this"
      ]
    },
    {
      "cell_type": "code",
      "source": [
        "# X\n",
        "from math import sqrt\n",
        "sidea = float(input(\"The length of the 'a' side :\"))\n",
        "sideb = float(input(\"The length of the 'b' side :\"))\n",
        "sidec = sqrt(sidea**2+sideb**2)\n",
        "print(\"The length of the hypotenuse is\", sidec)"
      ],
      "metadata": {
        "colab": {
          "base_uri": "https://localhost:8080/"
        },
        "id": "r4pPUDtMr2cE",
        "outputId": "804f260b-b410-4aa3-df83-1a519dbe6eca"
      },
      "execution_count": null,
      "outputs": [
        {
          "output_type": "stream",
          "name": "stdout",
          "text": [
            "The length of the 'a' side :5\n",
            "The length of the 'b' side :5\n",
            "The length of the hypotenuse is 7.0710678118654755\n"
          ]
        }
      ]
    },
    {
      "cell_type": "code",
      "source": [
        "# O\n",
        "from math import sqrt\n",
        "\n",
        "side_a = float(input(\"The length of the 'a' side :\"))\n",
        "side_b = float(input(\"The length of the 'b' side :\"))\n",
        "hypotenuse = sqrt(side_a**2 + side_b**2)\n",
        "\n",
        "print(\"The length of the hypotenuse is\", hypotenuse)"
      ],
      "metadata": {
        "colab": {
          "base_uri": "https://localhost:8080/"
        },
        "id": "lgJeKmOAsbOr",
        "outputId": "edbac1ab-a8b0-48eb-b1bb-bfb222c313d9"
      },
      "execution_count": null,
      "outputs": [
        {
          "output_type": "stream",
          "name": "stdout",
          "text": [
            "The length of the 'a' side :5\n",
            "The length of the 'b' side :5\n",
            "The length of the hypotenuse is 7.0710678118654755\n"
          ]
        }
      ]
    },
    {
      "cell_type": "code",
      "source": [
        "# X 암묵적 코드\n",
        "from math import *\n",
        "\n",
        "print(pi)\n",
        "print(sqrt(16))\n",
        "print(log10(100))"
      ],
      "metadata": {
        "colab": {
          "base_uri": "https://localhost:8080/"
        },
        "id": "ycevsgmxvlIh",
        "outputId": "d02c262c-d6a5-4d4b-cbbd-faf7e8d1d61e"
      },
      "execution_count": null,
      "outputs": [
        {
          "output_type": "stream",
          "name": "stdout",
          "text": [
            "3.141592653589793\n",
            "4.0\n",
            "2.0\n"
          ]
        }
      ]
    },
    {
      "cell_type": "code",
      "source": [
        "# O 명시적 코드\n",
        "from math import pi, sqrt\n",
        "\n",
        "print(pi)\n",
        "print(sqrt(16))\n",
        "# print(log10(100)) # log10은 임포트하지 않았으므로 오류 발생"
      ],
      "metadata": {
        "id": "1GhOlI5UwP5m"
      },
      "execution_count": null,
      "outputs": []
    },
    {
      "cell_type": "code",
      "source": [
        "# X 복잡한 코드\n",
        "import heapq\n",
        "\n",
        "numbers = [-1, 12, -5, 0, 7, 21, 15, 1]\n",
        "heapq.heapify(numbers)\n",
        "\n",
        "sorted_numbers = []\n",
        "\n",
        "while numbers:\n",
        "  sorted_numbers.append(heapq.heappop(numbers))\n",
        "\n",
        "print(sorted_numbers)"
      ],
      "metadata": {
        "colab": {
          "base_uri": "https://localhost:8080/"
        },
        "id": "UQ-duN_ty1Ur",
        "outputId": "d6c87ed9-addd-4b0d-b0b0-25255b6fe67d"
      },
      "execution_count": null,
      "outputs": [
        {
          "output_type": "stream",
          "name": "stdout",
          "text": [
            "[-5, -1, 0, 1, 7, 12, 15, 21]\n"
          ]
        }
      ]
    },
    {
      "cell_type": "code",
      "source": [
        "# O 단조로운 코드\n",
        "numbers = [-1, 12, -5, 0, 7, 21, 15, 1]\n",
        "\n",
        "numbers.sort()\n",
        "\n",
        "print(numbers)"
      ],
      "metadata": {
        "colab": {
          "base_uri": "https://localhost:8080/"
        },
        "id": "BoIYonKjzTpA",
        "outputId": "30865c5b-c4e7-43a7-8c0e-ef3e9b7d8e9d"
      },
      "execution_count": null,
      "outputs": [
        {
          "output_type": "stream",
          "name": "stdout",
          "text": [
            "[-5, -1, 0, 1, 7, 12, 15, 21]\n"
          ]
        }
      ]
    },
    {
      "cell_type": "code",
      "source": [
        "# X 난해한 코드\n",
        "first_number = int(input(\"Enter the first number :\"))\n",
        "second_number = int(input(\"Enter the second number :\"))\n",
        "addition_result = first_number + second_number\n",
        "print(first_number, \"+\", second_number, \"=\", addition_result)\n",
        "first_number = int(input(\"Enter the first number :\"))\n",
        "second_number = int(input(\"Enter the second number :\"))\n",
        "addition_result = first_number + second_number\n",
        "print(first_number, \"+\", second_number, \"=\", addition_result)\n",
        "first_number = int(input(\"Enter the first number :\"))\n",
        "second_number = int(input(\"Enter the second number :\"))\n",
        "addition_result = first_number + second_number\n",
        "print(first_number, \"+\", second_number, \"=\", addition_result)\n",
        "first_number = int(input(\"Enter the first number :\"))\n",
        "second_number = int(input(\"Enter the second number :\"))\n",
        "addition_result = first_number + second_number\n",
        "print(first_number, \"+\", second_number, \"=\", addition_result)\n",
        "first_number = int(input(\"Enter the first number :\"))\n",
        "second_number = int(input(\"Enter the second number :\"))\n",
        "addition_result = first_number + second_number\n",
        "print(first_number, \"+\", second_number, \"=\", addition_result)"
      ],
      "metadata": {
        "colab": {
          "base_uri": "https://localhost:8080/"
        },
        "id": "wrVKsf6szcRP",
        "outputId": "1c751845-edf6-4595-8096-eea77ccd6bc3"
      },
      "execution_count": null,
      "outputs": [
        {
          "output_type": "stream",
          "name": "stdout",
          "text": [
            "Enter the first number :1\n",
            "Enter the second number :2\n",
            "1 + 2 = 3\n",
            "Enter the first number :3\n",
            "Enter the second number :4\n",
            "3 + 4 = 7\n",
            "Enter the first number :5\n",
            "Enter the second number :7\n",
            "5 + 7 = 12\n",
            "Enter the first number :8\n",
            "Enter the second number :9\n",
            "8 + 9 = 17\n",
            "Enter the first number :0\n",
            "Enter the second number :1\n",
            "0 + 1 = 1\n"
          ]
        }
      ]
    },
    {
      "cell_type": "code",
      "source": [
        "# O 복잡한 코드\n",
        "def addition(x, y):\n",
        "  print(x, \"+\", y, \"=\", x + y)\n",
        "\n",
        "for i in range(5):\n",
        "  first_number = int(input(\"Enter the first number :\"))\n",
        "  second_number = int(input(\"Enter the second number :\"))\n",
        "  addition(first_number, second_number)"
      ],
      "metadata": {
        "colab": {
          "base_uri": "https://localhost:8080/"
        },
        "id": "iYkm57AmH4yw",
        "outputId": "c10d7156-895e-4f91-bd3a-a7a93b87fd7f"
      },
      "execution_count": null,
      "outputs": [
        {
          "output_type": "stream",
          "name": "stdout",
          "text": [
            "Enter the first number :1\n",
            "Enter the second number :2\n",
            "1 + 2 = 3\n",
            "Enter the first number :3\n",
            "Enter the second number :4\n",
            "3 + 4 = 7\n",
            "Enter the first number :5\n",
            "Enter the second number :6\n",
            "5 + 6 = 11\n",
            "Enter the first number :7\n",
            "Enter the second number :8\n",
            "7 + 8 = 15\n",
            "Enter the first number :9\n",
            "Enter the second number :0\n",
            "9 + 0 = 9\n"
          ]
        }
      ]
    },
    {
      "cell_type": "code",
      "source": [
        "# X nested 코드\n",
        "x = float(input(\"Enter a number : \"))\n",
        "\n",
        "if x > 0:\n",
        "  if x > 1:\n",
        "    if x > 2:\n",
        "      if x > 3:\n",
        "        if x >= 4:\n",
        "          if x <= 6:\n",
        "            print(\"입력값은 4~6 사이의 수입니다.\")\n",
        "else:\n",
        "  print(\"입력값은 4~6 사이의 수가 아닙니다.\")"
      ],
      "metadata": {
        "colab": {
          "base_uri": "https://localhost:8080/"
        },
        "id": "5rp0wrsnIXnP",
        "outputId": "659cf5a0-29d2-492b-e318-900b1b42e931"
      },
      "execution_count": null,
      "outputs": [
        {
          "output_type": "stream",
          "name": "stdout",
          "text": [
            "Enter a number : 4\n",
            "입력값은 4~6 사이의 수입니다.\n"
          ]
        }
      ]
    },
    {
      "cell_type": "code",
      "source": [
        "# O flat 코드\n",
        "x = float(input(\"Enter a number : \"))\n",
        "if x >= 4 and x <= 6:\n",
        "  print(\"입력값은 4~6 사이의 수입니다.\")\n",
        "else:\n",
        "  print(\"입력값은 4~6 사이의 수가 아닙니다.\")"
      ],
      "metadata": {
        "colab": {
          "base_uri": "https://localhost:8080/"
        },
        "id": "Sz1GWYOcWBOD",
        "outputId": "65d8a6f8-2279-4436-89fa-a11e003a1eac"
      },
      "execution_count": null,
      "outputs": [
        {
          "output_type": "stream",
          "name": "stdout",
          "text": [
            "Enter a number : 6\n",
            "입력값은 4~6 사이의 수입니다.\n"
          ]
        }
      ]
    },
    {
      "cell_type": "code",
      "source": [
        "# dense 코드\n",
        "x = 1\n",
        "if x ==1 : print(\"Hello, World!\")"
      ],
      "metadata": {
        "colab": {
          "base_uri": "https://localhost:8080/"
        },
        "id": "JeASr6X8XiAx",
        "outputId": "ea6d77b8-b602-409d-dbde-1748ddc57015"
      },
      "execution_count": null,
      "outputs": [
        {
          "output_type": "stream",
          "name": "stdout",
          "text": [
            "Hello, World!\n"
          ]
        }
      ]
    },
    {
      "cell_type": "code",
      "source": [
        "# sparse 코드\n",
        "x = 1\n",
        "if x == 1 :\n",
        "  print(\"Hello, World!\")"
      ],
      "metadata": {
        "colab": {
          "base_uri": "https://localhost:8080/"
        },
        "id": "QH7v3I1kZzfS",
        "outputId": "bda1f891-c171-40ed-a769-b1c8e455328e"
      },
      "execution_count": null,
      "outputs": [
        {
          "output_type": "stream",
          "name": "stdout",
          "text": [
            "Hello, World!\n"
          ]
        }
      ]
    },
    {
      "cell_type": "code",
      "source": [
        "# 가독성 없는 코드\n",
        "def f(i):\n",
        "  l = i + (0.08 * i)\n",
        "  return l"
      ],
      "metadata": {
        "id": "bP7dJqfXZ7es"
      },
      "execution_count": null,
      "outputs": []
    },
    {
      "cell_type": "code",
      "source": [
        "# 가독성 있는 코드\n",
        "def calculate_gross_price(net_price):\n",
        "  gross_price = net_price +( 0.08 * net_price)\n",
        "  return gross_price"
      ],
      "metadata": {
        "id": "n1EQXJ_lcJw7"
      },
      "execution_count": null,
      "outputs": []
    },
    {
      "cell_type": "code",
      "source": [
        "# X 일관성 없는 코드\n",
        "def multiply_two_number(first_number, second_number):\n",
        "  return first_number * second_number\n",
        "\n",
        "def addingTwoNumber(firstNumber, secondNumber):\n",
        "  return firstNumber + secondNumber\n",
        "\n",
        "print(multiply_two_number(10, 20))\n",
        "print(addingTwoNumber(10, 20))"
      ],
      "metadata": {
        "colab": {
          "base_uri": "https://localhost:8080/"
        },
        "id": "FEqqbGQGce2k",
        "outputId": "c71d84d8-2687-4022-f95e-ec2f2b62a622"
      },
      "execution_count": null,
      "outputs": [
        {
          "output_type": "stream",
          "name": "stdout",
          "text": [
            "200\n",
            "30\n"
          ]
        }
      ]
    },
    {
      "cell_type": "code",
      "source": [
        "# O 일관성 있는 코드\n",
        "def multiply_two_numbers(first_number, second_number):\n",
        "  return first_number * second_number\n",
        "\n",
        "def add_two_numbers(first_number, second_number):\n",
        "  return first_number + second_number\n",
        "\n",
        "print(multiply_two_numbers(10, 20))\n",
        "print(add_two_numbers(10, 20))"
      ],
      "metadata": {
        "colab": {
          "base_uri": "https://localhost:8080/"
        },
        "id": "i9Y3myvgdvs-",
        "outputId": "a5bcf598-818b-4754-eb59-f3d0b499c436"
      },
      "execution_count": null,
      "outputs": [
        {
          "output_type": "stream",
          "name": "stdout",
          "text": [
            "200\n",
            "30\n"
          ]
        }
      ]
    },
    {
      "cell_type": "code",
      "source": [
        "# 코드 분석\n",
        "number = input(\"숫자를 입력하세요.\")\n",
        "multiply_number_by_two = number * 2\n",
        "print(\"입력값 X 2 =\",multiply_number_by_two)"
      ],
      "metadata": {
        "colab": {
          "base_uri": "https://localhost:8080/"
        },
        "id": "vjYDUbtLd_do",
        "outputId": "fcb66faa-27a9-4c10-fcde-6c5822ad7b0a"
      },
      "execution_count": null,
      "outputs": [
        {
          "output_type": "stream",
          "name": "stdout",
          "text": [
            "숫자를 입력하세요.2\n",
            "입력값 X 2 = 22\n"
          ]
        }
      ]
    },
    {
      "cell_type": "code",
      "source": [
        "number = int(input(\"숫자를 입력하세요.\"))\n",
        "multiply_number_by_two = number * 2\n",
        "print(\"입력값 X 2 =\",multiply_number_by_two)"
      ],
      "metadata": {
        "colab": {
          "base_uri": "https://localhost:8080/"
        },
        "id": "oVo6ZmIMgLtu",
        "outputId": "999bd95c-6276-457c-a0bd-5ddd4b869997"
      },
      "execution_count": null,
      "outputs": [
        {
          "output_type": "stream",
          "name": "stdout",
          "text": [
            "숫자를 입력하세요.5\n",
            "입력값 X 2 = 10\n"
          ]
        }
      ]
    },
    {
      "cell_type": "code",
      "source": [
        "# X 예외를 광범위하게 처리하는 경우\n",
        "try :\n",
        "  print(1/0)\n",
        "except Exception as e:\n",
        "  pass"
      ],
      "metadata": {
        "id": "EvAo9PMngww3"
      },
      "execution_count": null,
      "outputs": []
    },
    {
      "cell_type": "code",
      "source": [
        "# O 특정 종류의 오류를 처리하는 개선안\n",
        "try :\n",
        "  print(1/0)\n",
        "except ZeroDivisionError:\n",
        "  print(\"0으로 나눌 수 없다.\")"
      ],
      "metadata": {
        "colab": {
          "base_uri": "https://localhost:8080/"
        },
        "id": "vAEN0W9fiDtL",
        "outputId": "4978b1ff-cd92-4855-dcb3-7654cbb04018"
      },
      "execution_count": null,
      "outputs": [
        {
          "output_type": "stream",
          "name": "stdout",
          "text": [
            "0으로 나눌 수 없다.\n"
          ]
        }
      ]
    },
    {
      "cell_type": "code",
      "source": [
        "try:\n",
        "  number = int(input(\"정수형 숫자를 입력하세요 :\"))\n",
        "except:\n",
        "  number = 0\n",
        "print(number)"
      ],
      "metadata": {
        "colab": {
          "base_uri": "https://localhost:8080/"
        },
        "id": "uC7_a3tOiRqv",
        "outputId": "4cfa4aa1-401c-4b2d-d9d4-dca9b2aa392f"
      },
      "execution_count": null,
      "outputs": [
        {
          "output_type": "stream",
          "name": "stdout",
          "text": [
            "정수형 숫자를 입력하세요 :1.5\n",
            "0\n"
          ]
        }
      ]
    },
    {
      "cell_type": "code",
      "source": [
        "# 모호함을 확정짓지 말것\n",
        "def fun(x=0, y=0, z=0, a=1, b=2, c=3):\n",
        "  pass"
      ],
      "metadata": {
        "id": "0OT4NkxQi5QA"
      },
      "execution_count": null,
      "outputs": []
    },
    {
      "cell_type": "code",
      "source": [
        "fun(1,2,3)\n",
        "fun(a=2, b=4, c=6)"
      ],
      "metadata": {
        "id": "iRbMuU8YmgDI"
      },
      "execution_count": null,
      "outputs": []
    },
    {
      "cell_type": "code",
      "source": [
        "#한가지의 명확한 방법으로\n",
        "first_name = input(\"Enter your first name :\")\n",
        "last_name = input(\"Enter your last name :\")\n",
        "\n",
        "print(\"Hello,\", first_name, last_name)\n",
        "print(\"Hello,\", first_name +\" \"+last_name)\n",
        "print(\"Hello, {} {}\".format(first_name,last_name))"
      ],
      "metadata": {
        "id": "F7V2rnlBmmHj",
        "colab": {
          "base_uri": "https://localhost:8080/"
        },
        "outputId": "b394c78f-37e6-4281-9083-c3b729c5636e"
      },
      "execution_count": 1,
      "outputs": [
        {
          "output_type": "stream",
          "name": "stdout",
          "text": [
            "Enter your first name :Hyemi\n",
            "Enter your last name :Jeong\n",
            "Hello, Hyemi Jeong\n",
            "Hello, Hyemi Jeong\n",
            "Hello, Hyemi Jeong\n"
          ]
        }
      ]
    },
    {
      "cell_type": "code",
      "source": [
        "# 네임 스페이스 활용 X\n",
        "import math\n",
        "\n",
        "# 이 파일 내에서 정의된 PI (math 모듈의 PI와 충돌하지 않음)\n",
        "local_pi = 3.14\n",
        "\n",
        "def calculate_circumference_local(radius):\n",
        "    return 2 * local_pi * radius\n",
        "\n",
        "def calculate_circumference_math(radius):\n",
        "    return 2 * math.pi * radius # math.pi로 명확하게 출처를 밝힘\n",
        "\n",
        "radius = 5\n",
        "\n",
        "print(f\"로컬 PI ({local_pi})로 계산한 원주: {calculate_circumference_local(radius)}\")\n",
        "print(f\"math.pi ({math.pi})로 계산한 원주: {calculate_circumference_math(radius)}\")\n",
        "\n",
        "# math 모듈의 다른 함수들도 math. 접두어를 사용하여 접근\n",
        "print(f\"math.sqrt(25): {math.sqrt(25)}\")"
      ],
      "metadata": {
        "colab": {
          "base_uri": "https://localhost:8080/"
        },
        "id": "E1AhqGijwUnK",
        "outputId": "ec3c8db5-5762-4e2b-f22e-47fc9606346e"
      },
      "execution_count": 1,
      "outputs": [
        {
          "output_type": "stream",
          "name": "stdout",
          "text": [
            "로컬 PI (3.14)로 계산한 원주: 31.400000000000002\n",
            "math.pi (3.141592653589793)로 계산한 원주: 31.41592653589793\n",
            "math.sqrt(25): 5.0\n"
          ]
        }
      ]
    },
    {
      "cell_type": "code",
      "source": [
        "# 예제 2: from math import pi\n",
        "from math import pi # math 모듈에서 pi만 현재 네임스페이스로 가져옴\n",
        "\n",
        "# 현재 파일 내에서 PI를 다시 정의하면 임포트한 pi를 덮어씀\n",
        "# pi = 3.14159 # 이렇게 하면 위에 임포트한 math.pi는 더 이상 접근 불가능\n",
        "\n",
        "def calculate_circumference_imported(radius):\n",
        "    \"\"\"math 모듈에서 임포트한 pi를 직접 사용하여 원주를 계산합니다.\"\"\"\n",
        "    return 2 * pi * radius # math. 접두어 없이 pi 사용\n",
        "\n",
        "radius = 5\n",
        "\n",
        "# 임포트된 pi를 직접 사용\n",
        "print(f\"임포트된 pi ({pi})로 계산한 원주: {calculate_circumference_imported(radius)}\")\n",
        "\n",
        "# math 모듈의 다른 함수(예: sqrt)는 직접 임포트하지 않았으므로 사용 불가\n",
        "# print(f\"sqrt(25): {sqrt(25)}\") # NameError 발생: name 'sqrt' is not defined\n",
        "\n",
        "# 만약 이 아래에서 pi를 다시 정의한다면 위에 임포트했던 pi는 덮어씌워짐.\n",
        "# 예를 들어 pi = 3.14 라고 하면, 이후부터는 3.14가 사용됩니다."
      ],
      "metadata": {
        "colab": {
          "base_uri": "https://localhost:8080/"
        },
        "id": "WzaTYleXVO6Y",
        "outputId": "435cc73a-a57b-4a36-cc99-b51f76aa1627"
      },
      "execution_count": 2,
      "outputs": [
        {
          "output_type": "stream",
          "name": "stdout",
          "text": [
            "임포트된 pi (3.141592653589793)로 계산한 원주: 31.41592653589793\n"
          ]
        }
      ]
    },
    {
      "cell_type": "code",
      "source": [],
      "metadata": {
        "id": "TKB0s6ffV-4b"
      },
      "execution_count": null,
      "outputs": []
    }
  ]
}