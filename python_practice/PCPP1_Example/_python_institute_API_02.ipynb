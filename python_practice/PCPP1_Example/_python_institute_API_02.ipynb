{
 "nbformat": 4,
 "nbformat_minor": 0,
 "metadata": {
  "colab": {
   "provenance": [],
   "authorship_tag": "ABX9TyMkCjcviy0jo77/34fGmVFD",
   "include_colab_link": true
  },
  "kernelspec": {
   "name": "python3",
   "display_name": "Python 3"
  },
  "language_info": {
   "name": "python"
  }
 },
 "cells": [
  {
   "cell_type": "markdown",
   "metadata": {
    "id": "view-in-github",
    "colab_type": "text"
   },
   "source": [
    "<a href=\"https://colab.research.google.com/github/hyemiJ/data-dynamics/blob/main/python_practice/_python_institute_API_02.ipynb\" target=\"_parent\"><img src=\"https://colab.research.google.com/assets/colab-badge.svg\" alt=\"Open In Colab\"/></a>"
   ]
  },
  {
   "cell_type": "code",
   "execution_count": 2,
   "metadata": {
    "id": "Qg8ss9seEI_Q"
   },
   "outputs": [],
   "source": [
    "#JSON 모듈\n",
    "import json"
   ]
  },
  {
   "cell_type": "code",
   "source": [
    "# 복잡한 단일 문자\n",
    "import json\n",
    "\n",
    "comics = '\"The Meaning of Life\" by Monty Python\\'s Flying Circus'\n",
    "json_comics = json.dumps(comics)\n",
    "print(json_comics)"
   ],
   "metadata": {
    "colab": {
     "base_uri": "https://localhost:8080/"
    },
    "id": "crj_5_8qEKrP",
    "outputId": "5194f13e-74cb-489d-e3da-29f3099b3b97"
   },
   "execution_count": 3,
   "outputs": [
    {
     "output_type": "stream",
     "name": "stdout",
     "text": [
      "\"\\\"The Meaning of Life\\\" by Monty Python's Flying Circus\"\n"
     ]
    }
   ]
  },
  {
   "cell_type": "code",
   "source": [
    "# list\n",
    "import json\n",
    "\n",
    "my_list = [1, 2.34, True, \"False\", None, ['a', 0]]\n",
    "json_list = json.dumps(my_list)\n",
    "print(json_list)"
   ],
   "metadata": {
    "colab": {
     "base_uri": "https://localhost:8080/"
    },
    "id": "fLou8sIGFggj",
    "outputId": "a617bcca-d4ef-440f-ecff-69a5ecea4651"
   },
   "execution_count": 5,
   "outputs": [
    {
     "output_type": "stream",
     "name": "stdout",
     "text": [
      "[1, 2.34, true, \"False\", null, [\"a\", 0]]\n"
     ]
    }
   ]
  },
  {
   "cell_type": "code",
   "source": [
    "#tuple\n",
    "import json\n",
    "\n",
    "my_tuple = (1, 2.34, True, \"False\", None, ['a', 0])\n",
    "json_tuple = json.dumps(my_tuple)\n",
    "print(json_tuple)"
   ],
   "metadata": {
    "colab": {
     "base_uri": "https://localhost:8080/"
    },
    "id": "LHuzwnttF08c",
    "outputId": "98916a1d-d106-47ca-a976-e8346923ee7e"
   },
   "execution_count": 6,
   "outputs": [
    {
     "output_type": "stream",
     "name": "stdout",
     "text": [
      "[1, 2.34, true, \"False\", null, [\"a\", 0]]\n"
     ]
    }
   ]
  },
  {
   "cell_type": "code",
   "source": [
    "#dictionary\n",
    "import json\n",
    "\n",
    "my_dict = {'a': 1, 'b': 2.34, 'c': True, 'd': \"False\", 'e': None, 'f': ['a', 0]}\n",
    "json_dict = json.dumps(my_dict)\n",
    "print(json_dict)"
   ],
   "metadata": {
    "colab": {
     "base_uri": "https://localhost:8080/"
    },
    "id": "i-cHrgGjGqgH",
    "outputId": "5937f786-772c-47dc-f04e-7a6c04707fba"
   },
   "execution_count": 7,
   "outputs": [
    {
     "output_type": "stream",
     "name": "stdout",
     "text": [
      "{\"a\": 1, \"b\": 2.34, \"c\": true, \"d\": \"False\", \"e\": null, \"f\": [\"a\", 0]}\n"
     ]
    }
   ]
  },
  {
   "cell_type": "code",
   "source": [
    "#class\n",
    "import json\n",
    "\n",
    "\n",
    "class Person:\n",
    "  def __init__(self, name, age):\n",
    "    self.name = name\n",
    "    self.age = age\n",
    "\n",
    "p = Person('Bob', 42)\n",
    "json_p = json.dumps(p)\n",
    "print(json_p)"
   ],
   "metadata": {
    "colab": {
     "base_uri": "https://localhost:8080/",
     "height": 391
    },
    "id": "DsC0emdRGcEK",
    "outputId": "c467e880-a259-4482-c479-14aceb92b294"
   },
   "execution_count": 8,
   "outputs": [
    {
     "output_type": "error",
     "ename": "TypeError",
     "evalue": "Object of type Person is not JSON serializable",
     "traceback": [
      "\u001B[0;31m---------------------------------------------------------------------------\u001B[0m",
      "\u001B[0;31mTypeError\u001B[0m                                 Traceback (most recent call last)",
      "\u001B[0;32m/tmp/ipython-input-8-3535271981.py\u001B[0m in \u001B[0;36m<cell line: 0>\u001B[0;34m()\u001B[0m\n\u001B[1;32m      8\u001B[0m \u001B[0;34m\u001B[0m\u001B[0m\n\u001B[1;32m      9\u001B[0m \u001B[0mp\u001B[0m \u001B[0;34m=\u001B[0m \u001B[0mPerson\u001B[0m\u001B[0;34m(\u001B[0m\u001B[0;34m'Bob'\u001B[0m\u001B[0;34m,\u001B[0m \u001B[0;36m42\u001B[0m\u001B[0;34m)\u001B[0m\u001B[0;34m\u001B[0m\u001B[0;34m\u001B[0m\u001B[0m\n\u001B[0;32m---> 10\u001B[0;31m \u001B[0mjson_p\u001B[0m \u001B[0;34m=\u001B[0m \u001B[0mjson\u001B[0m\u001B[0;34m.\u001B[0m\u001B[0mdumps\u001B[0m\u001B[0;34m(\u001B[0m\u001B[0mp\u001B[0m\u001B[0;34m)\u001B[0m\u001B[0;34m\u001B[0m\u001B[0;34m\u001B[0m\u001B[0m\n\u001B[0m\u001B[1;32m     11\u001B[0m \u001B[0mprint\u001B[0m\u001B[0;34m(\u001B[0m\u001B[0mjson_p\u001B[0m\u001B[0;34m)\u001B[0m\u001B[0;34m\u001B[0m\u001B[0;34m\u001B[0m\u001B[0m\n",
      "\u001B[0;32m/usr/lib/python3.11/json/__init__.py\u001B[0m in \u001B[0;36mdumps\u001B[0;34m(obj, skipkeys, ensure_ascii, check_circular, allow_nan, cls, indent, separators, default, sort_keys, **kw)\u001B[0m\n\u001B[1;32m    229\u001B[0m         \u001B[0mcls\u001B[0m \u001B[0;32mis\u001B[0m \u001B[0;32mNone\u001B[0m \u001B[0;32mand\u001B[0m \u001B[0mindent\u001B[0m \u001B[0;32mis\u001B[0m \u001B[0;32mNone\u001B[0m \u001B[0;32mand\u001B[0m \u001B[0mseparators\u001B[0m \u001B[0;32mis\u001B[0m \u001B[0;32mNone\u001B[0m \u001B[0;32mand\u001B[0m\u001B[0;34m\u001B[0m\u001B[0;34m\u001B[0m\u001B[0m\n\u001B[1;32m    230\u001B[0m         default is None and not sort_keys and not kw):\n\u001B[0;32m--> 231\u001B[0;31m         \u001B[0;32mreturn\u001B[0m \u001B[0m_default_encoder\u001B[0m\u001B[0;34m.\u001B[0m\u001B[0mencode\u001B[0m\u001B[0;34m(\u001B[0m\u001B[0mobj\u001B[0m\u001B[0;34m)\u001B[0m\u001B[0;34m\u001B[0m\u001B[0;34m\u001B[0m\u001B[0m\n\u001B[0m\u001B[1;32m    232\u001B[0m     \u001B[0;32mif\u001B[0m \u001B[0mcls\u001B[0m \u001B[0;32mis\u001B[0m \u001B[0;32mNone\u001B[0m\u001B[0;34m:\u001B[0m\u001B[0;34m\u001B[0m\u001B[0;34m\u001B[0m\u001B[0m\n\u001B[1;32m    233\u001B[0m         \u001B[0mcls\u001B[0m \u001B[0;34m=\u001B[0m \u001B[0mJSONEncoder\u001B[0m\u001B[0;34m\u001B[0m\u001B[0;34m\u001B[0m\u001B[0m\n",
      "\u001B[0;32m/usr/lib/python3.11/json/encoder.py\u001B[0m in \u001B[0;36mencode\u001B[0;34m(self, o)\u001B[0m\n\u001B[1;32m    198\u001B[0m         \u001B[0;31m# exceptions aren't as detailed.  The list call should be roughly\u001B[0m\u001B[0;34m\u001B[0m\u001B[0;34m\u001B[0m\u001B[0m\n\u001B[1;32m    199\u001B[0m         \u001B[0;31m# equivalent to the PySequence_Fast that ''.join() would do.\u001B[0m\u001B[0;34m\u001B[0m\u001B[0;34m\u001B[0m\u001B[0m\n\u001B[0;32m--> 200\u001B[0;31m         \u001B[0mchunks\u001B[0m \u001B[0;34m=\u001B[0m \u001B[0mself\u001B[0m\u001B[0;34m.\u001B[0m\u001B[0miterencode\u001B[0m\u001B[0;34m(\u001B[0m\u001B[0mo\u001B[0m\u001B[0;34m,\u001B[0m \u001B[0m_one_shot\u001B[0m\u001B[0;34m=\u001B[0m\u001B[0;32mTrue\u001B[0m\u001B[0;34m)\u001B[0m\u001B[0;34m\u001B[0m\u001B[0;34m\u001B[0m\u001B[0m\n\u001B[0m\u001B[1;32m    201\u001B[0m         \u001B[0;32mif\u001B[0m \u001B[0;32mnot\u001B[0m \u001B[0misinstance\u001B[0m\u001B[0;34m(\u001B[0m\u001B[0mchunks\u001B[0m\u001B[0;34m,\u001B[0m \u001B[0;34m(\u001B[0m\u001B[0mlist\u001B[0m\u001B[0;34m,\u001B[0m \u001B[0mtuple\u001B[0m\u001B[0;34m)\u001B[0m\u001B[0;34m)\u001B[0m\u001B[0;34m:\u001B[0m\u001B[0;34m\u001B[0m\u001B[0;34m\u001B[0m\u001B[0m\n\u001B[1;32m    202\u001B[0m             \u001B[0mchunks\u001B[0m \u001B[0;34m=\u001B[0m \u001B[0mlist\u001B[0m\u001B[0;34m(\u001B[0m\u001B[0mchunks\u001B[0m\u001B[0;34m)\u001B[0m\u001B[0;34m\u001B[0m\u001B[0;34m\u001B[0m\u001B[0m\n",
      "\u001B[0;32m/usr/lib/python3.11/json/encoder.py\u001B[0m in \u001B[0;36miterencode\u001B[0;34m(self, o, _one_shot)\u001B[0m\n\u001B[1;32m    256\u001B[0m                 \u001B[0mself\u001B[0m\u001B[0;34m.\u001B[0m\u001B[0mkey_separator\u001B[0m\u001B[0;34m,\u001B[0m \u001B[0mself\u001B[0m\u001B[0;34m.\u001B[0m\u001B[0mitem_separator\u001B[0m\u001B[0;34m,\u001B[0m \u001B[0mself\u001B[0m\u001B[0;34m.\u001B[0m\u001B[0msort_keys\u001B[0m\u001B[0;34m,\u001B[0m\u001B[0;34m\u001B[0m\u001B[0;34m\u001B[0m\u001B[0m\n\u001B[1;32m    257\u001B[0m                 self.skipkeys, _one_shot)\n\u001B[0;32m--> 258\u001B[0;31m         \u001B[0;32mreturn\u001B[0m \u001B[0m_iterencode\u001B[0m\u001B[0;34m(\u001B[0m\u001B[0mo\u001B[0m\u001B[0;34m,\u001B[0m \u001B[0;36m0\u001B[0m\u001B[0;34m)\u001B[0m\u001B[0;34m\u001B[0m\u001B[0;34m\u001B[0m\u001B[0m\n\u001B[0m\u001B[1;32m    259\u001B[0m \u001B[0;34m\u001B[0m\u001B[0m\n\u001B[1;32m    260\u001B[0m def _make_iterencode(markers, _default, _encoder, _indent, _floatstr,\n",
      "\u001B[0;32m/usr/lib/python3.11/json/encoder.py\u001B[0m in \u001B[0;36mdefault\u001B[0;34m(self, o)\u001B[0m\n\u001B[1;32m    178\u001B[0m \u001B[0;34m\u001B[0m\u001B[0m\n\u001B[1;32m    179\u001B[0m         \"\"\"\n\u001B[0;32m--> 180\u001B[0;31m         raise TypeError(f'Object of type {o.__class__.__name__} '\n\u001B[0m\u001B[1;32m    181\u001B[0m                         f'is not JSON serializable')\n\u001B[1;32m    182\u001B[0m \u001B[0;34m\u001B[0m\u001B[0m\n",
      "\u001B[0;31mTypeError\u001B[0m: Object of type Person is not JSON serializable"
     ]
    }
   ]
  },
  {
   "cell_type": "code",
   "source": [
    "#class 해결 방안 1\n",
    "import json\n",
    "\n",
    "\n",
    "class Person:\n",
    "  def __init__(self, name, age):\n",
    "    self.name = name\n",
    "    self.age = age\n",
    "\n",
    "p = Person('Bob', 42)\n",
    "json_p = json.dumps(p.__dict__)\n",
    "print(json_p)"
   ],
   "metadata": {
    "colab": {
     "base_uri": "https://localhost:8080/"
    },
    "id": "hZ8xdcMHHnFd",
    "outputId": "e383e0c3-a7f8-46d7-b9e8-f62eb5f393ee"
   },
   "execution_count": 1,
   "outputs": [
    {
     "output_type": "stream",
     "name": "stdout",
     "text": [
      "{\"name\": \"Bob\", \"age\": 42}\n"
     ]
    }
   ]
  },
  {
   "cell_type": "code",
   "source": [
    "import json\n",
    "\n",
    "\n",
    "class Person:\n",
    "  def __init__(self, name, age):\n",
    "    self.name = name\n",
    "    self.age = age\n",
    "\n",
    "def encode_person(o):\n",
    "  if isinstance(o, Person):\n",
    "    return o.__dict__\n",
    "  else:\n",
    "    raise TypeError(f'Object of type {o.__class__.__name__} is not JSON serializable')\n",
    "\n",
    "p = Person('Bob', 42)\n",
    "json_p = json.dumps(p, default=encode_person)\n",
    "print(json_p)"
   ],
   "metadata": {
    "colab": {
     "base_uri": "https://localhost:8080/"
    },
    "id": "yEFUxl43hhxa",
    "outputId": "102f2ed9-d788-4d19-dab8-af5c9fe35129"
   },
   "execution_count": 2,
   "outputs": [
    {
     "output_type": "stream",
     "name": "stdout",
     "text": [
      "{\"name\": \"Bob\", \"age\": 42}\n"
     ]
    }
   ]
  },
  {
   "cell_type": "code",
   "source": [
    "#class 해결 방안\n",
    "import json\n",
    "\n",
    "\n",
    "class Person:\n",
    "  def __init__(self, name, age):\n",
    "    self.name = name\n",
    "    self.age = age\n",
    "\n",
    "class Encoder(json.JSONEncoder):\n",
    "  def default(self, o):\n",
    "    if isinstance(o, Person):\n",
    "      return o.__dict__\n",
    "    else:\n",
    "      return super().default(self, o)\n",
    "\n",
    "p = Person('Bob', 42)\n",
    "json_p = json.dumps(p, cls=Encoder)\n",
    "print(json_p)"
   ],
   "metadata": {
    "colab": {
     "base_uri": "https://localhost:8080/"
    },
    "id": "AcBodPAXiV2d",
    "outputId": "5a3469a5-7c88-47b9-e90e-a8e02e1c5478"
   },
   "execution_count": 3,
   "outputs": [
    {
     "output_type": "stream",
     "name": "stdout",
     "text": [
      "{\"name\": \"Bob\", \"age\": 42}\n"
     ]
    }
   ]
  },
  {
   "cell_type": "code",
   "source": [
    "# JSON -> Python\n",
    "import json\n",
    "\n",
    "class Person:\n",
    "  def __init__(self, name, age):\n",
    "    self.name = name\n",
    "    self.age = age\n",
    "\n",
    "class Encoder(json.JSONEncoder):\n",
    "  def default(self, o):\n",
    "    if isinstance(o, Person):\n",
    "      return o.__dict__\n",
    "    else:\n",
    "      return super().default(self, o)\n",
    "\n",
    "print(\"====== Python -> JSON ======\")\n",
    "p = Person('Bob', 42)\n",
    "json_p = json.dumps(p, cls=Encoder)\n",
    "print(json_p)\n",
    "print(f\"type : {type(json_p)}\")\n",
    "\n",
    "print(\"====== JSON -> Python ======\")\n",
    "dict_p = json.loads(json_p)\n",
    "print(dict_p)\n",
    "print(f\"type : {type(dict_p)}\")"
   ],
   "metadata": {
    "colab": {
     "base_uri": "https://localhost:8080/"
    },
    "id": "ne_mQ5trl1bo",
    "outputId": "23352acd-e854-411a-ec7a-15ec2440169f"
   },
   "execution_count": 9,
   "outputs": [
    {
     "output_type": "stream",
     "name": "stdout",
     "text": [
      "====== Python -> JSON ======\n",
      "{\"name\": \"Bob\", \"age\": 42}\n",
      "type : <class 'str'>\n",
      "====== JSON -> Python ======\n",
      "{'name': 'Bob', 'age': 42}\n",
      "type : <class 'dict'>\n"
     ]
    }
   ]
  },
  {
   "cell_type": "code",
   "source": [
    "#load() 더 살펴보기\n",
    "# 복잡한 단일 문자\n",
    "import json\n",
    "\n",
    "strange_str = '\"\\\\\"The Meaning of Life\\\\\" by Monty Python\\'s Flying Circus\"'\n",
    "print(\"load()전의 문자열 :\",strange_str)\n",
    "json_load_str = json.loads(strange_str)\n",
    "print(\"load()후의 문자열 :\",json_load_str)\n",
    "print(type(json_load_str))"
   ],
   "metadata": {
    "colab": {
     "base_uri": "https://localhost:8080/"
    },
    "id": "c_PA-7bhmkRJ",
    "outputId": "3d1861da-2454-4991-9012-2ec9884a9a42"
   },
   "execution_count": 16,
   "outputs": [
    {
     "output_type": "stream",
     "name": "stdout",
     "text": [
      "load()전의 문자열 : \"\\\"The Meaning of Life\\\" by Monty Python's Flying Circus\"\n",
      "load()후의 문자열 : \"The Meaning of Life\" by Monty Python's Flying Circus\n",
      "<class 'str'>\n"
     ]
    }
   ]
  },
  {
   "cell_type": "code",
   "source": [
    "# 리스트\n",
    "import json\n",
    "\n",
    "\n",
    "my_list = '[1, 2.34, true, \"False\", null, [\"a\", 0]]'\n",
    "print(\"load()전의 JSON 배열 문자열 :\",my_list)\n",
    "\n",
    "json_load_list = json.loads(my_list)\n",
    "print(\"load()후의 Python 리스트 :\",json_load_list)\n",
    "print(type(json_load_list))"
   ],
   "metadata": {
    "colab": {
     "base_uri": "https://localhost:8080/"
    },
    "id": "CP9dKxbyoCk7",
    "outputId": "7be13204-13ea-47da-a78e-c46d4de8d04a"
   },
   "execution_count": 18,
   "outputs": [
    {
     "output_type": "stream",
     "name": "stdout",
     "text": [
      "load()전의 JSON 배열 문자열 : [1, 2.34, true, \"False\", null, [\"a\", 0]]\n",
      "load()후의 Python 리스트 : [1, 2.34, True, 'False', None, ['a', 0]]\n",
      "<class 'list'>\n"
     ]
    }
   ]
  },
  {
   "cell_type": "code",
   "source": [
    "# 딕셔너리\n",
    "import json\n",
    "\n",
    "\n",
    "my_dict = '{\"a\": 1, \"b\": 2.34, \"c\": true, \"d\": \"False\", \"e\": null, \"f\": [\"a\", 0]}'\n",
    "print(\"load()전의 JSON 딕셔너리 문자열 :\",my_dict)\n",
    "\n",
    "json_load_dict = json.loads(my_dict)\n",
    "print(\"load()후의 Python 딕셔너리 :\",json_load_dict)\n",
    "print(type(json_load_dict))"
   ],
   "metadata": {
    "colab": {
     "base_uri": "https://localhost:8080/"
    },
    "id": "OufSmWR4pu6o",
    "outputId": "7dfb803a-e136-4d15-fb4f-3ed6b1dd8e58"
   },
   "execution_count": 24,
   "outputs": [
    {
     "output_type": "stream",
     "name": "stdout",
     "text": [
      "load()전의 JSON 딕셔너리 문자열 : {\"a\": 1, \"b\": 2.34, \"c\": true, \"d\": \"False\", \"e\": null, \"f\": [\"a\", 0]}\n",
      "load()후의 Python 딕셔너리 : {'a': 1, 'b': 2.34, 'c': True, 'd': 'False', 'e': None, 'f': ['a', 0]}\n",
      "<class 'dict'>\n"
     ]
    }
   ]
  },
  {
   "cell_type": "code",
   "source": [
    "# 클래스 객체\n",
    "import json\n",
    "\n",
    "\n",
    "class Person:\n",
    "  def __init__(self, name, age):\n",
    "    self.name = name\n",
    "    self.age = age\n",
    "\n",
    "def encode_person(o):\n",
    "  if isinstance(o, Person):\n",
    "    return o.__dict__\n",
    "  else:\n",
    "    raise TypeError(f'Object of type {o.__class__.__name__} is not JSON serializable')\n",
    "\n",
    "def decode_person(o):\n",
    "  return Person(o['name'], o['age'])\n",
    "\n",
    "print(\"====== Python -> JSON ======\")\n",
    "person = Person('Bob', 42)\n",
    "json_person = json.dumps(person, default=encode_person)\n",
    "print(\"json_person :\",json_person)\n",
    "print(\"type :\",type(json_person))\n",
    "\n",
    "print(\"====== JSON -> Python ======\")\n",
    "new_person = json.loads(json_person, object_hook=decode_person)\n",
    "print(\"new_person :\",new_person.__dict__)\n",
    "print(\"type :\",type(new_person))"
   ],
   "metadata": {
    "colab": {
     "base_uri": "https://localhost:8080/"
    },
    "id": "H8o0X8QGqnoc",
    "outputId": "d353894f-1a8e-4679-e0e5-4282f425ad09"
   },
   "execution_count": 33,
   "outputs": [
    {
     "output_type": "stream",
     "name": "stdout",
     "text": [
      "====== Python -> JSON ======\n",
      "json_person : {\"name\": \"Bob\", \"age\": 42}\n",
      "type : <class 'str'>\n",
      "====== JSON -> Python ======\n",
      "new_person : {'name': 'Bob', 'age': 42}\n",
      "type : <class '__main__.Person'>\n"
     ]
    }
   ]
  },
  {
   "cell_type": "code",
   "source": [
    "import json\n",
    "\n",
    "\n",
    "class Person:\n",
    "  def __init__(self, name, age):\n",
    "    self.name = name\n",
    "    self.age = age\n",
    "\n",
    "class Encoder(json.JSONEncoder):\n",
    "  def default(self, o):\n",
    "    if isinstance(o, Person):\n",
    "      return o.__dict__\n",
    "    else:\n",
    "      return super().default(self, o)\n",
    "\n",
    "class Decoder(json.JSONDecoder):\n",
    "  def __init__(self):\n",
    "    json.JSONDecoder.__init__(self, object_hook=self.decode_person)\n",
    "\n",
    "  def decode_person(self, o):\n",
    "    return Person(**o)\n",
    "\n",
    "print(\"====== Python -> JSON ======\")\n",
    "person = Person('Bob', 42)\n",
    "json_person = json.dumps(person, cls=Encoder)\n",
    "print(\"json_person :\",json_person)\n",
    "print(\"type :\",type(json_person))\n",
    "\n",
    "print(\"====== JSON -> Python ======\")\n",
    "new_person = json.loads(json_person, cls=Decoder)\n",
    "print(\"new_person :\",new_person.__dict__)\n",
    "print(\"type :\",type(new_person))"
   ],
   "metadata": {
    "colab": {
     "base_uri": "https://localhost:8080/"
    },
    "id": "BT99w0v0spGd",
    "outputId": "f5acaa27-eb87-4ec6-9b95-14b641b38369"
   },
   "execution_count": 35,
   "outputs": [
    {
     "output_type": "stream",
     "name": "stdout",
     "text": [
      "====== Python -> JSON ======\n",
      "json_person : {\"name\": \"Bob\", \"age\": 42}\n",
      "type : <class 'str'>\n",
      "====== JSON -> Python ======\n",
      "new_person : {'name': 'Bob', 'age': 42}\n",
      "type : <class '__main__.Person'>\n"
     ]
    }
   ]
  },
  {
   "metadata": {
    "ExecuteTime": {
     "end_time": "2025-07-13T13:47:50.361892Z",
     "start_time": "2025-07-13T13:46:58.712018Z"
    }
   },
   "cell_type": "code",
   "source": "!json-server --watch resources/cars.json",
   "outputs": [
    {
     "name": "stdout",
     "output_type": "stream",
     "text": [
      "^C\n"
     ]
    }
   ],
   "execution_count": 7
  },
  {
   "metadata": {},
   "cell_type": "code",
   "outputs": [],
   "execution_count": null,
   "source": ""
  }
 ]
}
