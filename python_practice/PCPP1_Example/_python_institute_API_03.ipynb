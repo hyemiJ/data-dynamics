{
  "nbformat": 4,
  "nbformat_minor": 0,
  "metadata": {
    "colab": {
      "provenance": [],
      "authorship_tag": "ABX9TyMN2jccp41g4VQGled8+BDB",
      "include_colab_link": true
    },
    "kernelspec": {
      "name": "python3",
      "display_name": "Python 3"
    },
    "language_info": {
      "name": "python"
    }
  },
  "cells": [
    {
      "cell_type": "markdown",
      "metadata": {
        "id": "view-in-github",
        "colab_type": "text"
      },
      "source": [
        "<a href=\"https://colab.research.google.com/github/hyemiJ/data-dynamics/blob/main/python_practice/_python_institute_API_03.ipynb\" target=\"_parent\"><img src=\"https://colab.research.google.com/assets/colab-badge.svg\" alt=\"Open In Colab\"/></a>"
      ]
    },
    {
      "cell_type": "code",
      "execution_count": 6,
      "metadata": {
        "id": "UJf73AuW67Rq"
      },
      "outputs": [],
      "source": [
        "# 예제 파일 만들기\n",
        "cars = \"\"\"<?xml version = \"1.0\" encoding = \"utf-8\"?>\n",
        "<!-- cars.xml - List of cars ready to sell -->\n",
        "<!DOCTYPE cars_for_sale SYSTEM \"cars.dtd\">\n",
        "<cars_for_sale>\n",
        "\t<car>\n",
        "    \t<id>1</id>\n",
        "        <brand>Ford</brand>\n",
        "        <model>Mustang</model>\n",
        "        <production_year>1972</production_year>\n",
        "        <price currency=\"USD\">35900</price>\n",
        "\t</car>\n",
        "    <car>\n",
        "    \t<id>2</id>\n",
        "        <brand>Aston Martin</brand>\n",
        "        <model>Rapide</model>\n",
        "        <production_year>2010</production_year>\n",
        "        <price currency=\"GBP\">32000</price>\n",
        "\t</car>\n",
        "</cars_for_sale>\n",
        "\"\"\"\n",
        "with open(\"cars.xml\", \"w\") as f:\n",
        "    f.write(cars)"
      ]
    },
    {
      "cell_type": "code",
      "source": [
        "import xml.etree.ElementTree as ET\n",
        "\n",
        "tree = ET.parse('cars.xml')\n",
        "root = tree.getroot()\n",
        "\n",
        "print(root.tag)\n",
        "\n",
        "for car in root.findall('car'):\n",
        "    print(\"\\t\",car.tag)\n",
        "    for in_car in car:\n",
        "        print(\"\\t\\t\",in_car.tag, end=\"\")\n",
        "        if in_car.tag == \"price\":\n",
        "            print(in_car.attrib, end=\"\")\n",
        "        print(\" =\", in_car.text)"
      ],
      "metadata": {
        "colab": {
          "base_uri": "https://localhost:8080/"
        },
        "id": "kIkc8cce7h4Q",
        "outputId": "e29ffe32-2d62-4b06-c087-504c0b331399"
      },
      "execution_count": 7,
      "outputs": [
        {
          "output_type": "stream",
          "name": "stdout",
          "text": [
            "cars_for_sale\n",
            "\t car\n",
            "\t\t id = 1\n",
            "\t\t brand = Ford\n",
            "\t\t model = Mustang\n",
            "\t\t production_year = 1972\n",
            "\t\t price{'currency': 'USD'} = 35900\n",
            "\t car\n",
            "\t\t id = 2\n",
            "\t\t brand = Aston Martin\n",
            "\t\t model = Rapide\n",
            "\t\t production_year = 2010\n",
            "\t\t price{'currency': 'GBP'} = 32000\n"
          ]
        }
      ]
    },
    {
      "cell_type": "code",
      "source": [
        "import xml.etree.ElementTree as ET\n",
        "\n",
        "tree = ET.parse('cars.xml')\n",
        "root = tree.getroot()\n",
        "\n",
        "for car in root.findall('car'):\n",
        "    if car.find('brand').text == \"Aston Martin\":\n",
        "        root.remove(car)\n",
        "\n",
        "new_cars = ET.Element('car')\n",
        "ET.SubElement(new_cars, 'id').text = '3'\n",
        "ET.SubElement(new_cars, 'brand').text = 'Audi'\n",
        "ET.SubElement(new_cars, 'model').text = 'A4'\n",
        "ET.SubElement(new_cars, 'production_year').text = '2018'\n",
        "ET.SubElement(new_cars, 'price', {'currency':'EUR'}).text = '45000'\n",
        "\n",
        "root.append(new_cars)\n",
        "tree.write('cars.xml')"
      ],
      "metadata": {
        "id": "bRL7_MF685zt"
      },
      "execution_count": 12,
      "outputs": []
    },
    {
      "cell_type": "code",
      "source": [
        "import xml.etree.ElementTree as ET\n",
        "\n",
        "tree = ET.parse('cars.xml')\n",
        "root = tree.getroot()\n",
        "\n",
        "print(root.tag)\n",
        "\n",
        "for car in root.findall('car'):\n",
        "    print(\"\\t\",car.tag)\n",
        "    for in_car in car:\n",
        "        print(\"\\t\\t\",in_car.tag, end=\"\")\n",
        "        if in_car.tag == \"price\":\n",
        "            print(in_car.attrib, end=\"\")\n",
        "        print(\" =\", in_car.text)"
      ],
      "metadata": {
        "colab": {
          "base_uri": "https://localhost:8080/"
        },
        "id": "TM1OZkzLFa2y",
        "outputId": "f0aecb37-2e63-428d-ef63-e74ee11a69fc"
      },
      "execution_count": 13,
      "outputs": [
        {
          "output_type": "stream",
          "name": "stdout",
          "text": [
            "cars_for_sale\n",
            "\t car\n",
            "\t\t id = 1\n",
            "\t\t brand = Ford\n",
            "\t\t model = Mustang\n",
            "\t\t production_year = 1972\n",
            "\t\t price{'currency': 'USD'} = 35900\n",
            "\t car\n",
            "\t\t id = 3\n",
            "\t\t brand = Audi\n",
            "\t\t model = A4\n",
            "\t\t production_year = 2018\n",
            "\t\t price{'currency': 'EUR'} = 45000\n"
          ]
        }
      ]
    },
    {
      "cell_type": "code",
      "source": [],
      "metadata": {
        "id": "r6KDU_F8F5h1"
      },
      "execution_count": null,
      "outputs": []
    }
  ]
}