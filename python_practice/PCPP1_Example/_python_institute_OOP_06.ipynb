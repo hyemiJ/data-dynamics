{
  "nbformat": 4,
  "nbformat_minor": 0,
  "metadata": {
    "colab": {
      "provenance": [],
      "authorship_tag": "ABX9TyM+ZXBsLj+WF6pPsUa/3SZY",
      "include_colab_link": true
    },
    "kernelspec": {
      "name": "python3",
      "display_name": "Python 3"
    },
    "language_info": {
      "name": "python"
    }
  },
  "cells": [
    {
      "cell_type": "markdown",
      "metadata": {
        "id": "view-in-github",
        "colab_type": "text"
      },
      "source": [
        "<a href=\"https://colab.research.google.com/github/hyemiJ/data-dynamics/blob/main/python_practice/_python_institute_OOP_06.ipynb\" target=\"_parent\"><img src=\"https://colab.research.google.com/assets/colab-badge.svg\" alt=\"Open In Colab\"/></a>"
      ]
    },
    {
      "cell_type": "code",
      "execution_count": 5,
      "metadata": {
        "id": "t20g2lLlL6pU"
      },
      "outputs": [],
      "source": [
        "# Composition\n",
        "class Car:\n",
        "  def __init__(self, engine):\n",
        "    self.engine = engine\n",
        "\n",
        "class GasEngine:\n",
        "  def __init__(self, horse_power):\n",
        "    self.horse_power = horse_power\n",
        "\n",
        "  def start(self):\n",
        "    print(f\"Starting {self.horse_power}hp gas engine\")\n",
        "\n",
        "class ElectricEngine:\n",
        "  def __init__(self, horse_power):\n",
        "    self.horse_power = horse_power\n",
        "\n",
        "  def start(self):\n",
        "    print(f\"Starting {self.horse_power}hp electric engine\")"
      ]
    },
    {
      "cell_type": "code",
      "source": [
        "my_car = Car(GasEngine(200))\n",
        "my_car.engine.start()\n",
        "my_car.engine = ElectricEngine(300)\n",
        "my_car.engine.start()"
      ],
      "metadata": {
        "colab": {
          "base_uri": "https://localhost:8080/"
        },
        "id": "F4Ug_GnL2RBX",
        "outputId": "548e505a-9877-45bb-ded9-4191cf49a5e5"
      },
      "execution_count": 6,
      "outputs": [
        {
          "output_type": "stream",
          "name": "stdout",
          "text": [
            "Starting 200hp gas engine\n",
            "Starting 300hp electric engine\n"
          ]
        }
      ]
    },
    {
      "cell_type": "code",
      "source": [
        "class BaseComputer:\n",
        "  def __init__(self, serial_number):\n",
        "    self.serial_number = serial_number\n",
        "\n",
        "class PersonalComputer(BaseComputer):\n",
        "  def __init__(self, serial_number, connection):\n",
        "    super().__init__(serial_number)\n",
        "    self.connection = connection"
      ],
      "metadata": {
        "id": "vuZ9UQ6j2coZ"
      },
      "execution_count": 7,
      "outputs": []
    },
    {
      "cell_type": "code",
      "source": [
        "class Connection:\n",
        "  def __init__(self, speed):\n",
        "    self.speed =speed\n",
        "\n",
        "  def download(self):\n",
        "    print(f\"Downloading at : {self.speed}\")\n",
        "    print()\n",
        "\n",
        "class DialUp(Connection):\n",
        "  def __init__(self):\n",
        "    super().__init__(\"1Mbit/s\")\n",
        "\n",
        "  def download(self):\n",
        "    print(\"Downloading with dial up\")\n",
        "    print(\"접속 번호로 전화걸기 ...\")\n",
        "    super().download()\n",
        "\n",
        "\n",
        "class ADSL(Connection):\n",
        "  def __init__(self):\n",
        "    super().__init__(\"2Mbit/s\")\n",
        "\n",
        "  def download(self):\n",
        "    print(\"Downloading with ADSL\")\n",
        "    print(\"모뎀 일어나 ...\")\n",
        "    super().download()\n",
        "\n",
        "class Ethernet(Connection):\n",
        "  def __init__(self):\n",
        "    super().__init__(\"10Mbit/s\")\n",
        "\n",
        "  def download(self):\n",
        "    print(\"Downloading with Ethernet\")\n",
        "    print(\"항상 연결되어 있습니다 ...\")\n",
        "    super().download()"
      ],
      "metadata": {
        "id": "YCcUlFNP8LrZ"
      },
      "execution_count": 12,
      "outputs": []
    },
    {
      "cell_type": "code",
      "source": [
        "computer = PersonalComputer('1995',DialUp())\n",
        "computer.connection.download()\n",
        "\n",
        "computer.connection = ADSL()\n",
        "computer.connection.download()\n",
        "\n",
        "computer.connection = Ethernet()\n",
        "computer.connection.download()"
      ],
      "metadata": {
        "colab": {
          "base_uri": "https://localhost:8080/"
        },
        "id": "sqjy4s5F8mON",
        "outputId": "f9f041cf-06e2-4e53-96db-0fc602272dbf"
      },
      "execution_count": 13,
      "outputs": [
        {
          "output_type": "stream",
          "name": "stdout",
          "text": [
            "Downloading with dial up\n",
            "접속 번호로 전화걸기 ...\n",
            "Downloading at : 1Mbit/s\n",
            "\n",
            "Downloading with ADSL\n",
            "모뎀 일어나 ...\n",
            "Downloading at : 2Mbit/s\n",
            "\n",
            "Downloading with Ethernet\n",
            "항상 연결되어 있습니다 ...\n",
            "Downloading at : 10Mbit/s\n",
            "\n"
          ]
        }
      ]
    },
    {
      "cell_type": "code",
      "source": [],
      "metadata": {
        "id": "MWr2clnY9dsE"
      },
      "execution_count": null,
      "outputs": []
    }
  ]
}