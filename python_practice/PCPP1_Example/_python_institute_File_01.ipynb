{
  "nbformat": 4,
  "nbformat_minor": 0,
  "metadata": {
    "colab": {
      "provenance": [],
      "authorship_tag": "ABX9TyM/W0bDaG9dKnKS/Zycxy1K",
      "include_colab_link": true
    },
    "kernelspec": {
      "name": "python3",
      "display_name": "Python 3"
    },
    "language_info": {
      "name": "python"
    }
  },
  "cells": [
    {
      "cell_type": "markdown",
      "metadata": {
        "id": "view-in-github",
        "colab_type": "text"
      },
      "source": [
        "<a href=\"https://colab.research.google.com/github/hyemiJ/data-dynamics/blob/main/python_practice/PCPP1_Example/_python_institute_File_01.ipynb\" target=\"_parent\"><img src=\"https://colab.research.google.com/assets/colab-badge.svg\" alt=\"Open In Colab\"/></a>"
      ]
    },
    {
      "cell_type": "code",
      "execution_count": null,
      "metadata": {
        "id": "l9ajpd-4ir1X"
      },
      "outputs": [],
      "source": [
        "#sqlite3\n",
        "\n",
        "import sqlite3"
      ]
    },
    {
      "cell_type": "code",
      "source": [
        "import sqlite3\n",
        "\n",
        "conn = sqlite3.connect('test.db')\n",
        "print(\"Opened database successfully\")"
      ],
      "metadata": {
        "colab": {
          "base_uri": "https://localhost:8080/"
        },
        "id": "7L4LK-vSlVkr",
        "outputId": "e89257d9-9211-4646-a910-b6ce8c541c9b"
      },
      "execution_count": null,
      "outputs": [
        {
          "output_type": "stream",
          "name": "stdout",
          "text": [
            "Opened database successfully\n"
          ]
        }
      ]
    },
    {
      "cell_type": "code",
      "source": [
        "conn = sqlite3.connect(\"C:\\sqlite\\db\\pythonsqlite.db\")"
      ],
      "metadata": {
        "id": "_oLh5_Kvld0R"
      },
      "execution_count": null,
      "outputs": []
    },
    {
      "cell_type": "code",
      "source": [
        "conn = sqlite3.connect(':memory:')"
      ],
      "metadata": {
        "id": "GqQjX9TPm9lI"
      },
      "execution_count": null,
      "outputs": []
    },
    {
      "cell_type": "code",
      "source": [
        "import sqlite3\n",
        "\n",
        "\n",
        "conn = sqlite3.connect('todo.db')\n",
        "sql = \"\"\"CREATE TABLE todo(\n",
        "    id INTEGER PRIMARY KEY,\n",
        "    name TEXT NOT NULL,\n",
        "    priority INTEGER NOT NULL\n",
        ")\"\"\"\n",
        "cursor = conn.cursor()\n",
        "cursor.execute(sql)"
      ],
      "metadata": {
        "colab": {
          "base_uri": "https://localhost:8080/"
        },
        "id": "qijWacelnh3S",
        "outputId": "6623ac60-f033-46a4-b416-5e7ec7d783cb"
      },
      "execution_count": null,
      "outputs": [
        {
          "output_type": "execute_result",
          "data": {
            "text/plain": [
              "<sqlite3.Cursor at 0x7bb5b5eb9840>"
            ]
          },
          "metadata": {},
          "execution_count": 2
        }
      ]
    },
    {
      "cell_type": "code",
      "source": [
        "import sqlite3\n",
        "\n",
        "\n",
        "conn = sqlite3.connect('todo.db')\n",
        "sql = \"\"\"CREATE TABLE IF NOT EXISTS todo(\n",
        "    id INTEGER PRIMARY KEY,\n",
        "    name TEXT NOT NULL,\n",
        "    priority INTEGER NOT NULL\n",
        ")\"\"\"\n",
        "cursor = conn.cursor()\n",
        "cursor.execute(sql)\n",
        "conn.commit()\n",
        "conn.close()"
      ],
      "metadata": {
        "id": "X0fVrDPKoB7L"
      },
      "execution_count": null,
      "outputs": []
    },
    {
      "cell_type": "code",
      "source": [
        "import sqlite3\n",
        "\n",
        "\n",
        "conn = sqlite3.connect('todo.db')\n",
        "sql = \"\"\"CREATE TABLE IF NOT EXISTS todo(\n",
        "    id INTEGER PRIMARY KEY,\n",
        "    name TEXT NOT NULL,\n",
        "    priority INTEGER NOT NULL\n",
        ")\"\"\"\n",
        "cursor = conn.cursor()\n",
        "cursor.execute(sql)\n",
        "conn.commit()\n",
        "sql = \"\"\"INSERT INTO todo (name,priority) VALUES (?,?)\"\"\"\n",
        "cursor = conn.cursor()\n",
        "cursor.execute(sql,('todo1',1))\n",
        "conn.commit()\n",
        "conn.close()"
      ],
      "metadata": {
        "id": "C3R_6zk_pZED"
      },
      "execution_count": null,
      "outputs": []
    },
    {
      "cell_type": "code",
      "source": [
        "import sqlite3\n",
        "\n",
        "\n",
        "conn = sqlite3.connect('todo.db')\n",
        "sql = \"\"\"CREATE TABLE IF NOT EXISTS todo(\n",
        "    id INTEGER PRIMARY KEY,\n",
        "    name TEXT NOT NULL,\n",
        "    priority INTEGER NOT NULL\n",
        ")\"\"\"\n",
        "cursor = conn.cursor()\n",
        "cursor.execute(sql)\n",
        "conn.commit()\n",
        "sql = \"\"\"INSERT INTO todo (name,priority) VALUES (?,?)\"\"\"\n",
        "cursor = conn.cursor()\n",
        "cursor.execute(sql,('todo1',1))\n",
        "conn.commit()\n",
        "conn.close()"
      ],
      "metadata": {
        "id": "_bAlKXJ4qLfh"
      },
      "execution_count": null,
      "outputs": []
    },
    {
      "cell_type": "code",
      "source": [],
      "metadata": {
        "id": "76fjbuOnuDAD"
      },
      "execution_count": null,
      "outputs": []
    },
    {
      "cell_type": "code",
      "source": [
        "import sqlite3\n",
        "\n",
        "\n",
        "conn = sqlite3.connect('todo.db')\n",
        "sql = \"\"\"CREATE TABLE IF NOT EXISTS todo(\n",
        "    id INTEGER PRIMARY KEY,\n",
        "    name TEXT NOT NULL,\n",
        "    priority INTEGER NOT NULL\n",
        ")\"\"\"\n",
        "cursor = conn.cursor()\n",
        "cursor.execute(sql)\n",
        "conn.commit()\n",
        "sql = \"\"\"INSERT INTO todo (name,priority) VALUES (?,?)\"\"\"\n",
        "cursor.execute(sql,('todo1',1))\n",
        "conn.commit()\n",
        "conn.close()"
      ],
      "metadata": {
        "id": "DOCbHTbarmZO"
      },
      "execution_count": null,
      "outputs": []
    },
    {
      "cell_type": "code",
      "source": [
        "#excutemany()\n",
        "import sqlite3\n",
        "\n",
        "\n",
        "conn = sqlite3.connect('todo.db')\n",
        "sql = \"\"\"CREATE TABLE IF NOT EXISTS todo(\n",
        "    id INTEGER PRIMARY KEY,\n",
        "    name TEXT NOT NULL,\n",
        "    priority INTEGER NOT NULL\n",
        ")\"\"\"\n",
        "cursor = conn.cursor()\n",
        "cursor.execute(sql)\n",
        "todo =[\n",
        "    ('todo1',1),\n",
        "    ('todo2',2),\n",
        "    ('todo3',3)\n",
        "]\n",
        "sql = \"\"\"INSERT INTO todo (name,priority) VALUES (?,?)\"\"\"\n",
        "cursor.executemany(sql,todo)\n",
        "conn.commit()\n",
        "conn.close()"
      ],
      "metadata": {
        "id": "1vG5MkYRuIx3"
      },
      "execution_count": null,
      "outputs": []
    },
    {
      "cell_type": "code",
      "source": [
        "class Todo:\n",
        "  def __init__(self):\n",
        "      self.conn = sqlite3.connect('todo.db')\n",
        "      self.cursor = self.conn.cursor()\n",
        "      self.create_table()\n",
        "\n",
        "  def create_table(self):\n",
        "      sql = \"\"\"CREATE TABLE IF NOT EXISTS todo(\n",
        "          id INTEGER PRIMARY KEY,\n",
        "          name TEXT NOT NULL,\n",
        "          priority INTEGER NOT NULL\n",
        "      )\"\"\"\n",
        "      self.cursor.execute(sql)\n",
        "\n",
        "  def insert(self):\n",
        "      name = input(\"Enter name: \")\n",
        "      priority = input(\"Enter priority: \")\n",
        "      sql = \"\"\"INSERT INTO todo (name,priority) VALUES (?,?)\"\"\"\n",
        "      self.cursor.execute(sql,(name,priority))\n",
        "      self.conn.commit()\n",
        "\n",
        "  def close(self):\n",
        "      self.conn.close()"
      ],
      "metadata": {
        "id": "Hr-u9Avu86U6"
      },
      "execution_count": null,
      "outputs": []
    },
    {
      "cell_type": "code",
      "source": [
        "app = Todo()\n",
        "app.insert()\n",
        "app.close()"
      ],
      "metadata": {
        "colab": {
          "base_uri": "https://localhost:8080/"
        },
        "id": "kSfeEqjK88gH",
        "outputId": "c8a9eb93-22af-46c5-da6c-0de7bfc1d10f"
      },
      "execution_count": null,
      "outputs": [
        {
          "name": "stdout",
          "output_type": "stream",
          "text": [
            "Enter name: Study\n",
            "Enter priority: 3\n"
          ]
        }
      ]
    },
    {
      "cell_type": "code",
      "source": [
        "#SELECT\n",
        "import sqlite3\n",
        "\n",
        "conn = sqlite3.connect('todo.db')\n",
        "sql = \"\"\"SELECT * FROM todo\"\"\"\n",
        "cursor = conn.cursor()\n",
        "for row in cursor.execute(sql):\n",
        "  print(row)\n",
        "conn.close()"
      ],
      "metadata": {
        "colab": {
          "base_uri": "https://localhost:8080/"
        },
        "id": "V6J8x9G0-DZE",
        "outputId": "18ee9279-0631-4b51-d5c0-05faa535f239"
      },
      "execution_count": null,
      "outputs": [
        {
          "output_type": "stream",
          "name": "stdout",
          "text": [
            "(1, 'todo1', 1)\n",
            "(2, 'todo1', 1)\n",
            "(3, 'todo1', 1)\n",
            "(4, 'Study', 3)\n"
          ]
        }
      ]
    },
    {
      "cell_type": "code",
      "source": [
        "import sqlite3\n",
        "\n",
        "conn = sqlite3.connect('todo.db')\n",
        "sql = \"\"\"SELECT * FROM todo\"\"\"\n",
        "cursor = conn.cursor()\n",
        "cursor.execute(sql)\n",
        "rows = cursor.fetchall()\n",
        "for row in rows:\n",
        "  print(row)\n",
        "conn.close()"
      ],
      "metadata": {
        "colab": {
          "base_uri": "https://localhost:8080/"
        },
        "id": "qgksRzgz-tcc",
        "outputId": "de0bca67-df23-4fd7-e0e5-e1f6c742ab06"
      },
      "execution_count": null,
      "outputs": [
        {
          "output_type": "stream",
          "name": "stdout",
          "text": [
            "(1, 'todo1', 1)\n",
            "(2, 'todo1', 1)\n",
            "(3, 'todo1', 1)\n",
            "(4, 'Study', 3)\n"
          ]
        }
      ]
    },
    {
      "cell_type": "code",
      "source": [
        "import sqlite3\n",
        "\n",
        "conn = sqlite3.connect('todo.db')\n",
        "sql = \"\"\"SELECT * FROM todo\"\"\"\n",
        "cursor = conn.cursor()\n",
        "cursor.execute(sql)\n",
        "row = cursor.fetchone()\n",
        "print(row)\n",
        "row = cursor.fetchone()\n",
        "print(row)\n",
        "conn.close()"
      ],
      "metadata": {
        "colab": {
          "base_uri": "https://localhost:8080/"
        },
        "id": "pKD3Hs39_WbY",
        "outputId": "c1d97de8-7d2b-40c5-abf2-1326c8405297"
      },
      "execution_count": null,
      "outputs": [
        {
          "output_type": "stream",
          "name": "stdout",
          "text": [
            "(1, 'todo1', 1)\n",
            "(2, 'todo1', 1)\n"
          ]
        }
      ]
    },
    {
      "cell_type": "code",
      "source": [
        "#UPDATE\n",
        "import sqlite3\n",
        "\n",
        "conn = sqlite3.connect('todo.db')\n",
        "sql = \"\"\"UPDATE todo SET name = ? WHERE id = ?\"\"\"\n",
        "cursor = conn.cursor()\n",
        "cursor.execute(sql,('UPDATE',1))\n",
        "conn.commit()\n",
        "sql = \"\"\"SELECT * FROM todo\"\"\"\n",
        "cursor.execute(sql)\n",
        "rows = cursor.fetchall()\n",
        "for row in rows:\n",
        "  print(row)\n",
        "conn.close()"
      ],
      "metadata": {
        "id": "-Hw-mWqsAEAj"
      },
      "execution_count": null,
      "outputs": []
    },
    {
      "cell_type": "code",
      "source": [
        "conn = sqlite3.connect('todo.db')\n",
        "sql = \"\"\"SELECT * FROM todo\"\"\"\n",
        "cursor = conn.cursor()\n",
        "cursor.execute(sql)\n",
        "rows = cursor.fetchall()\n",
        "for row in rows:\n",
        "  print(row)\n",
        "conn.close()"
      ],
      "metadata": {
        "colab": {
          "base_uri": "https://localhost:8080/"
        },
        "id": "wZpPbIkHA7hA",
        "outputId": "d915067b-1281-4506-93aa-f1d8c9242e7f"
      },
      "execution_count": null,
      "outputs": [
        {
          "output_type": "stream",
          "name": "stdout",
          "text": [
            "(1, 'UPDATE', 1)\n",
            "(2, 'todo1', 1)\n",
            "(3, 'todo1', 1)\n",
            "(4, 'Study', 3)\n"
          ]
        }
      ]
    },
    {
      "cell_type": "code",
      "source": [
        "#DELETE\n",
        "import sqlite3\n",
        "\n",
        "conn = sqlite3.connect('todo.db')\n",
        "sql = \"\"\"DELETE FROM todo WHERE id = ?\"\"\"\n",
        "cursor = conn.cursor()\n",
        "cursor.execute(sql,(1,))# (1)의 형태는 ProgrammingError: parameters are of unsupported type\n",
        "conn.commit()\n",
        "sql = \"\"\"SELECT * FROM todo\"\"\"\n",
        "cursor.execute(sql)\n",
        "rows = cursor.fetchall()\n",
        "for row in rows:\n",
        "  print(row)\n",
        "conn.close()"
      ],
      "metadata": {
        "colab": {
          "base_uri": "https://localhost:8080/"
        },
        "id": "MdpU35P8BDNE",
        "outputId": "70a62a0a-e337-4f40-b7b6-f6e43f87dc21"
      },
      "execution_count": null,
      "outputs": [
        {
          "output_type": "stream",
          "name": "stdout",
          "text": [
            "(2, 'todo1', 1)\n",
            "(3, 'todo1', 1)\n",
            "(4, 'Study', 3)\n"
          ]
        }
      ]
    },
    {
      "cell_type": "code",
      "source": [],
      "metadata": {
        "id": "gNDglZtYBuex"
      },
      "execution_count": null,
      "outputs": []
    }
  ]
}