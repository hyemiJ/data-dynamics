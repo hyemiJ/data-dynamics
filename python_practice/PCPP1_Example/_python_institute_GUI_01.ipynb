{
  "nbformat": 4,
  "nbformat_minor": 0,
  "metadata": {
    "colab": {
      "provenance": [],
      "authorship_tag": "ABX9TyNC3U+WhRNC2bUUyPkpdE99",
      "include_colab_link": true
    },
    "kernelspec": {
      "name": "python3",
      "display_name": "Python 3"
    },
    "language_info": {
      "name": "python"
    }
  },
  "cells": [
    {
      "cell_type": "markdown",
      "metadata": {
        "id": "view-in-github",
        "colab_type": "text"
      },
      "source": [
        "<a href=\"https://colab.research.google.com/github/hyemiJ/data-dynamics/blob/main/python_practice/_python_institute_GUI_01.ipynb\" target=\"_parent\"><img src=\"https://colab.research.google.com/assets/colab-badge.svg\" alt=\"Open In Colab\"/></a>"
      ]
    },
    {
      "cell_type": "markdown",
      "source": [
        "해당 내용은 로컬 컴퓨터로 실행한다.\n",
        "colab에서는 동작하지 않는다."
      ],
      "metadata": {
        "id": "7g-yx57ZjIAG"
      }
    },
    {
      "cell_type": "code",
      "execution_count": null,
      "metadata": {
        "id": "tk0wtTmNYx5m"
      },
      "outputs": [],
      "source": [
        "# 슈도 코드 작성\n",
        "\n",
        "while True:\n",
        "  사용자 행동을 기다리는 상태\n",
        "  if 버튼 yes를 누른다면 :\n",
        "    yes 이후의 상태\n",
        "  elif 버튼 no를 누른다면 :\n",
        "    no 이후의 상태\n",
        "  elif 마우스로 버튼 yes를 누른다면 :\n",
        "    yes 이후의 상태\n",
        "  elif 마우스로 버튼 no를 누른다면 :\n",
        "    no 이후의 상태\n",
        "  elif tab키를 누른다면:\n",
        "    if 포커스 = 'yes':\n",
        "      yes 이후의 상태\n",
        "    elif 포커스 = 'no':\n",
        "      no 이후의 상태"
      ]
    },
    {
      "cell_type": "code",
      "source": [
        "# 사용 방법\n",
        "# 1. import 실행\n",
        "import tkinter as tk\n",
        "\n",
        "# 2. 이벤트 컨트롤러 생성 : 객체가 생성되었으나 보이진 않음.\n",
        "controller = tk.Tk()\n",
        "\n",
        "# 3. 이벤트 컨트롤러 메인창 메서드 호출\n",
        "controller.mainloop()"
      ],
      "metadata": {
        "colab": {
          "base_uri": "https://localhost:8080/",
          "height": 367
        },
        "collapsed": true,
        "id": "shFATMkOiXSi",
        "outputId": "f15c399a-4cb4-4724-a13c-24b787c76c1f"
      },
      "execution_count": 1,
      "outputs": [
        {
          "output_type": "error",
          "ename": "TclError",
          "evalue": "no display name and no $DISPLAY environment variable",
          "traceback": [
            "\u001b[0;31m---------------------------------------------------------------------------\u001b[0m",
            "\u001b[0;31mTclError\u001b[0m                                  Traceback (most recent call last)",
            "\u001b[0;32m/tmp/ipython-input-1-3704692094.py\u001b[0m in \u001b[0;36m<cell line: 0>\u001b[0;34m()\u001b[0m\n\u001b[1;32m      1\u001b[0m \u001b[0;32mimport\u001b[0m \u001b[0mtkinter\u001b[0m \u001b[0;32mas\u001b[0m \u001b[0mtk\u001b[0m\u001b[0;34m\u001b[0m\u001b[0;34m\u001b[0m\u001b[0m\n\u001b[1;32m      2\u001b[0m \u001b[0;34m\u001b[0m\u001b[0m\n\u001b[0;32m----> 3\u001b[0;31m \u001b[0mcontrollor\u001b[0m \u001b[0;34m=\u001b[0m \u001b[0mtk\u001b[0m\u001b[0;34m.\u001b[0m\u001b[0mTk\u001b[0m\u001b[0;34m(\u001b[0m\u001b[0;34m)\u001b[0m\u001b[0;34m\u001b[0m\u001b[0;34m\u001b[0m\u001b[0m\n\u001b[0m\u001b[1;32m      4\u001b[0m \u001b[0mcontrollor\u001b[0m\u001b[0;34m.\u001b[0m\u001b[0mmainloop\u001b[0m\u001b[0;34m(\u001b[0m\u001b[0;34m)\u001b[0m\u001b[0;34m\u001b[0m\u001b[0;34m\u001b[0m\u001b[0m\n",
            "\u001b[0;32m/usr/lib/python3.11/tkinter/__init__.py\u001b[0m in \u001b[0;36m__init__\u001b[0;34m(self, screenName, baseName, className, useTk, sync, use)\u001b[0m\n\u001b[1;32m   2324\u001b[0m                 \u001b[0mbaseName\u001b[0m \u001b[0;34m=\u001b[0m \u001b[0mbaseName\u001b[0m \u001b[0;34m+\u001b[0m \u001b[0mext\u001b[0m\u001b[0;34m\u001b[0m\u001b[0;34m\u001b[0m\u001b[0m\n\u001b[1;32m   2325\u001b[0m         \u001b[0minteractive\u001b[0m \u001b[0;34m=\u001b[0m \u001b[0;32mFalse\u001b[0m\u001b[0;34m\u001b[0m\u001b[0;34m\u001b[0m\u001b[0m\n\u001b[0;32m-> 2326\u001b[0;31m         \u001b[0mself\u001b[0m\u001b[0;34m.\u001b[0m\u001b[0mtk\u001b[0m \u001b[0;34m=\u001b[0m \u001b[0m_tkinter\u001b[0m\u001b[0;34m.\u001b[0m\u001b[0mcreate\u001b[0m\u001b[0;34m(\u001b[0m\u001b[0mscreenName\u001b[0m\u001b[0;34m,\u001b[0m \u001b[0mbaseName\u001b[0m\u001b[0;34m,\u001b[0m \u001b[0mclassName\u001b[0m\u001b[0;34m,\u001b[0m \u001b[0minteractive\u001b[0m\u001b[0;34m,\u001b[0m \u001b[0mwantobjects\u001b[0m\u001b[0;34m,\u001b[0m \u001b[0museTk\u001b[0m\u001b[0;34m,\u001b[0m \u001b[0msync\u001b[0m\u001b[0;34m,\u001b[0m \u001b[0muse\u001b[0m\u001b[0;34m)\u001b[0m\u001b[0;34m\u001b[0m\u001b[0;34m\u001b[0m\u001b[0m\n\u001b[0m\u001b[1;32m   2327\u001b[0m         \u001b[0;32mif\u001b[0m \u001b[0museTk\u001b[0m\u001b[0;34m:\u001b[0m\u001b[0;34m\u001b[0m\u001b[0;34m\u001b[0m\u001b[0m\n\u001b[1;32m   2328\u001b[0m             \u001b[0mself\u001b[0m\u001b[0;34m.\u001b[0m\u001b[0m_loadtk\u001b[0m\u001b[0;34m(\u001b[0m\u001b[0;34m)\u001b[0m\u001b[0;34m\u001b[0m\u001b[0;34m\u001b[0m\u001b[0m\n",
            "\u001b[0;31mTclError\u001b[0m: no display name and no $DISPLAY environment variable"
          ]
        }
      ]
    },
    {
      "cell_type": "code",
      "source": [
        "# 제목 변경 추가\n",
        "# 1. import 실행\n",
        "import tkinter as tk\n",
        "\n",
        "# 2. 이벤트 컨트롤러 생성 : 객체가 생성되었으나 보이진 않음.\n",
        "controller = tk.Tk()\n",
        "\n",
        "# 3. 제목 변경\n",
        "controller.title('The first sample')\n",
        "\n",
        "# 4. 이벤트 컨트롤러 메인창 메서드 호출\n",
        "controller.mainloop()"
      ],
      "metadata": {
        "id": "WiJ9LFDOihBh"
      },
      "execution_count": null,
      "outputs": []
    },
    {
      "cell_type": "code",
      "source": [
        "# 버튼 추가\n",
        "# 1. import 실행\n",
        "import tkinter as tk\n",
        "\n",
        "# 2. 이벤트 컨트롤러 생성 : 객체가 생성되었으나 보이진 않음.\n",
        "controller = tk.Tk()\n",
        "\n",
        "# 3. 제목 변경\n",
        "controller.title('The first sample')\n",
        "\n",
        "#4. 버튼 추가\n",
        "button = tk.Button(controller, text='버튼')\n",
        "\n",
        "#5. 버튼 위치 설정 : 왼쪽 모서리 기준\n",
        "button.place(x=10, y=10)\n",
        "\n",
        "# 4. 이벤트 컨트롤러 메인창 메서드 호출\n",
        "controller.mainloop()"
      ],
      "metadata": {
        "id": "2cP2za4cpbqg"
      },
      "execution_count": null,
      "outputs": []
    },
    {
      "cell_type": "code",
      "source": [
        "# 컨트롤러에 의해 실행될 이벤트 핸들러 (콜백함수).\n",
        "def click():\n",
        "\tcontroller.destroy()"
      ],
      "metadata": {
        "id": "o9RrPA1ttxQh"
      },
      "execution_count": null,
      "outputs": []
    },
    {
      "cell_type": "code",
      "source": [
        "# 버튼 이벤트 핸들러 추가\n",
        "# 1. import 실행\n",
        "import tkinter as tk\n",
        "\n",
        "# 컨트롤러에 의해 실행될 이벤트 핸들러 (콜백함수).\n",
        "def click():\n",
        "\tcontroller.destroy()\n",
        "\n",
        "# 2. 이벤트 컨트롤러 생성 : 객체가 생성되었으나 보이진 않음.\n",
        "controller = tk.Tk()\n",
        "\n",
        "# 3. 제목 변경\n",
        "controller.title('The first sample')\n",
        "\n",
        "#4. 버튼 + 이벤트 핸들러 추가 *\n",
        "button = tk.Button(controller, text='버튼', command=click)\n",
        "\n",
        "#5. 버튼 위치 설정 : 왼쪽 모서리 기준\n",
        "button.place(x=10, y=10)\n",
        "\n",
        "# 4. 이벤트 컨트롤러 메인창 메서드 호출\n",
        "controller.mainloop()"
      ],
      "metadata": {
        "id": "zlgD5g6Bt8IU"
      },
      "execution_count": null,
      "outputs": []
    },
    {
      "cell_type": "code",
      "source": [
        "# 버튼 이벤트 핸들러 추가\n",
        "# 1. import 실행\n",
        "import tkinter as tk\n",
        "from tkinter import messagebox as msg\n",
        "\n",
        "# 컨트롤러에 의해 실행될 이벤트 핸들러 (콜백함수). 모달창 추가 *\n",
        "def click():\n",
        "  answer = msg.askyesno('확인', '종료하시겠습니까?')\n",
        "  if answer:\n",
        "\t  controller.destroy()\n",
        "\n",
        "# 2. 이벤트 컨트롤러 생성 : 객체가 생성되었으나 보이진 않음.\n",
        "controller = tk.Tk()\n",
        "\n",
        "# 3. 제목 변경\n",
        "controller.title('The first sample')\n",
        "\n",
        "#4. 버튼 + 이벤트 핸들러 추가\n",
        "button = tk.Button(controller, text='버튼', command=click)\n",
        "\n",
        "#5. 버튼 위치 설정 : 왼쪽 모서리 기준\n",
        "button.place(x=10, y=10)\n",
        "\n",
        "# 4. 이벤트 컨트롤러 메인창 메서드 호출\n",
        "controller.mainloop()"
      ],
      "metadata": {
        "id": "td2bbvqQvVZF"
      },
      "execution_count": null,
      "outputs": []
    },
    {
      "cell_type": "code",
      "source": [
        "# place geometry manager\n",
        "\n",
        "import tkinter as tk\n",
        "\n",
        "controller = tk.TK()\n",
        "button_1 = tk.Button(controller, text='버튼1')\n",
        "button_2 = tk.Button(controller, text='버튼2')\n",
        "button_3 = tk.Button(controller, text='버튼3')\n",
        "\n",
        "button_1.place(x=10, y=10, width=150)\n",
        "button_2.place(x=20, y=40)\n",
        "button_3.place(x=30, y=70, height=50)\n",
        "\n",
        "controller.mainloop()"
      ],
      "metadata": {
        "id": "QbcZoQE1ANJt"
      },
      "execution_count": null,
      "outputs": []
    },
    {
      "cell_type": "code",
      "source": [
        "# gride geometry manager\n",
        "\n",
        "import tkinter as tk\n",
        "\n",
        "controller = tk.TK()\n",
        "button_1 = tk.Button(controller, text='버튼1')\n",
        "button_2 = tk.Button(controller, text='버튼2')\n",
        "button_3 = tk.Button(controller, text='버튼3')\n",
        "\n",
        "button_1.grid(row=0, column=0)\n",
        "button_2.grid(row=1, column=1)\n",
        "button_3.grid(row=2, column=0, columnspan=2)\n",
        "\n",
        "controller.mainloop()"
      ],
      "metadata": {
        "id": "HP_xOUV8HYo0"
      },
      "execution_count": null,
      "outputs": []
    },
    {
      "cell_type": "code",
      "source": [
        "# pack geometry manager\n",
        "import tkinter as tk\n",
        "\n",
        "controller = tk.TK()\n",
        "button_1 = tk.Button(controller, text='버튼1')\n",
        "button_2 = tk.Button(controller, text='버튼2')\n",
        "button_3 = tk.Button(controller, text='버튼3')\n",
        "\n",
        "button_1.pack(side=controller.RIGHT)\n",
        "button_2.pack()\n",
        "button_3.pack()\n",
        "\n",
        "controller.mainloop()"
      ],
      "metadata": {
        "id": "Qwx4TwPzNgkI"
      },
      "execution_count": null,
      "outputs": []
    },
    {
      "cell_type": "code",
      "source": [
        "# button 색 지정\n",
        "\n",
        "import tkinter as tk\n",
        "\n",
        "controller = tk.Tk()\n",
        "button = tk.Button(controller, text='버튼',\n",
        "                   bg='red', fg='white',\n",
        "                   activebackground=\"HotPink\", activeforeground=\"dark green\")\n",
        "button2 = tk.Button(controller, text='버튼2',\n",
        "                   bg='#FF0000', fg='#FFFFFF',\n",
        "                   activebackground=\"#FFA07A\", activeforeground=\"#FF69B4\")\n",
        "button.pack()\n",
        "controller.mainloop()"
      ],
      "metadata": {
        "id": "BEM3DKuON-Ob"
      },
      "execution_count": null,
      "outputs": []
    }
  ]
}