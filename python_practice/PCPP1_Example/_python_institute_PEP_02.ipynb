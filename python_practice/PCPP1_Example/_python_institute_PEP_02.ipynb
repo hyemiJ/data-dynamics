{
  "nbformat": 4,
  "nbformat_minor": 0,
  "metadata": {
    "colab": {
      "provenance": [],
      "authorship_tag": "ABX9TyP0F20xhs5cdh0TMoXCfCEm",
      "include_colab_link": true
    },
    "kernelspec": {
      "name": "python3",
      "display_name": "Python 3"
    },
    "language_info": {
      "name": "python"
    }
  },
  "cells": [
    {
      "cell_type": "markdown",
      "metadata": {
        "id": "view-in-github",
        "colab_type": "text"
      },
      "source": [
        "<a href=\"https://colab.research.google.com/github/hyemiJ/data-dynamics/blob/main/python_practice/_python_institute_PEP_02.ipynb\" target=\"_parent\"><img src=\"https://colab.research.google.com/assets/colab-badge.svg\" alt=\"Open In Colab\"/></a>"
      ]
    },
    {
      "cell_type": "code",
      "execution_count": 16,
      "metadata": {
        "colab": {
          "base_uri": "https://localhost:8080/"
        },
        "id": "SMDJ71gWJhV7",
        "outputId": "0cf83a22-d12c-4720-f80a-45865c239aa5"
      },
      "outputs": [
        {
          "output_type": "stream",
          "name": "stdout",
          "text": [
            "Requirement already satisfied: pycodestyle in /usr/local/lib/python3.11/dist-packages (2.14.0)\n"
          ]
        }
      ],
      "source": [
        "#PEP 8\n",
        "! pip install pycodestyle"
      ]
    },
    {
      "cell_type": "code",
      "source": [
        "%%writefile tab_error.py\n",
        "#TabError\n",
        "\n",
        "def my_fun_one(x, y):\n",
        "  return x * y\n",
        "\n",
        "def my_fun_two(a, b):\n",
        "      return a + b"
      ],
      "metadata": {
        "id": "90beibf3JlZ_",
        "colab": {
          "base_uri": "https://localhost:8080/"
        },
        "outputId": "a12f204e-d7c9-475a-e7c3-271e72810049"
      },
      "execution_count": 22,
      "outputs": [
        {
          "output_type": "stream",
          "name": "stdout",
          "text": [
            "Writing tab_error.py\n"
          ]
        }
      ]
    },
    {
      "cell_type": "code",
      "source": [
        "!pycodestyle tab_error.py"
      ],
      "metadata": {
        "colab": {
          "base_uri": "https://localhost:8080/"
        },
        "id": "ETKAUFPRR_e8",
        "outputId": "4a4e6855-5187-473a-e58f-936d814dea07"
      },
      "execution_count": 23,
      "outputs": [
        {
          "output_type": "stream",
          "name": "stdout",
          "text": [
            "tab_error.py:1:1: E265 block comment should start with '# '\n",
            "tab_error.py:4:3: E111 indentation is not a multiple of 4\n",
            "tab_error.py:6:1: E302 expected 2 blank lines, found 1\n",
            "tab_error.py:7:7: E111 indentation is not a multiple of 4\n",
            "tab_error.py:7:7: E117 over-indented\n"
          ]
        }
      ]
    },
    {
      "cell_type": "code",
      "source": [
        "# O\n",
        "! pycodestyle\n",
        "\n",
        "def my_fun_one(x, y):\n",
        "  return x * y\n",
        "\n",
        "def my_fun_two(a, b):\n",
        "  return a + b"
      ],
      "metadata": {
        "id": "rSXXrFn2Jyq8",
        "colab": {
          "base_uri": "https://localhost:8080/"
        },
        "outputId": "11e17f02-857c-4a22-e8e7-2f869142ed4e"
      },
      "execution_count": 18,
      "outputs": [
        {
          "output_type": "stream",
          "name": "stdout",
          "text": [
            "Usage: pycodestyle [options] input ...\n",
            "\n",
            "pycodestyle: error: input not specified\n"
          ]
        }
      ]
    },
    {
      "cell_type": "code",
      "source": [
        "%%writefile line_error.py\n",
        "# X Continuation lines\n",
        "\n",
        "my_list = [ 1, 2, 3,\n",
        "    4, 5, 6\n",
        "]\n",
        "\n",
        "a = my_fun_one(10,\n",
        "    20)"
      ],
      "metadata": {
        "id": "lNxOADFUJ6PJ",
        "colab": {
          "base_uri": "https://localhost:8080/"
        },
        "outputId": "f7ed3bf1-add6-4479-8836-0b1d10d7a6f6"
      },
      "execution_count": 24,
      "outputs": [
        {
          "output_type": "stream",
          "name": "stdout",
          "text": [
            "Writing line_error.py\n"
          ]
        }
      ]
    },
    {
      "cell_type": "code",
      "source": [
        "!pycodestyle line_error.py"
      ],
      "metadata": {
        "colab": {
          "base_uri": "https://localhost:8080/"
        },
        "id": "oGkS5owmS7_H",
        "outputId": "ae01e668-1e6e-4902-a3f8-be3345ffcc42"
      },
      "execution_count": 25,
      "outputs": [
        {
          "output_type": "stream",
          "name": "stdout",
          "text": [
            "line_error.py:3:12: E201 whitespace after '['\n",
            "line_error.py:4:5: E128 continuation line under-indented for visual indent\n",
            "line_error.py:5:1: E124 closing bracket does not match visual indentation\n",
            "line_error.py:8:5: E128 continuation line under-indented for visual indent\n"
          ]
        }
      ]
    },
    {
      "cell_type": "code",
      "source": [
        "# O\n",
        "\n",
        "my_list = [1, 2, 3,\n",
        "           4, 5, 6]\n",
        "\n",
        "a = my_fun_one(10,\n",
        "               20)\n",
        "\n",
        "def my_fun(\n",
        "      a, b, c,\n",
        "      d, e, f):\n",
        "  return (a + b + c) * (d + e + f)\n",
        "\n",
        "my_list =[\n",
        "    1, 2, 3,\n",
        "    4, 5, 6,\n",
        "]"
      ],
      "metadata": {
        "id": "L0f9-jhONEpe"
      },
      "execution_count": null,
      "outputs": []
    },
    {
      "cell_type": "code",
      "source": [
        "%%writefile max_len_error.py\n",
        "# X maxiumum\n",
        "print(\"A foolish consistency is the hobgoblin of little minds. - Ralph Waldo Emerson's essay \\\"Self-Reliance\\\"\")"
      ],
      "metadata": {
        "colab": {
          "base_uri": "https://localhost:8080/"
        },
        "id": "bO2UhxKjN3_x",
        "outputId": "acde44ee-c1fd-49a7-92f5-bd5bfd484bcb"
      },
      "execution_count": 26,
      "outputs": [
        {
          "output_type": "stream",
          "name": "stdout",
          "text": [
            "Writing max_len_error.py\n"
          ]
        }
      ]
    },
    {
      "cell_type": "code",
      "source": [
        "!pycodestyle max_len_error.py"
      ],
      "metadata": {
        "id": "9KLndO38QjL2",
        "colab": {
          "base_uri": "https://localhost:8080/"
        },
        "outputId": "bab9dae1-c1f6-48a2-b22d-c77c94ddbfa6"
      },
      "execution_count": 27,
      "outputs": [
        {
          "output_type": "stream",
          "name": "stdout",
          "text": [
            "max_len_error.py:2:80: E501 line too long (112 > 79 characters)\n"
          ]
        }
      ]
    },
    {
      "cell_type": "code",
      "source": [
        "apples = 1\n",
        "pears = 2\n",
        "grapes = 3\n",
        "black_currants = 4\n",
        "red_currants = 5\n",
        "bananas = 6\n",
        "oranges = 7"
      ],
      "metadata": {
        "id": "gnxdDnFqWA_S"
      },
      "execution_count": 30,
      "outputs": []
    },
    {
      "cell_type": "code",
      "source": [
        "# 연산자 사용 추천\n",
        "total = (apples\n",
        "         + pears\n",
        "         +grapes\n",
        "         - (black_currants - red_currants)\n",
        "         - bananas\n",
        "         + oranges)"
      ],
      "metadata": {
        "id": "7VjZhQoRTxeF"
      },
      "execution_count": 31,
      "outputs": []
    },
    {
      "cell_type": "code",
      "source": [
        "# 클래스와 함수 사이의 빈 2줄\n",
        "\n",
        "class ClassOne():\n",
        "  pass\n",
        "\n",
        "\n",
        "class ClassTwo():\n",
        "  pass\n",
        "\n",
        "\n",
        "def my_fun_one():\n",
        "  pass\n"
      ],
      "metadata": {
        "id": "XFvMu7EmWKce"
      },
      "execution_count": 32,
      "outputs": []
    },
    {
      "cell_type": "code",
      "source": [
        "# 메서드 사이의 빈 1줄\n",
        "\n",
        "class MyClass():\n",
        "  def my_method_one(self):\n",
        "    pass\n",
        "\n",
        "  def my_method_two(self):\n",
        "    pass"
      ],
      "metadata": {
        "id": "VU-U8VIqXXaC"
      },
      "execution_count": 33,
      "outputs": []
    },
    {
      "cell_type": "code",
      "source": [
        "%%writefile function.py\n",
        "# 함수 내 빈 1줄\n",
        "\n",
        "def calculate_avg():\n",
        "  how_many_number = int(input(\"How many numbers ? :\"))\n",
        "\n",
        "  if how_many_number > 0:\n",
        "    sum_of_numbers = 0\n",
        "    for i in range(0, how_many_number):\n",
        "      number = float(int(\"Enter a number :\"))\n",
        "      sum_of_numbers += number\n",
        "\n",
        "    average = sum_of_numbers / how_many_number\n",
        "\n",
        "    return average\n",
        "  else:\n",
        "    return \"Noting happens\""
      ],
      "metadata": {
        "colab": {
          "base_uri": "https://localhost:8080/"
        },
        "id": "LVEEc9LNXxt4",
        "outputId": "815a49f8-e9d2-4238-f3de-7ff96f7b4d3c"
      },
      "execution_count": 35,
      "outputs": [
        {
          "output_type": "stream",
          "name": "stdout",
          "text": [
            "Writing function.py\n"
          ]
        }
      ]
    },
    {
      "cell_type": "code",
      "source": [
        "!pycodestyle function.py"
      ],
      "metadata": {
        "colab": {
          "base_uri": "https://localhost:8080/"
        },
        "id": "1PxCXYZ2Y2LB",
        "outputId": "5615c262-f831-4324-e51f-191365b9af2a"
      },
      "execution_count": 36,
      "outputs": [
        {
          "output_type": "stream",
          "name": "stdout",
          "text": [
            "function.py:4:3: E111 indentation is not a multiple of 4\n",
            "function.py:6:3: E111 indentation is not a multiple of 4\n",
            "function.py:9:7: E111 indentation is not a multiple of 4\n",
            "function.py:10:7: E111 indentation is not a multiple of 4\n",
            "function.py:11:1: W293 blank line contains whitespace\n",
            "function.py:15:3: E111 indentation is not a multiple of 4\n"
          ]
        }
      ]
    },
    {
      "cell_type": "code",
      "source": [
        "#import\n",
        "\n",
        "#X\n",
        "import os,sys"
      ],
      "metadata": {
        "id": "1BlzIUblZCJh"
      },
      "execution_count": 37,
      "outputs": []
    },
    {
      "cell_type": "code",
      "source": [
        "# o\n",
        "import os\n",
        "import sys\n",
        "from subprocess import Popen, PIPE"
      ],
      "metadata": {
        "id": "2tex84ZrchBZ"
      },
      "execution_count": 38,
      "outputs": []
    },
    {
      "cell_type": "code",
      "source": [
        "# O\n",
        "#import animals.mammals.dogs.puppies\n",
        "\n",
        "# X\n",
        "#from animals import *"
      ],
      "metadata": {
        "id": "XcdSC_fxc45X"
      },
      "execution_count": 39,
      "outputs": []
    },
    {
      "cell_type": "code",
      "source": [
        "dog = [1, 2, 3]"
      ],
      "metadata": {
        "id": "quJhK_V1n9ME"
      },
      "execution_count": 40,
      "outputs": []
    },
    {
      "cell_type": "code",
      "source": [
        "# 과도한 공백\n",
        "my_dog = (dog[ 2 ], 1 , {1 : '123' }, '456' )\n",
        "if 1 in my_dog : print( \"Hello!\" ) ; print ( \"Bye!\" )"
      ],
      "metadata": {
        "colab": {
          "base_uri": "https://localhost:8080/"
        },
        "id": "pop3IEIsdpTH",
        "outputId": "12080a71-03ad-4fcb-9326-112541ec1ec3"
      },
      "execution_count": 41,
      "outputs": [
        {
          "output_type": "stream",
          "name": "stdout",
          "text": [
            "Hello!\n",
            "Bye!\n"
          ]
        }
      ]
    },
    {
      "cell_type": "code",
      "source": [
        "# dataset\n",
        "a = [1, 2, 3, 4, 5, 6]\n",
        "b = ['a', 'b', 'c', 'd', 'e', 'f']\n",
        "c = [9, 8, 7, 6, 5, 4]\n",
        "\n",
        "my_dict = dict()"
      ],
      "metadata": {
        "id": "vP-qLxe_oN-q"
      },
      "execution_count": 44,
      "outputs": []
    },
    {
      "cell_type": "code",
      "source": [
        "#슬라이싱 표현식의 공백사용\n",
        "print(a[0 : 3], b[1 : 5 : 2], c[3: 4])\n",
        "print(a[1 : : 4])"
      ],
      "metadata": {
        "colab": {
          "base_uri": "https://localhost:8080/"
        },
        "id": "zPBEFcy9pHFd",
        "outputId": "b2dd7b9a-703d-44d3-b86a-2a99d0eb3148"
      },
      "execution_count": 43,
      "outputs": [
        {
          "output_type": "stream",
          "name": "stdout",
          "text": [
            "[1, 2, 3] ['b', 'd'] [6]\n",
            "[2, 6]\n"
          ]
        }
      ]
    },
    {
      "cell_type": "code",
      "source": [
        "# 뒤의 공백 사용\n",
        "my_tuple = (0, 1, 2, )\n",
        "my_fun_two (1, 2)\n",
        "my_dict ['1'] = my_list [0]"
      ],
      "metadata": {
        "id": "DrJkLNkEpZ4L"
      },
      "execution_count": 46,
      "outputs": []
    },
    {
      "cell_type": "code",
      "source": [
        "# 연산의 공백 사용\n",
        "\n",
        "a         = 1\n",
        "b         = a        + 2\n",
        "my_string = 'string' * 2"
      ],
      "metadata": {
        "id": "wF-ZdDIuq7cT"
      },
      "execution_count": null,
      "outputs": []
    },
    {
      "cell_type": "code",
      "source": [
        "# 연산자의 공백 사용 X\n",
        "x=1\n",
        "x=x+3\n",
        "x-=1\n",
        "\n",
        "x = x * 2 - 1\n",
        "x = (x - 1) * (x + 2)"
      ],
      "metadata": {
        "id": "XMZKlpahCArb"
      },
      "execution_count": 1,
      "outputs": []
    },
    {
      "cell_type": "code",
      "source": [
        "# 연산자의 공백 사용 O\n",
        "x = x + 3\n",
        "x =- 1\n",
        "\n",
        "x = x*2 - 1\n",
        "x = (x-1) * (x+2)"
      ],
      "metadata": {
        "id": "ngSpTd7qLC_A"
      },
      "execution_count": 2,
      "outputs": []
    },
    {
      "cell_type": "code",
      "source": [
        "# X 키워드 인수 공백 사용\n",
        "\n",
        "def my_function(x, y = 2):\n",
        "  return x * y"
      ],
      "metadata": {
        "id": "n0HYdjNiLXJQ"
      },
      "execution_count": 3,
      "outputs": []
    },
    {
      "cell_type": "code",
      "source": [
        "# O 키워드 인수 공백 사용\n",
        "\n",
        "def my_function(x, y=2):\n",
        "  return x * y"
      ],
      "metadata": {
        "id": "TMaNOjyWL4vU"
      },
      "execution_count": 4,
      "outputs": []
    },
    {
      "cell_type": "code",
      "source": [
        "#Program that calculates body mass index (BMI).  <-대문자 작성 및 마침표가 있는 완전형 문장\n",
        "\n",
        "height = float(input(\"Your height in meters: \"))\n",
        "weight = float(input(\"Your weight in kg: \"))\n",
        "\n",
        "bmi = weight / (height ** 2)\n",
        "print(\"Your BMI is\", bmi)"
      ],
      "metadata": {
        "colab": {
          "base_uri": "https://localhost:8080/"
        },
        "id": "OO1uY_iaNnuW",
        "outputId": "02084d93-1bb0-4506-bd90-f2ca4eec55ba"
      },
      "execution_count": 5,
      "outputs": [
        {
          "output_type": "stream",
          "name": "stdout",
          "text": [
            "Your height in meters: 190\n",
            "Your weight in kg: 80\n",
            "Your BMI is 0.00221606648199446\n"
          ]
        }
      ]
    },
    {
      "cell_type": "code",
      "source": [
        "#블록 주석\n",
        "def calculate_product():\n",
        "  # Calculater the average of three numbers obtained from the user.  Then\n",
        "  # multiply the result by 4.17, and assign it to the product variable.\n",
        "  #\n",
        "  # Return the value passed to the product variable and use it\n",
        "  # for the subsequent x to y calculations to speed up the process.\n",
        "  sum_of_numbers = 0\n",
        "  for i in range(0, 3):\n",
        "    number = float(input(\"Enter a number: \"))\n",
        "    sum_of_numbers += number\n",
        "\n",
        "  average = (sum_of_numbers / 3) * 4.17\n",
        "  product = average\n",
        "  return product\n",
        "\n",
        "product = calculate_product()\n",
        "x = product * 1.73\n",
        "y = x ** 2\n",
        "x_to_y = (x*y) / 1.05"
      ],
      "metadata": {
        "colab": {
          "base_uri": "https://localhost:8080/"
        },
        "id": "aLr10gd1PGIl",
        "outputId": "f3ceb41a-9b21-414f-809d-264f9e0ae2d9"
      },
      "execution_count": 8,
      "outputs": [
        {
          "name": "stdout",
          "output_type": "stream",
          "text": [
            "Enter a number: 5\n",
            "Enter a number: 5\n",
            "Enter a number: 5\n"
          ]
        }
      ]
    },
    {
      "cell_type": "code",
      "source": [
        "#인라인 주석\n",
        "counter = 0          # Initialize the counter."
      ],
      "metadata": {
        "id": "udN6gHX9QICw"
      },
      "execution_count": 9,
      "outputs": []
    },
    {
      "cell_type": "code",
      "source": [
        "a = 0\n",
        "a += 1               # Increment a."
      ],
      "metadata": {
        "id": "iR4n-mhBRnA3"
      },
      "execution_count": 11,
      "outputs": []
    },
    {
      "cell_type": "code",
      "source": [
        "a = 'Adam' # X\n",
        "user_first_name = 'Adam' # O"
      ],
      "metadata": {
        "id": "h8W_0nIhR3tT"
      },
      "execution_count": 12,
      "outputs": []
    },
    {
      "cell_type": "code",
      "source": [
        "# docstring\n",
        "def fun(x, y):\n",
        "  \"\"\"Convert x and y to strings,\n",
        "  and return a list of strings.\n",
        "  \"\"\""
      ],
      "metadata": {
        "id": "GhQBefzoVBAz"
      },
      "execution_count": null,
      "outputs": []
    },
    {
      "cell_type": "code",
      "source": [
        "def fun(x):\n",
        "  \"\"\"Return the square root of x.\"\"\""
      ],
      "metadata": {
        "id": "oxadZ0fyVMZc"
      },
      "execution_count": null,
      "outputs": []
    },
    {
      "cell_type": "code",
      "source": [
        "class Sample:\n",
        "  var = 0\n",
        "  def __init__(self):\n",
        "    self.var = 0\n",
        "\n",
        "  @classmethod\n",
        "  def class_m(cls):\n",
        "    cls.var += 1\n",
        "    return cls.var\n",
        "\n",
        "  def instance_m(self):\n",
        "    self.var += 1\n",
        "    return self.var"
      ],
      "metadata": {
        "id": "fxP1E2RPqrMp"
      },
      "execution_count": null,
      "outputs": []
    },
    {
      "cell_type": "code",
      "source": [
        "# X\n",
        "x = None\n",
        "\n",
        "if x == None:\n",
        "  print(\"X is None\")"
      ],
      "metadata": {
        "colab": {
          "base_uri": "https://localhost:8080/"
        },
        "id": "obhfes-bujoB",
        "outputId": "a7109740-2c55-4a79-dd6a-54c7c93538c9"
      },
      "execution_count": 2,
      "outputs": [
        {
          "output_type": "stream",
          "name": "stdout",
          "text": [
            "X is None\n"
          ]
        }
      ]
    },
    {
      "cell_type": "code",
      "source": [
        "# O\n",
        "if x is None:\n",
        "  print(\"X is None\")"
      ],
      "metadata": {
        "colab": {
          "base_uri": "https://localhost:8080/"
        },
        "id": "wgWvYdlTuqpA",
        "outputId": "2223f0a3-2c32-410f-b3c2-10f4839726d9"
      },
      "execution_count": 3,
      "outputs": [
        {
          "output_type": "stream",
          "name": "stdout",
          "text": [
            "X is None\n"
          ]
        }
      ]
    },
    {
      "cell_type": "code",
      "source": [
        "my_boolean_value = 2 > 1\n",
        "\n",
        "# X\n",
        "if my_boolean_value == True:\n",
        "  print(\"True\")\n",
        "else:\n",
        "  print(\"False\")\n",
        "\n",
        "# O\n",
        "if my_boolean_value:\n",
        "  print(\"True\")\n",
        "else:\n",
        "  print(\"False\")\n"
      ],
      "metadata": {
        "colab": {
          "base_uri": "https://localhost:8080/"
        },
        "id": "J-TPZvGJuz72",
        "outputId": "104c9a2b-e30a-40e8-d2c6-20facabbf581"
      },
      "execution_count": 4,
      "outputs": [
        {
          "output_type": "stream",
          "name": "stdout",
          "text": [
            "True\n",
            "True\n"
          ]
        }
      ]
    },
    {
      "cell_type": "code",
      "source": [
        "# X\n",
        "if not x is None:\n",
        "  print(\"X is not None\")\n",
        "\n",
        "# O\n",
        "if x is not None:\n",
        "  print(\"X is not None\")"
      ],
      "metadata": {
        "id": "CqdlvibFvtdi"
      },
      "execution_count": 5,
      "outputs": []
    },
    {
      "cell_type": "code",
      "source": [
        "try:\n",
        "  import my_module\n",
        "except:\n",
        "  print(\"Exception!\")"
      ],
      "metadata": {
        "colab": {
          "base_uri": "https://localhost:8080/"
        },
        "id": "o9QpLnR3wLyc",
        "outputId": "d254fcdb-b311-4706-e62e-5beab4096d4e"
      },
      "execution_count": 6,
      "outputs": [
        {
          "output_type": "stream",
          "name": "stdout",
          "text": [
            "Exception!\n"
          ]
        }
      ]
    },
    {
      "cell_type": "code",
      "source": [
        "try:\n",
        "  import my_module\n",
        "except ImportError:\n",
        "  print(\"Import Exception!\")"
      ],
      "metadata": {
        "colab": {
          "base_uri": "https://localhost:8080/"
        },
        "id": "AcfkabgnxBYO",
        "outputId": "e7441895-10c9-4bac-c3d2-5ed218b88d80"
      },
      "execution_count": 8,
      "outputs": [
        {
          "output_type": "stream",
          "name": "stdout",
          "text": [
            "Import Exception!\n"
          ]
        }
      ]
    },
    {
      "cell_type": "code",
      "source": [
        "name = \"AdamPark\"\n",
        "\n",
        "# X\n",
        "if name[:4] == 'Adam':\n",
        "  print(name)\n",
        "\n",
        "# O\n",
        "if name.startswith('Adam'):\n",
        "  print(name)"
      ],
      "metadata": {
        "colab": {
          "base_uri": "https://localhost:8080/"
        },
        "id": "SCfacPl6xHJ8",
        "outputId": "f8668379-9692-4c85-8a78-c93fc0d57ba1"
      },
      "execution_count": 9,
      "outputs": [
        {
          "output_type": "stream",
          "name": "stdout",
          "text": [
            "AdamPark\n",
            "AdamPark\n"
          ]
        }
      ]
    },
    {
      "cell_type": "code",
      "source": [],
      "metadata": {
        "id": "11R0tBQkyH0t"
      },
      "execution_count": null,
      "outputs": []
    }
  ]
}