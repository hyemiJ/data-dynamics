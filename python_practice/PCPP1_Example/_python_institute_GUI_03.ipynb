{
  "nbformat": 4,
  "nbformat_minor": 0,
  "metadata": {
    "colab": {
      "provenance": [],
      "authorship_tag": "ABX9TyMUPmJ6xQ8+HHi81kvE/bDb",
      "include_colab_link": true
    },
    "kernelspec": {
      "name": "python3",
      "display_name": "Python 3"
    },
    "language_info": {
      "name": "python"
    }
  },
  "cells": [
    {
      "cell_type": "markdown",
      "metadata": {
        "id": "view-in-github",
        "colab_type": "text"
      },
      "source": [
        "<a href=\"https://colab.research.google.com/github/hyemiJ/data-dynamics/blob/main/python_practice/_python_institute_GUI_03.ipynb\" target=\"_parent\"><img src=\"https://colab.research.google.com/assets/colab-badge.svg\" alt=\"Open In Colab\"/></a>"
      ]
    },
    {
      "cell_type": "code",
      "execution_count": null,
      "metadata": {
        "id": "xhh3E3i2j7EU"
      },
      "outputs": [],
      "source": [
        "# messagebox의 showinfo()\n",
        "import tkinter as tk\n",
        "from tkinter import messagebox\n",
        "\n",
        "\n",
        "def clicked():\n",
        "    messagebox.showinfo(\"제목\", \"내용\\n내용내용\")\n",
        "\n",
        "controller = tk.Tk()\n",
        "button = tk.Button(text=\"정보보기\", command=clicked)\n",
        "button.pack()\n",
        "button2 = tk.Button(text=\"나가기\", command=controller.destroy)\n",
        "button2.pack()\n",
        "\n",
        "controller.mainloop()"
      ]
    },
    {
      "cell_type": "code",
      "source": [
        "# command 함수 :인자 없는 콜백함수 / 인자를 위한 bind()메서드\n",
        "import tkinter as tk\n",
        "from tkinter import messagebox\n",
        "\n",
        "\n",
        "def clicked(event=None):\n",
        "    messagebox.showinfo(\"제목\", \"내용\\n내용내용\")\n",
        "\n",
        "controller = tk.Tk()\n",
        "label = tk.Label(text=\"클릭하세요\")\n",
        "label.bind(\"<Button-1>\", cliked) # bind()사용\n",
        "label.pack()\n",
        "\n",
        "button = tk.Button(text=\"정보보기\", command=clicked) #command 사용\n",
        "button.pack()\n",
        "button2 = tk.Button(text=\"나가기\", command=controller.destroy)\n",
        "button2.pack()\n",
        "\n",
        "\n",
        "window = tk.Tk()\n",
        "window.mainloop()"
      ],
      "metadata": {
        "id": "2EzQvuCOyvWW"
      },
      "execution_count": null,
      "outputs": []
    },
    {
      "cell_type": "code",
      "source": [
        "import tkinter as tk\n",
        "from tkinter import messagebox\n",
        "\n",
        "\n",
        "def clicked(event=None):\n",
        "  if event is None:\n",
        "    messagebox.showinfo(\"제목\", \"내용\\n내용내용\")\n",
        "  else:\n",
        "    info = f\"x = {str(event.x)}, y = {str(event.y)}, num = {str(event.num)}, type = {str(event.type)}\"\n",
        "    messagebox.showinfo(\"클릭 좌표\", info)\n",
        "\n",
        "controller = tk.Tk()\n",
        "label = tk.Label(text=\"클릭하세요\")\n",
        "label.bind(\"<Button-1>\", cliked) # bind()사용\n",
        "label.pack()\n",
        "\n",
        "button = tk.Button(text=\"정보보기\", command=clicked) #command 사용\n",
        "button.pack()\n",
        "button2 = tk.Button(text=\"나가기\", command=controller.destroy)\n",
        "button2.pack()\n",
        "\n",
        "controller.mainloop()"
      ],
      "metadata": {
        "id": "L5T5c7gp3CQS"
      },
      "execution_count": null,
      "outputs": []
    },
    {
      "cell_type": "code",
      "source": [
        "import tkinter as tk\n",
        "from tkinter import messagebox\n",
        "\n",
        "# 전역 변수 'switch'를 True로 초기화합니다.\n",
        "# 이 변수는 '버튼2' (나가기 버튼)의 현재 상태(켜기/끄기, 활성화/비활성화 등)를 추적하는 플래그 역할을 합니다.\n",
        "switch = True\n",
        "\n",
        "def on_off():\n",
        "  global switch\n",
        "\n",
        "  if switch: # 현재 switch가 True일 경우 (예: '버튼2'가 '켤까 끌까' 문구를 보이는 상태)\n",
        "    # '버튼2'의 command를 아무것도 하지 않는 함수(lambda: None)로 설정합니다.\n",
        "    button2.config(command=lambda: None)\n",
        "\n",
        "    # '버튼2'의 텍스트를 \"켜기!!!\"로 변경합니다. (기능이 비활성화되었음을 나타냄)\n",
        "    button2.config(text=\"켜기!!!\")\n",
        "\n",
        "  else: # 현재 switch가 False일 경우 (예: '버튼2'가 비활성화된 상태)\n",
        "    # '버튼2'의 command를 'turn_off' 함수로 다시 설정합니다.\n",
        "    # 이렇게 하면 '버튼2'를 누르면 메시지 박스가 다시 나오도록 활성화합니다.\n",
        "    button2.config(command=turn_off) # 올바른 함수 이름: turn_off\n",
        "\n",
        "    # '버튼2'의 텍스트를 \"끄기!!!\"로 변경합니다. (기능이 활성화되었음을 나타냄)\n",
        "    button2.config(text=\"끄기!!!\")\n",
        "\n",
        "  # on_off 함수가 호출될 때마다 'switch' 변수의 값을 반전시킵니다.\n",
        "  # (True는 False로, False는 True로)\n",
        "  switch = not switch\n",
        "\n",
        "\n",
        "def turn_off():\n",
        "\n",
        "  messagebox.showinfo(\"\", \"내용\\n내용내용\")\n",
        "\n",
        "controller = tk.Tk()\n",
        "controller.title(\"버튼2 동적 변경 예제\")\n",
        "\n",
        "# '정보보기' 버튼 생성 및 초기 command 설정\n",
        "# 이 버튼을 클릭하면 on_off 함수가 호출됩니다.\n",
        "# on_off 함수는 button2의 command와 text를 변경합니다.\n",
        "button = tk.Button(controller, text=\"정보보기\", command=on_off)\n",
        "\n",
        "# '버튼2' (켤까 끌까 버튼) 생성\n",
        "button2 = tk.Button(controller, text=\"켤까 끌까\", command=turn_off)\n",
        "\n",
        "controller.mainloop()"
      ],
      "metadata": {
        "id": "PTwuME8z6iEe"
      },
      "execution_count": null,
      "outputs": []
    },
    {
      "cell_type": "code",
      "source": [
        "import tkinter as tk\n",
        "\n",
        "switch = True\n",
        "words = [\"A\", \"Old\", \"Had\", \"McDonald\", \"Farm\"]\n",
        "word_no = 0\n",
        "\n",
        "def on_off():\n",
        "  global switch\n",
        "  if switch:\n",
        "    lable.unbind(\"<Button-1>\")\n",
        "  else:\n",
        "    lable.bind(\"<Button-1>\", rhyme)\n",
        "  switch = not switch\n",
        "\n",
        "\n",
        "def rhyme(dummy):\n",
        "  global word_no, words\n",
        "  word_no += 1\n",
        "  label.config(text=words[word_no % len(words)])\n",
        "\n",
        "controller = tk.Tk()\n",
        "\n",
        "button = tk.Button(controller, text=\"On/Off\", command=on_off)\n",
        "button.pack()\n",
        "\n",
        "label = tk.Label(controller, text=words[0])\n",
        "label.bind(\"<Button-1>\", rhyme)\n",
        "label.pack()\n",
        "\n",
        "controller.mainloop()"
      ],
      "metadata": {
        "id": "Rj44ADXLaf38"
      },
      "execution_count": null,
      "outputs": []
    },
    {
      "cell_type": "code",
      "source": [
        "import tkinter as tk\n",
        "from tkinter import messagebox\n",
        "\n",
        "def hello(dummy):\n",
        "  messagebox.showinfo(\"\",\"Hello!!\")\n",
        "\n",
        "controller = tk.Tk()\n",
        "button = tk.Button(controller, text=\"On/Off\")\n",
        "button.pack()\n",
        "label = tk.Label(controller, text=\"Label\")\n",
        "label.pack()\n",
        "frame = tk.Frame(controller, width=100, height=100)\n",
        "frame.pack()\n",
        "\n",
        "controller.bind_all(\"<Button-1>\", hello)\n",
        "controller.mainloop()"
      ],
      "metadata": {
        "id": "DYmnWU82crBu"
      },
      "execution_count": null,
      "outputs": []
    }
  ]
}