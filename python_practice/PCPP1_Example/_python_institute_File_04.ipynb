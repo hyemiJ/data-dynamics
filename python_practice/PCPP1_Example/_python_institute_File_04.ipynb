{
  "nbformat": 4,
  "nbformat_minor": 0,
  "metadata": {
    "colab": {
      "provenance": [],
      "authorship_tag": "ABX9TyMwnukX1q++CYlM8KO1SxlR",
      "include_colab_link": true
    },
    "kernelspec": {
      "name": "python3",
      "display_name": "Python 3"
    },
    "language_info": {
      "name": "python"
    }
  },
  "cells": [
    {
      "cell_type": "markdown",
      "metadata": {
        "id": "view-in-github",
        "colab_type": "text"
      },
      "source": [
        "<a href=\"https://colab.research.google.com/github/hyemiJ/data-dynamics/blob/main/python_practice/PCPP1_Example/_python_institute_File_04.ipynb\" target=\"_parent\"><img src=\"https://colab.research.google.com/assets/colab-badge.svg\" alt=\"Open In Colab\"/></a>"
      ]
    },
    {
      "cell_type": "code",
      "execution_count": null,
      "metadata": {
        "id": "mQWHNkjYHNa5"
      },
      "outputs": [],
      "source": [
        "#logging\n",
        "import logging"
      ]
    },
    {
      "cell_type": "code",
      "source": [
        "import logging\n",
        "\n",
        "\n",
        "root_logger = logging.getLogger()\n",
        "mother_logger = logging.getLogger('mother')\n",
        "son_logger = logging.getLogger('mother.son')\n",
        "recommend_logger = logging.getLogger(__name__)"
      ],
      "metadata": {
        "id": "sj9w0U7FHSPl"
      },
      "execution_count": null,
      "outputs": []
    },
    {
      "cell_type": "code",
      "source": [
        "#logging level\n",
        "import logging\n",
        "\n",
        "logger = logging.getLogger()\n",
        "logger.critical('critical')\n",
        "logger.error('error')\n",
        "logger.warning('warning')\n",
        "logger.info('info')\n",
        "logger.debug('debug')"
      ],
      "metadata": {
        "colab": {
          "base_uri": "https://localhost:8080/"
        },
        "id": "Ou3ImlzCIbJw",
        "outputId": "1891a0ac-0065-4376-aa17-3b5e65d7b420"
      },
      "execution_count": null,
      "outputs": [
        {
          "output_type": "stream",
          "name": "stderr",
          "text": [
            "CRITICAL:root:critical\n",
            "ERROR:root:error\n",
            "WARNING:root:warning\n"
          ]
        }
      ]
    },
    {
      "cell_type": "code",
      "source": [
        "#setLevel\n",
        "import logging\n",
        "\n",
        "logger = logging.getLogger()\n",
        "logger.setLevel(logging.DEBUG)\n",
        "logger.critical('critical')\n",
        "logger.error('error')\n",
        "logger.warning('warning')\n",
        "logger.info('info')\n",
        "logger.debug('debug')"
      ],
      "metadata": {
        "colab": {
          "base_uri": "https://localhost:8080/"
        },
        "id": "KmRoPViaLQum",
        "outputId": "18ef8115-93e1-4895-a8d5-94052cc9452d"
      },
      "execution_count": null,
      "outputs": [
        {
          "output_type": "stream",
          "name": "stderr",
          "text": [
            "CRITICAL:root:critical\n",
            "ERROR:root:error\n",
            "WARNING:root:warning\n",
            "INFO:root:info\n",
            "DEBUG:root:debug\n"
          ]
        }
      ]
    },
    {
      "cell_type": "code",
      "source": [
        "#basicCongig()\n",
        "import logging\n",
        "\n",
        "logging.basicConfig(level=logging.CRITICAL, filename=\"prod.log\", filemode='a')\n",
        "logger = logging.getLogger()\n",
        "logger.critical('critical message')\n",
        "logger.error('error message')\n",
        "logger.warning('warning message')\n",
        "logger.info('info message')\n",
        "logger.debug('debug message')\n",
        "\n",
        "#colab으로 테스트 불가하나, 로컬에서 실행시 prod.log 파일이 생성되고 실행할때마다\n",
        "#CRITICAL:root:criticla message 문구가 추가되는 것을 확인할 수 있음."
      ],
      "metadata": {
        "colab": {
          "base_uri": "https://localhost:8080/"
        },
        "id": "rmsU40n5Mosq",
        "outputId": "f8903c80-485e-4617-d6e8-7bd3224b6a60"
      },
      "execution_count": null,
      "outputs": [
        {
          "output_type": "stream",
          "name": "stderr",
          "text": [
            "CRITICAL:root:critical message\n",
            "ERROR:root:error message\n",
            "WARNING:root:warning message\n",
            "INFO:root:info message\n",
            "DEBUG:root:debug message\n"
          ]
        }
      ]
    },
    {
      "cell_type": "code",
      "source": [
        "# 파일 내용 포메팅\n",
        "import logging\n",
        "\n",
        "FORMAT = \"%(name)s : %(asctime)s: %(levelname)s: %(message)s\"\n",
        "\n",
        "logging.basicConfig(level=logging.CRITICAL, filename=\"prod.log\", filemode='a', format=FORMAT)\n",
        "logger = logging.getLogger()\n",
        "logger.critical('critical message')\n",
        "logger.error('error message')\n",
        "logger.warning('warning message')\n",
        "logger.info('info message')\n",
        "logger.debug('debug message')"
      ],
      "metadata": {
        "colab": {
          "base_uri": "https://localhost:8080/"
        },
        "id": "NftzIJ_hQCWc",
        "outputId": "7102dbc3-eba1-4b7b-f78f-3bd0ecd508ca"
      },
      "execution_count": null,
      "outputs": [
        {
          "output_type": "stream",
          "name": "stderr",
          "text": [
            "CRITICAL:root:critical message\n",
            "ERROR:root:error message\n",
            "WARNING:root:warning message\n",
            "INFO:root:info message\n",
            "DEBUG:root:debug message\n"
          ]
        }
      ]
    },
    {
      "cell_type": "code",
      "source": [
        "#핸들러\n",
        "import logging\n",
        "\n",
        "logger = logging.getLogger(__name__)\n",
        "\n",
        "handler = logging.FileHandler('prod.log', mode='a')\n",
        "handler.setLevel(logging.CRITICAL)\n",
        "\n",
        "logger.addHandler(handler)\n",
        "\n",
        "logger.critical('critical message')\n",
        "logger.error('error message')\n",
        "logger.warning('warning message')\n",
        "logger.info('info message')\n",
        "logger.debug('debug message')"
      ],
      "metadata": {
        "id": "-sE8QVPVQUDM"
      },
      "execution_count": null,
      "outputs": []
    },
    {
      "cell_type": "code",
      "source": [
        "#포메터\n",
        "import logging\n",
        "\n",
        "FORMAT = \"%(name)s : %(asctime)s: %(levelname)s: %(message)s\"\n",
        "logger = logging.getLogger(__name__)\n",
        "\n",
        "handler = logging.FileHandler('prod.log', mode='a') # handler\n",
        "handler.setLevel(logging.CRITICAL) # handler <- level config\n",
        "\n",
        "formatter = logging.Formatter(FORMAT) # formatter\n",
        "handler.setFormatter(formatter)  # handler <- formatter\n",
        "\n",
        "logger.addHandler(handler) # logger <- handler\n",
        "\n",
        "logger.critical('critical message')\n",
        "logger.error('error message')\n",
        "logger.warning('warning message')\n",
        "logger.info('info message')\n",
        "logger.debug('debug message')"
      ],
      "metadata": {
        "id": "d-UyXmE_8uir"
      },
      "execution_count": null,
      "outputs": []
    }
  ]
}