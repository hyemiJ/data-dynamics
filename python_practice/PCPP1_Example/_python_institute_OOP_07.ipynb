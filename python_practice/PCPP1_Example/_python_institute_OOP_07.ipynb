{
  "nbformat": 4,
  "nbformat_minor": 0,
  "metadata": {
    "colab": {
      "provenance": [],
      "authorship_tag": "ABX9TyO4mBIAoFaf5BUoOVGNJ4xr",
      "include_colab_link": true
    },
    "kernelspec": {
      "name": "python3",
      "display_name": "Python 3"
    },
    "language_info": {
      "name": "python"
    }
  },
  "cells": [
    {
      "cell_type": "markdown",
      "metadata": {
        "id": "view-in-github",
        "colab_type": "text"
      },
      "source": [
        "<a href=\"https://colab.research.google.com/github/hyemiJ/data-dynamics/blob/main/python_practice/_python_institute_OOP_07.ipynb\" target=\"_parent\"><img src=\"https://colab.research.google.com/assets/colab-badge.svg\" alt=\"Open In Colab\"/></a>"
      ]
    },
    {
      "cell_type": "code",
      "execution_count": 6,
      "metadata": {
        "id": "z31sfGV7BMmq"
      },
      "outputs": [],
      "source": [
        "# built-in classes\n",
        "class IntergerList(list):\n",
        "\n",
        "  @staticmethod\n",
        "  def check_interger(value):\n",
        "    if type(value) is not int:\n",
        "      raise ValueError('int 타입 아님')\n",
        "\n",
        "  def __setitem__(self, index, value):\n",
        "    IntergerList.check_interger(value)\n",
        "    list.__setitem__(self,index, value)\n",
        "\n",
        "  def append(self, value):\n",
        "    IntergerList.check_interger(value)\n",
        "    super().append(value)          #list를 활용하지 않고 super() 키워드 사용시 self 필요 없음.\n",
        "\n",
        "  def extend(self, iterable):\n",
        "    for elemnet in iterable:\n",
        "      IntergerList.check_interger(elemnet)\n",
        "    list.extend(self,iterable)"
      ]
    },
    {
      "cell_type": "code",
      "source": [
        "int_list = IntergerList()"
      ],
      "metadata": {
        "id": "WDwkujrlC_du"
      },
      "execution_count": 7,
      "outputs": []
    },
    {
      "cell_type": "code",
      "source": [
        "int_list.append(66)\n",
        "int_list.append(22)\n",
        "print(\"Appending ...:\",int_list)"
      ],
      "metadata": {
        "colab": {
          "base_uri": "https://localhost:8080/"
        },
        "id": "WuFAZAYPDcg-",
        "outputId": "e2341a37-c0d5-4298-ffe8-ae1344fc6e23"
      },
      "execution_count": 8,
      "outputs": [
        {
          "output_type": "stream",
          "name": "stdout",
          "text": [
            "Appending ...: [66, 22]\n"
          ]
        }
      ]
    },
    {
      "cell_type": "code",
      "source": [
        "int_list[0] = 44\n",
        "print(\"Inserting ...:\",int_list)"
      ],
      "metadata": {
        "colab": {
          "base_uri": "https://localhost:8080/"
        },
        "id": "oNqb_DHiDt5W",
        "outputId": "e5a4acbc-bfa0-4165-e2ba-cbbf5ff9402b"
      },
      "execution_count": 9,
      "outputs": [
        {
          "output_type": "stream",
          "name": "stdout",
          "text": [
            "Inserting ...: [44, 22]\n"
          ]
        }
      ]
    },
    {
      "cell_type": "code",
      "source": [
        "int_list.extend([1,2,3,4,5])\n",
        "print(\"Extending ...:\",int_list)"
      ],
      "metadata": {
        "colab": {
          "base_uri": "https://localhost:8080/"
        },
        "id": "zgAKsX5jD6Wp",
        "outputId": "90302260-65af-4afa-db0f-69c26253f897"
      },
      "execution_count": 10,
      "outputs": [
        {
          "output_type": "stream",
          "name": "stdout",
          "text": [
            "Extending ...: [44, 22, 1, 2, 3, 4, 5]\n"
          ]
        }
      ]
    },
    {
      "cell_type": "code",
      "source": [
        "try :\n",
        "  int_list.append('abc')\n",
        "except ValueError as e:\n",
        "  print(e)"
      ],
      "metadata": {
        "colab": {
          "base_uri": "https://localhost:8080/"
        },
        "id": "WPk06zwqEF6X",
        "outputId": "720012f2-c7dc-425c-901a-1c0e0f03f72f"
      },
      "execution_count": 11,
      "outputs": [
        {
          "output_type": "stream",
          "name": "stdout",
          "text": [
            "int 타입 아님\n"
          ]
        }
      ]
    },
    {
      "cell_type": "code",
      "source": [
        "# built-in classes\n",
        "from datetime import datetime\n",
        "\n",
        "class MonitoredDict(dict):\n",
        "  def __init__(self, *args, **kwargs):\n",
        "    super().__init__(*args, **kwargs)\n",
        "    self.log = list()\n",
        "    self.log_timestamp('MonitoredDict created')\n",
        "\n",
        "  def __getitem__(self, key):\n",
        "    result = super().__getitem__(key)\n",
        "    self.log_timestamp('__getitem__({})'.format(key))\n",
        "    return result\n",
        "\n",
        "  def __setitem__(self, key, value):\n",
        "    super().__setitem__(key, value)\n",
        "    self.log_timestamp('__setitem__({}, {})'.format(key, value))\n",
        "\n",
        "  def log_timestamp(self, message):\n",
        "    timestampStr = datetime.now().strftime('%Y-%m-%d %H:%M:%S')\n",
        "    self.log.append('{}: {}'.format(timestampStr, message))"
      ],
      "metadata": {
        "id": "76FL7r1SFN0Y"
      },
      "execution_count": 12,
      "outputs": []
    },
    {
      "cell_type": "code",
      "source": [
        "md = MonitoredDict()"
      ],
      "metadata": {
        "id": "kA1TDcmXIDru"
      },
      "execution_count": 13,
      "outputs": []
    },
    {
      "cell_type": "code",
      "source": [
        "md[10] = 15"
      ],
      "metadata": {
        "id": "U6mWU4_RIuDn"
      },
      "execution_count": 14,
      "outputs": []
    },
    {
      "cell_type": "code",
      "source": [
        "md[20] = 25"
      ],
      "metadata": {
        "id": "VL0AZP3FJrub"
      },
      "execution_count": 15,
      "outputs": []
    },
    {
      "cell_type": "code",
      "source": [
        "print(\"md[10] :\",md[10])\n",
        "print(\"md :\",md)\n",
        "print(\"log :\")\n",
        "print('\\n'.join(md.log))"
      ],
      "metadata": {
        "colab": {
          "base_uri": "https://localhost:8080/"
        },
        "id": "VCJ6d-cCJtLD",
        "outputId": "3ad587bd-0699-4197-a4fa-e81089f871e8"
      },
      "execution_count": 16,
      "outputs": [
        {
          "output_type": "stream",
          "name": "stdout",
          "text": [
            "md[10] : 15\n",
            "md : {10: 15, 20: 25}\n",
            "log :\n",
            "2025-06-23 05:20:40: MonitoredDict created\n",
            "2025-06-23 05:20:41: __setitem__(10, 15)\n",
            "2025-06-23 05:20:41: __getitem__(10)\n",
            "2025-06-23 05:20:42: __setitem__(20, 25)\n",
            "2025-06-23 05:20:42: __getitem__(10)\n",
            "2025-06-23 05:20:42: __getitem__(20)\n",
            "2025-06-23 05:20:42: __getitem__(10)\n"
          ]
        }
      ]
    },
    {
      "cell_type": "code",
      "source": [],
      "metadata": {
        "id": "J9ZwaspjJvfO"
      },
      "execution_count": null,
      "outputs": []
    }
  ]
}