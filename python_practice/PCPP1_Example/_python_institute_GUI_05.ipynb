{
  "nbformat": 4,
  "nbformat_minor": 0,
  "metadata": {
    "colab": {
      "provenance": [],
      "authorship_tag": "ABX9TyMDIFvesWK0Fz7fxxDKrahA",
      "include_colab_link": true
    },
    "kernelspec": {
      "name": "python3",
      "display_name": "Python 3"
    },
    "language_info": {
      "name": "python"
    }
  },
  "cells": [
    {
      "cell_type": "markdown",
      "metadata": {
        "id": "view-in-github",
        "colab_type": "text"
      },
      "source": [
        "<a href=\"https://colab.research.google.com/github/hyemiJ/data-dynamics/blob/main/python_practice/_python_institute_GUI_05.ipynb\" target=\"_parent\"><img src=\"https://colab.research.google.com/assets/colab-badge.svg\" alt=\"Open In Colab\"/></a>"
      ]
    },
    {
      "cell_type": "code",
      "execution_count": null,
      "metadata": {
        "id": "CYnSWfqiuyU3"
      },
      "outputs": [],
      "source": [
        "#클릭 가능한 요소 Button\n",
        "import tkinter as tk\n",
        "\n",
        "def switch():\n",
        "  if button1.cget('state') == tk.DISABLED:\n",
        "    button1.config(state=tk.NORMAL)\n",
        "    button1.flash()\n",
        "  else:\n",
        "    button1.flash()\n",
        "    button1.config(state=tk.DISABLED)\n",
        "\n",
        "def mouseover(ev):\n",
        "  button1['bg'] = 'green'\n",
        "\n",
        "def mouseout(ev):\n",
        "  button1['bg'] = 'red'\n",
        "\n",
        "root = tk.Tk()\n",
        "root.title('버튼 속성과 메서드 알아보기')\n",
        "\n",
        "button1 = tk.Button(root, text=\"Enabled\", b=\"red\")\n",
        "button1.bind('<Enter>', mouseover)\n",
        "button1.bind('<Leave>', mouseout)\n",
        "button1.pack()\n",
        "\n",
        "button2 = tk.Button(root, text=\"Enabled/Disabled\", command=switch)\n",
        "button2.pack()\n",
        "\n",
        "root.mainloop()"
      ]
    },
    {
      "cell_type": "code",
      "source": [
        "# 클릭 가능한 요소 Checkbutton\n",
        "import tkinter as tk\n",
        "from tkinter import messageboc\n",
        "\n",
        "def count():\n",
        "  global counter\n",
        "  counter +=1\n",
        "\n",
        "def show():\n",
        "  messagebox.showinfo(\"\",f\"counter = {str(counter)}, state = {str(switch.get())}\")\n",
        "\n",
        "root = tk.Tk()\n",
        "switch = tk.IntVar()\n",
        "counter = 0\n",
        "button = tk.Button(root, text=\"Show\", command=show)\n",
        "button.pack()\n",
        "\n",
        "checkbutton = tk.Checkbutton(root, text=\"Counter\", variable=switch)\n",
        "checkbutton.pack()\n",
        "\n",
        "root.mainloop()"
      ],
      "metadata": {
        "id": "aUaiuHyjwlXN"
      },
      "execution_count": null,
      "outputs": []
    },
    {
      "cell_type": "code",
      "source": [
        "# Checkbutton이 invoke()를 이용한 트리거\n",
        "import tkinter as tk\n",
        "from tkinter import messagebox\n",
        "\n",
        "def count():\n",
        "  global counter\n",
        "  counter +=1\n",
        "\n",
        "def show():\n",
        "  messagebox.showinfo(\"\",f\"counter = {str(counter)}, state = {str(switch.get())}\")\n",
        "\n",
        "root = tk.Tk()\n",
        "switch = tk.IntVar()\n",
        "counter = 0\n",
        "button = tk.Button(root, text=\"Show\", command=show)\n",
        "button.pack()\n",
        "\n",
        "checkbutton = tk.Checkbutton(root, text=\"Tick\", variable=switch, command=counter)\n",
        "checkbutton.pack()\n",
        "\n",
        "root.mainloop()"
      ],
      "metadata": {
        "id": "HDDFYBqgxqZ7"
      },
      "execution_count": null,
      "outputs": []
    },
    {
      "cell_type": "code",
      "source": [
        "#radiobutton\n",
        "import tkinter as tk\n",
        "from tkinter import messagebox\n",
        "\n",
        "def show():\n",
        "  messagebox.showinfo(\"\",f\"radio1 : {str(radio1.get())}, radio2 : {str(radio2.get())}\")\n",
        "\n",
        "def command_1():\n",
        "  radio2_var.set(radio1_var.get())\n",
        "\n",
        "def command_2():\n",
        "  radio1_var.set(radio2_var.get())\n",
        "\n",
        "root = tk.Tk()\n",
        "button = tk.Button(root text=\"Show\", command=show)\n",
        "button.pack()\n",
        "\n",
        "radio1_var = tk.IntVar()\n",
        "radio1_1 = tk.Radiobutton(root, text=\"Pizza\", variable=radio1_var, value=1, command=command_1)\n",
        "radio1_1.select()\n",
        "radio1_1.pack()\n",
        "radio1_2 = tk.Radiobutton(root, text=\"Pasta\", variable=radio1_var, value=2, command=command_1)\n",
        "radio1_2.pack()\n",
        "\n",
        "radio2_var = tk.IntVar()\n",
        "radio2_1 = tk.Radiobutton(root, text=\"FR\", variable=radio2_var, value=2, command=command_2)\n",
        "radio2_1.pack()\n",
        "radio2_2 = tk.Radiobutton(root, text=\"UK\", variable=radio2_var, value=1, command=command_2)\n",
        "radio2_2.select()\n",
        "radio2_2.pack()\n",
        "\n",
        "root.mainloop()"
      ],
      "metadata": {
        "id": "zUpihRQl0mRK"
      },
      "execution_count": null,
      "outputs": []
    },
    {
      "cell_type": "code",
      "source": [
        "# Entry\n",
        "import tkinter as tk\n",
        "\n",
        "def digits_only(*args):\n",
        "  global last_string\n",
        "  string = text.get()\n",
        "  if string =='' or string.isdigit():\n",
        "    last_string = string\n",
        "  else:\n",
        "    text.set(last_string)\n",
        "\n",
        "last_string = ''\n",
        "root = tk.Tk()\n",
        "text = tk.StringVar()\n",
        "\n",
        "entry = tk.Entry(root, textvariable=text)\n",
        "text.set(last_string)\n",
        "text.trace(\"w\", digits_only)\n",
        "\n",
        "entry.pack()\n",
        "entry.focus_set()\n",
        "\n",
        "root.mainloop()"
      ],
      "metadata": {
        "id": "yx1MF_XZluRg"
      },
      "execution_count": null,
      "outputs": []
    },
    {
      "cell_type": "code",
      "source": [
        "# label\n",
        "import tkinter as tk\n",
        "\n",
        "def to_string(x):\n",
        "  return \"Current counter\\nvalue is :\\n\"+ str(x)\n",
        "\n",
        "def plus():\n",
        "  global counter\n",
        "  counter +=1\n",
        "  text.set(to_string(counter))\n",
        "\n",
        "counter = 0\n",
        "root = tk.Tk()\n",
        "root.title(\"Label\")\n",
        "\n",
        "button = tk.Button(root, text=\"Plus(+)\", command=plus)\n",
        "button.pack()\n",
        "\n",
        "text = tk.StringVar()\n",
        "label = tk.Label(root, textvariable=text, height=4)\n",
        "text.set(to_string(counter))\n",
        "label.pack()\n",
        "\n",
        "root.mainloop()"
      ],
      "metadata": {
        "id": "vgDKK37lWrby"
      },
      "execution_count": null,
      "outputs": []
    },
    {
      "cell_type": "code",
      "source": [
        "# Message\n",
        "import tkinter as tk\n",
        "\n",
        "def do_it_again():\n",
        "  text.set(text.get()+\"and again..\")\n",
        "\n",
        "root = tk.Tk()\n",
        "button = tk.Button(root, text=\"Do it again\", command=do_it_again)\n",
        "button.pack()\n",
        "\n",
        "text = tk.StringVar()\n",
        "message = tk.Message(root, textvariable=text, width=400)\n",
        "text.set(\"Do it\")\n",
        "message.pack()\n",
        "\n",
        "root.mainloop()"
      ],
      "metadata": {
        "id": "X6Rr8P5ZZUJ7"
      },
      "execution_count": null,
      "outputs": []
    },
    {
      "cell_type": "code",
      "source": [
        "#frame\n",
        "import tkinter as tk\n",
        "\n",
        "root = tk.Tk()\n",
        "\n",
        "frame_1 = tk.Frame(root, width=200, height=100, bg=\"pink\")\n",
        "frame_2 = tk.Frame(root, width=200, height=100, bg=\"yellow\")\n",
        "\n",
        "button1_1 = tk.Button(frame_1, text=\"버튼 1, 프레임 1\")\n",
        "button1_2 = tk.Button(frame_1, text=\"버튼 2, 프레임 1\")\n",
        "\n",
        "button2_1 = tk.Button(frame_2, text=\"버튼 1, 프레임 2\")\n",
        "button2_2 = tk.Button(frame_2, text=\"버튼 2, 프레임 2\")\n",
        "\n",
        "button1_1.place(x=10, y=10)\n",
        "button1_2.place(x=10, y=50)\n",
        "button2_1.grid(row=0, column=0)\n",
        "button2_2.grid(row=1, column=1)\n",
        "\n",
        "frame_1.pack()\n",
        "frame_2.pack()\n",
        "\n",
        "root.mainloop()"
      ],
      "metadata": {
        "id": "45IXcBYsb-bX"
      },
      "execution_count": null,
      "outputs": []
    },
    {
      "cell_type": "code",
      "source": [
        "#labelframe\n",
        "import tkinter as tk\n",
        "root = tk.Tk()\n",
        "\n",
        "labelframe1 = tk.LabelFrame(root, text=\"Label Frame 1\", width=200, height=100, bg=\"pink\")\n",
        "labelframe2 = tk.LabelFrame(root, text=\"Label Frame 2\", width=200, height=100, bg=\"yellow\", labelanchor=\"se\")\n",
        "\n",
        "button1_1 = tk.Button(labelframe1, text=\"버튼 1, 프레임 1\")\n",
        "button1_2 = tk.Button(labelframe1, text=\"버튼 2, 프레임 1\")\n",
        "\n",
        "button2_1 = tk.Button(labelframe2, text=\"버튼 1, 프레임 2\")\n",
        "button2_2 = tk.Button(labelframe2, text=\"버튼 2, 프레임 2\")\n",
        "\n",
        "button1_1.place(x=10, y=10)\n",
        "button1_2.place(x=10, y=50)\n",
        "button2_1.grid(row=0, column=0)\n",
        "button2_2.grid(row=1, column=1)\n",
        "\n",
        "labelframe1.pack()\n",
        "labelframe2.pack()\n",
        "root.mainloop()"
      ],
      "metadata": {
        "id": "pPWus7taelax"
      },
      "execution_count": null,
      "outputs": []
    },
    {
      "cell_type": "code",
      "source": [],
      "metadata": {
        "id": "RepHkcLIlsWq"
      },
      "execution_count": null,
      "outputs": []
    }
  ]
}