{
 "nbformat": 4,
 "nbformat_minor": 0,
 "metadata": {
  "colab": {
   "provenance": [],
   "authorship_tag": "ABX9TyMtrxivKjCPNVofdWWt5zCr",
   "include_colab_link": true
  },
  "kernelspec": {
   "name": "python3",
   "display_name": "Python 3"
  },
  "language_info": {
   "name": "python"
  }
 },
 "cells": [
  {
   "cell_type": "markdown",
   "metadata": {
    "id": "view-in-github",
    "colab_type": "text"
   },
   "source": [
    "<a href=\"https://colab.research.google.com/github/hyemiJ/data-dynamics/blob/main/python_practice/_python_institute_API_01.ipynb\" target=\"_parent\"><img src=\"https://colab.research.google.com/assets/colab-badge.svg\" alt=\"Open In Colab\"/></a>"
   ]
  },
  {
   "cell_type": "markdown",
   "source": [
    "### Python을 이용하여 서버에서 문서 가져오기\n",
    "\n",
    "1. 소켓 생성\n",
    "2. 소켓으로 주어진 주소에 HTTP 서버에 연결\n",
    "3. 서버에 요청을 보내기\n",
    "4. 서버의 응답을 받기\n",
    "5. 소켓을 닫아 연결을 종료."
   ],
   "metadata": {
    "id": "ScemVk2Vks6z"
   }
  },
  {
   "cell_type": "code",
   "source": [
    "import socket"
   ],
   "metadata": {
    "id": "3Ad4Q0IilBHR"
   },
   "execution_count": 1,
   "outputs": []
  },
  {
   "cell_type": "code",
   "metadata": {
    "id": "FzhPAhCuknXe",
    "ExecuteTime": {
     "end_time": "2025-07-13T14:11:06.786630Z",
     "start_time": "2025-07-13T14:10:32.292817Z"
    }
   },
   "source": [
    "import socket\n",
    "\n",
    "server_address = input(\"어떤 서버와 연결할건가요 ? :\")"
   ],
   "outputs": [],
   "execution_count": 1
  },
  {
   "cell_type": "code",
   "source": [
    "# socket 생성\n",
    "import socket\n",
    "\n",
    "server_address = input(\"어떤 서버와 연결할건가요 ? :\")\n",
    "sock = socket.socket(socket.AF_INET, socket.SOCK_STREAM)"
   ],
   "metadata": {
    "id": "gMA1lMUwmet4",
    "ExecuteTime": {
     "end_time": "2025-07-13T14:11:28.709109Z",
     "start_time": "2025-07-13T14:11:18.579112Z"
    }
   },
   "outputs": [],
   "execution_count": 2
  },
  {
   "cell_type": "code",
   "source": [
    "# 서버 연결\n",
    "import socket\n",
    "\n",
    "server_address = input(\"어떤 서버와 연결할건가요 ? :\")\n",
    "sock = socket.socket(socket.AF_INET, socket.SOCK_STREAM)\n",
    "sock.connect((server_address, 80))"
   ],
   "metadata": {
    "id": "jU2tfZo1p-ok",
    "ExecuteTime": {
     "end_time": "2025-07-13T14:12:12.855564Z",
     "start_time": "2025-07-13T14:12:03.603615Z"
    }
   },
   "outputs": [],
   "execution_count": 4
  },
  {
   "cell_type": "code",
   "source": [
    "#서버에 문서 요청\n",
    "import socket\n",
    "\n",
    "server_address = input(\"어떤 서버와 연결할건가요 ? :\")\n",
    "sock = socket.socket(socket.AF_INET, socket.SOCK_STREAM)\n",
    "sock.connect((server_address, 80))\n",
    "sock.sendall(b'GET / HTTP/1.0\\r\\nHost:' +\n",
    "             bytes(server_address, \"utf8\") +\n",
    "             b\"\\rnConnection: close\\r\\n\\r\\n\")"
   ],
   "metadata": {
    "id": "RDQqTS2RvGVr",
    "ExecuteTime": {
     "end_time": "2025-07-13T14:12:25.498664Z",
     "start_time": "2025-07-13T14:12:18.760546Z"
    }
   },
   "outputs": [],
   "execution_count": 5
  },
  {
   "cell_type": "code",
   "source": [
    "#응답 나눠 받기\n",
    "import socket\n",
    "\n",
    "server_address = input(\"어떤 서버와 연결할건가요 ? :\")\n",
    "sock = socket.socket(socket.AF_INET, socket.SOCK_STREAM)\n",
    "sock.connect((server_address, 80))\n",
    "sock.sendall(b'GET / HTTP/1.0\\r\\nHost:' +\n",
    "             bytes(server_address, \"utf8\") +\n",
    "             b\"\\rnConnection: close\\r\\n\\r\\n\")\n",
    "reply = sock.recv(10000)"
   ],
   "metadata": {
    "id": "tB5HdqDVyPQ1",
    "ExecuteTime": {
     "end_time": "2025-07-13T14:12:39.344275Z",
     "start_time": "2025-07-13T14:12:31.809464Z"
    }
   },
   "outputs": [],
   "execution_count": 6
  },
  {
   "cell_type": "code",
   "source": [
    "# 연결 종료\n",
    "import socket\n",
    "\n",
    "server_address = input(\"어떤 서버와 연결할건가요 ? :\")\n",
    "sock = socket.socket(socket.AF_INET, socket.SOCK_STREAM)\n",
    "sock.connect((server_address, 80))\n",
    "sock.sendall(b'GET / HTTP/1.0\\r\\nHost:' +\n",
    "             bytes(server_address, \"utf8\") +\n",
    "             b\"\\rnConnection: close\\r\\n\\r\\n\")\n",
    "reply = sock.recv(10000)\n",
    "sock.shutdown(socket.SHUT_RDWR)\n",
    "sock.close()"
   ],
   "metadata": {
    "id": "hcwkFQ4H1Gbq",
    "ExecuteTime": {
     "end_time": "2025-07-13T14:12:53.107674Z",
     "start_time": "2025-07-13T14:12:46.991020Z"
    }
   },
   "outputs": [],
   "execution_count": 7
  },
  {
   "cell_type": "code",
   "source": [
    "# 응답 출력\n",
    "import socket\n",
    "\n",
    "server_address = input(\"어떤 서버와 연결할건가요 ? :\")\n",
    "sock = socket.socket(socket.AF_INET, socket.SOCK_STREAM)\n",
    "sock.connect((server_address, 80))\n",
    "sock.sendall(b'GET / HTTP/1.0\\r\\nHost:' +\n",
    "             bytes(server_address, \"utf8\") +\n",
    "             b\"\\rnConnection: close\\r\\n\\r\\n\")\n",
    "reply = sock.recv(10000)\n",
    "sock.shutdown(socket.SHUT_RDWR)\n",
    "sock.close()\n",
    "print(repr(reply))"
   ],
   "metadata": {
    "id": "5cmMhAvG3zUr",
    "ExecuteTime": {
     "end_time": "2025-07-13T14:13:01.902137Z",
     "start_time": "2025-07-13T14:12:55.313922Z"
    }
   },
   "outputs": [
    {
     "name": "stdout",
     "output_type": "stream",
     "text": [
      "b'HTTP/1.0 400 Bad Request\\r\\nContent-Length: 54\\r\\nContent-Type: text/html; charset=UTF-8\\r\\nDate: Sun, 13 Jul 2025 14:13:01 GMT\\r\\n\\r\\n<html><title>Error 400 (Bad Request)!!1</title></html>'\n"
     ]
    }
   ],
   "execution_count": 8
  }
 ]
}
