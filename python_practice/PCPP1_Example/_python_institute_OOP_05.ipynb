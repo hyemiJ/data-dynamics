{
  "nbformat": 4,
  "nbformat_minor": 0,
  "metadata": {
    "colab": {
      "provenance": [],
      "authorship_tag": "ABX9TyMCJiWs+J4vgpnQ7o4egNDs",
      "include_colab_link": true
    },
    "kernelspec": {
      "name": "python3",
      "display_name": "Python 3"
    },
    "language_info": {
      "name": "python"
    }
  },
  "cells": [
    {
      "cell_type": "markdown",
      "metadata": {
        "id": "view-in-github",
        "colab_type": "text"
      },
      "source": [
        "<a href=\"https://colab.research.google.com/github/hyemiJ/data-dynamics/blob/main/python_practice/_python_institute_OOP_05.ipynb\" target=\"_parent\"><img src=\"https://colab.research.google.com/assets/colab-badge.svg\" alt=\"Open In Colab\"/></a>"
      ]
    },
    {
      "cell_type": "code",
      "execution_count": null,
      "metadata": {
        "id": "ReoGeXGJWAhj"
      },
      "outputs": [],
      "source": [
        "# 캡슐화\n",
        "class Washer:\n",
        "    def washingtime(self):\n",
        "      self.__time = 10\n",
        "\n",
        "    def gettime(self):\n",
        "      return self.__time"
      ]
    },
    {
      "cell_type": "code",
      "source": [
        "washer = Washer()\n",
        "washer.washingtime()\n",
        "washer.gettime()"
      ],
      "metadata": {
        "colab": {
          "base_uri": "https://localhost:8080/"
        },
        "id": "3jMCU1ZeWJm9",
        "outputId": "f644017e-df01-4127-8c2c-f0139620ed80"
      },
      "execution_count": null,
      "outputs": [
        {
          "output_type": "execute_result",
          "data": {
            "text/plain": [
              "10"
            ]
          },
          "metadata": {},
          "execution_count": 4
        }
      ]
    },
    {
      "cell_type": "code",
      "source": [
        "# 예외 클래스 정의\n",
        "class CupError(Exception):\n",
        "    pass\n",
        "\n",
        "# 컵 클래스\n",
        "class WaterCup:\n",
        "    def __init__(self, max_volume):  # 최대 담을 수 있는 물의 양\n",
        "        self.__max_volume = max_volume\n",
        "        self.__current_volume = 0    # 처음엔 비어 있음\n",
        "\n",
        "    @property\n",
        "    def water(self):\n",
        "        return self.__current_volume\n",
        "\n",
        "    @water.setter\n",
        "    def water(self, amount):\n",
        "        if amount < 0:\n",
        "            raise CupError(\"물이 마이너스일 수는 없어!\")  # 음수 안됨\n",
        "        elif amount > self.__max_volume:\n",
        "            raise CupError(\"컵이 넘쳤어!\")  # 최대 용량 초과 안됨\n",
        "        self.__current_volume = amount  # 정상 입력일 경우 저장\n",
        "\n",
        "    @water.deleter\n",
        "    def water(self):\n",
        "        self.__current_volume = None  # 물 정보 지우기"
      ],
      "metadata": {
        "id": "9vZkj7ydXEWr"
      },
      "execution_count": 1,
      "outputs": []
    },
    {
      "cell_type": "code",
      "source": [
        "my_cup = WaterCup(20)\n",
        "print(\"생성 후 :\",my_cup.water)\n",
        "\n",
        "my_cup.water = 10\n",
        "print(\"= 10 :\",my_cup.water)\n",
        "\n",
        "my_cup.water += 3\n",
        "print(\"+= 3 :\",my_cup.water)\n",
        "\n",
        "my_cup.water -= 5\n",
        "print(\"-= 5 :\",my_cup.water)\n",
        "\n",
        "try :\n",
        "  my_cup.water = 25\n",
        "  print(\"= 25 :\",my_cup.water)\n",
        "except CupError as e:\n",
        "  print(e)\n",
        "\n",
        "del my_cup.water\n",
        "print(\"삭제 후 :\",my_cup.water)"
      ],
      "metadata": {
        "colab": {
          "base_uri": "https://localhost:8080/"
        },
        "id": "6nbsrBJeB7d8",
        "outputId": "99ffa4d4-9a54-46ce-ec3f-8e89042f36be"
      },
      "execution_count": 5,
      "outputs": [
        {
          "output_type": "stream",
          "name": "stdout",
          "text": [
            "생성 후 : 0\n",
            "= 10 : 10\n",
            "+= 3 : 13\n",
            "-= 5 : 8\n",
            "컵이 넘쳤어!\n",
            "삭제 후 : None\n"
          ]
        }
      ]
    },
    {
      "cell_type": "code",
      "source": [],
      "metadata": {
        "id": "Hc44xFQeFuAu"
      },
      "execution_count": null,
      "outputs": []
    }
  ]
}