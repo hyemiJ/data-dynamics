{
  "nbformat": 4,
  "nbformat_minor": 0,
  "metadata": {
    "colab": {
      "provenance": [],
      "authorship_tag": "ABX9TyOFOMRbstYlto1X2byJ3y8D",
      "include_colab_link": true
    },
    "kernelspec": {
      "name": "python3",
      "display_name": "Python 3"
    },
    "language_info": {
      "name": "python"
    }
  },
  "cells": [
    {
      "cell_type": "markdown",
      "metadata": {
        "id": "view-in-github",
        "colab_type": "text"
      },
      "source": [
        "<a href=\"https://colab.research.google.com/github/hyemiJ/data-dynamics/blob/main/python_practice/_python_institute_serialization_02.ipynb\" target=\"_parent\"><img src=\"https://colab.research.google.com/assets/colab-badge.svg\" alt=\"Open In Colab\"/></a>"
      ]
    },
    {
      "cell_type": "code",
      "execution_count": 2,
      "metadata": {
        "id": "kZ03CyxRXa1s"
      },
      "outputs": [],
      "source": [
        "import shelve\n",
        "\n",
        "my_shelve = shelve.open('first_shelve.shlv', flag='c')"
      ]
    },
    {
      "cell_type": "code",
      "source": [
        "my_shelve['USD'] = {'code' : 'US dollor', 'symbol' : '$'}\n",
        "my_shelve['EUR'] = {'code' : 'Euro', 'symbol' : '€'}\n",
        "my_shelve.close()"
      ],
      "metadata": {
        "id": "dj7GeBhfXv-M"
      },
      "execution_count": 3,
      "outputs": []
    },
    {
      "cell_type": "code",
      "source": [
        "second_shelve = shelve.open('first_shelve.shlv', flag='r')\n",
        "print(second_shelve['EUR'])\n",
        "second_shelve.close()"
      ],
      "metadata": {
        "colab": {
          "base_uri": "https://localhost:8080/"
        },
        "id": "EWzymxiyYiF9",
        "outputId": "b2e3e952-5c37-47d8-b690-41bfa487f68c"
      },
      "execution_count": 4,
      "outputs": [
        {
          "output_type": "stream",
          "name": "stdout",
          "text": [
            "{'code': 'Euro', 'symbol': '€'}\n"
          ]
        }
      ]
    },
    {
      "cell_type": "code",
      "source": [
        "with shelve.open('first_shelve.shlv', 'r') as f:\n",
        "    print(f['EUR'])"
      ],
      "metadata": {
        "colab": {
          "base_uri": "https://localhost:8080/"
        },
        "id": "62VCW5-3ZqHt",
        "outputId": "e7e63918-9e22-4a4e-db2b-ac7d9ddb8513"
      },
      "execution_count": 6,
      "outputs": [
        {
          "output_type": "stream",
          "name": "stdout",
          "text": [
            "{'code': 'Euro', 'symbol': '€'}\n"
          ]
        }
      ]
    },
    {
      "cell_type": "code",
      "source": [],
      "metadata": {
        "id": "gjpeXk6qaWl-"
      },
      "execution_count": null,
      "outputs": []
    }
  ]
}