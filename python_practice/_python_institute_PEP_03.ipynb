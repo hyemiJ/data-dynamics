{
  "nbformat": 4,
  "nbformat_minor": 0,
  "metadata": {
    "colab": {
      "provenance": [],
      "authorship_tag": "ABX9TyNMAOS0hYSVJpvP5tAty8qa",
      "include_colab_link": true
    },
    "kernelspec": {
      "name": "python3",
      "display_name": "Python 3"
    },
    "language_info": {
      "name": "python"
    }
  },
  "cells": [
    {
      "cell_type": "markdown",
      "metadata": {
        "id": "view-in-github",
        "colab_type": "text"
      },
      "source": [
        "<a href=\"https://colab.research.google.com/github/hyemiJ/data-dynamics/blob/main/python_practice/_python_institute_PEP_03.ipynb\" target=\"_parent\"><img src=\"https://colab.research.google.com/assets/colab-badge.svg\" alt=\"Open In Colab\"/></a>"
      ]
    },
    {
      "cell_type": "code",
      "execution_count": 1,
      "metadata": {
        "id": "9u1UGyqVPpAZ"
      },
      "outputs": [],
      "source": [
        "#PEP 257 docstring"
      ]
    },
    {
      "cell_type": "code",
      "source": [
        "#1. 미래에 수행할 코드 섹션 지정\n",
        "# TODO : Add a function that takes the val and prc arguments."
      ],
      "metadata": {
        "id": "BZDEImNyPtT_"
      },
      "execution_count": null,
      "outputs": []
    },
    {
      "cell_type": "code",
      "source": [
        "#2. 코드 테스트\n",
        "def fun(val):\n",
        "  return val * 2\n",
        "\n",
        "user_value = int(input(\"값을 입력하세요 : \"))\n",
        "#fun(user_value)\n",
        "#user_value = user_value + \"foo\"\n",
        "\n",
        "print(fun(user_value))"
      ],
      "metadata": {
        "id": "8sDxcWMgQME7"
      },
      "execution_count": null,
      "outputs": []
    },
    {
      "cell_type": "code",
      "source": [
        "# 작업 기획이나 디자인할 코드를 개략적으로 설명\n",
        "# Step 1 : Ask the user for the value.\n",
        "# Step 2 : Change the value to an int and handle possible exceptions.\n",
        "# Step 3 : Print the value multiplied by 0.7."
      ],
      "metadata": {
        "id": "jFY7Vp52Qt8i"
      },
      "execution_count": 2,
      "outputs": []
    },
    {
      "cell_type": "code",
      "source": [
        "#타입 힌트 없는 경우\n",
        "def hello(name):\n",
        "  return \"Hello\" + name\n",
        "\n",
        "#타입 힌트 있는 경우\n",
        "def hello(name:str) -> str:\n",
        "  return \"Hello\" + name"
      ],
      "metadata": {
        "id": "8vYlfA0kREz4"
      },
      "execution_count": 3,
      "outputs": []
    },
    {
      "cell_type": "code",
      "source": [
        "#attribute docstrings\n",
        "g = 'module attribute (module-global variable)'\n",
        "\"\"\"This is g's docstring.\"\"\"\n",
        "\n",
        "class AClass:\n",
        "\n",
        "    c = 'class attribute'\n",
        "    \"\"\"This is AClass.c's docstring.\"\"\"\n",
        "\n",
        "    def __init__(self):\n",
        "        \"\"\"Method __init__'s docstring.\"\"\"\n",
        "\n",
        "        self.i = 'instance attribute'\n",
        "        \"\"\"This is self.i's docstring.\"\"\"\n",
        "\n",
        "def f(x):\n",
        "    \"\"\"Function f's docstring.\"\"\"\n",
        "    return x**2\n",
        "\n",
        "f.a = 1\n",
        "\"\"\"Function attribute f.a's docstring.\"\"\""
      ],
      "metadata": {
        "colab": {
          "base_uri": "https://localhost:8080/",
          "height": 36
        },
        "id": "jJ4tDQoQSXks",
        "outputId": "9f9f4685-5651-42b2-928a-bb34d37b124a"
      },
      "execution_count": 4,
      "outputs": [
        {
          "output_type": "execute_result",
          "data": {
            "text/plain": [
              "\"Function attribute f.a's docstring.\""
            ],
            "application/vnd.google.colaboratory.intrinsic+json": {
              "type": "string"
            }
          },
          "metadata": {},
          "execution_count": 4
        }
      ]
    },
    {
      "cell_type": "code",
      "source": [
        "#additional docstrings\n",
        "def function(arg):\n",
        "    \"\"\"This is __doc__, function's docstring.\"\"\"\n",
        "    \"\"\"\n",
        "    This is an additional docstring, ignored by the byte-code\n",
        "    compiler, but extracted by Docutils.\n",
        "    \"\"\"\n",
        "    pass"
      ],
      "metadata": {
        "id": "wA0LSMQOZaZa"
      },
      "execution_count": 5,
      "outputs": []
    },
    {
      "cell_type": "code",
      "source": [
        "# Single-line docstring\n",
        "def func():\n",
        "  \"\"\"One-line description\"\"\"\n",
        "  pass\n",
        "\n",
        "def greeting(name):\n",
        "  \"\"\"Take a name and return its replicated form.\"\"\"\n",
        "  return name * 2\n",
        "\n",
        "#나쁜 사례 : 함수나 매개변수를 그대로 작성\n",
        "def fun(x,y):\n",
        "  \"\"\"fun(x,y) -> list\"\"\"\n",
        "\n",
        "#교정 후\n",
        "def fun(x,y):\n",
        "  \"\"\"Compute the angles and return a list of coordinates.\"\"\"\n",
        "\n",
        "# 빈 줄 사례\n",
        "def calculate_tax(x,y):\n",
        "\n",
        "  \"\"\"I am a one-line docstring.\"\"\"\n",
        "\n",
        "  return (x+y) * 0.25\n",
        "\n",
        "# 교정 후\n",
        "def calculate_tax(x,y):\n",
        "  \"\"\"I am a one-line docstring.\"\"\"\n",
        "  return (x+y) * 0.25"
      ],
      "metadata": {
        "id": "FANAmYChZeig"
      },
      "execution_count": 7,
      "outputs": []
    },
    {
      "cell_type": "code",
      "source": [
        "# Muti-line docstring\n",
        "def func():\n",
        "  \"\"\"Summary line description.\n",
        "\n",
        "  More elaborate description.\n",
        "  ...\n",
        "  ...\n",
        "  \"\"\"\n",
        "  pass"
      ],
      "metadata": {
        "id": "vd_xboH6ciiA"
      },
      "execution_count": null,
      "outputs": []
    },
    {
      "cell_type": "code",
      "source": [
        "# 같은 수준의 들여쓰기\n",
        "\n",
        "def king_creator(name=\"Greg\", ordinal=\"I\", country=\"Neverland\"):\n",
        "  \"\"\"Create a king following the article title naming convention.\n",
        "\n",
        "  Keyword arguments:\n",
        "  :arg name: the king's name (default: \"Greg\")\n",
        "  :type name: str\n",
        "  :arg ordinal: the king's ordinal (default: \"I\")\n",
        "  :type ordinal: str\n",
        "  :arg country: the king's country (default: \"Neverland\")\n",
        "  :type country: str\n",
        "  \"\"\"\n",
        "  pass"
      ],
      "metadata": {
        "id": "0mg3a9pXw__7"
      },
      "execution_count": null,
      "outputs": []
    },
    {
      "cell_type": "code",
      "source": [
        "# class docstring\n",
        "class Vehichle:\n",
        "  \"\"\"A class to represent a Vehicle.\n",
        "\n",
        "  Attribute:\n",
        "  ----------\n",
        "  vehicle_type : str\n",
        "    The type of the vehicle, e.g. a car.\n",
        "  id_number : int\n",
        "    The vehicle identification number.\n",
        "  is_autonomous: bool\n",
        "    sef-driving -> True, not self-driving -> False\n",
        "\n",
        "\n",
        "  Method:\n",
        "  ----------\n",
        "  report_location(lon=45.00, lat=90.00)\n",
        "    Print the vehicle id number and its current location.\n",
        "    (default longutude=45.00, default latitude=90.00)\n",
        "  \"\"\"\n",
        "\n",
        "  def __init__(self, vehicle_type, id_number, is_autonomous=True):\n",
        "    \"\"\"\n",
        "    Parameters\n",
        "    ----------\n",
        "    vehicle_type : str\n",
        "      The type of the vehicle, e.g. a car.\n",
        "    id_number : int\n",
        "      The vehicle identification number.\n",
        "    is_autonomous: bool\n",
        "      self-driving -> True, not self-driving -> False\n",
        "    \"\"\"\n",
        "\n",
        "\n",
        "    self.vehicle_type = vehicle_type\n",
        "    self.id_number = id_number\n",
        "    self.is_autonomous = is_autonomous\n",
        "\n",
        "  def report_location(self, id_number, lon=45.00, lat=90.00):\n",
        "    \"\"\"\n",
        "    Print the vehicle id number and its current location.\n",
        "\n",
        "    Parameters\n",
        "    ----------\n",
        "    id_number : int\n",
        "      The vehicle identification number.\n",
        "    lon : float\n",
        "      The vehicle's longitude.(default is 45.00)\n",
        "    lat : float\n",
        "      The vehicle's latitude.(default is 90.00)\n",
        "    \"\"\"\n",
        "    pass"
      ],
      "metadata": {
        "id": "gEbJBmfGdp58"
      },
      "execution_count": null,
      "outputs": []
    },
    {
      "cell_type": "code",
      "source": [
        "#__doc__ test\n",
        "\n",
        "def fun(a,b):\n",
        "  \"\"\"The summary line goes here.\n",
        "\n",
        "  A more elaborate description of the function.\n",
        "\n",
        "  Parameters:\n",
        "  a : int (description)\n",
        "  b : int (description)\n",
        "\n",
        "  Return:\n",
        "  int : Description of the return value.\n",
        "  \"\"\"\n",
        "  return a*b\n",
        "\n",
        "print(fun.__doc__)"
      ],
      "metadata": {
        "colab": {
          "base_uri": "https://localhost:8080/"
        },
        "id": "Z5iOoHfVdptN",
        "outputId": "2f802ed1-53cc-4796-a442-644131cbab0d"
      },
      "execution_count": 1,
      "outputs": [
        {
          "output_type": "stream",
          "name": "stdout",
          "text": [
            "The summary line goes here.\n",
            "  \n",
            "  A more elaborate description of the function.\n",
            "  \n",
            "  Parameters:\n",
            "  a : int (description)\n",
            "  b : int (description)\n",
            "\n",
            "  Return:\n",
            "  int : Description of the return value.\n",
            "  \n"
          ]
        }
      ]
    },
    {
      "cell_type": "code",
      "source": [],
      "metadata": {
        "id": "fohdqNW656n_"
      },
      "execution_count": null,
      "outputs": []
    }
  ]
}