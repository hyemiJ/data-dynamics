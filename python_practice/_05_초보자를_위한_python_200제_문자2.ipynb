{
  "nbformat": 4,
  "nbformat_minor": 0,
  "metadata": {
    "colab": {
      "provenance": [],
      "authorship_tag": "ABX9TyNL9CPH5jORxAOtbByC21Sm",
      "include_colab_link": true
    },
    "kernelspec": {
      "name": "python3",
      "display_name": "Python 3"
    },
    "language_info": {
      "name": "python"
    }
  },
  "cells": [
    {
      "cell_type": "markdown",
      "metadata": {
        "id": "view-in-github",
        "colab_type": "text"
      },
      "source": [
        "<a href=\"https://colab.research.google.com/github/hyemiJ/data-dynamics/blob/main/python_practice/_05_%EC%B4%88%EB%B3%B4%EC%9E%90%EB%A5%BC_%EC%9C%84%ED%95%9C_python_200%EC%A0%9C_%EB%AC%B8%EC%9E%902.ipynb\" target=\"_parent\"><img src=\"https://colab.research.google.com/assets/colab-badge.svg\" alt=\"Open In Colab\"/></a>"
      ]
    },
    {
      "cell_type": "code",
      "execution_count": null,
      "metadata": {
        "colab": {
          "base_uri": "https://localhost:8080/"
        },
        "id": "-rhXbsqHEmTL",
        "outputId": "1a6d7b40-1a8e-4717-8fff-200832c52f98"
      },
      "outputs": [
        {
          "output_type": "stream",
          "name": "stdout",
          "text": [
            "문자를 1개 입력하세요.[\n",
            "[의 코드값은 91입니다.\n"
          ]
        }
      ],
      "source": [
        "#문자의 코드값구하기\n",
        "ch = input(\"문자를 1개 입력하세요.\")\n",
        "if len(ch) !=0:\n",
        "  ch = ch[0]\n",
        "  chv = ord(ch)\n",
        "  print(f\"{ch}의 코드값은 {chv}입니다.\")\n",
        "else:\n",
        "  print(\"입력된 문자가 없습니다.\") # 아스키 코드 또는 한글입력시 유니코드값 출력"
      ]
    },
    {
      "cell_type": "code",
      "source": [
        "#코드값에 대응하는 문자 얻기\n",
        "value = input(\"문자를 코드 값을 1개 입력하세요.\")\n",
        "try :\n",
        "  val = int(value)\n",
        "  ch = chr(val)\n",
        "  print(f'입력값 :{val} {hex(val)} ,  문자 : {ch}')\n",
        "except ValueError:\n",
        "  print(\"입력값이 잘못되었습니다.\")"
      ],
      "metadata": {
        "id": "eJC_oECZFVBw",
        "colab": {
          "base_uri": "https://localhost:8080/"
        },
        "outputId": "a56bba3a-4609-4a88-c56c-397520260d06"
      },
      "execution_count": 10,
      "outputs": [
        {
          "output_type": "stream",
          "name": "stdout",
          "text": [
            "문자를 코드 값을 1개 입력하세요.81\n",
            "입력값 :81 0x51 ,  문자 : Q\n"
          ]
        }
      ]
    },
    {
      "cell_type": "code",
      "source": [
        "#문자열로 된 식을 실행하기\n",
        "s1 = '1+2'\n",
        "s2 = 'round(1.2345,2)'\n",
        "result1 = eval(s1)\n",
        "result2 = eval(s2)\n",
        "print(result1,result2)"
      ],
      "metadata": {
        "colab": {
          "base_uri": "https://localhost:8080/"
        },
        "id": "OrUyL6ljKRu4",
        "outputId": "113afc12-2335-4aff-974f-fd22bb290ce5"
      },
      "execution_count": 11,
      "outputs": [
        {
          "output_type": "stream",
          "name": "stdout",
          "text": [
            "3 1.23\n"
          ]
        }
      ]
    },
    {
      "cell_type": "code",
      "source": [
        "#이름 없는 한줄짜리 함수 만들기 (Lambda)\n",
        "add = lambda x,y : x+y\n",
        "#def 이름없음(x,y):\n",
        "#  return x+y\n",
        "\n",
        "print(add(1,2))\n",
        "\n",
        "fuc = [lambda x: x+'.pptx',lambda x: x+'.docx']\n",
        "print(fuc[0]('sample'))\n",
        "print(fuc[1]('sample'))\n",
        "\n",
        "names = {'Marry' : 10999, 'Sams' : 2111, 'Tom': 12345}\n",
        "result = sorted(names.keys(), key=lambda x:x[1],reverse=True)\n",
        "print(result)\n",
        "\n",
        "# Lamba 의 실행 방식\n",
        "# Lamba 인자1,인자2,..: 실행코드\n",
        "# 아래의 실행방식과 동일하다.\n",
        "# def 이름없음(인자1,인자2,..):\n",
        "#   return 실행코드"
      ],
      "metadata": {
        "colab": {
          "base_uri": "https://localhost:8080/"
        },
        "id": "N0_wT_y6LVqA",
        "outputId": "6b063b80-a07b-46b0-a917-33cf3bee181e"
      },
      "execution_count": 18,
      "outputs": [
        {
          "output_type": "stream",
          "name": "stdout",
          "text": [
            "3\n",
            "sample.pptx\n",
            "sample.docx\n",
            "['Tom', 'Marry', 'Sams']\n"
          ]
        }
      ]
    },
    {
      "cell_type": "code",
      "source": [
        "#인자를 바꾸어 함수를 반복 호출하여 결과값 얻기\n",
        "f = lambda x : x + x\n",
        "args = [1, 2, 3, 4, 5]\n",
        "result = map(f,args) # (인자1:function ,인자2:Iterable객체)\n",
        "print(result) # map 객체로 리턴됨\n",
        "print(list(result))\n",
        "\n",
        "#2개 이상 반복되는 인자에 대해 적용이 가능하다\n",
        "f = lambda x,y : x+y\n",
        "args1 = [1,2,3,4,5]\n",
        "args2 = [10,20,30,40,50, 2, 3] # 두 Iterable의 길이가 다를 경우 에러가 나진 않지만 값의 손실이 일어날 수 있다.\n",
        "result = map(f,args1,args2)\n",
        "print(list(result))"
      ],
      "metadata": {
        "colab": {
          "base_uri": "https://localhost:8080/"
        },
        "id": "iIwqA3ryLpSu",
        "outputId": "7b0edd6f-b10d-46c1-f327-8621e55e92b1"
      },
      "execution_count": 24,
      "outputs": [
        {
          "output_type": "stream",
          "name": "stdout",
          "text": [
            "<map object at 0x7d054da30220>\n",
            "[2, 4, 6, 8, 10]\n",
            "[11, 22, 33, 44, 55]\n"
          ]
        }
      ]
    },
    {
      "cell_type": "code",
      "source": [],
      "metadata": {
        "id": "XA8g5e4KN6DD"
      },
      "execution_count": null,
      "outputs": []
    }
  ]
}