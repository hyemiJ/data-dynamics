{
 "cells": [
  {
   "cell_type": "code",
   "execution_count": 1,
   "id": "408edffe-2e64-4947-a0b6-1db831f226cc",
   "metadata": {},
   "outputs": [
    {
     "name": "stdout",
     "output_type": "stream",
     "text": [
      "Collecting uv\n",
      "  Downloading uv-0.8.4-py3-none-win_amd64.whl.metadata (12 kB)\n",
      "Downloading uv-0.8.4-py3-none-win_amd64.whl (19.7 MB)\n",
      "   ---------------------------------------- 0.0/19.7 MB ? eta -:--:--\n",
      "   ---- ----------------------------------- 2.1/19.7 MB 11.2 MB/s eta 0:00:02\n",
      "   --------- ------------------------------ 4.5/19.7 MB 11.3 MB/s eta 0:00:02\n",
      "   ------------- -------------------------- 6.8/19.7 MB 11.2 MB/s eta 0:00:02\n",
      "   ------------------ --------------------- 8.9/19.7 MB 11.2 MB/s eta 0:00:01\n",
      "   ----------------------- ---------------- 11.5/19.7 MB 11.3 MB/s eta 0:00:01\n",
      "   ---------------------------- ----------- 13.9/19.7 MB 11.4 MB/s eta 0:00:01\n",
      "   -------------------------------- ------- 16.3/19.7 MB 11.4 MB/s eta 0:00:01\n",
      "   ------------------------------------- -- 18.6/19.7 MB 11.4 MB/s eta 0:00:01\n",
      "   ---------------------------------------- 19.7/19.7 MB 11.2 MB/s eta 0:00:00\n",
      "Installing collected packages: uv\n",
      "Successfully installed uv-0.8.4\n"
     ]
    }
   ],
   "source": [
    "!pip install uv"
   ]
  },
  {
   "cell_type": "code",
   "execution_count": 2,
   "id": "97023713-5a8e-4512-a866-8468d5f59b63",
   "metadata": {},
   "outputs": [
    {
     "name": "stderr",
     "output_type": "stream",
     "text": [
      "Clearing cache at: \u001b[36mC:\\Users\\tkdgh\\AppData\\Local\\uv\\cache\u001b[39m\n",
      "Removed 413 files (\u001b[32m18.4MiB\u001b[39m)\n"
     ]
    }
   ],
   "source": [
    "!uv cache clean"
   ]
  },
  {
   "cell_type": "code",
   "execution_count": 3,
   "id": "9e24e4a2-04f2-40c0-9611-c2fe9ba6a008",
   "metadata": {},
   "outputs": [],
   "source": [
    "import time\n",
    "import os"
   ]
  },
  {
   "cell_type": "code",
   "execution_count": 4,
   "id": "fe26a226-cf39-4046-90b1-4f160152ec54",
   "metadata": {},
   "outputs": [
    {
     "name": "stdout",
     "output_type": "stream",
     "text": [
      "uv: 의존성 고정 (uv pip compile) 시간 측정\n",
      "총 소요 시간: 1.4899 초\n"
     ]
    }
   ],
   "source": [
    "print(\"uv: 의존성 고정 (uv pip compile) 시간 측정\")\n",
    "\n",
    "start_time = time.time()\n",
    "os.system(\"uv pip compile requirements.in --output-file=requirements_uv.txt\")\n",
    "end_time = time.time()\n",
    "print(f\"총 소요 시간: {end_time - start_time:.4f} 초\")"
   ]
  },
  {
   "cell_type": "code",
   "execution_count": 5,
   "id": "32f0ed8b-4865-492f-9213-72f8337a43bd",
   "metadata": {},
   "outputs": [
    {
     "name": "stdout",
     "output_type": "stream",
     "text": [
      "uv: 패키지 설치 (uv pip sync) 시간 측정\n",
      "총 소요 시간: 0.1358 초\n"
     ]
    }
   ],
   "source": [
    "print(\"uv: 패키지 설치 (uv pip sync) 시간 측정\") # uv는 기본적으로 requirements.txt를 찾음\n",
    "start_time = time.time()\n",
    "os.system(\"uv pip sync requirements_uv.txt\")\n",
    "end_time = time.time()\n",
    "print(f\"총 소요 시간: {end_time - start_time:.4f} 초\")"
   ]
  },
  {
   "cell_type": "code",
   "execution_count": null,
   "id": "1be56a92-14b6-4341-8102-2e66116c7710",
   "metadata": {},
   "outputs": [],
   "source": []
  }
 ],
 "metadata": {
  "kernelspec": {
   "display_name": "Python (uv-env)",
   "language": "python",
   "name": "uv-env"
  },
  "language_info": {
   "codemirror_mode": {
    "name": "ipython",
    "version": 3
   },
   "file_extension": ".py",
   "mimetype": "text/x-python",
   "name": "python",
   "nbconvert_exporter": "python",
   "pygments_lexer": "ipython3",
   "version": "3.13.5"
  }
 },
 "nbformat": 4,
 "nbformat_minor": 5
}
