{
 "cells": [
  {
   "cell_type": "code",
   "execution_count": 1,
   "id": "e57d1a42-5fb5-497f-8a2a-9ce114316881",
   "metadata": {},
   "outputs": [
    {
     "name": "stdout",
     "output_type": "stream",
     "text": [
      "Files removed: 626 (90.2 MB)\n"
     ]
    }
   ],
   "source": [
    "# cache 삭제\n",
    "!pip cache purge"
   ]
  },
  {
   "cell_type": "code",
   "execution_count": 2,
   "id": "46c9e9c6-8dcc-46e8-89fd-89fe2298cc87",
   "metadata": {},
   "outputs": [],
   "source": [
    "import time\n",
    "import os"
   ]
  },
  {
   "cell_type": "code",
   "execution_count": 3,
   "id": "0cd6f5fd-5817-4e36-b58d-c52b707b3da4",
   "metadata": {},
   "outputs": [
    {
     "name": "stdout",
     "output_type": "stream",
     "text": [
      "Pip-tools: 의존성 고정 (pip-compile) 시간 측정\n",
      "총 소요 시간: 9.2608 초\n"
     ]
    }
   ],
   "source": [
    "print(\"Pip-tools: 의존성 고정 (pip-compile) 시간 측정\")\n",
    "\n",
    "start_time = time.time()\n",
    "os.system(\"pip-compile requirements.in --output-file=requirements_pip.txt\")\n",
    "end_time = time.time()\n",
    "print(f\"총 소요 시간: {end_time - start_time:.4f} 초\")"
   ]
  },
  {
   "cell_type": "code",
   "execution_count": 4,
   "id": "ec937a83-64bf-4f0c-9518-d4562139d10d",
   "metadata": {},
   "outputs": [
    {
     "name": "stdout",
     "output_type": "stream",
     "text": [
      "Pip-tools: 패키지 설치 (pip-sync) 시간 측정\n",
      "총 소요 시간: 1.9150 초\n"
     ]
    }
   ],
   "source": [
    "print(\"Pip-tools: 패키지 설치 (pip-sync) 시간 측정\")\n",
    "start_time = time.time()\n",
    "os.system(\"pip-sync requirements_pip.txt\")\n",
    "end_time = time.time()\n",
    "print(f\"총 소요 시간: {end_time - start_time:.4f} 초\")"
   ]
  },
  {
   "cell_type": "code",
   "execution_count": null,
   "id": "bd94b3d8-20d5-455e-92ab-c8d186618c7b",
   "metadata": {},
   "outputs": [],
   "source": []
  }
 ],
 "metadata": {
  "kernelspec": {
   "display_name": "Python (pip-env)",
   "language": "python",
   "name": "pip-env"
  },
  "language_info": {
   "codemirror_mode": {
    "name": "ipython",
    "version": 3
   },
   "file_extension": ".py",
   "mimetype": "text/x-python",
   "name": "python",
   "nbconvert_exporter": "python",
   "pygments_lexer": "ipython3",
   "version": "3.13.5"
  }
 },
 "nbformat": 4,
 "nbformat_minor": 5
}
