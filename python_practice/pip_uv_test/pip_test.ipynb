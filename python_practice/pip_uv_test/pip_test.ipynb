{
 "cells": [
  {
   "cell_type": "code",
   "execution_count": 1,
   "id": "be46397d-b0e6-44a3-8332-eaa715afa541",
   "metadata": {
    "scrolled": true
   },
   "outputs": [
    {
     "name": "stdout",
     "output_type": "stream",
     "text": [
      "Collecting pip-tools\n",
      "  Downloading pip_tools-7.5.0-py3-none-any.whl.metadata (26 kB)\n",
      "Collecting build>=1.0.0 (from pip-tools)\n",
      "  Downloading build-1.3.0-py3-none-any.whl.metadata (5.6 kB)\n",
      "Collecting click>=8 (from pip-tools)\n",
      "  Downloading click-8.2.1-py3-none-any.whl.metadata (2.5 kB)\n",
      "Requirement already satisfied: pip>=22.2 in c:\\users\\tkdgh\\miniconda3\\lib\\site-packages (from pip-tools) (25.1)\n",
      "Collecting pyproject_hooks (from pip-tools)\n",
      "  Downloading pyproject_hooks-1.2.0-py3-none-any.whl.metadata (1.3 kB)\n",
      "Requirement already satisfied: setuptools in c:\\users\\tkdgh\\miniconda3\\lib\\site-packages (from pip-tools) (80.9.0)\n",
      "Collecting wheel (from pip-tools)\n",
      "  Downloading wheel-0.45.1-py3-none-any.whl.metadata (2.3 kB)\n",
      "Requirement already satisfied: packaging>=19.1 in c:\\users\\tkdgh\\miniconda3\\lib\\site-packages (from build>=1.0.0->pip-tools) (25.0)\n",
      "Requirement already satisfied: colorama in c:\\users\\tkdgh\\miniconda3\\lib\\site-packages (from build>=1.0.0->pip-tools) (0.4.6)\n",
      "Downloading pip_tools-7.5.0-py3-none-any.whl (65 kB)\n",
      "Downloading build-1.3.0-py3-none-any.whl (23 kB)\n",
      "Downloading click-8.2.1-py3-none-any.whl (102 kB)\n",
      "Downloading pyproject_hooks-1.2.0-py3-none-any.whl (10 kB)\n",
      "Downloading wheel-0.45.1-py3-none-any.whl (72 kB)\n",
      "Installing collected packages: wheel, pyproject_hooks, click, build, pip-tools\n",
      "\n",
      "   ---------------- ----------------------- 2/5 [click]\n",
      "   -------------------------------- ------- 4/5 [pip-tools]\n",
      "   ---------------------------------------- 5/5 [pip-tools]\n",
      "\n",
      "Successfully installed build-1.3.0 click-8.2.1 pip-tools-7.5.0 pyproject_hooks-1.2.0 wheel-0.45.1\n"
     ]
    }
   ],
   "source": [
    "!pip install pip-tools"
   ]
  },
  {
   "cell_type": "code",
   "execution_count": 2,
   "id": "e57d1a42-5fb5-497f-8a2a-9ce114316881",
   "metadata": {},
   "outputs": [
    {
     "name": "stdout",
     "output_type": "stream",
     "text": [
      "Files removed: 36 (20.5 MB)\n"
     ]
    }
   ],
   "source": [
    "# cache 삭제\n",
    "!pip cache purge"
   ]
  },
  {
   "cell_type": "code",
   "execution_count": 3,
   "id": "46c9e9c6-8dcc-46e8-89fd-89fe2298cc87",
   "metadata": {},
   "outputs": [],
   "source": [
    "import time\n",
    "import os"
   ]
  },
  {
   "cell_type": "code",
   "execution_count": 4,
   "id": "0cd6f5fd-5817-4e36-b58d-c52b707b3da4",
   "metadata": {},
   "outputs": [
    {
     "name": "stdout",
     "output_type": "stream",
     "text": [
      "Pip-tools: 의존성 고정 (pip-compile) 시간 측정\n",
      "총 소요 시간: 8.0035 초\n"
     ]
    }
   ],
   "source": [
    "print(\"Pip-tools: 의존성 고정 (pip-compile) 시간 측정\")\n",
    "\n",
    "start_time = time.time()\n",
    "os.system(\"pip-compile requirements.in --output-file=requirements_pip.txt\")\n",
    "end_time = time.time()\n",
    "print(f\"총 소요 시간: {end_time - start_time:.4f} 초\")"
   ]
  },
  {
   "cell_type": "code",
   "execution_count": 5,
   "id": "ec937a83-64bf-4f0c-9518-d4562139d10d",
   "metadata": {},
   "outputs": [
    {
     "name": "stdout",
     "output_type": "stream",
     "text": [
      "Pip-tools: 패키지 설치 (pip-sync) 시간 측정\n",
      "총 소요 시간: 1.7939 초\n"
     ]
    }
   ],
   "source": [
    "print(\"Pip-tools: 패키지 설치 (pip-sync) 시간 측정\")\n",
    "start_time = time.time()\n",
    "os.system(\"pip-sync requirements_pip.txt\")\n",
    "end_time = time.time()\n",
    "print(f\"총 소요 시간: {end_time - start_time:.4f} 초\")"
   ]
  }
 ],
 "metadata": {
  "kernelspec": {
   "display_name": "Python (pip-env)",
   "language": "python",
   "name": "pip-env"
  },
  "language_info": {
   "codemirror_mode": {
    "name": "ipython",
    "version": 3
   },
   "file_extension": ".py",
   "mimetype": "text/x-python",
   "name": "python",
   "nbconvert_exporter": "python",
   "pygments_lexer": "ipython3",
   "version": "3.13.5"
  }
 },
 "nbformat": 4,
 "nbformat_minor": 5
}
