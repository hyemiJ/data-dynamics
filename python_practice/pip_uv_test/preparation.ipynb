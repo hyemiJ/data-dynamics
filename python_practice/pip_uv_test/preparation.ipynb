{
 "cells": [
  {
   "cell_type": "code",
   "execution_count": 1,
   "id": "64c9a2db-c213-4070-aa9a-12064d5aaebb",
   "metadata": {},
   "outputs": [],
   "source": [
    "requirements_in_content = \"\"\"\n",
    "jupyterlab\n",
    "numpy\n",
    "pandas\n",
    "scikit-learn\n",
    "requests\n",
    "\"\"\"\n",
    "with open('requirements.in', 'w') as f:\n",
    "    f.write(requirements_in_content.strip())"
   ]
  },
  {
   "cell_type": "code",
   "execution_count": 7,
   "id": "f713eadb-4522-4e95-bfed-2926df74d93c",
   "metadata": {},
   "outputs": [
    {
     "name": "stdout",
     "output_type": "stream",
     "text": [
      "jupyterlab\n",
      "numpy\n",
      "pandas\n",
      "scikit-learn\n",
      "requests\n"
     ]
    }
   ],
   "source": [
    "with open('requirements.in', 'r') as f:\n",
    "    for line in f.readlines():\n",
    "        print(line.rstrip())"
   ]
  },
  {
   "cell_type": "code",
   "execution_count": null,
   "id": "95129d19-35be-4db5-8bb5-520fc43173cf",
   "metadata": {},
   "outputs": [],
   "source": []
  }
 ],
 "metadata": {
  "kernelspec": {
   "display_name": "Python 3 (ipykernel)",
   "language": "python",
   "name": "python3"
  },
  "language_info": {
   "codemirror_mode": {
    "name": "ipython",
    "version": 3
   },
   "file_extension": ".py",
   "mimetype": "text/x-python",
   "name": "python",
   "nbconvert_exporter": "python",
   "pygments_lexer": "ipython3",
   "version": "3.13.5"
  }
 },
 "nbformat": 4,
 "nbformat_minor": 5
}
