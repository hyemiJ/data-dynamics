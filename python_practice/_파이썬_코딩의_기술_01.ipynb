{
  "nbformat": 4,
  "nbformat_minor": 0,
  "metadata": {
    "colab": {
      "provenance": [],
      "authorship_tag": "ABX9TyOkLylhMj0us2a8R44fk7U6",
      "include_colab_link": true
    },
    "kernelspec": {
      "name": "python3",
      "display_name": "Python 3"
    },
    "language_info": {
      "name": "python"
    }
  },
  "cells": [
    {
      "cell_type": "markdown",
      "metadata": {
        "id": "view-in-github",
        "colab_type": "text"
      },
      "source": [
        "<a href=\"https://colab.research.google.com/github/hyemiJ/data-dynamics/blob/main/python_practice/_%ED%8C%8C%EC%9D%B4%EC%8D%AC_%EC%BD%94%EB%94%A9%EC%9D%98_%EA%B8%B0%EC%88%A0_01.ipynb\" target=\"_parent\"><img src=\"https://colab.research.google.com/assets/colab-badge.svg\" alt=\"Open In Colab\"/></a>"
      ]
    },
    {
      "cell_type": "markdown",
      "source": [
        "### 시퀀스 슬라이스 하는 방법을 알아보자\n",
        "- slice 를 활용한 아이템의 부분집합(subset)접근.\n",
        "- slice 대상\n",
        "  - list, str, byte\n",
        "  - \\_\\_getitem\\_\\_과 \\_\\_setitem\\_\\_ 이 구현된된 클래스.\n",
        "\n",
        "- 기본 문법\n",
        "   - ``` listname = [start_index:end_index:step_number]```\n",
        "   - start_index는 포함되고, end_index는 포함되지 않는다.\n",
        "   - default value :\n",
        "    - start : 0\n",
        "    - end : 마지막 인덱스 값, -1과 동일\n",
        "    - step : 1\n",
        "- 한 슬라이스에는 start, end, step 을 모두 지정하면 혼란스러울 수 있다.\n",
        "- 음수 step은 특수한 경우가 아닐 경운 피하자.\n"
      ],
      "metadata": {
        "id": "Q1QGk0V-NQxF"
      }
    },
    {
      "cell_type": "code",
      "execution_count": 19,
      "metadata": {
        "colab": {
          "base_uri": "https://localhost:8080/"
        },
        "id": "6op-It_ZM54T",
        "outputId": "d33bfbf7-eba5-43d0-b2bd-366812bf37c9"
      },
      "outputs": [
        {
          "output_type": "stream",
          "name": "stdout",
          "text": [
            "first 4 : ['a', 'b', 'c', 'd']\n",
            "last 4 : ['e', 'f', 'g', 'h']\n",
            "비교 예시 ['a', 'b', 'c', 'd']\n",
            "middle 2 : ['d', 'e']\n"
          ]
        }
      ],
      "source": [
        "# 간단한 슬라이싱\n",
        "a = ['a', 'b', 'c', 'd', 'e', 'f', 'g', 'h']\n",
        "#     0    1    2    3    4    5    6    7\n",
        "#    -8   -7   -6   -5   -4   -3   -2   -1\n",
        "\n",
        "print('first 4 :', a[:4])\n",
        "print('last 4 :', a[-4:])\n",
        "print('비교 예시', a[:-4])\n",
        "print('middle 2 :',a[3:-3])"
      ]
    },
    {
      "cell_type": "code",
      "source": [
        "assert a[:5] == a[0:5]"
      ],
      "metadata": {
        "id": "sx3N8rfXPqAw"
      },
      "execution_count": 20,
      "outputs": []
    },
    {
      "cell_type": "code",
      "source": [
        "assert a[:5] == a[5:len(a)]\n",
        "\n",
        "#a[:5] == ['a', 'b', 'c', 'd', 'e']\n",
        "#a[5:len(a)] == ['f', 'g', 'h']\n",
        "# => AssertionError"
      ],
      "metadata": {
        "colab": {
          "base_uri": "https://localhost:8080/",
          "height": 211
        },
        "id": "BE626jNXQiOV",
        "outputId": "2ca7d34d-8ad8-479f-9773-a52f5eff7e3f"
      },
      "execution_count": 21,
      "outputs": [
        {
          "output_type": "error",
          "ename": "AssertionError",
          "evalue": "",
          "traceback": [
            "\u001b[0;31m---------------------------------------------------------------------------\u001b[0m",
            "\u001b[0;31mAssertionError\u001b[0m                            Traceback (most recent call last)",
            "\u001b[0;32m<ipython-input-21-fd52ea00133f>\u001b[0m in \u001b[0;36m<cell line: 0>\u001b[0;34m()\u001b[0m\n\u001b[0;32m----> 1\u001b[0;31m \u001b[0;32massert\u001b[0m \u001b[0ma\u001b[0m\u001b[0;34m[\u001b[0m\u001b[0;34m:\u001b[0m\u001b[0;36m5\u001b[0m\u001b[0;34m]\u001b[0m \u001b[0;34m==\u001b[0m \u001b[0ma\u001b[0m\u001b[0;34m[\u001b[0m\u001b[0;36m5\u001b[0m\u001b[0;34m:\u001b[0m\u001b[0mlen\u001b[0m\u001b[0;34m(\u001b[0m\u001b[0ma\u001b[0m\u001b[0;34m)\u001b[0m\u001b[0;34m]\u001b[0m\u001b[0;34m\u001b[0m\u001b[0;34m\u001b[0m\u001b[0m\n\u001b[0m\u001b[1;32m      2\u001b[0m \u001b[0;34m\u001b[0m\u001b[0m\n\u001b[1;32m      3\u001b[0m \u001b[0;31m#a[:5] == ['a', 'b', 'c', 'd', 'e']\u001b[0m\u001b[0;34m\u001b[0m\u001b[0;34m\u001b[0m\u001b[0m\n\u001b[1;32m      4\u001b[0m \u001b[0;31m#a[5:len(a)] == ['f', 'g', 'h']\u001b[0m\u001b[0;34m\u001b[0m\u001b[0;34m\u001b[0m\u001b[0m\n\u001b[1;32m      5\u001b[0m \u001b[0;31m# => AssertionError\u001b[0m\u001b[0;34m\u001b[0m\u001b[0;34m\u001b[0m\u001b[0m\n",
            "\u001b[0;31mAssertionError\u001b[0m: "
          ]
        }
      ]
    },
    {
      "cell_type": "code",
      "source": [
        "# 인덱스의 경계를 벗어나더라도, 에러가 발생되지 않는다.\n",
        "first_twenty_items = a[:20]\n",
        "last_twenty_items = a[-20:]"
      ],
      "metadata": {
        "id": "BiOBYsjtQrXR"
      },
      "execution_count": 22,
      "outputs": []
    },
    {
      "cell_type": "code",
      "source": [
        "first_twenty_items"
      ],
      "metadata": {
        "colab": {
          "base_uri": "https://localhost:8080/"
        },
        "id": "897AZ5dtROTX",
        "outputId": "f6dc62e0-72f3-4909-96ba-b33827e415c6"
      },
      "execution_count": 23,
      "outputs": [
        {
          "output_type": "execute_result",
          "data": {
            "text/plain": [
              "['a', 'b', 'c', 'd', 'e', 'f', 'g', 'h']"
            ]
          },
          "metadata": {},
          "execution_count": 23
        }
      ]
    },
    {
      "cell_type": "code",
      "source": [
        "last_twenty_items"
      ],
      "metadata": {
        "colab": {
          "base_uri": "https://localhost:8080/"
        },
        "id": "i-XOyTNQRQAk",
        "outputId": "4d8de84d-de0b-484d-9865-6bfda14c295a"
      },
      "execution_count": 24,
      "outputs": [
        {
          "output_type": "execute_result",
          "data": {
            "text/plain": [
              "['a', 'b', 'c', 'd', 'e', 'f', 'g', 'h']"
            ]
          },
          "metadata": {},
          "execution_count": 24
        }
      ]
    },
    {
      "cell_type": "code",
      "source": [
        "#직접 참조시 인덱스의 경계를 벗어나면 에러가 발생한다.\n",
        "a[20]"
      ],
      "metadata": {
        "colab": {
          "base_uri": "https://localhost:8080/",
          "height": 158
        },
        "id": "iL7sbPdSRRHO",
        "outputId": "71ca9911-d928-4c0f-9575-38bf807de2b7"
      },
      "execution_count": 25,
      "outputs": [
        {
          "output_type": "error",
          "ename": "IndexError",
          "evalue": "list index out of range",
          "traceback": [
            "\u001b[0;31m---------------------------------------------------------------------------\u001b[0m",
            "\u001b[0;31mIndexError\u001b[0m                                Traceback (most recent call last)",
            "\u001b[0;32m<ipython-input-25-614129f11bf0>\u001b[0m in \u001b[0;36m<cell line: 0>\u001b[0;34m()\u001b[0m\n\u001b[1;32m      1\u001b[0m \u001b[0;31m#직접 참조시 인덱스의 경계를 벗어나면 에러가 발생한다.\u001b[0m\u001b[0;34m\u001b[0m\u001b[0;34m\u001b[0m\u001b[0m\n\u001b[0;32m----> 2\u001b[0;31m \u001b[0ma\u001b[0m\u001b[0;34m[\u001b[0m\u001b[0;36m20\u001b[0m\u001b[0;34m]\u001b[0m\u001b[0;34m\u001b[0m\u001b[0;34m\u001b[0m\u001b[0m\n\u001b[0m",
            "\u001b[0;31mIndexError\u001b[0m: list index out of range"
          ]
        }
      ]
    },
    {
      "cell_type": "code",
      "source": [
        "# 슬라이싱의 결과는 원본의 객체 참조를 유지하나, 새로운 리스트이다.\n",
        "# 수정하더라도 원본 리스트에 영향을 끼치지 않는다.\n",
        "b = a[4:]\n",
        "print('이전 b :', b)\n",
        "b[1] = 99\n",
        "print('이후 b :', b)\n",
        "print('이전 a :', a)"
      ],
      "metadata": {
        "colab": {
          "base_uri": "https://localhost:8080/"
        },
        "id": "tvHGiJLGRk2G",
        "outputId": "22bd4195-bae0-4042-c701-4cfc4d8f156a"
      },
      "execution_count": 26,
      "outputs": [
        {
          "output_type": "stream",
          "name": "stdout",
          "text": [
            "이전 b : ['e', 'f', 'g', 'h']\n",
            "이후 b : ['e', 99, 'g', 'h']\n",
            "이전 a : ['a', 'b', 'c', 'd', 'e', 'f', 'g', 'h']\n"
          ]
        }
      ]
    },
    {
      "cell_type": "code",
      "source": [
        "a[2] = 'hi'\n",
        "print('이후 a :', a)\n",
        "print('이후 b :', b)"
      ],
      "metadata": {
        "colab": {
          "base_uri": "https://localhost:8080/"
        },
        "id": "vTXNxjCLR3tE",
        "outputId": "e75637f7-deb1-4e7a-f299-1fd18d4171f3"
      },
      "execution_count": 27,
      "outputs": [
        {
          "output_type": "stream",
          "name": "stdout",
          "text": [
            "이후 a : ['a', 'b', 'hi', 'd', 'e', 'f', 'g', 'h']\n",
            "이후 b : ['e', 99, 'g', 'h']\n"
          ]
        }
      ]
    },
    {
      "cell_type": "code",
      "source": [
        "# 할당을 사용하면, 슬라이스는 원본 리스트에서 지정한 범위를 대체한다\n",
        "# 리스트는 새로 들어온 값에 맞춰 늘어나거나 줄어든다\n",
        "print('이전 a :', a)\n",
        "print('이전 b :', b)\n",
        "a[2:7] = [88,77,66]\n",
        "print('=== change ===')\n",
        "print('이후 a :', a)\n",
        "print('이후 b :', b)"
      ],
      "metadata": {
        "colab": {
          "base_uri": "https://localhost:8080/"
        },
        "id": "3pZ_RmIISEGs",
        "outputId": "2adcbeea-8a22-48db-8af6-7849c7eecde9"
      },
      "execution_count": 28,
      "outputs": [
        {
          "output_type": "stream",
          "name": "stdout",
          "text": [
            "이전 a : ['a', 'b', 'hi', 'd', 'e', 'f', 'g', 'h']\n",
            "이전 b : ['e', 99, 'g', 'h']\n",
            "=== change ===\n",
            "이후 a : ['a', 'b', 88, 77, 66, 'h']\n",
            "이후 b : ['e', 99, 'g', 'h']\n"
          ]
        }
      ]
    },
    {
      "cell_type": "code",
      "source": [
        "# 시작과 끝 인덱스를 모두 생략하고 슬라이싱하면, 원본 리스트의 복사본을 얻는다.\n",
        "\n",
        "b = a[:]\n",
        "assert b == a # 값은 같으나"
      ],
      "metadata": {
        "id": "9oQCKJsYSxnN"
      },
      "execution_count": 31,
      "outputs": []
    },
    {
      "cell_type": "code",
      "source": [
        "assert b is not a # 주소값은 다르다."
      ],
      "metadata": {
        "id": "d302YGJ2TR3z"
      },
      "execution_count": 32,
      "outputs": []
    },
    {
      "cell_type": "code",
      "source": [
        "# 슬라이스 하지 않고 할당하면 새 리스트를 할당하지 않고 전체 내용을 참조 대상의 복사본으로 대체한다.\n",
        "b = a\n",
        "print('이전 a :', a)\n",
        "print('이전 b :', b)\n",
        "print('=== change ===')\n",
        "a[:] = [1,2,3]\n",
        "assert a is b\n",
        "print('이후 a :', a)\n",
        "print('이후 b :', b)"
      ],
      "metadata": {
        "colab": {
          "base_uri": "https://localhost:8080/"
        },
        "id": "jS6E9Wb6TWTq",
        "outputId": "3fc35b9a-7b36-4d69-e523-6338ab45cc7f"
      },
      "execution_count": 33,
      "outputs": [
        {
          "output_type": "stream",
          "name": "stdout",
          "text": [
            "이전 a : ['a', 'b', 88, 77, 66, 'h']\n",
            "이전 b : ['a', 'b', 88, 77, 66, 'h']\n",
            "=== change ===\n",
            "이후 a : [1, 2, 3]\n",
            "이후 b : [1, 2, 3]\n"
          ]
        }
      ]
    },
    {
      "cell_type": "code",
      "source": [
        "# step 의 활용\n",
        "a = [1, 2, 3, 4, 5, 6, 7, 8]\n",
        "odds = a[::2]\n",
        "evens = a[1::2]\n",
        "print('홀수 :', odds)\n",
        "print('짝수 :', evens)"
      ],
      "metadata": {
        "colab": {
          "base_uri": "https://localhost:8080/"
        },
        "id": "mPt1AcZmUar6",
        "outputId": "a472a217-355e-4b62-bd3d-abc4c3c91ae2"
      },
      "execution_count": 34,
      "outputs": [
        {
          "output_type": "stream",
          "name": "stdout",
          "text": [
            "홀수 : [1, 3, 5, 7]\n",
            "짝수 : [2, 4, 6, 8]\n"
          ]
        }
      ]
    },
    {
      "cell_type": "code",
      "source": [
        "# step의 활용 : 문자 역순\n",
        "x = 'abcdefg'\n",
        "y = x[::-1]\n",
        "y"
      ],
      "metadata": {
        "colab": {
          "base_uri": "https://localhost:8080/",
          "height": 36
        },
        "id": "wx2VY_jjU-8c",
        "outputId": "8d8f365e-a2bd-44b6-86a1-17e1888e0527"
      },
      "execution_count": 35,
      "outputs": [
        {
          "output_type": "execute_result",
          "data": {
            "text/plain": [
              "'gfedcba'"
            ],
            "application/vnd.google.colaboratory.intrinsic+json": {
              "type": "string"
            }
          },
          "metadata": {},
          "execution_count": 35
        }
      ]
    },
    {
      "cell_type": "code",
      "source": [
        "# encode : (사람이 읽는)문자열 -> (컴퓨터가 읽는)바이트\n",
        "# decode : 바이트 -> 문자열\n",
        "text = \"안녕하세요\"\n",
        "\n",
        "# 문자열을 UTF-8로 인코딩 (-> bytes)\n",
        "encoded = text.encode('UTF-8')\n",
        "print('encode :',encoded)\n",
        "# 인코딩된 bytes를 다시 디코딩 (-> str)\n",
        "decoded = encoded.decode('UTF-8')\n",
        "print('decode :',decoded)\n",
        "\n",
        "# 확인\n",
        "assert text == decoded"
      ],
      "metadata": {
        "colab": {
          "base_uri": "https://localhost:8080/"
        },
        "id": "ufK_edrWVIU7",
        "outputId": "94b73b72-8278-406f-9049-a46ff1a1f5de"
      },
      "execution_count": 36,
      "outputs": [
        {
          "output_type": "stream",
          "name": "stdout",
          "text": [
            "encode : b'\\xec\\x95\\x88\\xeb\\x85\\x95\\xed\\x95\\x98\\xec\\x84\\xb8\\xec\\x9a\\x94'\n",
            "decode : 안녕하세요\n"
          ]
        }
      ]
    },
    {
      "cell_type": "code",
      "source": [
        "text = \"안녕하세요\"\n",
        "text.decode('UTF-8')  # str에는 decode 안됨 → 에러"
      ],
      "metadata": {
        "colab": {
          "base_uri": "https://localhost:8080/",
          "height": 158
        },
        "id": "Z23WP_0BVyQT",
        "outputId": "fe388cfe-534c-4d46-d7c5-7b0b06117b59"
      },
      "execution_count": 37,
      "outputs": [
        {
          "output_type": "error",
          "ename": "AttributeError",
          "evalue": "'str' object has no attribute 'decode'",
          "traceback": [
            "\u001b[0;31m---------------------------------------------------------------------------\u001b[0m",
            "\u001b[0;31mAttributeError\u001b[0m                            Traceback (most recent call last)",
            "\u001b[0;32m<ipython-input-37-00f3e8ffe774>\u001b[0m in \u001b[0;36m<cell line: 0>\u001b[0;34m()\u001b[0m\n\u001b[1;32m      1\u001b[0m \u001b[0mtext\u001b[0m \u001b[0;34m=\u001b[0m \u001b[0;34m\"안녕하세요\"\u001b[0m\u001b[0;34m\u001b[0m\u001b[0;34m\u001b[0m\u001b[0m\n\u001b[0;32m----> 2\u001b[0;31m \u001b[0mtext\u001b[0m\u001b[0;34m.\u001b[0m\u001b[0mdecode\u001b[0m\u001b[0;34m(\u001b[0m\u001b[0;34m'UTF-8'\u001b[0m\u001b[0;34m)\u001b[0m  \u001b[0;31m# str에는 decode 안됨 → 에러\u001b[0m\u001b[0;34m\u001b[0m\u001b[0;34m\u001b[0m\u001b[0m\n\u001b[0m",
            "\u001b[0;31mAttributeError\u001b[0m: 'str' object has no attribute 'decode'"
          ]
        }
      ]
    },
    {
      "cell_type": "code",
      "source": [
        "encoded = b'\\xec\\x95\\x88\\xeb\\x85\\x95\\xed\\x95\\x98\\xec\\x84\\xb8\\xec\\x9a\\x94'\n",
        "encoded.encode('UTF-8')  # bytes에는 encode 안됨 → 에러"
      ],
      "metadata": {
        "colab": {
          "base_uri": "https://localhost:8080/",
          "height": 158
        },
        "id": "qYTuydCFV-Dz",
        "outputId": "8658bb62-ac06-4893-f0d7-8783af14dbd7"
      },
      "execution_count": 38,
      "outputs": [
        {
          "output_type": "error",
          "ename": "AttributeError",
          "evalue": "'bytes' object has no attribute 'encode'",
          "traceback": [
            "\u001b[0;31m---------------------------------------------------------------------------\u001b[0m",
            "\u001b[0;31mAttributeError\u001b[0m                            Traceback (most recent call last)",
            "\u001b[0;32m<ipython-input-38-a5538f27e9cf>\u001b[0m in \u001b[0;36m<cell line: 0>\u001b[0;34m()\u001b[0m\n\u001b[1;32m      1\u001b[0m \u001b[0mencoded\u001b[0m \u001b[0;34m=\u001b[0m \u001b[0;34mb'\\xec\\x95\\x88\\xeb\\x85\\x95\\xed\\x95\\x98\\xec\\x84\\xb8\\xec\\x9a\\x94'\u001b[0m\u001b[0;34m\u001b[0m\u001b[0;34m\u001b[0m\u001b[0m\n\u001b[0;32m----> 2\u001b[0;31m \u001b[0mencoded\u001b[0m\u001b[0;34m.\u001b[0m\u001b[0mencode\u001b[0m\u001b[0;34m(\u001b[0m\u001b[0;34m'UTF-8'\u001b[0m\u001b[0;34m)\u001b[0m  \u001b[0;31m# bytes에는 encode 안됨 → 에러\u001b[0m\u001b[0;34m\u001b[0m\u001b[0;34m\u001b[0m\u001b[0m\n\u001b[0m",
            "\u001b[0;31mAttributeError\u001b[0m: 'bytes' object has no attribute 'encode'"
          ]
        }
      ]
    },
    {
      "cell_type": "code",
      "source": [],
      "metadata": {
        "id": "dkapa3jQWAR1"
      },
      "execution_count": null,
      "outputs": []
    }
  ]
}