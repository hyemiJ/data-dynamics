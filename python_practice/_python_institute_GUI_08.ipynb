{
  "nbformat": 4,
  "nbformat_minor": 0,
  "metadata": {
    "colab": {
      "provenance": [],
      "authorship_tag": "ABX9TyMK+t/e+fnba8y4O9JZMgZJ",
      "include_colab_link": true
    },
    "kernelspec": {
      "name": "python3",
      "display_name": "Python 3"
    },
    "language_info": {
      "name": "python"
    }
  },
  "cells": [
    {
      "cell_type": "markdown",
      "metadata": {
        "id": "view-in-github",
        "colab_type": "text"
      },
      "source": [
        "<a href=\"https://colab.research.google.com/github/hyemiJ/data-dynamics/blob/main/python_practice/_python_institute_GUI_08.ipynb\" target=\"_parent\"><img src=\"https://colab.research.google.com/assets/colab-badge.svg\" alt=\"Open In Colab\"/></a>"
      ]
    },
    {
      "cell_type": "code",
      "execution_count": null,
      "metadata": {
        "id": "N7MPXfV5AGNW"
      },
      "outputs": [],
      "source": [
        "#Canvas\n",
        "import tkinter as tk\n",
        "\n",
        "root = tk.Tk()\n",
        "\n",
        "canvas = tk.Canvas(root, width=400, height=400, bg=\"yellow\")\n",
        "canvas.create_line(10, 380, 200, 10, 380, 380, 10, 380)\n",
        "button = tk.Button(root, text=\"Quit\", command=root.destroy)\n",
        "\n",
        "canvas.grid(row=0)\n",
        "button.grid(row=1)\n",
        "\n",
        "root.mainloop()"
      ]
    },
    {
      "cell_type": "code",
      "source": [
        "# option  확인하기\n",
        "# create_line\n",
        "import tkinter as tk\n",
        "\n",
        "root = tk.Tk()\n",
        "\n",
        "canvas = tk.Canvas(root, width=400, height=400, bg=\"yellow\")\n",
        "canvas.create_line(10, 380, 200, 10, 380, 380, 10, 380\n",
        "                   , arrow= tk.BOTH, fill=\"red\", smooth=True, width=3)\n",
        "button = tk.Button(root, text=\"Quit\", command=root.destroy)\n",
        "\n",
        "canvas.grid(row=0)\n",
        "button.grid(row=1)\n",
        "\n",
        "root.mainloop()"
      ],
      "metadata": {
        "id": "0tVqSJT7Dnkj"
      },
      "execution_count": null,
      "outputs": []
    },
    {
      "cell_type": "code",
      "source": [
        "#create_rectangle()\n",
        "\n",
        "import tkinter as tk\n",
        "\n",
        "root = tk.Tk()\n",
        "canvas = tk.Canvas(root, width=400, height=400, bg=\"yellow\")\n",
        "canvas.create_rectangle(200, 100, 300, 300, fill=\"red\", outline='white', width=5)\n",
        "button = tk.Button(root, text=\"Quit\", command=root.destroy)\n",
        "\n",
        "canvas.grid(row=0)\n",
        "button.grid(row=1)\n",
        "\n",
        "root.mainloop()"
      ],
      "metadata": {
        "id": "w1ucfGbwVS9O"
      },
      "execution_count": null,
      "outputs": []
    },
    {
      "cell_type": "code",
      "source": [
        "#create_polygon()\n",
        "\n",
        "import tkinter as tk\n",
        "\n",
        "root = tk.Tk()\n",
        "canvas = tk.Canvas(root, width=400, height=400, bg=\"black\")\n",
        "canvas.create_polygon(20, 380, 200, 68, 380, 380, outline='red', width=5, fill='yellow')\n",
        "button = tk.Button(root, text=\"Quit\", command=root.destroy)\n",
        "\n",
        "canvas.grid(row=0)\n",
        "button.grid(row=1)\n",
        "\n",
        "root.mainloop()"
      ],
      "metadata": {
        "id": "1RKvPCabV8kx"
      },
      "execution_count": null,
      "outputs": []
    },
    {
      "cell_type": "code",
      "source": [
        "#create_oval()\n",
        "\n",
        "import tkinter as tk\n",
        "\n",
        "root = tk.Tk()\n",
        "canvas = tk.Canvas(root, width=400, height=400, bg=\"black\")\n",
        "canvas.create_oval(100, 100, 300, 200, outline='red', width=15, fill='white')\n",
        "button = tk.Button(root, text=\"Quit\", command=root.destroy)\n",
        "\n",
        "canvas.grid(row=0)\n",
        "button.grid(row=1)\n",
        "\n",
        "root.mainloop()"
      ],
      "metadata": {
        "id": "zOfR7S_CYANa"
      },
      "execution_count": null,
      "outputs": []
    },
    {
      "cell_type": "code",
      "source": [
        "#create_arc()\n",
        "\n",
        "import tkinter as tk\n",
        "\n",
        "root = tk.Tk()\n",
        "canvas = tk.Canvas(root, width=400, height=400, bg=\"yellow\")\n",
        "canvas.create_arc(10, 100, 380, 300, outline='red', width=5)\n",
        "canvas.create_arc(10, 100, 380, 300, outline='blue', width=5, style.tk.CHORD, start=90, fill='white')\n",
        "canvas.create_arc(10, 100, 380, 300, outline='green', width=5, style.tk.ARC, start=180, extent=180)\n",
        "button = tk.Button(root, text=\"Quit\", command=root.destroy)\n",
        "\n",
        "canvas.grid(row=0)\n",
        "button.grid(row=1)\n",
        "\n",
        "root.mainloop()"
      ],
      "metadata": {
        "id": "iRmGU9NFbbCX"
      },
      "execution_count": null,
      "outputs": []
    },
    {
      "cell_type": "code",
      "source": [
        "#create_text()\n",
        "\n",
        "import tkinter as tk\n",
        "\n",
        "root = tk.Tk()\n",
        "canvas = tk.Canvas(root, width=400, height=400, bg='blue')\n",
        "canvas.create_text(200,200, text=\"Mary\\nhad\\na\\nlittle\\nlamb\",\n",
        "                   font=('Courier', 30, 'bold'),\n",
        "                   justifgy=tk.CENTER,\n",
        "                   fill='white')\n",
        "button = tk.Button(root, text=\"Quit\", command=root.destroy)\n",
        "\n",
        "canvas.grid(row=0)\n",
        "button.grid(row=1)\n",
        "\n",
        "root.mainloop()"
      ],
      "metadata": {
        "id": "xGw0eq-u_54t"
      },
      "execution_count": null,
      "outputs": []
    },
    {
      "cell_type": "code",
      "source": [
        "#create_image()\n",
        "\n",
        "# 예제 코드-> 실행 오류발생\n",
        "import tkinter as tk\n",
        "from PIL import Image, ImageTk # 추가 적용\n",
        "\n",
        "root = tk.Tk()\n",
        "canvas = tk.Canvas(root, width=400, height=400, bg='yellow')\n",
        "# image = tk.PhotoImage(file='icon.png')  # 예제 코드가 오류 발생함 -> PIL의 Image, Imagetk 이용\n",
        "image = Image.open('icon.png')\n",
        "photo = ImageTk.PhotoImage(image)\n",
        "canvas.create_image(200, 200, image=photo)\n",
        "button = tk.Button(root, text=\"Quit\", command=root.destroy)\n",
        "\n",
        "canvas.grid(row=0)\n",
        "button.grid(row=1)\n",
        "\n",
        "root.mainloop()"
      ],
      "metadata": {
        "id": "VwJtRotmCEeQ"
      },
      "execution_count": null,
      "outputs": []
    }
  ]
}