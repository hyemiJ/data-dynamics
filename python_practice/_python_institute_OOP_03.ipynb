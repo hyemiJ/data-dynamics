{
  "nbformat": 4,
  "nbformat_minor": 0,
  "metadata": {
    "colab": {
      "provenance": [],
      "authorship_tag": "ABX9TyPhaurt2yU79VgG6BGv9vHo",
      "include_colab_link": true
    },
    "kernelspec": {
      "name": "python3",
      "display_name": "Python 3"
    },
    "language_info": {
      "name": "python"
    }
  },
  "cells": [
    {
      "cell_type": "markdown",
      "metadata": {
        "id": "view-in-github",
        "colab_type": "text"
      },
      "source": [
        "<a href=\"https://colab.research.google.com/github/hyemiJ/data-dynamics/blob/main/python_practice/_python_institute_OOP_03.ipynb\" target=\"_parent\"><img src=\"https://colab.research.google.com/assets/colab-badge.svg\" alt=\"Open In Colab\"/></a>"
      ]
    },
    {
      "cell_type": "code",
      "execution_count": 2,
      "metadata": {
        "colab": {
          "base_uri": "https://localhost:8080/"
        },
        "id": "zB8rdTc3A9Je",
        "outputId": "60fca828-9d31-4731-f754-8b5496b1279b"
      },
      "outputs": [
        {
          "output_type": "stream",
          "name": "stdout",
          "text": [
            "Toyota\n",
            "Name :  Toyota\n",
            "Model :  Corolla\n",
            "Color :  Black\n"
          ]
        }
      ],
      "source": [
        "class Car :\n",
        "  def __init__(s,name,model,color):\n",
        "    s.name = name\n",
        "    s.model = model\n",
        "    s.color = color\n",
        "\n",
        "  def show(self):\n",
        "    print(\"Name : \",self.name)\n",
        "    print(\"Model : \",self.model)\n",
        "    print(\"Color : \",self.color)\n",
        "\n",
        "car = Car(\"Toyota\",\"Corolla\",\"Black\")\n",
        "print(car.name)\n",
        "car.show()"
      ]
    },
    {
      "cell_type": "code",
      "source": [
        "class Car :\n",
        "  __counter = 0             #클래스 private 변수\n",
        "  def __init__(self,name):\n",
        "    Car.__counter +=1      #클래스 변수 접근\n",
        "    self.name = name\n",
        "\n",
        "  @classmethod\n",
        "  def get_counter(cls):\n",
        "    return 'cls.__counter :'+str(cls.__counter)\n",
        "\n",
        "\n",
        "car1 = Car(\"Toyota\")\n",
        "print(Car.get_counter())\n",
        "car2 = Car(\"Hyundai\")\n",
        "print(Car.get_counter())"
      ],
      "metadata": {
        "colab": {
          "base_uri": "https://localhost:8080/"
        },
        "id": "s6g34AGDCriV",
        "outputId": "d2167c74-ee8a-4618-b317-32bb045057ba"
      },
      "execution_count": 8,
      "outputs": [
        {
          "output_type": "stream",
          "name": "stdout",
          "text": [
            "cls.__counter :1\n",
            "cls.__counter :2\n"
          ]
        }
      ]
    },
    {
      "cell_type": "code",
      "source": [
        "print(Car._Car__counter)"
      ],
      "metadata": {
        "colab": {
          "base_uri": "https://localhost:8080/"
        },
        "id": "XHhQuf-HkkuP",
        "outputId": "651b2497-1959-4d50-fbd3-7f523a8c52c3"
      },
      "execution_count": 10,
      "outputs": [
        {
          "output_type": "stream",
          "name": "stdout",
          "text": [
            "2\n"
          ]
        }
      ]
    },
    {
      "cell_type": "code",
      "source": [
        "class Car :\n",
        "\n",
        "  def __init__(self,vin):\n",
        "    print(\"Car init..\")\n",
        "    print(\"vin :\", vin)\n",
        "    self.vin = vin\n",
        "\n",
        "  @classmethod\n",
        "  def including_brand(cls, vin, brand):\n",
        "    print(\"Car Classmethod..\")\n",
        "    _car = cls(vin)\n",
        "    _car.brand = brand\n",
        "    return _car\n",
        "\n",
        "car1 = Car(\"ABC\")\n",
        "print()\n",
        "car2 = Car.including_brand(\"DEF\",\"Hyundai\")"
      ],
      "metadata": {
        "colab": {
          "base_uri": "https://localhost:8080/"
        },
        "id": "Ilh7SWEplaFS",
        "outputId": "a2aa002f-a059-44f9-c82b-ef580ac99f1a"
      },
      "execution_count": 11,
      "outputs": [
        {
          "output_type": "stream",
          "name": "stdout",
          "text": [
            "Car init..\n",
            "vin : ABC\n",
            "\n",
            "Car Classmethod..\n",
            "Car init..\n",
            "vin : DEF\n"
          ]
        }
      ]
    },
    {
      "cell_type": "code",
      "source": [
        "class Car :\n",
        "\n",
        "  def __init__(self,vin):\n",
        "    print(\"Car init..\")\n",
        "    print(\"vin :\", vin)\n",
        "    self.vin = vin\n",
        "\n",
        "  @staticmethod\n",
        "  def validate(vin):\n",
        "    print(\"Car staticmethod..\")\n",
        "    if len(vin) == 8:\n",
        "      return True\n",
        "    else:\n",
        "      return False\n",
        "\n",
        "print(Car.validate(\"ABC\"))"
      ],
      "metadata": {
        "colab": {
          "base_uri": "https://localhost:8080/"
        },
        "id": "2jR3aN8Go2Oe",
        "outputId": "1d0ec998-e03d-44b7-f074-ecd9b843b932"
      },
      "execution_count": 12,
      "outputs": [
        {
          "output_type": "stream",
          "name": "stdout",
          "text": [
            "Car staticmethod..\n",
            "False\n"
          ]
        }
      ]
    },
    {
      "cell_type": "code",
      "source": [
        "class Phone:\n",
        "  def __init__(self,phone_number):\n",
        "    self.phone_number = phone_number\n",
        "  @staticmethod\n",
        "  def validate(phone_number):\n",
        "    return len(phone_number) == 11\n",
        "\n",
        "numbers_list = ['01033334444','010222233','010111222','01055556666']\n",
        "for number in numbers_list:\n",
        "  if Phone.validate(number):\n",
        "    print(\"validate TRUE :\",number,\",len :\",len(number))\n",
        "  else:\n",
        "    print(\"validate FALSE :\",number,\",len :\",len(number))"
      ],
      "metadata": {
        "colab": {
          "base_uri": "https://localhost:8080/"
        },
        "id": "JhhoWOWqvZP3",
        "outputId": "aa80dea7-67d8-483c-e2b4-45d802b08444"
      },
      "execution_count": 14,
      "outputs": [
        {
          "output_type": "stream",
          "name": "stdout",
          "text": [
            "validate TRUE : 01033334444 ,len : 11\n",
            "validate FALSE : 010222233 ,len : 9\n",
            "validate FALSE : 010111222 ,len : 9\n",
            "validate TRUE : 01055556666 ,len : 11\n"
          ]
        }
      ]
    },
    {
      "cell_type": "code",
      "source": [],
      "metadata": {
        "id": "GmNkbqQHwy7y"
      },
      "execution_count": null,
      "outputs": []
    }
  ]
}