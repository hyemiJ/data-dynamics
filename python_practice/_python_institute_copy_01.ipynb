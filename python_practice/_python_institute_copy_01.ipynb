{
  "nbformat": 4,
  "nbformat_minor": 0,
  "metadata": {
    "colab": {
      "provenance": [],
      "authorship_tag": "ABX9TyMbRewE1U3UQbsz2syxpN1X",
      "include_colab_link": true
    },
    "kernelspec": {
      "name": "python3",
      "display_name": "Python 3"
    },
    "language_info": {
      "name": "python"
    }
  },
  "cells": [
    {
      "cell_type": "markdown",
      "metadata": {
        "id": "view-in-github",
        "colab_type": "text"
      },
      "source": [
        "<a href=\"https://colab.research.google.com/github/hyemiJ/data-dynamics/blob/main/python_practice/_python_institute_copy_01.ipynb\" target=\"_parent\"><img src=\"https://colab.research.google.com/assets/colab-badge.svg\" alt=\"Open In Colab\"/></a>"
      ]
    },
    {
      "cell_type": "code",
      "execution_count": null,
      "metadata": {
        "id": "QMeBGMeVbWzZ"
      },
      "outputs": [],
      "source": [
        "a_list = [1, 'Hi', 10.1]"
      ]
    },
    {
      "cell_type": "code",
      "source": [
        "a = '안녕하세요'\n",
        "b = '안녕하세요!'\n",
        "\n",
        "print('a identity : ', id(a))\n",
        "print('b identity : ', id(b))"
      ],
      "metadata": {
        "colab": {
          "base_uri": "https://localhost:8080/"
        },
        "id": "fY8TYrsGcgLr",
        "outputId": "660efbbd-7eca-46fc-ac89-af1b4a7f94e5"
      },
      "execution_count": null,
      "outputs": [
        {
          "output_type": "stream",
          "name": "stdout",
          "text": [
            "a identity :  134793803560496\n",
            "b identity :  134793523006688\n"
          ]
        }
      ]
    },
    {
      "cell_type": "code",
      "source": [
        "a = [1, 2, 3]\n",
        "b = a # 그냥 a를 b에 할당\n",
        "\n",
        "b[0] = 999\n",
        "print(a)  # [999, 2, 3] → a도 같이 바뀜\n",
        "print(id(a)) #134792983085760\n",
        "print(id(b)) #134792983085760"
      ],
      "metadata": {
        "colab": {
          "base_uri": "https://localhost:8080/"
        },
        "id": "Vm2CvjOjgsBp",
        "outputId": "8fc02f20-df2c-4d62-9e1e-a7e7c65519f4"
      },
      "execution_count": null,
      "outputs": [
        {
          "output_type": "stream",
          "name": "stdout",
          "text": [
            "[999, 2, 3]\n",
            "134792983085760\n",
            "134792983085760\n"
          ]
        }
      ]
    },
    {
      "cell_type": "code",
      "source": [
        "import copy\n",
        "# 슬라이싱 활용\n",
        "a = [[1, 2], [3, 4]]\n",
        "b = a[:]  # 얕은 복사\n",
        "\n",
        "b[0][0] = 999\n",
        "print(a)  # [[999, 2], [3, 4]] → 내부 리스트는 공유됨\n",
        "print('a와 b의 값 비교 :',a == b) #a와 b의 값 비교 : True\n",
        "print('a와 b의 id 비교 :',id(a) == id(b)) #a와 b의 id 비교 : False\n",
        "\n",
        "# copy 활용\n",
        "\n",
        "a = [[1, 2], [3, 4]]\n",
        "b = copy.copy(a)  # 얕은 복사\n",
        "\n",
        "b[0][0] = 888\n",
        "print(a)  # [[888, 2], [3, 4]] → 동일\n",
        "print('a와 b의 값 비교 :',a == b) #a와 b의 값 비교 : True\n",
        "print('a와 b의 id 비교 :',id(a) == id(b)) #a와 b의 id 비교 : False"
      ],
      "metadata": {
        "colab": {
          "base_uri": "https://localhost:8080/"
        },
        "id": "7ytv0Sduhlyc",
        "outputId": "b617bbca-1580-42c4-9a9d-5c483f62fd76"
      },
      "execution_count": null,
      "outputs": [
        {
          "output_type": "stream",
          "name": "stdout",
          "text": [
            "[[999, 2], [3, 4]]\n",
            "a와 b의 값 비교 : True\n",
            "a와 b의 id 비교 : False\n",
            "[[888, 2], [3, 4]]\n",
            "a와 b의 값 비교 : True\n",
            "a와 b의 id 비교 : False\n"
          ]
        }
      ]
    },
    {
      "cell_type": "code",
      "source": [
        "a = [[1, 2], [3, 4]]\n",
        "b = copy.deepcopy(a)  # 깊은 복사\n",
        "\n",
        "b[0][0] = 777\n",
        "print(a)  # [[1, 2], [3, 4]] → 완전 독립!\n",
        "print('a와 b의 값 비교 :',a == b) #a와 b의 값 비교 : False\n",
        "print('a와 b의 id 비교 :',id(a) == id(b)) #a와 b의 id 비교 : False"
      ],
      "metadata": {
        "colab": {
          "base_uri": "https://localhost:8080/"
        },
        "id": "qvU6Xo80lwIw",
        "outputId": "ebd1ce45-e2c2-4d86-821a-873804b4363f"
      },
      "execution_count": null,
      "outputs": [
        {
          "output_type": "stream",
          "name": "stdout",
          "text": [
            "[[1, 2], [3, 4]]\n",
            "a와 b의 값 비교 : False\n",
            "a와 b의 id 비교 : False\n"
          ]
        }
      ]
    },
    {
      "cell_type": "code",
      "source": [
        "import time\n",
        "\n",
        "a = [(1, 2, 3) for x in range(1000000)]\n",
        "\n",
        "print(\"Single reference copy\")\n",
        "start = time.time()\n",
        "b = a\n",
        "print(\"Execution time :\",round(time.time() - start,3))\n",
        "print('Memory chunks :', id(a), id(b))\n",
        "print(\"Same memory chunk? :\", a is b)\n",
        "\n",
        "print()\n",
        "\n",
        "print(\"Shallow copy\")\n",
        "start = time.time()\n",
        "b = copy.copy(a)\n",
        "print(\"Execution time :\",round(time.time() - start,3))\n",
        "print('Memory chunks :', id(a), id(b))\n",
        "print(\"Same memory chunk? :\", a is b)\n",
        "\n",
        "print()\n",
        "\n",
        "print(\"Deep copy\")\n",
        "start = time.time()\n",
        "b = copy.deepcopy(a)\n",
        "print(\"Execution time :\",round(time.time() - start,3))\n",
        "print('Memory chunks :', id(a), id(b))\n",
        "print(\"Same memory chunk? :\", a is b)"
      ],
      "metadata": {
        "colab": {
          "base_uri": "https://localhost:8080/"
        },
        "id": "PCgDYPU43c2t",
        "outputId": "b29d1513-c2d6-4046-df21-830369dcb068"
      },
      "execution_count": null,
      "outputs": [
        {
          "output_type": "stream",
          "name": "stdout",
          "text": [
            "Single reference copy\n",
            "Execution time : 0.0\n",
            "Memory chunks : 133581855486848 133581855486848\n",
            "Same memory chunk? : True\n",
            "\n",
            "Shallow copy\n",
            "Execution time : 0.001\n",
            "Memory chunks : 133581855486848 133581853767232\n",
            "Same memory chunk? : False\n",
            "\n",
            "Deep copy\n",
            "Execution time : 1.639\n",
            "Memory chunks : 133581855486848 133581443036480\n",
            "Same memory chunk? : False\n"
          ]
        }
      ]
    },
    {
      "cell_type": "code",
      "source": [
        "a = {\n",
        "    'first_name' : 'James',\n",
        "    'last_name' : 'Bond',\n",
        "    'movies' : ['Goldfinger (1964)','You Only Live Twice']\n",
        "}\n",
        "b = copy.deepcopy(a)\n",
        "print('Memory chunks :', id(a), id(b))\n",
        "print(\"Same memory chunk? :\", a is b)\n",
        "b['movies'].append('Diamonds Are Forever (1971)')\n",
        "print('a movies :',a['movies'])\n",
        "print('b movies :',b['movies'])\n"
      ],
      "metadata": {
        "colab": {
          "base_uri": "https://localhost:8080/"
        },
        "id": "LLymUjg74zSn",
        "outputId": "17fec07d-31b1-49d2-bd64-b30c64be6802"
      },
      "execution_count": null,
      "outputs": [
        {
          "output_type": "stream",
          "name": "stdout",
          "text": [
            "Memory chunks : 133581436868800 133581437137152\n",
            "Same memory chunk? : False\n",
            "a movies : ['Goldfinger (1964)', 'You Only Live Twice']\n",
            "b movies : ['Goldfinger (1964)', 'You Only Live Twice', 'Diamonds Are Forever (1971)']\n"
          ]
        }
      ]
    },
    {
      "cell_type": "code",
      "source": [
        "import copy\n",
        "\n",
        "class Example:\n",
        "  def __init__(self):\n",
        "    self.properties = [\"112\", \"221\"]\n",
        "    print(\"init...\")\n",
        "\n",
        "a = Example()\n",
        "b = copy.deepcopy(a)\n",
        "print('Memory chunks :', id(a), id(b))\n",
        "print(\"Same memory chunk? :\", a is b)\n",
        "b.properties.append(\"333\")\n",
        "print(a.properties)\n",
        "print(b.properties)"
      ],
      "metadata": {
        "colab": {
          "base_uri": "https://localhost:8080/"
        },
        "id": "zpTeKuexFsQ9",
        "outputId": "79894b28-53d2-4122-f4c0-5bde1b12b8f7"
      },
      "execution_count": null,
      "outputs": [
        {
          "output_type": "stream",
          "name": "stdout",
          "text": [
            "init...\n",
            "Memory chunks : 133581443037328 133581853550480\n",
            "Same memory chunk? : False\n",
            "['112', '221']\n",
            "['112', '221', '333']\n"
          ]
        }
      ]
    },
    {
      "cell_type": "code",
      "source": [],
      "metadata": {
        "id": "vT_XPHSZGgrN"
      },
      "execution_count": null,
      "outputs": []
    }
  ]
}