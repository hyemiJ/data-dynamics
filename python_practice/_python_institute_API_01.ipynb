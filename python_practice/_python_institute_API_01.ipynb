{
  "nbformat": 4,
  "nbformat_minor": 0,
  "metadata": {
    "colab": {
      "provenance": [],
      "authorship_tag": "ABX9TyMtrxivKjCPNVofdWWt5zCr",
      "include_colab_link": true
    },
    "kernelspec": {
      "name": "python3",
      "display_name": "Python 3"
    },
    "language_info": {
      "name": "python"
    }
  },
  "cells": [
    {
      "cell_type": "markdown",
      "metadata": {
        "id": "view-in-github",
        "colab_type": "text"
      },
      "source": [
        "<a href=\"https://colab.research.google.com/github/hyemiJ/data-dynamics/blob/main/python_practice/_python_institute_API_01.ipynb\" target=\"_parent\"><img src=\"https://colab.research.google.com/assets/colab-badge.svg\" alt=\"Open In Colab\"/></a>"
      ]
    },
    {
      "cell_type": "markdown",
      "source": [
        "### Python을 이용하여 서버에서 문서 가져오기\n",
        "\n",
        "1. 소켓 생성\n",
        "2. 소켓으로 주어진 주소에 HTTP 서버에 연결\n",
        "3. 서버에 요청을 보내기\n",
        "4. 서버의 응답을 받기\n",
        "5. 소켓을 닫아 연결을 종료."
      ],
      "metadata": {
        "id": "ScemVk2Vks6z"
      }
    },
    {
      "cell_type": "code",
      "source": [
        "import socket"
      ],
      "metadata": {
        "id": "3Ad4Q0IilBHR"
      },
      "execution_count": 1,
      "outputs": []
    },
    {
      "cell_type": "code",
      "execution_count": null,
      "metadata": {
        "id": "FzhPAhCuknXe"
      },
      "outputs": [],
      "source": [
        "import socket\n",
        "\n",
        "server_address = input(\"어떤 서버와 연결할건가요 ? :\")"
      ]
    },
    {
      "cell_type": "code",
      "source": [
        "# socket 생성\n",
        "import socket\n",
        "\n",
        "server_address = input(\"어떤 서버와 연결할건가요 ? :\")\n",
        "sock = socket.socket(socket.AF_INET, socket.SOCK_STREAM)"
      ],
      "metadata": {
        "id": "gMA1lMUwmet4"
      },
      "execution_count": null,
      "outputs": []
    },
    {
      "cell_type": "code",
      "source": [
        "# 서버 연결\n",
        "import socket\n",
        "\n",
        "server_address = input(\"어떤 서버와 연결할건가요 ? :\")\n",
        "sock = socket.socket(socket.AF_INET, socket.SOCK_STREAM)\n",
        "sock.connect((server_address, 80))"
      ],
      "metadata": {
        "id": "jU2tfZo1p-ok"
      },
      "execution_count": null,
      "outputs": []
    },
    {
      "cell_type": "code",
      "source": [
        "#서버에 문서 요청\n",
        "import socket\n",
        "\n",
        "server_address = input(\"어떤 서버와 연결할건가요 ? :\")\n",
        "sock = socket.socket(socket.AF_INET, socket.SOCK_STREAM)\n",
        "sock.connect((server_address, 80))\n",
        "sock.sendall(b'GET / HTTP/1.0\\r\\nHost:' +\n",
        "             bytes(server_address, \"utf8\") +\n",
        "             b\"\\rnConnection: close\\r\\n\\r\\n\")"
      ],
      "metadata": {
        "id": "RDQqTS2RvGVr"
      },
      "execution_count": null,
      "outputs": []
    },
    {
      "cell_type": "code",
      "source": [
        "#응답 나눠 받기\n",
        "import socket\n",
        "\n",
        "server_address = input(\"어떤 서버와 연결할건가요 ? :\")\n",
        "sock = socket.socket(socket.AF_INET, socket.SOCK_STREAM)\n",
        "sock.connect((server_address, 80))\n",
        "sock.sendall(b'GET / HTTP/1.0\\r\\nHost:' +\n",
        "             bytes(server_address, \"utf8\") +\n",
        "             b\"\\rnConnection: close\\r\\n\\r\\n\")\n",
        "reply = sock.recv(10000)"
      ],
      "metadata": {
        "id": "tB5HdqDVyPQ1"
      },
      "execution_count": null,
      "outputs": []
    },
    {
      "cell_type": "code",
      "source": [
        "# 연결 종료\n",
        "import socket\n",
        "\n",
        "server_address = input(\"어떤 서버와 연결할건가요 ? :\")\n",
        "sock = socket.socket(socket.AF_INET, socket.SOCK_STREAM)\n",
        "sock.connect((server_address, 80))\n",
        "sock.sendall(b'GET / HTTP/1.0\\r\\nHost:' +\n",
        "             bytes(server_address, \"utf8\") +\n",
        "             b\"\\rnConnection: close\\r\\n\\r\\n\")\n",
        "reply = sock.recv(10000)\n",
        "sock.shutdown(socket.SHUT_RDWR)\n",
        "sock.close()"
      ],
      "metadata": {
        "id": "hcwkFQ4H1Gbq"
      },
      "execution_count": null,
      "outputs": []
    },
    {
      "cell_type": "code",
      "source": [
        "# 응답 출력\n",
        "import socket\n",
        "\n",
        "server_address = input(\"어떤 서버와 연결할건가요 ? :\")\n",
        "sock = socket.socket(socket.AF_INET, socket.SOCK_STREAM)\n",
        "sock.connect((server_address, 80))\n",
        "sock.sendall(b'GET / HTTP/1.0\\r\\nHost:' +\n",
        "             bytes(server_address, \"utf8\") +\n",
        "             b\"\\rnConnection: close\\r\\n\\r\\n\")\n",
        "reply = sock.recv(10000)\n",
        "sock.shutdown(socket.SHUT_RDWR)\n",
        "sock.close()\n",
        "print(repr(reply))"
      ],
      "metadata": {
        "id": "5cmMhAvG3zUr"
      },
      "execution_count": null,
      "outputs": []
    }
  ]
}