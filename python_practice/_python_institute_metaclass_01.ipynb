{
  "nbformat": 4,
  "nbformat_minor": 0,
  "metadata": {
    "colab": {
      "provenance": [],
      "authorship_tag": "ABX9TyMezyogNDEEv15z3UGp9Iiv",
      "include_colab_link": true
    },
    "kernelspec": {
      "name": "python3",
      "display_name": "Python 3"
    },
    "language_info": {
      "name": "python"
    }
  },
  "cells": [
    {
      "cell_type": "markdown",
      "metadata": {
        "id": "view-in-github",
        "colab_type": "text"
      },
      "source": [
        "<a href=\"https://colab.research.google.com/github/hyemiJ/data-dynamics/blob/main/python_practice/_python_institute_metaclass_01.ipynb\" target=\"_parent\"><img src=\"https://colab.research.google.com/assets/colab-badge.svg\" alt=\"Open In Colab\"/></a>"
      ]
    },
    {
      "cell_type": "code",
      "execution_count": 1,
      "metadata": {
        "colab": {
          "base_uri": "https://localhost:8080/"
        },
        "id": "Hkq0xfFwtWbN",
        "outputId": "ad521930-786d-4980-9c78-6ff158e3dcd9"
      },
      "outputs": [
        {
          "output_type": "stream",
          "name": "stdout",
          "text": [
            "<class 'int'>\n",
            "<class 'list'>\n",
            "<class '__main__.Dog'>\n",
            "<class 'type'>\n"
          ]
        }
      ],
      "source": [
        "class Dog:\n",
        "  pass\n",
        "\n",
        "age = 10\n",
        "code = [33, 22]\n",
        "dog = Dog()\n",
        "\n",
        "print(type(age))\n",
        "print(type(code))\n",
        "print(type(dog))\n",
        "print(type(Dog))"
      ]
    },
    {
      "cell_type": "code",
      "source": [
        "for t in (int,list,type):\n",
        "  print(type(t))"
      ],
      "metadata": {
        "colab": {
          "base_uri": "https://localhost:8080/"
        },
        "id": "hHRDUH3RttsO",
        "outputId": "36e6db87-3b71-488f-b16d-996d840a81f5"
      },
      "execution_count": 2,
      "outputs": [
        {
          "output_type": "stream",
          "name": "stdout",
          "text": [
            "<class 'type'>\n",
            "<class 'type'>\n",
            "<class 'type'>\n"
          ]
        }
      ]
    },
    {
      "cell_type": "code",
      "source": [
        "class Dog:\n",
        "  pass\n",
        "\n",
        "dog = Dog()\n",
        "print(\"Dog.__name__ :\",Dog.__name__)"
      ],
      "metadata": {
        "colab": {
          "base_uri": "https://localhost:8080/"
        },
        "id": "64xkN-jMuTJn",
        "outputId": "758636f4-27f2-4e4f-9017-fa45250640bf"
      },
      "execution_count": 3,
      "outputs": [
        {
          "output_type": "stream",
          "name": "stdout",
          "text": [
            "Dog.__name__ : Dog\n"
          ]
        }
      ]
    },
    {
      "cell_type": "code",
      "source": [
        "print(Dog.__class__)#class\n",
        "print(dog.__class__)#instance"
      ],
      "metadata": {
        "colab": {
          "base_uri": "https://localhost:8080/"
        },
        "id": "mpXi17gpCzLv",
        "outputId": "1dc442ac-c7a9-4081-9957-ac4c20b384a0"
      },
      "execution_count": 4,
      "outputs": [
        {
          "output_type": "stream",
          "name": "stdout",
          "text": [
            "<class 'type'>\n",
            "<class '__main__.Dog'>\n"
          ]
        }
      ]
    },
    {
      "cell_type": "code",
      "source": [
        "print(Dog.__bases__)\n",
        "#print(dog.__bases__) AttributeError: 'Dog' object has no attribute '__bases__'"
      ],
      "metadata": {
        "colab": {
          "base_uri": "https://localhost:8080/"
        },
        "id": "IaKNWq2CDTel",
        "outputId": "3c81422c-c9d8-4087-a3b2-1bea36951a7d"
      },
      "execution_count": 7,
      "outputs": [
        {
          "output_type": "stream",
          "name": "stdout",
          "text": [
            "(<class 'object'>,)\n"
          ]
        }
      ]
    },
    {
      "cell_type": "code",
      "source": [
        "print(Dog.__dict__)\n",
        "print(dog.__dict__)"
      ],
      "metadata": {
        "colab": {
          "base_uri": "https://localhost:8080/"
        },
        "id": "HH6qTFvJDi9c",
        "outputId": "412b23a5-1946-46ed-eb77-585d4144db34"
      },
      "execution_count": 8,
      "outputs": [
        {
          "output_type": "stream",
          "name": "stdout",
          "text": [
            "{'__module__': '__main__', '__dict__': <attribute '__dict__' of 'Dog' objects>, '__weakref__': <attribute '__weakref__' of 'Dog' objects>, '__doc__': None, '__annotations__': {}}\n",
            "{}\n"
          ]
        }
      ]
    },
    {
      "cell_type": "code",
      "source": [
        "for element in (1, 'a', True):\n",
        "  print(f'{element} 는 {element.__class__} , {type(element)}')"
      ],
      "metadata": {
        "colab": {
          "base_uri": "https://localhost:8080/"
        },
        "id": "0bfqXHb_D0mp",
        "outputId": "b28a717a-129c-4605-fb5f-41b55886c0e8"
      },
      "execution_count": 9,
      "outputs": [
        {
          "output_type": "stream",
          "name": "stdout",
          "text": [
            "1 는 <class 'int'> , <class 'int'>\n",
            "a 는 <class 'str'> , <class 'str'>\n",
            "True 는 <class 'bool'> , <class 'bool'>\n"
          ]
        }
      ]
    },
    {
      "cell_type": "code",
      "source": [
        "Dog = type('Dog',(),{})\n",
        "print('(Dog가 어떤 클래스의 인스턴스인지)__class__:', Dog.__class__)\n",
        "print('(Dog 클래스의 이름)__name__:', Dog.__name__)\n",
        "print('(Dog의 부모 클래스들)__bases__:', Dog.__bases__)\n",
        "print('(Dog 클래스의 속성 및 메서드)__dict__:', Dog.__dict__)"
      ],
      "metadata": {
        "colab": {
          "base_uri": "https://localhost:8080/"
        },
        "id": "R0FJON8qFfTu",
        "outputId": "57749418-ff4b-45c9-d332-26ca3ba424d9"
      },
      "execution_count": 5,
      "outputs": [
        {
          "output_type": "stream",
          "name": "stdout",
          "text": [
            "(Dog가 어떤 클래스의 인스턴스인지)__class__: <class 'type'>\n",
            "(Dog 클래스의 이름)__name__: Dog\n",
            "(Dog의 부모 클래스들)__bases__: (<class 'object'>,)\n",
            "(Dog 클래스의 속성 및 메서드)__dict__: {'__module__': '__main__', '__dict__': <attribute '__dict__' of 'Dog' objects>, '__weakref__': <attribute '__weakref__' of 'Dog' objects>, '__doc__': None}\n"
          ]
        }
      ]
    },
    {
      "cell_type": "code",
      "source": [
        "def bark(self):\n",
        "  print('멍멍멍 !')"
      ],
      "metadata": {
        "id": "lxPD7xL8fnu1"
      },
      "execution_count": 6,
      "outputs": []
    },
    {
      "cell_type": "code",
      "source": [
        "class Animal:\n",
        "  def feed(self):\n",
        "    print('밥먹는 시간 !')\n",
        "\n",
        "Dog = type('Dog',(Animal,),{'age': 1, 'bark': bark})\n",
        "\n",
        "print('(Dog가 어떤 클래스의 인스턴스인지)__class__:', Dog.__class__)\n",
        "print('(Dog 클래스의 이름)__name__:', Dog.__name__)\n",
        "print('(Dog의 부모 클래스들)__bases__:', Dog.__bases__)\n",
        "print('(Dog 클래스의 속성 및 메서드)__dict__:', Dog.__dict__)\n",
        "\n",
        "dog = Dog()\n",
        "dog.feed()\n",
        "dog.bark()\n",
        "print(bark)\n",
        "print(Dog.__dict__['bark'])"
      ],
      "metadata": {
        "colab": {
          "base_uri": "https://localhost:8080/"
        },
        "id": "XuIqafYVHEOx",
        "outputId": "5de1b4cc-d473-4c90-f223-07a349e014f7"
      },
      "execution_count": 7,
      "outputs": [
        {
          "output_type": "stream",
          "name": "stdout",
          "text": [
            "(Dog가 어떤 클래스의 인스턴스인지)__class__: <class 'type'>\n",
            "(Dog 클래스의 이름)__name__: Dog\n",
            "(Dog의 부모 클래스들)__bases__: (<class '__main__.Animal'>,)\n",
            "(Dog 클래스의 속성 및 메서드)__dict__: {'age': 1, 'bark': <function bark at 0x7f7131ee67a0>, '__module__': '__main__', '__doc__': None}\n",
            "밥먹는 시간 !\n",
            "멍멍멍 !\n",
            "<function bark at 0x7f7131ee67a0>\n",
            "<function bark at 0x7f7131ee67a0>\n"
          ]
        }
      ]
    },
    {
      "cell_type": "code",
      "source": [
        "def bark(self):\n",
        "  print('멍멍멍멍멍멍 !!!')\n",
        "print(bark)"
      ],
      "metadata": {
        "colab": {
          "base_uri": "https://localhost:8080/"
        },
        "id": "qy8xox-lKKJG",
        "outputId": "fe48be81-3203-4b0b-fe74-e691bea7f98d"
      },
      "execution_count": 8,
      "outputs": [
        {
          "output_type": "stream",
          "name": "stdout",
          "text": [
            "<function bark at 0x7f7131ee6520>\n"
          ]
        }
      ]
    },
    {
      "cell_type": "code",
      "source": [
        "dog = Dog()\n",
        "dog.feed()\n",
        "dog.bark()\n",
        "print(bark)\n",
        "print(Dog.__dict__['bark'])"
      ],
      "metadata": {
        "colab": {
          "base_uri": "https://localhost:8080/"
        },
        "id": "AyfhXd45KSQa",
        "outputId": "dd71ad64-8f61-400e-c5ae-acb0308abb4b"
      },
      "execution_count": 9,
      "outputs": [
        {
          "output_type": "stream",
          "name": "stdout",
          "text": [
            "밥먹는 시간 !\n",
            "멍멍멍 !\n",
            "<function bark at 0x7f7131ee6520>\n",
            "<function bark at 0x7f7131ee67a0>\n"
          ]
        }
      ]
    },
    {
      "cell_type": "code",
      "source": [
        "class My_Meta(type):\n",
        "  def __new__(mcs, name, bases,dictionary):\n",
        "    print('mcs:', mcs)\n",
        "    print('name:', name)\n",
        "    print('bases:', bases)\n",
        "    print('dictionary(namespace):', dictionary)\n",
        "    obj = super().__new__(mcs, name, bases, dictionary)\n",
        "    obj.custom_attribute = 'custom_My_Meta'\n",
        "    return obj"
      ],
      "metadata": {
        "id": "_ORK24N4KY-d"
      },
      "execution_count": 10,
      "outputs": []
    },
    {
      "cell_type": "code",
      "source": [
        "class My_Object(metaclass=My_Meta):\n",
        "  pass"
      ],
      "metadata": {
        "colab": {
          "base_uri": "https://localhost:8080/"
        },
        "id": "5-67IYfUi7Zj",
        "outputId": "8eefd7bf-8b43-4e0f-ae65-d16918c78a05"
      },
      "execution_count": 12,
      "outputs": [
        {
          "output_type": "stream",
          "name": "stdout",
          "text": [
            "mcs: <class '__main__.My_Meta'>\n",
            "name: My_Object\n",
            "bases: ()\n",
            "dictionary(namespace): {'__module__': '__main__', '__qualname__': 'My_Object'}\n"
          ]
        }
      ]
    },
    {
      "cell_type": "code",
      "source": [
        "print(My_Object.__dict__)"
      ],
      "metadata": {
        "colab": {
          "base_uri": "https://localhost:8080/"
        },
        "id": "abTqzByNkR7y",
        "outputId": "808b0d27-be1f-4988-8d2c-86143f9d921d"
      },
      "execution_count": 13,
      "outputs": [
        {
          "output_type": "stream",
          "name": "stdout",
          "text": [
            "{'__module__': '__main__', '__dict__': <attribute '__dict__' of 'My_Object' objects>, '__weakref__': <attribute '__weakref__' of 'My_Object' objects>, '__doc__': None, 'custom_attribute': 'custom_My_Meta'}\n"
          ]
        }
      ]
    },
    {
      "cell_type": "code",
      "source": [
        "def gretting(self):\n",
        "  print('반가워 ~~')"
      ],
      "metadata": {
        "id": "bI_nVAJ2kXk9"
      },
      "execution_count": 14,
      "outputs": []
    },
    {
      "cell_type": "code",
      "source": [
        "class My_Meta(type):\n",
        "  def __new__(mcs, name, bases, dictionary):\n",
        "    if 'gretting' not in dictionary:\n",
        "      dictionary['gretting'] = gretting\n",
        "    obj = super().__new__(mcs, name, bases, dictionary)\n",
        "    return obj"
      ],
      "metadata": {
        "id": "msOE5KUgmld1"
      },
      "execution_count": 15,
      "outputs": []
    },
    {
      "cell_type": "code",
      "source": [
        "class A(metaclass=My_Meta):\n",
        "  pass\n",
        "\n",
        "class B(metaclass=My_Meta):\n",
        "  def greeting(self):\n",
        "    print(\"안녕 나는 B야 !\")\n",
        "\n",
        "a = A()\n",
        "a.gretting()\n",
        "b = B()\n",
        "b.greeting()\n",
        "print(\"B.__dict__['greeting']:\",B.__dict__['greeting'])\n",
        "print(\"gretting :\",gretting)"
      ],
      "metadata": {
        "colab": {
          "base_uri": "https://localhost:8080/"
        },
        "id": "B2v-mMaummre",
        "outputId": "f92ecd05-63bc-4075-9f89-7b2f0e66849c"
      },
      "execution_count": 19,
      "outputs": [
        {
          "output_type": "stream",
          "name": "stdout",
          "text": [
            "반가워 ~~\n",
            "안녕 나는 B야 !\n",
            "B.__dict__['greeting']: <function B.greeting at 0x7f70f27dda80>\n",
            "gretting : <function gretting at 0x7f7131ee5b20>\n"
          ]
        }
      ]
    },
    {
      "cell_type": "code",
      "source": [
        "def gretting(self):\n",
        "  print('반가워 ~~나는 누구게 ?')"
      ],
      "metadata": {
        "id": "3l9wXm1GnlEy"
      },
      "execution_count": 20,
      "outputs": []
    },
    {
      "cell_type": "code",
      "source": [
        "a = A()\n",
        "a.gretting()\n",
        "b = B()\n",
        "b.greeting()\n",
        "print(\"B.__dict__['greeting']:\",B.__dict__['greeting'])\n",
        "print(\"gretting :\",gretting)"
      ],
      "metadata": {
        "colab": {
          "base_uri": "https://localhost:8080/"
        },
        "id": "EhuLGbVXn-LQ",
        "outputId": "c3f26022-ee17-4447-accd-50ef4b236abb"
      },
      "execution_count": 21,
      "outputs": [
        {
          "output_type": "stream",
          "name": "stdout",
          "text": [
            "반가워 ~~\n",
            "안녕 나는 B야 !\n",
            "B.__dict__['greeting']: <function B.greeting at 0x7f70f27dda80>\n",
            "gretting : <function gretting at 0x7f70f27de480>\n"
          ]
        }
      ]
    },
    {
      "cell_type": "code",
      "source": [],
      "metadata": {
        "id": "cNIW48PBn_4C"
      },
      "execution_count": null,
      "outputs": []
    }
  ]
}