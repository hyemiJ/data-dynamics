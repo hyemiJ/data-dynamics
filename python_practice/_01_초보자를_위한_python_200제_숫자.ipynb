{
  "nbformat": 4,
  "nbformat_minor": 0,
  "metadata": {
    "colab": {
      "provenance": [],
      "authorship_tag": "ABX9TyNujkS/3JvYIwlhfpm6uGlm",
      "include_colab_link": true
    },
    "kernelspec": {
      "name": "python3",
      "display_name": "Python 3"
    },
    "language_info": {
      "name": "python"
    }
  },
  "cells": [
    {
      "cell_type": "markdown",
      "metadata": {
        "id": "view-in-github",
        "colab_type": "text"
      },
      "source": [
        "<a href=\"https://colab.research.google.com/github/hyemiJ/data-dynamics/blob/main/python_practice/_01_%EC%B4%88%EB%B3%B4%EC%9E%90%EB%A5%BC_%EC%9C%84%ED%95%9C_python_200%EC%A0%9C_%EC%88%AB%EC%9E%90.ipynb\" target=\"_parent\"><img src=\"https://colab.research.google.com/assets/colab-badge.svg\" alt=\"Open In Colab\"/></a>"
      ]
    },
    {
      "cell_type": "code",
      "execution_count": null,
      "metadata": {
        "colab": {
          "base_uri": "https://localhost:8080/"
        },
        "id": "KeP1EqwfWEcL",
        "outputId": "e5aa05dd-8f63-4ced-99a0-d771af0a31e9"
      },
      "outputs": [
        {
          "output_type": "stream",
          "name": "stdout",
          "text": [
            "사용자 입력 받기 :안녕\n",
            "입력 내용 : 안녕\n"
          ]
        }
      ],
      "source": [
        "#사용자 입력 받기\n",
        "user_input = input('사용자 입력 받기 :')\n",
        "print('입력 내용 :',user_input)"
      ]
    },
    {
      "cell_type": "code",
      "source": [
        "#자료형 확인하기\n",
        "print('list :',type([1,2,3]))\n",
        "print('dict : ',type({'a': 1, 'b': 2}))\n",
        "print('set : ',type({1,2,3}))\n",
        "print('str : ', type('타입'))\n",
        "print('tuple : ',type((1,2)))\n",
        "print('사용자 입력값 : ',type(user_input))\n",
        "def fuc():\n",
        "  return 1\n",
        "def fuc2():\n",
        "  print('hello')\n",
        "print('function : ',type(fuc()))\n",
        "print('function : ',type(fuc2()))"
      ],
      "metadata": {
        "colab": {
          "base_uri": "https://localhost:8080/"
        },
        "id": "DGpY29vWWsKs",
        "outputId": "98b84230-5466-43ac-db72-5172127ee588"
      },
      "execution_count": null,
      "outputs": [
        {
          "output_type": "stream",
          "name": "stdout",
          "text": [
            "list : <class 'list'>\n",
            "dict :  <class 'dict'>\n",
            "set :  <class 'set'>\n",
            "str :  <class 'str'>\n",
            "tuple :  <class 'tuple'>\n",
            "사용자 입력값 :  <class 'str'>\n",
            "function :  <class 'int'>\n",
            "hello\n",
            "function :  <class 'NoneType'>\n"
          ]
        }
      ]
    },
    {
      "cell_type": "code",
      "source": [
        "# 나눗셈에서 나머지 구하기\n",
        "a = 10\n",
        "b = 3\n",
        "ret = a%b\n",
        "print(f\"{a} 나누기 {b}는 나머지가 {ret} 입니다.\")\n",
        "# 몫과 나머지 구하기\n",
        "print('몫',a//b)\n",
        "print('나머지',a%b)\n",
        "print('몫, 나머지 :',divmod(a,b))\n",
        "print(type(divmod(a,b)))\n",
        "ret1, ret2 = divmod(a,b)\n",
        "print(f\"몫 :{ret1}, 나머지 :{ret2} divmod 함수로 tuple로 한번에\")"
      ],
      "metadata": {
        "colab": {
          "base_uri": "https://localhost:8080/"
        },
        "id": "dJGhGVXXW-Tj",
        "outputId": "8f1cd61d-83c0-432b-9c88-d951c20477d2"
      },
      "execution_count": null,
      "outputs": [
        {
          "output_type": "stream",
          "name": "stdout",
          "text": [
            "10 나누기 3는 나머지가 1 입니다.\n",
            "몫 3\n",
            "나머지 1\n",
            "몫, 나머지 : (3, 1)\n",
            "<class 'tuple'>\n",
            "몫 :3, 나머지 :1 divmod 함수로 tuple로 한번에\n"
          ]
        }
      ]
    },
    {
      "cell_type": "code",
      "source": [
        "# 10진수 -> 16진수\n",
        "h1 = hex(91)\n",
        "h2 = hex(92)\n",
        "print(f\"16진수 변환 결과 hex(91) :{h1}\")\n",
        "print(f\"16진수 변환 결과의 타입: {type(h1)}\")\n",
        "h3 = h1+h2 # 문자열의 합산이 이루어짐.\n",
        "print(h3)"
      ],
      "metadata": {
        "colab": {
          "base_uri": "https://localhost:8080/"
        },
        "id": "qlQFvFKwZFkH",
        "outputId": "d94ed56b-b7a8-4929-a06c-80306153587b"
      },
      "execution_count": null,
      "outputs": [
        {
          "output_type": "stream",
          "name": "stdout",
          "text": [
            "16진수 변환 결과 hex(91) :0x5b\n",
            "16진수 변환 결과의 타입: <class 'str'>\n",
            "0x5b0x5c\n"
          ]
        }
      ]
    },
    {
      "cell_type": "code",
      "source": [
        "#16진수 -> 10진수\n",
        "a = int(h1,16) # 합산을 위한 int 형변환\n",
        "b = int(h2,16)\n",
        "print(a,b)\n",
        "c = a+b\n",
        "print('10진수 :',c)\n",
        "print('16진수 :',hex(c))"
      ],
      "metadata": {
        "colab": {
          "base_uri": "https://localhost:8080/"
        },
        "id": "k9GecdfvacvP",
        "outputId": "5867d176-a518-4028-dd7c-0fe5f7d669c7"
      },
      "execution_count": null,
      "outputs": [
        {
          "output_type": "stream",
          "name": "stdout",
          "text": [
            "91 92\n",
            "10진수 : 183\n",
            "16진수 : 0xb7\n"
          ]
        }
      ]
    },
    {
      "cell_type": "code",
      "source": [
        "#10진수 -> 2진수\n",
        "b1 = bin(91)\n",
        "b2 = bin(92)\n",
        "print(f\"2진수 변환 결과 bin(91) :{b1}\")\n",
        "print(f\"2진수 변환 결과의 타입: {type(b1)}\")\n",
        "b3 = b1+b2 # 문자열의 합산이 이루어짐.\n",
        "print(b3)"
      ],
      "metadata": {
        "colab": {
          "base_uri": "https://localhost:8080/"
        },
        "id": "jCeBEx1Sa8zZ",
        "outputId": "8e963b4c-fad5-4f11-d5a8-30efc8fe4fec"
      },
      "execution_count": null,
      "outputs": [
        {
          "output_type": "stream",
          "name": "stdout",
          "text": [
            "2진수 변환 결과 bin(91) :0b1011011\n",
            "2진수 변환 결과의 타입: <class 'str'>\n",
            "0b10110110b1011100\n"
          ]
        }
      ]
    },
    {
      "cell_type": "code",
      "source": [
        "#2진수 -> 10진수\n",
        "a = int(b1,2) # 합산을 위한 int 형변환\n",
        "b = int(b2,2)\n",
        "print(a,b)\n",
        "c = a+b\n",
        "print('10진수 :',c)\n",
        "print('2진수 :',bin(c))"
      ],
      "metadata": {
        "colab": {
          "base_uri": "https://localhost:8080/"
        },
        "id": "6Oijr_MJb-XS",
        "outputId": "62734f16-ed40-4a5c-b154-73c1b449e161"
      },
      "execution_count": null,
      "outputs": [
        {
          "output_type": "stream",
          "name": "stdout",
          "text": [
            "91 92\n",
            "10진수 : 183\n",
            "2진수 : 0b10110111\n"
          ]
        }
      ]
    },
    {
      "cell_type": "code",
      "source": [
        "#절대값 구하기\n",
        "abs1 = abs(-2)\n",
        "abs2 = abs(2)\n",
        "abs3 = abs(-3.2)\n",
        "abs4 = abs(3.2)\n",
        "abs5 = abs(3+4j) # 복소수의 절대값\n",
        "print(f'-2 :{abs1} , 2 :{abs2}')\n",
        "print(f'-3.2 :{abs3} , 3.2 :{abs4}')\n",
        "print('복소수의 절대값: ',abs5)"
      ],
      "metadata": {
        "colab": {
          "base_uri": "https://localhost:8080/"
        },
        "id": "GzenHnaacKLK",
        "outputId": "004eceb3-5748-4b0e-f1c8-452c013369bb"
      },
      "execution_count": null,
      "outputs": [
        {
          "output_type": "stream",
          "name": "stdout",
          "text": [
            "-2 :2 , 2 :2\n",
            "-3.2 :3.2 , 3.2 :3.2\n",
            "복소수의 절대값:  5.0\n"
          ]
        }
      ]
    },
    {
      "cell_type": "code",
      "source": [
        "#반올림 구하기\n",
        "ret1 = round(12345)\n",
        "ret2 = round(12.12345) #default\n",
        "ret3 = round(12.12345,2)\n",
        "ret4 = round(12.12345,-1)\n",
        "ret5 = round(17.12345,-1)\n",
        "print('두번째 인자 없음 :',ret1)\n",
        "print('두번째 인자 없음 :',ret2)\n",
        "print('두번째 인자 2:',ret3)\n",
        "print('두번째 인자 -1:',ret4)\n",
        "print('두번째 인자 -1:',ret5)"
      ],
      "metadata": {
        "colab": {
          "base_uri": "https://localhost:8080/"
        },
        "id": "vYgzycWkdlRt",
        "outputId": "183f1092-9dec-4fca-8e2c-5453e4825569"
      },
      "execution_count": null,
      "outputs": [
        {
          "output_type": "stream",
          "name": "stdout",
          "text": [
            "두번째 인자 없음 : 12345\n",
            "두번째 인자 없음 : 12\n",
            "두번째 인자 2: 12.12\n",
            "두번째 인자 -1: 10.0\n",
            "두번째 인자 -1: 20.0\n"
          ]
        }
      ]
    },
    {
      "cell_type": "code",
      "source": [
        "#실수자료형 -> 정수자료형\n",
        "i1 = int(5.4)\n",
        "i2 = int(5.8)\n",
        "i3 = int(-5.5)\n",
        "print(i1,i2,i3) #소숫점 이하를 버린다."
      ],
      "metadata": {
        "colab": {
          "base_uri": "https://localhost:8080/"
        },
        "id": "qXXC8UcGfEc7",
        "outputId": "915ea454-4a25-438b-8481-de3fb6e7fbb3"
      },
      "execution_count": null,
      "outputs": [
        {
          "output_type": "stream",
          "name": "stdout",
          "text": [
            "5 5 -5\n"
          ]
        }
      ]
    },
    {
      "cell_type": "code",
      "source": [
        "#정수자료형 -> 실수자료형\n",
        "f1 = float(5)\n",
        "f2 = float(-5)\n",
        "print(f1,f2)"
      ],
      "metadata": {
        "colab": {
          "base_uri": "https://localhost:8080/"
        },
        "id": "l1n558FCgVrF",
        "outputId": "eacab5e7-6096-44d8-978e-ca6d995f6a91"
      },
      "execution_count": null,
      "outputs": [
        {
          "output_type": "stream",
          "name": "stdout",
          "text": [
            "5.0 -5.0\n"
          ]
        }
      ]
    },
    {
      "cell_type": "code",
      "source": [
        "#정수 리스트에서 소수만 걸러내기\n",
        "def get_prime(data):\n",
        "  for i in range(2,data-1):\n",
        "    if  data % i ==0:\n",
        "      break\n",
        "    else :\n",
        "      return data\n",
        "data_list = [117, 118, 119, 120]\n",
        "result = filter(get_prime,data_list)\n",
        "print(result)\n",
        "print(list(result))"
      ],
      "metadata": {
        "colab": {
          "base_uri": "https://localhost:8080/"
        },
        "id": "hXtkOfdBgjt3",
        "outputId": "c569651a-07ad-48f2-ba27-912766e3a26b"
      },
      "execution_count": null,
      "outputs": [
        {
          "output_type": "stream",
          "name": "stdout",
          "text": [
            "<filter object at 0x7de8b9944040>\n",
            "[117, 119]\n"
          ]
        }
      ]
    },
    {
      "cell_type": "code",
      "source": [
        "#정수를 인자로 받아 해당 모든 소수 구하기\n",
        "def get_all_prime(data):\n",
        "  return_data = [2, 3]\n",
        "  if data <=3:\n",
        "    return return_data\n",
        "\n",
        "  for i in range(4,data+1):\n",
        "    for j in range(2,i-1):\n",
        "      if i%j == 0:break\n",
        "\n",
        "    else: return_data.append(i)\n",
        "\n",
        "  return return_data\n",
        "\n",
        "print(get_all_prime(10))"
      ],
      "metadata": {
        "id": "25kq7Q--h5JS",
        "colab": {
          "base_uri": "https://localhost:8080/"
        },
        "outputId": "9a4579b8-5439-42ac-86a6-4a5d5d9d0cc2"
      },
      "execution_count": null,
      "outputs": [
        {
          "output_type": "stream",
          "name": "stdout",
          "text": [
            "[2, 3, 5, 7]\n"
          ]
        }
      ]
    },
    {
      "cell_type": "code",
      "source": [
        "#min / max\n",
        "def min_max(data):\n",
        "  max_data = max(data)\n",
        "  min_data = min(data)\n",
        "  print(f'데이터의 타입은 :{type(data)}')\n",
        "  print(f'max : {max_data}, min : {min_data}')\n",
        "\n",
        "min_max([1,2,3,4,5])\n",
        "min_max((1,2,3,4,5))\n",
        "min_max('abcdeABCDE')\n",
        "min_max(['abc','a12'])"
      ],
      "metadata": {
        "id": "tsuMjRBkjMnY",
        "colab": {
          "base_uri": "https://localhost:8080/"
        },
        "outputId": "c177d019-192f-4ca7-c718-2ff8006bf62b"
      },
      "execution_count": null,
      "outputs": [
        {
          "output_type": "stream",
          "name": "stdout",
          "text": [
            "데이터의 타입은 :<class 'list'>\n",
            "max : 5, min : 1\n",
            "데이터의 타입은 :<class 'tuple'>\n",
            "max : 5, min : 1\n",
            "데이터의 타입은 :<class 'str'>\n",
            "max : e, min : A\n",
            "데이터의 타입은 :<class 'list'>\n",
            "max : abc, min : a12\n"
          ]
        }
      ]
    },
    {
      "cell_type": "code",
      "source": [],
      "metadata": {
        "id": "GmUv0LuBeByz"
      },
      "execution_count": null,
      "outputs": []
    }
  ]
}