{
  "nbformat": 4,
  "nbformat_minor": 0,
  "metadata": {
    "colab": {
      "provenance": [],
      "authorship_tag": "ABX9TyO25P+JOHRgjnIV1Cz7aDWj",
      "include_colab_link": true
    },
    "kernelspec": {
      "name": "python3",
      "display_name": "Python 3"
    },
    "language_info": {
      "name": "python"
    }
  },
  "cells": [
    {
      "cell_type": "markdown",
      "metadata": {
        "id": "view-in-github",
        "colab_type": "text"
      },
      "source": [
        "<a href=\"https://colab.research.google.com/github/hyemiJ/data-dynamics/blob/main/python_practice/_02_%EC%B4%88%EB%B3%B4%EC%9E%90%EB%A5%BC_%EC%9C%84%ED%95%9C_python_200%EC%A0%9C_%EB%AC%B8%EC%9E%90.ipynb\" target=\"_parent\"><img src=\"https://colab.research.google.com/assets/colab-badge.svg\" alt=\"Open In Colab\"/></a>"
      ]
    },
    {
      "cell_type": "code",
      "execution_count": null,
      "metadata": {
        "colab": {
          "base_uri": "https://localhost:8080/"
        },
        "id": "_6j3NlJLexs7",
        "outputId": "1461cfd0-65be-4101-f7e1-363557d8eca3"
      },
      "outputs": [
        {
          "output_type": "stream",
          "name": "stdout",
          "text": [
            "e\n",
            "that\n"
          ]
        }
      ],
      "source": [
        "#특정 문자열 위치에서 문자 얻기 (indexing)\n",
        "txt = 'a tale that was not rright'\n",
        "print(txt[5])\n",
        "print(txt[7:11])"
      ]
    },
    {
      "cell_type": "code",
      "source": [
        "#특정 문자열의 홀수 추출\n",
        "print(txt[::2])"
      ],
      "metadata": {
        "colab": {
          "base_uri": "https://localhost:8080/"
        },
        "id": "f-_LDPil4zYh",
        "outputId": "26053abf-bd3f-4cfb-a916-14fb6e3863e8"
      },
      "execution_count": null,
      "outputs": [
        {
          "output_type": "stream",
          "name": "stdout",
          "text": [
            "atl htwsntrih\n"
          ]
        }
      ]
    },
    {
      "cell_type": "code",
      "source": [
        "#특정 문자열 뒤집기\n",
        "print(txt[::-1])"
      ],
      "metadata": {
        "colab": {
          "base_uri": "https://localhost:8080/"
        },
        "id": "vAXjAzaT5Xb7",
        "outputId": "42ddb52a-5a13-40dd-8530-283cf2da9936"
      },
      "execution_count": null,
      "outputs": [
        {
          "output_type": "stream",
          "name": "stdout",
          "text": [
            "thgirr ton saw taht elat a\n"
          ]
        }
      ]
    },
    {
      "cell_type": "code",
      "source": [
        "#문자열 합치기\n",
        "a = 'abcde'\n",
        "b = 'fghjk'\n",
        "print(a+b)\n",
        "print(a,b) #공백이 추가로 생김\n",
        "print('%s%s'%(a,b))\n",
        "print(f'{a}{b}')"
      ],
      "metadata": {
        "colab": {
          "base_uri": "https://localhost:8080/"
        },
        "id": "Htekw1O85cJv",
        "outputId": "1b54f588-0dc5-40da-ea76-63580b92f696"
      },
      "execution_count": null,
      "outputs": [
        {
          "output_type": "stream",
          "name": "stdout",
          "text": [
            "abcdefghjk\n",
            "abcde fghjk\n",
            "abcdefghjk\n",
            "abcdefghjk\n"
          ]
        }
      ]
    },
    {
      "cell_type": "code",
      "source": [
        "#문자열 반복\n",
        "print(a*3)"
      ],
      "metadata": {
        "colab": {
          "base_uri": "https://localhost:8080/"
        },
        "id": "8gwP4bES5uZH",
        "outputId": "125cb360-45f3-4298-9ebb-6f4e56ce52c0"
      },
      "execution_count": null,
      "outputs": [
        {
          "output_type": "stream",
          "name": "stdout",
          "text": [
            "abcdeabcdeabcde\n"
          ]
        }
      ]
    },
    {
      "cell_type": "code",
      "source": [
        "# 문자열에서 포함관계인지 확인하기\n",
        "if 'a' in 'abcd':\n",
        "  print('a in data')\n",
        "else :\n",
        "  print( 'not in data')\n",
        "\n",
        "if 'abc' in a:\n",
        "  print('a에는 abc가 있어. a:',a)\n",
        "\n",
        "lst = ['A','B','C']\n",
        "for l in lst:\n",
        "  if l in ['B','A']:\n",
        "    print('l은 b,a에 속한다',l)"
      ],
      "metadata": {
        "colab": {
          "base_uri": "https://localhost:8080/"
        },
        "id": "SoeHHfW76G_w",
        "outputId": "c5814735-e260-4491-b4ce-770183e274ba"
      },
      "execution_count": null,
      "outputs": [
        {
          "output_type": "stream",
          "name": "stdout",
          "text": [
            "a in data\n",
            "a에는 abc가 있어. a: abcde\n",
            "l은 b,a에 속한다 A\n",
            "l은 b,a에 속한다 B\n"
          ]
        }
      ]
    },
    {
      "cell_type": "code",
      "source": [
        "h = '안녕하세요'\n",
        "p = 'python'\n",
        "print(f'h:{h}, p:{p}')\n",
        "print(f'h:{len(h)}, p:{len(p)}')\n",
        "print(f'h:{len(h.encode())}, p:{len(p.encode())}') #한글을 바이트 객체로 비교 : 1글자당 3 바이트"
      ],
      "metadata": {
        "colab": {
          "base_uri": "https://localhost:8080/"
        },
        "id": "4CV-eqhy7skY",
        "outputId": "df168f80-a885-4ed0-b72a-6c0c00126526"
      },
      "execution_count": null,
      "outputs": [
        {
          "output_type": "stream",
          "name": "stdout",
          "text": [
            "h:안녕하세요, p:python\n",
            "h:5, p:6\n",
            "h:15, p:6\n"
          ]
        }
      ]
    },
    {
      "cell_type": "code",
      "source": [
        "# 문자열이 모두 알파벳인지\n",
        "\n",
        "i = '1' #숫자형 문자\n",
        "s = 'string'\n",
        "si = 'string23' #혼합문자\n",
        "s_s = 'string string' # 혼합문자 및 공백\n",
        "ss = 'stringstring'#혼합문자\n",
        "print(i.isalpha())\n",
        "print(s.isalpha())\n",
        "print(si.isalpha())\n",
        "print(s_s.isalpha())\n",
        "print(ss.isalpha())"
      ],
      "metadata": {
        "colab": {
          "base_uri": "https://localhost:8080/"
        },
        "id": "WpJyZO9f-Jpt",
        "outputId": "c5212d07-d713-4993-8494-8aae9c5b7b08"
      },
      "execution_count": null,
      "outputs": [
        {
          "output_type": "stream",
          "name": "stdout",
          "text": [
            "False\n",
            "True\n",
            "False\n",
            "False\n",
            "True\n"
          ]
        }
      ]
    },
    {
      "cell_type": "code",
      "source": [
        "# 문자열이 모두 숫자인지\n",
        "pn = '010-0000-0000'\n",
        "n = '12345'\n",
        "f = '1.234'# .은 기호이다\n",
        "ns = 'RD2RD3'\n",
        "print(pn.isdigit())\n",
        "print(n.isdigit())\n",
        "print(f.isdigit())\n",
        "print(ns.isdigit())"
      ],
      "metadata": {
        "colab": {
          "base_uri": "https://localhost:8080/"
        },
        "id": "28y09XRcDI9p",
        "outputId": "0e997cfd-9224-42af-e631-7d1f0e20793f"
      },
      "execution_count": null,
      "outputs": [
        {
          "output_type": "stream",
          "name": "stdout",
          "text": [
            "False\n",
            "True\n",
            "False\n",
            "False\n"
          ]
        }
      ]
    },
    {
      "cell_type": "code",
      "source": [
        "# 문자열이 숫자 또는 문자인지\n",
        "q = '안녕하세요?'\n",
        "s = '1.python'\n",
        "ns = '4도4도또4고싶다'\n",
        "print(q.isalnum())\n",
        "print(s.isalnum())\n",
        "print(ns.isalnum())"
      ],
      "metadata": {
        "colab": {
          "base_uri": "https://localhost:8080/"
        },
        "id": "djWytLrKEA2k",
        "outputId": "eb3dd609-c0e6-472f-e2bd-6e5b328914a0"
      },
      "execution_count": null,
      "outputs": [
        {
          "output_type": "stream",
          "name": "stdout",
          "text": [
            "False\n",
            "False\n",
            "True\n"
          ]
        }
      ]
    },
    {
      "cell_type": "code",
      "source": [
        "# 대소문자 변환\n",
        "txt = 'A lot of Things occur each day'\n",
        "print(txt.upper())\n",
        "print(txt.lower())"
      ],
      "metadata": {
        "colab": {
          "base_uri": "https://localhost:8080/"
        },
        "id": "QPIhmyWmEvrh",
        "outputId": "601586d5-5f3f-4c48-8de8-857e2cd3bde3"
      },
      "execution_count": null,
      "outputs": [
        {
          "output_type": "stream",
          "name": "stdout",
          "text": [
            "A LOT OF THINGS OCCUR EACH DAY\n",
            "a lot of things occur each day\n"
          ]
        }
      ]
    },
    {
      "cell_type": "code",
      "source": [
        "# 양쪽 공백제거\n",
        "txt = '   양쪽 공백이 있는 문자열   '\n",
        "print('1',txt.rstrip(),'.')\n",
        "print('2',txt.lstrip(),'.')\n",
        "print('3',txt.strip(),'.')"
      ],
      "metadata": {
        "colab": {
          "base_uri": "https://localhost:8080/"
        },
        "id": "ceNByLZnFAOf",
        "outputId": "32abbe63-9751-49ea-ea95-268d74de336f"
      },
      "execution_count": null,
      "outputs": [
        {
          "output_type": "stream",
          "name": "stdout",
          "text": [
            "1    양쪽 공백이 있는 문자열 .\n",
            "2 양쪽 공백이 있는 문자열    .\n",
            "3 양쪽 공백이 있는 문자열 .\n"
          ]
        }
      ]
    },
    {
      "cell_type": "code",
      "source": [
        "#문자열의 숫자 변환\n",
        "numstr = input('숫자를 입력하세요')\n",
        "try:\n",
        "  num = int(numstr)\n",
        "  print('입력(정수) :',num)\n",
        "except:\n",
        "  try:\n",
        "    num= float(num)\n",
        "    print('입력(실수) :',num)\n",
        "  except:\n",
        "    print('숫자로 입력하세요')"
      ],
      "metadata": {
        "colab": {
          "base_uri": "https://localhost:8080/"
        },
        "id": "485wpPwDFavY",
        "outputId": "9f215811-6645-4ecf-da65-4d786156efa1"
      },
      "execution_count": null,
      "outputs": [
        {
          "output_type": "stream",
          "name": "stdout",
          "text": [
            "숫자를 입력하세요5.342\n",
            "숫자로 입력하세요\n"
          ]
        }
      ]
    },
    {
      "cell_type": "code",
      "source": [
        "#문자열의 개수 구하기\n",
        "txt = 'A lot of Things occur each day'\n",
        "print(txt.count('a'))\n",
        "print(txt.count('A')) #대 소문자를 가린다"
      ],
      "metadata": {
        "colab": {
          "base_uri": "https://localhost:8080/"
        },
        "id": "jbfhpPkiGIeh",
        "outputId": "7845e14e-3814-45bd-f603-8aeea30cef1b"
      },
      "execution_count": null,
      "outputs": [
        {
          "output_type": "stream",
          "name": "stdout",
          "text": [
            "2\n",
            "1\n"
          ]
        }
      ]
    },
    {
      "cell_type": "code",
      "source": [
        "#문자열의 위치 찾기\n",
        "print(txt.find('A'))\n",
        "print(txt.find('a')) # 맨 처음에 찾은 것이 반환\n",
        "print(txt.find('a',24))#상수 인덱스 이후부터 찾는것 을반환\n",
        "print(txt.find('of'))"
      ],
      "metadata": {
        "colab": {
          "base_uri": "https://localhost:8080/"
        },
        "id": "UzB-RdD4G1MQ",
        "outputId": "4808b884-5f89-48b4-def1-e91cd25e7c67"
      },
      "execution_count": null,
      "outputs": [
        {
          "output_type": "stream",
          "name": "stdout",
          "text": [
            "0\n",
            "23\n",
            "28\n",
            "6\n"
          ]
        }
      ]
    },
    {
      "cell_type": "code",
      "source": [
        "#문자를 분리하기\n",
        "url = \"https://www.naver.com/newstoday=20250403\"\n",
        "print(url.split('/'))\n",
        "log = \"name:홍길동 age:30 h:180 w:80\"\n",
        "log_data = log.split()\n",
        "print(log_data)\n",
        "for data in log_data:\n",
        "  d1,d2 = data.split(\":\")\n",
        "  print(d1,d2)"
      ],
      "metadata": {
        "colab": {
          "base_uri": "https://localhost:8080/"
        },
        "id": "b-oGtWKAHKID",
        "outputId": "952f06b7-b2ab-4ee7-e263-6e8eb2ddb04a"
      },
      "execution_count": null,
      "outputs": [
        {
          "output_type": "stream",
          "name": "stdout",
          "text": [
            "['https:', '', 'www.naver.com', 'newstoday=20250403']\n",
            "['name:홍길동', 'age:30', 'h:180', 'w:80']\n",
            "name 홍길동\n",
            "age 30\n",
            "h 180\n",
            "w 80\n"
          ]
        }
      ]
    },
    {
      "cell_type": "code",
      "source": [
        "#문자 결합하기\n",
        "pn = ['010','1111','2222']\n",
        "print('-'.join(pn))"
      ],
      "metadata": {
        "colab": {
          "base_uri": "https://localhost:8080/"
        },
        "id": "HwEQon4LH8cw",
        "outputId": "73c6e510-ba96-42f0-ba94-2e1c65657c42"
      },
      "execution_count": null,
      "outputs": [
        {
          "output_type": "stream",
          "name": "stdout",
          "text": [
            "010-1111-2222\n"
          ]
        }
      ]
    },
    {
      "cell_type": "code",
      "source": [
        "#문자 치환하기\n",
        "pw = \"나의 비밀번호는 10232102\"\n",
        "print(pw.replace('1','*')) #모두 찾아 바꿈\n",
        "print(pw)"
      ],
      "metadata": {
        "colab": {
          "base_uri": "https://localhost:8080/"
        },
        "id": "kWllIFLGI5Ly",
        "outputId": "289397b7-ede8-4c67-b6df-814cbc2e7937"
      },
      "execution_count": null,
      "outputs": [
        {
          "output_type": "stream",
          "name": "stdout",
          "text": [
            "나의 비밀번호는 *0232*02\n",
            "나의 비밀번호는 10232102\n"
          ]
        }
      ]
    },
    {
      "cell_type": "code",
      "source": [
        "a = 'fbc153'\n",
        "b = 'fbc153'\n",
        "a2 = sorted(a) #list형태로 sort\n",
        "print(a) #원본 변경은 없음\n",
        "print(a2)\n",
        "b2 = sorted(b,reverse=True)\n",
        "print(b)\n",
        "print(b2)"
      ],
      "metadata": {
        "colab": {
          "base_uri": "https://localhost:8080/"
        },
        "id": "aRe7brGqJPeC",
        "outputId": "23c49476-403d-4966-bfde-010d21ebcd55"
      },
      "execution_count": null,
      "outputs": [
        {
          "output_type": "stream",
          "name": "stdout",
          "text": [
            "fbc153\n",
            "['1', '3', '5', 'b', 'c', 'f']\n",
            "fbc153\n",
            "['f', 'c', 'b', '5', '3', '1']\n"
          ]
        }
      ]
    },
    {
      "cell_type": "code",
      "source": [],
      "metadata": {
        "id": "fl-ymBw3KJaZ"
      },
      "execution_count": null,
      "outputs": []
    }
  ]
}