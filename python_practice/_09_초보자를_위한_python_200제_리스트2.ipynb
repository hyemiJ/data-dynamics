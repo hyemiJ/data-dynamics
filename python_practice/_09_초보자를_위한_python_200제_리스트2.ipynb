{
  "nbformat": 4,
  "nbformat_minor": 0,
  "metadata": {
    "colab": {
      "provenance": [],
      "authorship_tag": "ABX9TyPLhnxfjR8H+pp1jPKO1ihZ",
      "include_colab_link": true
    },
    "kernelspec": {
      "name": "python3",
      "display_name": "Python 3"
    },
    "language_info": {
      "name": "python"
    }
  },
  "cells": [
    {
      "cell_type": "markdown",
      "metadata": {
        "id": "view-in-github",
        "colab_type": "text"
      },
      "source": [
        "<a href=\"https://colab.research.google.com/github/hyemiJ/data-dynamics/blob/main/python_practice/_09_%EC%B4%88%EB%B3%B4%EC%9E%90%EB%A5%BC_%EC%9C%84%ED%95%9C_python_200%EC%A0%9C_%EB%A6%AC%EC%8A%A4%ED%8A%B82.ipynb\" target=\"_parent\"><img src=\"https://colab.research.google.com/assets/colab-badge.svg\" alt=\"Open In Colab\"/></a>"
      ]
    },
    {
      "cell_type": "code",
      "execution_count": 7,
      "metadata": {
        "colab": {
          "base_uri": "https://localhost:8080/"
        },
        "id": "Nf1Ry0NNoxd_",
        "outputId": "36085c04-2aa6-41aa-f20b-8c0478df6b1a"
      },
      "outputs": [
        {
          "output_type": "stream",
          "name": "stdout",
          "text": [
            "아무 숫자를 입력하세요.3947458737423464\n",
            "3,947,458,737,423,464\n"
          ]
        }
      ],
      "source": [
        "# 주어진 숫자를 천단위로 구분하기\n",
        "num = input(\"아무 숫자를 입력하세요.\")\n",
        "\n",
        "if num.isdigit():\n",
        "  new_arr = ''\n",
        "  for i, num in enumerate(num[::-1]):\n",
        "    if i % 3 == 0 and i != 0:\n",
        "      new_arr += \",\"\n",
        "    new_arr += num\n",
        "\n",
        "  print(new_arr[::-1])\n",
        "else:\n",
        "  print(\"숫자가 아닙니다.\")\n"
      ]
    },
    {
      "cell_type": "code",
      "source": [
        "# 문자열의 각 문자를 그 다음문자로 변경하기\n",
        "s = input(\"아무 문자를 입력하세요\")\n",
        "\n",
        "for i in range(len(s)-1):\n",
        "  print(s[i+1], end='')\n",
        "print(s[0])\n",
        "\n",
        "for i in range(1, len(s)):\n",
        "  print(s[i], end='')\n",
        "print(s[0])\n",
        "\n",
        "result =''\n",
        "for i in range(len(s)):\n",
        "  if i != len(s)-1:\n",
        "    result += s[i+1]\n",
        "  else:\n",
        "    result +=s[0]\n",
        "print(result)"
      ],
      "metadata": {
        "colab": {
          "base_uri": "https://localhost:8080/"
        },
        "id": "SLX5wBaPMCOW",
        "outputId": "bdde3eca-9e51-4a04-c92f-e2039340daf8"
      },
      "execution_count": 22,
      "outputs": [
        {
          "output_type": "stream",
          "name": "stdout",
          "text": [
            "아무 문자를 입력하세요dfksldf안녕\n",
            "fksldf안녕d\n",
            "fksldf안녕d\n",
            "fksldf안녕d\n"
          ]
        }
      ]
    },
    {
      "cell_type": "code",
      "source": [
        "#URL 에서 호스트 도메인 추출\n",
        "url = 'https://radaonmommy.tistory.com/entry/python-자료형-1-기본-자료형-및-리스트'\n",
        "\n",
        "tmp = url.split('/')\n",
        "domain = tmp[2]\n",
        "print(domain)"
      ],
      "metadata": {
        "colab": {
          "base_uri": "https://localhost:8080/"
        },
        "id": "Vjp_bU6PODsK",
        "outputId": "12e1847a-8e9d-4c51-96d3-902859828347"
      },
      "execution_count": 23,
      "outputs": [
        {
          "output_type": "stream",
          "name": "stdout",
          "text": [
            "radaonmommy.tistory.com\n"
          ]
        }
      ]
    },
    {
      "cell_type": "code",
      "source": [
        "#URL 에서 쿼리 문자열 추출하기\n",
        "url = '''https://www.google.com/search\n",
        "?q=python+웹+실행\n",
        "&oq=python+웹+실행\n",
        "&gs_lcrp=EgZjaHJvbWUyBggAEEUYOTIICAEQABgHGB4yCAgCEAAYBxgeMgcIAxAAGO8FMgoIBBAAGIAEGKIE0gEHNTE1ajBqN6gCD7ACAfEFQwr1NrfoNi0&sourceid=chrome-mobile\n",
        "&ie=UTF-8'''\n",
        "\n",
        "tmp = url.split(\"?\")\n",
        "queries = tmp[1].split(\"&\")\n",
        "for query in queries :\n",
        "  eq = query.split(\"=\")\n",
        "  print(f\"[{eq[0]}]\")\n",
        "  print(eq[1])"
      ],
      "metadata": {
        "colab": {
          "base_uri": "https://localhost:8080/"
        },
        "id": "i6VSKpOsPNgg",
        "outputId": "4abcf936-cb0b-4a4e-e655-419c20dcc23e"
      },
      "execution_count": 24,
      "outputs": [
        {
          "output_type": "stream",
          "name": "stdout",
          "text": [
            "[q]\n",
            "python+웹+실행\n",
            "\n",
            "[oq]\n",
            "python+웹+실행\n",
            "\n",
            "[gs_lcrp]\n",
            "EgZjaHJvbWUyBggAEEUYOTIICAEQABgHGB4yCAgCEAAYBxgeMgcIAxAAGO8FMgoIBBAAGIAEGKIE0gEHNTE1ajBqN6gCD7ACAfEFQwr1NrfoNi0\n",
            "[sourceid]\n",
            "chrome-mobile\n",
            "\n",
            "[ie]\n",
            "UTF-8\n"
          ]
        }
      ]
    },
    {
      "cell_type": "code",
      "source": [
        "#스택 구현하기\n",
        "mystack = []\n",
        "\n",
        "def putdata(data):\n",
        "  global mystack\n",
        "  mystack.append(data)\n",
        "\n",
        "def popdata():\n",
        "  global mystack\n",
        "  if len(mystack) == 0:\n",
        "    return None\n",
        "  return mystack.pop()"
      ],
      "metadata": {
        "id": "Y6WRybsyQIs-"
      },
      "execution_count": 25,
      "outputs": []
    },
    {
      "cell_type": "code",
      "source": [
        "putdata(1)\n",
        "putdata([2, 3, 4, 5])\n",
        "putdata('data')\n",
        "\n",
        "print(\"stack 상태 : \",mystack)"
      ],
      "metadata": {
        "colab": {
          "base_uri": "https://localhost:8080/"
        },
        "id": "xzfDW_i3R7S3",
        "outputId": "c41e030d-fc08-4f33-a0a4-cefa925f684d"
      },
      "execution_count": 26,
      "outputs": [
        {
          "output_type": "stream",
          "name": "stdout",
          "text": [
            "stack 상태 :  [1, [2, 3, 4, 5], 'data']\n"
          ]
        }
      ]
    },
    {
      "cell_type": "code",
      "source": [
        "result = popdata()\n",
        "num = 1\n",
        "while result != None:\n",
        "  print(num,\"stack 상태 :\",mystack)\n",
        "  print(num,\"stack에서 데이터 추출\",result)\n",
        "  result = popdata()\n",
        "  num +=1"
      ],
      "metadata": {
        "colab": {
          "base_uri": "https://localhost:8080/"
        },
        "id": "aZ8V5iUKR-oV",
        "outputId": "ec5dae15-6703-4f18-bba6-884e30c9780b"
      },
      "execution_count": 27,
      "outputs": [
        {
          "output_type": "stream",
          "name": "stdout",
          "text": [
            "1 stack 상태 : [1, [2, 3, 4, 5]]\n",
            "1 stack에서 데이터 추출 data\n",
            "2 stack 상태 : [1]\n",
            "2 stack에서 데이터 추출 [2, 3, 4, 5]\n",
            "3 stack 상태 : []\n",
            "3 stack에서 데이터 추출 1\n"
          ]
        }
      ]
    },
    {
      "cell_type": "code",
      "source": [
        "#파일에서 나타나는 문자 빈도수 계산하기\n",
        "def get_text_file(file):\n",
        "  with open(file) as f :\n",
        "    text = f.read()\n",
        "    dic ={}\n",
        "    for char in text:\n",
        "      if char in dic:\n",
        "        dic[char] +=1\n",
        "      else:\n",
        "        dic[char] = 1\n",
        "  return dic"
      ],
      "metadata": {
        "id": "ySRayyzOSXVV"
      },
      "execution_count": 30,
      "outputs": []
    },
    {
      "cell_type": "code",
      "source": [
        "result = get_text_file('sample_data/README.md')\n",
        "result = sorted(result.items())\n",
        "for key, value in result :\n",
        "  print(f\"{key} : {value}회 나타남\")"
      ],
      "metadata": {
        "colab": {
          "base_uri": "https://localhost:8080/"
        },
        "id": "KGWK2pzSUevD",
        "outputId": "ec53176b-4a2b-4594-c331-c81ecb9fcfad"
      },
      "execution_count": 38,
      "outputs": [
        {
          "output_type": "stream",
          "name": "stdout",
          "text": [
            "\n",
            " : 19회 나타남\n",
            "  : 112회 나타남\n",
            "% : 1회 나타남\n",
            "' : 3회 나타남\n",
            "( : 5회 나타남\n",
            ") : 5회 나타남\n",
            "* : 5회 나타남\n",
            ", : 2회 나타남\n",
            "- : 3회 나타남\n",
            ". : 22회 나타남\n",
            "/ : 29회 나타남\n",
            "0 : 4회 나타남\n",
            "1 : 10회 나타남\n",
            "2 : 7회 나타남\n",
            "3 : 5회 나타남\n",
            "4 : 5회 나타남\n",
            "5 : 5회 나타남\n",
            "6 : 3회 나타남\n",
            "7 : 7회 나타남\n",
            "8 : 7회 나타남\n",
            "9 : 7회 나타남\n",
            ": : 8회 나타남\n",
            "; : 2회 나타남\n",
            "A : 7회 나타남\n",
            "B : 3회 나타남\n",
            "C : 6회 나타남\n",
            "D : 4회 나타남\n",
            "F : 2회 나타남\n",
            "G : 1회 나타남\n",
            "I : 4회 나타남\n",
            "J : 3회 나타남\n",
            "K : 1회 나타남\n",
            "L : 2회 나타남\n",
            "M : 2회 나타남\n",
            "N : 4회 나타남\n",
            "O : 5회 나타남\n",
            "P : 2회 나타남\n",
            "Q : 1회 나타남\n",
            "R : 4회 나타남\n",
            "S : 7회 나타남\n",
            "T : 5회 나타남\n",
            "U : 1회 나타남\n",
            "W : 1회 나타남\n",
            "X : 2회 나타남\n",
            "Y : 2회 나타남\n",
            "Z : 1회 나타남\n",
            "[ : 3회 나타남\n",
            "] : 3회 나타남\n",
            "_ : 10회 나타남\n",
            "` : 6회 나타남\n",
            "a : 69회 나타남\n",
            "b : 21회 나타남\n",
            "c : 28회 나타남\n",
            "d : 27회 나타남\n",
            "e : 49회 나타남\n",
            "f : 9회 나타남\n",
            "g : 13회 나타남\n",
            "h : 16회 나타남\n",
            "i : 51회 나타남\n",
            "j : 2회 나타남\n",
            "k : 5회 나타남\n",
            "l : 21회 나타남\n",
            "m : 19회 나타남\n",
            "n : 33회 나타남\n",
            "o : 35회 나타남\n",
            "p : 15회 나타남\n",
            "q : 2회 나타남\n",
            "r : 25회 나타남\n",
            "s : 55회 나타남\n",
            "t : 52회 나타남\n",
            "u : 13회 나타남\n",
            "v : 10회 나타남\n",
            "w : 10회 나타남\n",
            "x : 2회 나타남\n",
            "y : 11회 나타남\n",
            "z : 1회 나타남\n"
          ]
        }
      ]
    },
    {
      "cell_type": "code",
      "source": [
        "#파일에서 텍스트의 단어 수 계산\n",
        "with open('sample_data/README.md') as f:\n",
        "  data = f.read()\n",
        "  tmp = data.split()\n",
        "  print(f\"단어 수 :{len(tmp)}\")"
      ],
      "metadata": {
        "colab": {
          "base_uri": "https://localhost:8080/"
        },
        "id": "NPkuk4DvVCZn",
        "outputId": "4fff939a-0ca6-4528-daed-af1521b3b196"
      },
      "execution_count": 40,
      "outputs": [
        {
          "output_type": "stream",
          "name": "stdout",
          "text": [
            "단어 수 :80\n"
          ]
        }
      ]
    },
    {
      "cell_type": "code",
      "source": [
        "#파일에서 특정 단어 갯수 계산\n",
        "def count_text(file_name, text):\n",
        "  with open(file_name) as f :\n",
        "    data = f.read()\n",
        "    data = data.lower()\n",
        "    idx = data.find(text)\n",
        "    count = 0\n",
        "    while idx != -1:\n",
        "      count +=1\n",
        "      idx = data.find(text, idx+1)\n",
        "  return count"
      ],
      "metadata": {
        "id": "ZqwNFS5uXa-W"
      },
      "execution_count": 44,
      "outputs": []
    },
    {
      "cell_type": "code",
      "source": [
        "result = count_text('sample_data/README.md','is')\n",
        "print(f\"is 단어 수 : {result}\")"
      ],
      "metadata": {
        "colab": {
          "base_uri": "https://localhost:8080/"
        },
        "id": "jVC4bl9rYp5N",
        "outputId": "90801b17-4ba8-49c2-d7d8-a09eaad4973c"
      },
      "execution_count": 47,
      "outputs": [
        {
          "output_type": "stream",
          "name": "stdout",
          "text": [
            "is 단어 수 : 12\n"
          ]
        }
      ]
    },
    {
      "cell_type": "code",
      "source": [
        "#파일에서 특정 문자열 교체\n",
        "\n",
        "t1 = input('찾을 단어 입력')\n",
        "t2 = input('교체할 단어 입력')\n",
        "\n",
        "with open('sample_data/README.md') as f, open('replace_data.txt','w') as f2:\n",
        "  data = f.read()\n",
        "  print(data)\n",
        "  print('*'*50)\n",
        "  data = data.replace(t1, t2)\n",
        "  print(data)\n",
        "  f2.write(data)"
      ],
      "metadata": {
        "colab": {
          "base_uri": "https://localhost:8080/"
        },
        "id": "h75LfTrJY4Mi",
        "outputId": "64a0d801-3412-4a81-fda7-33e7bfb81dac"
      },
      "execution_count": 48,
      "outputs": [
        {
          "output_type": "stream",
          "name": "stdout",
          "text": [
            "찾을 단어 입력is\n",
            "교체할 단어 입력iss\n",
            "This directory includes a few sample datasets to get you started.\n",
            "\n",
            "*   `california_housing_data*.csv` is California housing data from the 1990 US\n",
            "    Census; more information is available at:\n",
            "    https://docs.google.com/document/d/e/2PACX-1vRhYtsvc5eOR2FWNCwaBiKL6suIOrxJig8LcSBbmCbyYsayia_DvPOOBlXZ4CAlQ5nlDD8kTaIDRwrN/pub\n",
            "\n",
            "*   `mnist_*.csv` is a small sample of the\n",
            "    [MNIST database](https://en.wikipedia.org/wiki/MNIST_database), which is\n",
            "    described at: http://yann.lecun.com/exdb/mnist/\n",
            "\n",
            "*   `anscombe.json` contains a copy of\n",
            "    [Anscombe's quartet](https://en.wikipedia.org/wiki/Anscombe%27s_quartet); it\n",
            "    was originally described in\n",
            "\n",
            "    Anscombe, F. J. (1973). 'Graphs in Statistical Analysis'. American\n",
            "    Statistician. 27 (1): 17-21. JSTOR 2682899.\n",
            "\n",
            "    and our copy was prepared by the\n",
            "    [vega_datasets library](https://github.com/altair-viz/vega_datasets/blob/4f67bdaad10f45e3549984e17e1b3088c731503d/vega_datasets/_data/anscombe.json).\n",
            "\n",
            "**************************************************\n",
            "Thiss directory includes a few sample datasets to get you started.\n",
            "\n",
            "*   `california_housing_data*.csv` iss California housing data from the 1990 US\n",
            "    Census; more information iss available at:\n",
            "    https://docs.google.com/document/d/e/2PACX-1vRhYtsvc5eOR2FWNCwaBiKL6suIOrxJig8LcSBbmCbyYsayia_DvPOOBlXZ4CAlQ5nlDD8kTaIDRwrN/pub\n",
            "\n",
            "*   `mnisst_*.csv` iss a small sample of the\n",
            "    [MNIST database](https://en.wikipedia.org/wiki/MNIST_database), which iss\n",
            "    described at: http://yann.lecun.com/exdb/mnisst/\n",
            "\n",
            "*   `anscombe.json` contains a copy of\n",
            "    [Anscombe's quartet](https://en.wikipedia.org/wiki/Anscombe%27s_quartet); it\n",
            "    was originally described in\n",
            "\n",
            "    Anscombe, F. J. (1973). 'Graphs in Statisstical Analysiss'. American\n",
            "    Statisstician. 27 (1): 17-21. JSTOR 2682899.\n",
            "\n",
            "    and our copy was prepared by the\n",
            "    [vega_datasets library](https://github.com/altair-viz/vega_datasets/blob/4f67bdaad10f45e3549984e17e1b3088c731503d/vega_datasets/_data/anscombe.json).\n",
            "\n"
          ]
        }
      ]
    },
    {
      "cell_type": "code",
      "source": [],
      "metadata": {
        "id": "j_vmWJapaM7g"
      },
      "execution_count": null,
      "outputs": []
    }
  ]
}