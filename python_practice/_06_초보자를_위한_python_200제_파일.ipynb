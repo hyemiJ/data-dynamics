{
  "nbformat": 4,
  "nbformat_minor": 0,
  "metadata": {
    "colab": {
      "provenance": [],
      "mount_file_id": "1zIe2Do16ugR_6GAn9gk_dQszMSoZGKMH",
      "authorship_tag": "ABX9TyOJWsIm+00njWBMfszro8G+",
      "include_colab_link": true
    },
    "kernelspec": {
      "name": "python3",
      "display_name": "Python 3"
    },
    "language_info": {
      "name": "python"
    }
  },
  "cells": [
    {
      "cell_type": "markdown",
      "metadata": {
        "id": "view-in-github",
        "colab_type": "text"
      },
      "source": [
        "<a href=\"https://colab.research.google.com/github/hyemiJ/data-dynamics/blob/main/python_practice/_06_%EC%B4%88%EB%B3%B4%EC%9E%90%EB%A5%BC_%EC%9C%84%ED%95%9C_python_200%EC%A0%9C_%ED%8C%8C%EC%9D%BC.ipynb\" target=\"_parent\"><img src=\"https://colab.research.google.com/assets/colab-badge.svg\" alt=\"Open In Colab\"/></a>"
      ]
    },
    {
      "cell_type": "code",
      "execution_count": 1,
      "metadata": {
        "id": "OpBn_nKVQINf"
      },
      "outputs": [],
      "source": [
        "#텍스트 파일 입력\n",
        "f = open('test.txt','w')\n",
        "f.write('Python is fun! \\n')\n",
        "f.close()"
      ]
    },
    {
      "cell_type": "code",
      "source": [
        "#텍스트 파일 출력\n",
        "f = open('test.txt','r')\n",
        "print(f.read())\n",
        "f.close()"
      ],
      "metadata": {
        "colab": {
          "base_uri": "https://localhost:8080/"
        },
        "id": "09_7uqWgQny_",
        "outputId": "5a2c2945-4f5a-4f4b-947a-fab1a1a08aa9"
      },
      "execution_count": 2,
      "outputs": [
        {
          "output_type": "stream",
          "name": "stdout",
          "text": [
            "Python is fun! \n",
            "\n"
          ]
        }
      ]
    },
    {
      "cell_type": "code",
      "source": [
        "#텍스트 파일 추가\n",
        "f = open('test.txt','a')\n",
        "f.write('Python is fun! 2 \\n')\n",
        "f.write('Python is fun! 3 \\n')\n",
        "f.close()"
      ],
      "metadata": {
        "id": "o5vtDc01Qsf3"
      },
      "execution_count": 3,
      "outputs": []
    },
    {
      "cell_type": "code",
      "source": [
        "#텍스트 파일 다시 읽기\n",
        "f = open('test.txt','r')\n",
        "print(f.read())\n",
        "f.close()"
      ],
      "metadata": {
        "colab": {
          "base_uri": "https://localhost:8080/"
        },
        "id": "LHW1W6SjRHjp",
        "outputId": "235228b4-511c-4880-8a61-30b1c76ce5bc"
      },
      "execution_count": 4,
      "outputs": [
        {
          "output_type": "stream",
          "name": "stdout",
          "text": [
            "Python is fun! \n",
            "Python is fun! 2 \n",
            "Python is fun! 3 \n",
            "\n"
          ]
        }
      ]
    },
    {
      "cell_type": "code",
      "source": [
        "#line by line 실행하기\n",
        "f = open('test.txt','r')\n",
        "i = 1                           #라인의 번호를 나타내기 위한 변수.\n",
        "while True:\n",
        "    line = f.readline()\n",
        "    if not line: break\n",
        "    print(i,line)\n",
        "    i +=1\n",
        "f.close()"
      ],
      "metadata": {
        "colab": {
          "base_uri": "https://localhost:8080/"
        },
        "id": "54g73qjlRNP3",
        "outputId": "7acf7c88-305c-4059-ded3-e48851e21c3c"
      },
      "execution_count": 5,
      "outputs": [
        {
          "output_type": "stream",
          "name": "stdout",
          "text": [
            "1 Python is fun! \n",
            "\n",
            "2 Python is fun! 2 \n",
            "\n",
            "3 Python is fun! 3 \n",
            "\n"
          ]
        }
      ]
    },
    {
      "cell_type": "code",
      "source": [
        "#한줄씩 읽고 실행하기\n",
        "f = open('test.txt','r')\n",
        "lines = f.readlines()           #한 줄씩 해당하는 리스트로 반환됨을 확인\n",
        "print(lines)                    #리스트 내부에 \\n을 가지고 있어 2칸씩 떠보이는데 테스트로 write 할때 \\n을 넣지 않으니 줄내림을 인식하지 못하는 이슈가 있는듯.?\n",
        "for i, line in enumerate(lines):\n",
        "    print(i+1, line)\n",
        "f.close()"
      ],
      "metadata": {
        "id": "E54dq7udR2q-",
        "colab": {
          "base_uri": "https://localhost:8080/"
        },
        "outputId": "41fcad20-6d18-4f52-e38f-12818c26484b"
      },
      "execution_count": 6,
      "outputs": [
        {
          "output_type": "stream",
          "name": "stdout",
          "text": [
            "['Python is fun! \\n', 'Python is fun! 2 \\n', 'Python is fun! 3 \\n']\n",
            "1 Python is fun! \n",
            "\n",
            "2 Python is fun! 2 \n",
            "\n",
            "3 Python is fun! 3 \n",
            "\n"
          ]
        }
      ]
    },
    {
      "cell_type": "code",
      "source": [
        "#화면에 사용자 입력을 받고 파일로 쓰기\n",
        "text = input('내용을 입력하세요.')\n",
        "f = open('test2.txt','w')\n",
        "f.write(text)\n",
        "f.close()"
      ],
      "metadata": {
        "colab": {
          "base_uri": "https://localhost:8080/"
        },
        "id": "DOi5tfxEyiZn",
        "outputId": "b6e9720c-628f-4b1c-fb41-b196b84855ea"
      },
      "execution_count": 7,
      "outputs": [
        {
          "name": "stdout",
          "output_type": "stream",
          "text": [
            "내용을 입력하세요.안녕\n"
          ]
        }
      ]
    },
    {
      "cell_type": "code",
      "source": [
        "# 확인\n",
        "f = open('test2.txt')\n",
        "p = f.read()\n",
        "print(p)\n",
        "f.close()"
      ],
      "metadata": {
        "colab": {
          "base_uri": "https://localhost:8080/"
        },
        "id": "Woi6VtEu0yZ8",
        "outputId": "ab021a72-7754-4054-bacc-391df4d652c5"
      },
      "execution_count": 8,
      "outputs": [
        {
          "output_type": "stream",
          "name": "stdout",
          "text": [
            "안녕\n"
          ]
        }
      ]
    },
    {
      "cell_type": "code",
      "source": [
        "#텍스트 파일에 한줄씩 쓰기\n",
        "count = 1\n",
        "data = []\n",
        "print(\"파일에 내용을 저장하려면 내용을 입력하지 말고 enter를 눌러주세요.\")\n",
        "while True:\n",
        "  text = input(f\"{count}, 파일에 저장할 내용을 입력해주세요.\")\n",
        "  if text =='':\n",
        "    break\n",
        "  data.append(text+'\\n')            #배열의 append임에도 불구하고 \\n을 쓰지 않으면 하나의 문자열로 아래의 쉘에서 취합됨을 확인.\n",
        "  count += 1\n",
        "f = open('test2.txt','w')\n",
        "f.writelines(data)                  # writelines()\n",
        "f.close()"
      ],
      "metadata": {
        "colab": {
          "base_uri": "https://localhost:8080/"
        },
        "id": "pUZGuBCJ1BD4",
        "outputId": "fdf6c939-2151-4f91-8374-090957f2f7a8"
      },
      "execution_count": 9,
      "outputs": [
        {
          "name": "stdout",
          "output_type": "stream",
          "text": [
            "파일에 내용을 저장하려면 내용을 입력하지 말고 enter를 눌러주세요.\n",
            "1, 파일에 저장할 내용을 입력해주세요.안녕\n",
            "2, 파일에 저장할 내용을 입력해주세요.하세요\n",
            "3, 파일에 저장할 내용을 입력해주세요.반갑습니다\n",
            "4, 파일에 저장할 내용을 입력해주세요.즐거운\n",
            "5, 파일에 저장할 내용을 입력해주세요.회사생활\n",
            "6, 파일에 저장할 내용을 입력해주세요.두둠칫\n",
            "7, 파일에 저장할 내용을 입력해주세요.\n"
          ]
        }
      ]
    },
    {
      "cell_type": "code",
      "source": [
        "# 확인\n",
        "f = open('test2.txt')\n",
        "lines = f.readlines()\n",
        "print(lines)\n",
        "for i, line in enumerate(lines):\n",
        "    print(i+1, line.rstrip())       # .rstrip()을 활용하여 \\n을 제거한다.\n",
        "f.close()"
      ],
      "metadata": {
        "colab": {
          "base_uri": "https://localhost:8080/"
        },
        "id": "z-SJ2aTu2E62",
        "outputId": "94a2a164-c33d-486f-a95a-47df274f3d1b"
      },
      "execution_count": 10,
      "outputs": [
        {
          "output_type": "stream",
          "name": "stdout",
          "text": [
            "['안녕\\n', '하세요\\n', '반갑습니다\\n', '즐거운\\n', '회사생활\\n', '두둠칫\\n']\n",
            "1 안녕\n",
            "2 하세요\n",
            "3 반갑습니다\n",
            "4 즐거운\n",
            "5 회사생활\n",
            "6 두둠칫\n"
          ]
        }
      ]
    },
    {
      "cell_type": "code",
      "source": [
        "# 파일 복사\n",
        "f1 = open('test2.txt')              # 원본 파일 열기 (읽기 모드)\n",
        "f2 = open('test3.txt', 'w')         # 복사 대상 파일 열기 (쓰기 모드)\n",
        "\n",
        "data = f1.read()                    # 전체 내용을 한 번에 읽음 (문자열 반환)\n",
        "print(type(data))                   # <class 'str'>: read()는 str을 반환함\n",
        "\n",
        "f2.write(data)                      # 문자열 전체를 새 파일에 씀\n",
        "\n",
        "f2.close()                          # 복사 대상 파일 닫기\n",
        "f1.close()                          # 원본 파일 닫기 (닫는 순서는 실제론 큰 영향 없음, 하지만 보통 열린 순서대로 닫는 게 가독성 측면에서 좋음)"
      ],
      "metadata": {
        "colab": {
          "base_uri": "https://localhost:8080/"
        },
        "id": "TV5qVioG2ryo",
        "outputId": "d0d5f1b7-ded4-4f31-8414-60197932a0c8"
      },
      "execution_count": 11,
      "outputs": [
        {
          "output_type": "stream",
          "name": "stdout",
          "text": [
            "<class 'str'>\n"
          ]
        }
      ]
    },
    {
      "cell_type": "code",
      "source": [
        "# 복사 확인\n",
        "f = open('test3.txt')\n",
        "lines = f.readlines()\n",
        "print(lines)\n",
        "for i, line in enumerate(lines):\n",
        "    print(i+1, line.rstrip())       # .rstrip()을 활용하여 \\n을 제거한다.\n",
        "f.close()"
      ],
      "metadata": {
        "colab": {
          "base_uri": "https://localhost:8080/"
        },
        "id": "M3U_zQPg4rgi",
        "outputId": "faaba737-01bc-4974-a322-d83f9a2c3565"
      },
      "execution_count": 12,
      "outputs": [
        {
          "output_type": "stream",
          "name": "stdout",
          "text": [
            "['안녕\\n', '하세요\\n', '반갑습니다\\n', '즐거운\\n', '회사생활\\n', '두둠칫\\n']\n",
            "1 안녕\n",
            "2 하세요\n",
            "3 반갑습니다\n",
            "4 즐거운\n",
            "5 회사생활\n",
            "6 두둠칫\n"
          ]
        }
      ]
    },
    {
      "cell_type": "markdown",
      "source": [
        "####  ❇ 바이너리 파일을 읽어 동일한 내용을 가진 다른 파일로 복사하는 방법을 알아본다.\n",
        "✅ 일반적으로 바이너리 파일은 용량이 큰 경우가 많다.\n",
        "\n",
        "예를 들어 고화질 영화를 담은 동영상 파일일 경우 10GB를 넘기도 한다.\n",
        "\n",
        "대용량의 파일의 내용을 한번에 읽고 쓰는 것은 메모리 용량의 한계로 불가능 할때가 있고 성능면에서도 효율적이지 못하다.\n",
        "\n",
        "❗ 이런 경우 파일을 처음부터 끝까지 일정한 크기단위로 읽고 쓰면 메모리 문제를 해결할 수 있다."
      ],
      "metadata": {
        "id": "ijXIdfO87F9I"
      }
    },
    {
      "cell_type": "code",
      "source": [
        "import os\n",
        "\n",
        "# 바이너리 파일 복사\n",
        "# 테스트를 위해 런타임때 마다 media >2721287.png (python icon) sample_data 하위에 업로드 하기.\n",
        "\n",
        "bufsize = 1024                 # 1KB 단위로 파일을 읽기위해 정의.\n",
        "original_size = os.path.getsize('2721287.png')\n",
        "print(f\"원본 파일 크기: {original_size} bytes\")\n",
        "print(f\"원본 파일 크기: {round(original_size/bufsize,2)} KB\")\n",
        "f1 = open('2721287.png','rb')\n",
        "f2 = open('2721287_copy.png','wb')\n",
        "\n",
        "data = f1.read(bufsize)\n",
        "while data:\n",
        "  f2.write(data)\n",
        "  data = f1.read(bufsize)\n",
        "\n",
        "print(\"복사 완료\")\n",
        "f2.close()\n",
        "f1.close()"
      ],
      "metadata": {
        "colab": {
          "base_uri": "https://localhost:8080/"
        },
        "id": "t9V-s2uL41fK",
        "outputId": "1631c444-fcb7-42de-a64a-26a4725b58d9"
      },
      "execution_count": null,
      "outputs": [
        {
          "output_type": "stream",
          "name": "stdout",
          "text": [
            "원본 파일 크기: 19487 bytes\n",
            "원본 파일 크기: 19.03 KB\n",
            "복사 완료\n"
          ]
        }
      ]
    },
    {
      "cell_type": "code",
      "source": [
        "#파일을 열고 자동으로 닫기\n",
        "#파일을 열고 난 후 파일을 닫지 않고 코드를 작성하는 경우가 생겨 메모리를 잡아 먹는 실수를 방지한다.\n",
        "with open('test2.txt') as f:\n",
        "  for i, line in enumerate(f):\n",
        "    print(i+1, line.rstrip())"
      ],
      "metadata": {
        "colab": {
          "base_uri": "https://localhost:8080/"
        },
        "id": "RHhtOwJF9Cx1",
        "outputId": "09d27b3e-764c-4a0b-c918-fd46b1b39c05"
      },
      "execution_count": 14,
      "outputs": [
        {
          "output_type": "stream",
          "name": "stdout",
          "text": [
            "1 안녕\n",
            "2 하세요\n",
            "3 반갑습니다\n",
            "4 즐거운\n",
            "5 회사생활\n",
            "6 두둠칫\n"
          ]
        }
      ]
    },
    {
      "cell_type": "code",
      "source": [
        "#파일의 특정 부분만 복사하기\n",
        "readpoint = 10               # 읽을 위치 지정\n",
        "readsize = 20                # 읽을 크기 지정\n",
        "\n",
        "with open('test2.txt') as rf,open('test2_part.txt','w') as wf:\n",
        "  rf.seek(readpoint)         # seek() : 파일의 읽을 위치 이동\n",
        "  data = rf.read(readsize)   # read() 의 인자를 통해 읽을 크기를 지정.\n",
        "  print(data)\n",
        "  wf.write(data)\n"
      ],
      "metadata": {
        "id": "44HDvjka9qI2",
        "colab": {
          "base_uri": "https://localhost:8080/"
        },
        "outputId": "563daa1e-2661-4509-f220-97ccf700f519"
      },
      "execution_count": 15,
      "outputs": [
        {
          "output_type": "stream",
          "name": "stdout",
          "text": [
            "세요\n",
            "반갑습니다\n",
            "즐거운\n",
            "회사생활\n",
            "두둠\n"
          ]
        }
      ]
    },
    {
      "cell_type": "code",
      "source": [
        "#seek(), readline(), readlines() 보기\n",
        "with open('test.txt') as f:\n",
        "    data = f.readline(5)\n",
        "    print(data)              # 앞에서부터 5글자만 읽음\n",
        "    data= f.readline()       # 읽은 후의 줄 나머지 다 읽음.\n",
        "    print(data)\n",
        "\n",
        "    data2 = f.seek(2)        # 포인터 이동\n",
        "    print(data2)             # 이동한 숫자를 print\n",
        "    data2 = f.readline()\n",
        "    print(data2)             # 포인터 이동후 줄 나머지 다 읽음\n",
        "\n",
        "    data3 = f.readlines()    # 이후 나머지 데이터에 대해 모두 출력\n",
        "    print(data3)\n",
        "    # data3.seek(3)          #'list' object has no attribute 'seek'"
      ],
      "metadata": {
        "colab": {
          "base_uri": "https://localhost:8080/"
        },
        "id": "pyuDC2HNNv7h",
        "outputId": "286a6511-9f81-4e8d-d001-3bae6321c988"
      },
      "execution_count": 29,
      "outputs": [
        {
          "output_type": "stream",
          "name": "stdout",
          "text": [
            "Pytho\n",
            "n is fun! \n",
            "\n",
            "2\n",
            "thon is fun! \n",
            "\n",
            "['Python is fun! 2 \\n', 'Python is fun! 3 \\n']\n"
          ]
        }
      ]
    },
    {
      "cell_type": "code",
      "source": [],
      "metadata": {
        "id": "Pn_vmAxoPy8a"
      },
      "execution_count": null,
      "outputs": []
    }
  ]
}