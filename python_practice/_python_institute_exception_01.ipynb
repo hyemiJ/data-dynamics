{
  "nbformat": 4,
  "nbformat_minor": 0,
  "metadata": {
    "colab": {
      "provenance": [],
      "authorship_tag": "ABX9TyPJYQOPQUSlF5AsKGTcH455",
      "include_colab_link": true
    },
    "kernelspec": {
      "name": "python3",
      "display_name": "Python 3"
    },
    "language_info": {
      "name": "python"
    }
  },
  "cells": [
    {
      "cell_type": "markdown",
      "metadata": {
        "id": "view-in-github",
        "colab_type": "text"
      },
      "source": [
        "<a href=\"https://colab.research.google.com/github/hyemiJ/data-dynamics/blob/main/python_practice/_python_institute_exception_01.ipynb\" target=\"_parent\"><img src=\"https://colab.research.google.com/assets/colab-badge.svg\" alt=\"Open In Colab\"/></a>"
      ]
    },
    {
      "cell_type": "code",
      "execution_count": null,
      "metadata": {
        "colab": {
          "base_uri": "https://localhost:8080/"
        },
        "id": "UbVAVsNtS896",
        "outputId": "7544cb2b-8f19-4fc6-f0b7-6cf7674abeb8"
      },
      "outputs": [
        {
          "output_type": "stream",
          "name": "stdout",
          "text": [
            "a는 정수형이 될 수 없다.\n"
          ]
        }
      ],
      "source": [
        "try:\n",
        "  print(int(\"a\"))\n",
        "except ValueError:\n",
        "  print(\"a는 정수형이 될 수 없다.\")"
      ]
    },
    {
      "cell_type": "code",
      "source": [
        "try:\n",
        "  print(int(\"a\"))\n",
        "except ValueError as e:\n",
        "  print(\"a는 정수형이 될 수 없다.\")\n",
        "  print(e.args)"
      ],
      "metadata": {
        "colab": {
          "base_uri": "https://localhost:8080/"
        },
        "id": "oR7QdJRFXEiU",
        "outputId": "969adf3b-e039-4c68-ed7a-fbcaf208c367"
      },
      "execution_count": null,
      "outputs": [
        {
          "output_type": "stream",
          "name": "stdout",
          "text": [
            "a는 정수형이 될 수 없다.\n",
            "(\"invalid literal for int() with base 10: 'a'\",)\n"
          ]
        }
      ]
    },
    {
      "cell_type": "code",
      "source": [
        "try:\n",
        "  print(int(\"a\"))\n",
        "except ValueError as e:\n",
        "  print(\"a는 정수형이 될 수 없다.\")\n",
        "  print(e.args)"
      ],
      "metadata": {
        "colab": {
          "base_uri": "https://localhost:8080/"
        },
        "id": "1Y0q18kBvJuX",
        "outputId": "026dc6c9-36c1-4fd7-9bf1-eda1abe1c1e8"
      },
      "execution_count": null,
      "outputs": [
        {
          "output_type": "stream",
          "name": "stdout",
          "text": [
            "a는 정수형이 될 수 없다.\n",
            "(\"invalid literal for int() with base 10: 'a'\",)\n"
          ]
        }
      ]
    },
    {
      "cell_type": "code",
      "source": [
        "try :\n",
        "  import abcdef\n",
        "\n",
        "except ImportError as e:\n",
        "  print(e.args)\n",
        "  print(e.name)\n",
        "  print(e.path)\n"
      ],
      "metadata": {
        "colab": {
          "base_uri": "https://localhost:8080/"
        },
        "id": "SC1PuMRXvzO8",
        "outputId": "f8fff3e9-fb0d-4b7b-8b5b-8528013702aa"
      },
      "execution_count": null,
      "outputs": [
        {
          "output_type": "stream",
          "name": "stdout",
          "text": [
            "(\"No module named 'abcdef'\",)\n",
            "abcdef\n",
            "None\n"
          ]
        }
      ]
    },
    {
      "cell_type": "code",
      "source": [
        "try:\n",
        "  b'\\x80'.decode(\"utf-8\")\n",
        "except UnicodeError as e:\n",
        "  print(e)\n",
        "  print(e.encoding)\n",
        "  print(e.reason)\n",
        "  print(e.object)\n",
        "  print(e.start)\n",
        "  print(e.end)"
      ],
      "metadata": {
        "colab": {
          "base_uri": "https://localhost:8080/"
        },
        "id": "wd0_VDI_wQoZ",
        "outputId": "401a8b91-93c1-4539-ff44-cb3c1576beac"
      },
      "execution_count": null,
      "outputs": [
        {
          "output_type": "stream",
          "name": "stdout",
          "text": [
            "'utf-8' codec can't decode byte 0x80 in position 0: invalid start byte\n",
            "utf-8\n",
            "invalid start byte\n",
            "b'\\x80'\n",
            "0\n",
            "1\n"
          ]
        }
      ]
    },
    {
      "cell_type": "code",
      "source": [
        "# 암시적 예외\n",
        "a_list = [\"first_error\", \"second_error\"]\n",
        "try:\n",
        "  print(a_list[2])\n",
        "except IndexError as e:\n",
        "  print(0/0)"
      ],
      "metadata": {
        "colab": {
          "base_uri": "https://localhost:8080/",
          "height": 409
        },
        "id": "-iscrTPhyBHS",
        "outputId": "e3958f6e-f968-4a6b-ef0c-a0df4790de04"
      },
      "execution_count": null,
      "outputs": [
        {
          "output_type": "error",
          "ename": "ZeroDivisionError",
          "evalue": "division by zero",
          "traceback": [
            "\u001b[0;31m---------------------------------------------------------------------------\u001b[0m",
            "\u001b[0;31mIndexError\u001b[0m                                Traceback (most recent call last)",
            "\u001b[0;32m/tmp/ipython-input-9-3539898047.py\u001b[0m in \u001b[0;36m<cell line: 0>\u001b[0;34m()\u001b[0m\n\u001b[1;32m      3\u001b[0m \u001b[0;32mtry\u001b[0m\u001b[0;34m:\u001b[0m\u001b[0;34m\u001b[0m\u001b[0;34m\u001b[0m\u001b[0m\n\u001b[0;32m----> 4\u001b[0;31m   \u001b[0mprint\u001b[0m\u001b[0;34m(\u001b[0m\u001b[0ma_list\u001b[0m\u001b[0;34m[\u001b[0m\u001b[0;36m2\u001b[0m\u001b[0;34m]\u001b[0m\u001b[0;34m)\u001b[0m\u001b[0;34m\u001b[0m\u001b[0;34m\u001b[0m\u001b[0m\n\u001b[0m\u001b[1;32m      5\u001b[0m \u001b[0;32mexcept\u001b[0m \u001b[0mIndexError\u001b[0m \u001b[0;32mas\u001b[0m \u001b[0me\u001b[0m\u001b[0;34m:\u001b[0m\u001b[0;34m\u001b[0m\u001b[0;34m\u001b[0m\u001b[0m\n",
            "\u001b[0;31mIndexError\u001b[0m: list index out of range",
            "\nDuring handling of the above exception, another exception occurred:\n",
            "\u001b[0;31mZeroDivisionError\u001b[0m                         Traceback (most recent call last)",
            "\u001b[0;32m/tmp/ipython-input-9-3539898047.py\u001b[0m in \u001b[0;36m<cell line: 0>\u001b[0;34m()\u001b[0m\n\u001b[1;32m      4\u001b[0m   \u001b[0mprint\u001b[0m\u001b[0;34m(\u001b[0m\u001b[0ma_list\u001b[0m\u001b[0;34m[\u001b[0m\u001b[0;36m2\u001b[0m\u001b[0;34m]\u001b[0m\u001b[0;34m)\u001b[0m\u001b[0;34m\u001b[0m\u001b[0;34m\u001b[0m\u001b[0m\n\u001b[1;32m      5\u001b[0m \u001b[0;32mexcept\u001b[0m \u001b[0mIndexError\u001b[0m \u001b[0;32mas\u001b[0m \u001b[0me\u001b[0m\u001b[0;34m:\u001b[0m\u001b[0;34m\u001b[0m\u001b[0;34m\u001b[0m\u001b[0m\n\u001b[0;32m----> 6\u001b[0;31m   \u001b[0mprint\u001b[0m\u001b[0;34m(\u001b[0m\u001b[0;36m0\u001b[0m\u001b[0;34m/\u001b[0m\u001b[0;36m0\u001b[0m\u001b[0;34m)\u001b[0m\u001b[0;34m\u001b[0m\u001b[0;34m\u001b[0m\u001b[0m\n\u001b[0m",
            "\u001b[0;31mZeroDivisionError\u001b[0m: division by zero"
          ]
        }
      ]
    },
    {
      "cell_type": "code",
      "source": [
        "# 암시적 예외\n",
        "a_list = [\"first_error\", \"second_error\"]\n",
        "try:\n",
        "  print(a_list[2])\n",
        "except IndexError as e:\n",
        "  try:\n",
        "    print(1/0)\n",
        "  except ZeroDivisionError as f:\n",
        "    print(\"Outer exception e :\",e)\n",
        "    print(\"Inner exception f :\",f)\n",
        "    print(\"Outer exception referenced :\",f.__context__)\n",
        "    print(\"Is it the same object (f.__context__, e) :\", f.__context__ is e)"
      ],
      "metadata": {
        "colab": {
          "base_uri": "https://localhost:8080/"
        },
        "id": "OwNvzHGL3UBP",
        "outputId": "3aed552d-b286-44f6-edd2-587338c89b59"
      },
      "execution_count": null,
      "outputs": [
        {
          "output_type": "stream",
          "name": "stdout",
          "text": [
            "Outer exception e : list index out of range\n",
            "Inner exception f : division by zero\n",
            "Outer exception referenced : list index out of range\n",
            "Is it the same object (f.__context__, e) : True\n"
          ]
        }
      ]
    },
    {
      "cell_type": "code",
      "source": [
        "class RocketNotReadyError(Exception):\n",
        "  pass\n",
        "\n",
        "def person_check(crew_list):\n",
        "    try:\n",
        "      print(\"captain's name :\", crew_list[0])\n",
        "      print(\"pilot's name :\", crew_list[1])\n",
        "      print(\"mechanic's name :\", crew_list[2])\n",
        "      print(\"navigator's name :\", crew_list[3])\n",
        "    except IndexError as e:\n",
        "      raise RocketNotReadyError(\"Rocket Not Ready for takeoff\") from e\n",
        "\n",
        "crew_list = [\"John\", \"Mary\", \"Mike\"]\n",
        "print(\"Final check procedure\")\n",
        "\n",
        "person_check(crew_list)"
      ],
      "metadata": {
        "id": "0cMvio7r6Qz3",
        "colab": {
          "base_uri": "https://localhost:8080/",
          "height": 477
        },
        "outputId": "ca1b9744-25d0-4b85-9462-e3681ce07095"
      },
      "execution_count": 2,
      "outputs": [
        {
          "output_type": "stream",
          "name": "stdout",
          "text": [
            "Final check procedure\n",
            "captain's name : John\n",
            "pilot's name : Mary\n",
            "mechanic's name : Mike\n"
          ]
        },
        {
          "output_type": "error",
          "ename": "RocketNotReadyError",
          "evalue": "Rocket Not Ready for takeoff",
          "traceback": [
            "\u001b[0;31m---------------------------------------------------------------------------\u001b[0m",
            "\u001b[0;31mIndexError\u001b[0m                                Traceback (most recent call last)",
            "\u001b[0;32m/tmp/ipython-input-2-2791008889.py\u001b[0m in \u001b[0;36mperson_check\u001b[0;34m(crew_list)\u001b[0m\n\u001b[1;32m      8\u001b[0m       \u001b[0mprint\u001b[0m\u001b[0;34m(\u001b[0m\u001b[0;34m\"mechanic's name :\"\u001b[0m\u001b[0;34m,\u001b[0m \u001b[0mcrew_list\u001b[0m\u001b[0;34m[\u001b[0m\u001b[0;36m2\u001b[0m\u001b[0;34m]\u001b[0m\u001b[0;34m)\u001b[0m\u001b[0;34m\u001b[0m\u001b[0;34m\u001b[0m\u001b[0m\n\u001b[0;32m----> 9\u001b[0;31m       \u001b[0mprint\u001b[0m\u001b[0;34m(\u001b[0m\u001b[0;34m\"navigator's name :\"\u001b[0m\u001b[0;34m,\u001b[0m \u001b[0mcrew_list\u001b[0m\u001b[0;34m[\u001b[0m\u001b[0;36m3\u001b[0m\u001b[0;34m]\u001b[0m\u001b[0;34m)\u001b[0m\u001b[0;34m\u001b[0m\u001b[0;34m\u001b[0m\u001b[0m\n\u001b[0m\u001b[1;32m     10\u001b[0m     \u001b[0;32mexcept\u001b[0m \u001b[0mIndexError\u001b[0m \u001b[0;32mas\u001b[0m \u001b[0me\u001b[0m\u001b[0;34m:\u001b[0m\u001b[0;34m\u001b[0m\u001b[0;34m\u001b[0m\u001b[0m\n",
            "\u001b[0;31mIndexError\u001b[0m: list index out of range",
            "\nThe above exception was the direct cause of the following exception:\n",
            "\u001b[0;31mRocketNotReadyError\u001b[0m                       Traceback (most recent call last)",
            "\u001b[0;32m/tmp/ipython-input-2-2791008889.py\u001b[0m in \u001b[0;36m<cell line: 0>\u001b[0;34m()\u001b[0m\n\u001b[1;32m     14\u001b[0m \u001b[0mprint\u001b[0m\u001b[0;34m(\u001b[0m\u001b[0;34m\"Final check procedure\"\u001b[0m\u001b[0;34m)\u001b[0m\u001b[0;34m\u001b[0m\u001b[0;34m\u001b[0m\u001b[0m\n\u001b[1;32m     15\u001b[0m \u001b[0;34m\u001b[0m\u001b[0m\n\u001b[0;32m---> 16\u001b[0;31m \u001b[0mperson_check\u001b[0m\u001b[0;34m(\u001b[0m\u001b[0mcrew_list\u001b[0m\u001b[0;34m)\u001b[0m\u001b[0;34m\u001b[0m\u001b[0;34m\u001b[0m\u001b[0m\n\u001b[0m",
            "\u001b[0;32m/tmp/ipython-input-2-2791008889.py\u001b[0m in \u001b[0;36mperson_check\u001b[0;34m(crew_list)\u001b[0m\n\u001b[1;32m      9\u001b[0m       \u001b[0mprint\u001b[0m\u001b[0;34m(\u001b[0m\u001b[0;34m\"navigator's name :\"\u001b[0m\u001b[0;34m,\u001b[0m \u001b[0mcrew_list\u001b[0m\u001b[0;34m[\u001b[0m\u001b[0;36m3\u001b[0m\u001b[0;34m]\u001b[0m\u001b[0;34m)\u001b[0m\u001b[0;34m\u001b[0m\u001b[0;34m\u001b[0m\u001b[0m\n\u001b[1;32m     10\u001b[0m     \u001b[0;32mexcept\u001b[0m \u001b[0mIndexError\u001b[0m \u001b[0;32mas\u001b[0m \u001b[0me\u001b[0m\u001b[0;34m:\u001b[0m\u001b[0;34m\u001b[0m\u001b[0;34m\u001b[0m\u001b[0m\n\u001b[0;32m---> 11\u001b[0;31m       \u001b[0;32mraise\u001b[0m \u001b[0mRocketNotReadyError\u001b[0m\u001b[0;34m(\u001b[0m\u001b[0;34m\"Rocket Not Ready for takeoff\"\u001b[0m\u001b[0;34m)\u001b[0m \u001b[0;32mfrom\u001b[0m \u001b[0me\u001b[0m\u001b[0;34m\u001b[0m\u001b[0;34m\u001b[0m\u001b[0m\n\u001b[0m\u001b[1;32m     12\u001b[0m \u001b[0;34m\u001b[0m\u001b[0m\n\u001b[1;32m     13\u001b[0m \u001b[0mcrew_list\u001b[0m \u001b[0;34m=\u001b[0m \u001b[0;34m[\u001b[0m\u001b[0;34m\"John\"\u001b[0m\u001b[0;34m,\u001b[0m \u001b[0;34m\"Mary\"\u001b[0m\u001b[0;34m,\u001b[0m \u001b[0;34m\"Mike\"\u001b[0m\u001b[0;34m]\u001b[0m\u001b[0;34m\u001b[0m\u001b[0;34m\u001b[0m\u001b[0m\n",
            "\u001b[0;31mRocketNotReadyError\u001b[0m: Rocket Not Ready for takeoff"
          ]
        }
      ]
    },
    {
      "cell_type": "code",
      "source": [
        "class RocketNotReadyError(Exception):\n",
        "  pass\n",
        "\n",
        "def person_check(crew_list):\n",
        "    try:\n",
        "      print(\"captain's name :\", crew_list[0])\n",
        "      print(\"pilot's name :\", crew_list[1])\n",
        "      print(\"mechanic's name :\", crew_list[2])\n",
        "      print(\"navigator's name :\", crew_list[3])\n",
        "    except IndexError as e:\n",
        "      raise RocketNotReadyError(\"Rocket Not Ready for takeoff\") from e\n",
        "\n",
        "crew_list = [\"John\", \"Mary\", \"Mike\"]\n",
        "print(\"Final check procedure\")\n",
        "\n",
        "try:\n",
        "  person_check(crew_list)\n",
        "except RocketNotReadyError as f:\n",
        "  print(f)\n",
        "  print(f.__cause__)"
      ],
      "metadata": {
        "colab": {
          "base_uri": "https://localhost:8080/"
        },
        "id": "V1kIsqU5U5a0",
        "outputId": "01c7316c-5a30-4cd1-989c-d489a4d156ee"
      },
      "execution_count": 3,
      "outputs": [
        {
          "output_type": "stream",
          "name": "stdout",
          "text": [
            "Final check procedure\n",
            "captain's name : John\n",
            "pilot's name : Mary\n",
            "mechanic's name : Mike\n",
            "Rocket Not Ready for takeoff\n",
            "list index out of range\n"
          ]
        }
      ]
    },
    {
      "cell_type": "code",
      "source": [
        "import traceback\n",
        "\n",
        "class RocketNotReadyError(Exception):\n",
        "  pass\n",
        "\n",
        "def person_check(crew_list):\n",
        "    try:\n",
        "      print(\"captain's name :\", crew_list[0])\n",
        "      print(\"pilot's name :\", crew_list[1])\n",
        "      print(\"mechanic's name :\", crew_list[2])\n",
        "      print(\"navigator's name :\", crew_list[3])\n",
        "    except IndexError as e:\n",
        "      raise RocketNotReadyError(\"Rocket Not Ready for takeoff\") from e\n",
        "\n",
        "crew_list = [\"John\", \"Mary\", \"Mike\"]\n",
        "print(\"Final check procedure\")\n",
        "\n",
        "try:\n",
        "  person_check(crew_list)\n",
        "except RocketNotReadyError as f:\n",
        "  print(f.__traceback__)\n",
        "  print(type(f.__traceback__))\n",
        "  details = traceback.format_tb(f.__traceback__)\n",
        "  for detail in details:\n",
        "    print(detail)"
      ],
      "metadata": {
        "colab": {
          "base_uri": "https://localhost:8080/"
        },
        "id": "Jl-r-vVdWPy5",
        "outputId": "5285b58c-b336-4671-d072-ced4709472c4"
      },
      "execution_count": 3,
      "outputs": [
        {
          "output_type": "stream",
          "name": "stdout",
          "text": [
            "Final check procedure\n",
            "captain's name : John\n",
            "pilot's name : Mary\n",
            "mechanic's name : Mike\n",
            "<traceback object at 0x79d58a305e40>\n",
            "<class 'traceback'>\n",
            "  File \"/tmp/ipython-input-3-1177193041.py\", line 19, in <cell line: 0>\n",
            "    person_check(crew_list)\n",
            "\n",
            "  File \"/tmp/ipython-input-3-1177193041.py\", line 13, in person_check\n",
            "    raise RocketNotReadyError(\"Rocket Not Ready for takeoff\") from e\n",
            "\n"
          ]
        }
      ]
    },
    {
      "cell_type": "code",
      "source": [],
      "metadata": {
        "id": "3E1lG4eRWEZw"
      },
      "execution_count": null,
      "outputs": []
    }
  ]
}