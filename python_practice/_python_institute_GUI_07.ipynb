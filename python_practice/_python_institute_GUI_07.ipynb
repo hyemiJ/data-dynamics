{
  "nbformat": 4,
  "nbformat_minor": 0,
  "metadata": {
    "colab": {
      "provenance": [],
      "authorship_tag": "ABX9TyPHVPElFiQRiW3gzEceKc0W",
      "include_colab_link": true
    },
    "kernelspec": {
      "name": "python3",
      "display_name": "Python 3"
    },
    "language_info": {
      "name": "python"
    }
  },
  "cells": [
    {
      "cell_type": "markdown",
      "metadata": {
        "id": "view-in-github",
        "colab_type": "text"
      },
      "source": [
        "<a href=\"https://colab.research.google.com/github/hyemiJ/data-dynamics/blob/main/python_practice/_python_institute_GUI_07.ipynb\" target=\"_parent\"><img src=\"https://colab.research.google.com/assets/colab-badge.svg\" alt=\"Open In Colab\"/></a>"
      ]
    },
    {
      "cell_type": "code",
      "execution_count": null,
      "metadata": {
        "id": "NubMIzx3ZOWC"
      },
      "outputs": [],
      "source": [
        "# 메인창\n",
        "# 설정 가능 :title\n",
        "\n",
        "import tkinter as tk\n",
        "\n",
        "def click(*args):\n",
        "  global counter\n",
        "  if counter > 0:\n",
        "    counter -=1\n",
        "  root.title(str(counter))\n",
        "\n",
        "counter = 10\n",
        "root = tk.Tk()\n",
        "root.title(str(counter))\n",
        "root.bind(\"<Button-1>\", click)\n",
        "root.mainloop()"
      ]
    },
    {
      "cell_type": "code",
      "source": [
        "#메인창 title 앞에 아이콘 만들기\n",
        "import tkinter as tk\n",
        "from PIL import Image, ImageTk\n",
        "\n",
        "root = tk.Tk()\n",
        "root.title(\"Icon\")\n",
        "img = Image.open(\"icon.png\")\n",
        "photo = ImageTk.PhotoImage(img)\n",
        "root.tk.call(\"wm\", \"iconphoto\", root._w, photo)\n",
        "root.bind(\"<Button-1>\", lambda e: root.destroy())\n",
        "root.mainloop()"
      ],
      "metadata": {
        "id": "JoPZtxcJatam"
      },
      "execution_count": null,
      "outputs": []
    },
    {
      "cell_type": "code",
      "source": [
        "#geometry()\n",
        "\n",
        "import tkinter as tk\n",
        "\n",
        "def click(*args):\n",
        "  global size, grows\n",
        "  if grows:\n",
        "    size +=50\n",
        "    if size >= 500:\n",
        "      grows = False\n",
        "  else:\n",
        "    size -=50\n",
        "    if size <= 100:\n",
        "      grows = True\n",
        "  root.geometry(str(size)+\"x\"+str(size))\n",
        "\n",
        "size = 100\n",
        "grows = True\n",
        "root = tk.Tk()\n",
        "root.geometry(\"100x100\")\n",
        "root.bind(\"<Button-1>\", click)\n",
        "root.mainloop()"
      ],
      "metadata": {
        "id": "-HcNuhMKeipa"
      },
      "execution_count": null,
      "outputs": []
    },
    {
      "cell_type": "code",
      "source": [
        "#minsize()\n",
        "import tkinter as tk\n",
        "\n",
        "root = tk.Tk()\n",
        "root.minsize(width=250, height=200)\n",
        "root.geometry(\"500x500\")\n",
        "root.mainloop()"
      ],
      "metadata": {
        "id": "zRs5CrZFfnTZ"
      },
      "execution_count": null,
      "outputs": []
    },
    {
      "cell_type": "code",
      "source": [
        "# maxsize()\n",
        "import tkinter as tk\n",
        "\n",
        "root = tk.Tk()\n",
        "root.maxsize(width=500, height=500)\n",
        "root.geometry(\"200x200\")\n",
        "root.mainloop()"
      ],
      "metadata": {
        "id": "8bV2_OxAgDHp"
      },
      "execution_count": null,
      "outputs": []
    },
    {
      "cell_type": "code",
      "source": [
        "#resizable()\n",
        "import tkinter as tk\n",
        "\n",
        "root = tk.Tk()\n",
        "root.resizable(width=True, height=False)\n",
        "root.geometry(\"200x200\")\n",
        "root.mainloop()"
      ],
      "metadata": {
        "id": "LLMvNPJjg1sD"
      },
      "execution_count": null,
      "outputs": []
    },
    {
      "cell_type": "code",
      "source": [
        "#protocol\n",
        "\n",
        "import tkinter as tk\n",
        "from tkinter import messagebox\n",
        "\n",
        "def really():\n",
        "  if messagebox.askyesno(\"Quit?\", \"Really quit?\"):\n",
        "    root.destroy()\n",
        "\n",
        "root = tk.Tk()\n",
        "root.protocol(\"WM_DELETE_WINDOW\", really)\n",
        "root.mainloop()"
      ],
      "metadata": {
        "id": "acq17R0Kij0H"
      },
      "execution_count": null,
      "outputs": []
    },
    {
      "cell_type": "code",
      "source": [
        "#messagebox askyesno\n",
        "import tkinter as tk\n",
        "from tkinter import messagebox\n",
        "\n",
        "def question():\n",
        "  answer = messagebox.askyesno(\"Question\", \"To be or not to be?\")\n",
        "  print(answer)\n",
        "\n",
        "root = tk.Tk()\n",
        "button = tk.Button(root, text=\"Ask\", command=question)\n",
        "button.pack()\n",
        "root.mainloop()"
      ],
      "metadata": {
        "id": "-70Iu0D14FHL"
      },
      "execution_count": null,
      "outputs": []
    },
    {
      "cell_type": "code",
      "source": [
        "#messagebox askokcancel\n",
        "import tkinter as tk\n",
        "from tkinter import messagebox\n",
        "\n",
        "def question():\n",
        "  answer = messagebox.askokcancel(\"Question\", \"Ok ? or Cancel ?\")\n",
        "  print(answer)\n",
        "\n",
        "root = tk.Tk()\n",
        "button = tk.Button(root, text=\"Ask\", command=question)\n",
        "button.pack()\n",
        "root.mainloop()"
      ],
      "metadata": {
        "id": "z-R_f8NC5Ka2"
      },
      "execution_count": null,
      "outputs": []
    },
    {
      "cell_type": "code",
      "source": [
        "#messagebox askretrycancel\n",
        "import tkinter as tk\n",
        "from tkinter import messagebox\n",
        "\n",
        "def question():\n",
        "  answer = messagebox.askretrycancel(\"Question\", \"Retry ? or Cancel ?\")\n",
        "  print(answer)\n",
        "\n",
        "root = tk.Tk()\n",
        "button = tk.Button(root, text=\"Ask\", command=question)\n",
        "button.pack()\n",
        "root.mainloop()"
      ],
      "metadata": {
        "id": "BFVd04YO62Oj"
      },
      "execution_count": null,
      "outputs": []
    },
    {
      "cell_type": "code",
      "source": [
        "#messagebox askquestion\n",
        "import tkinter as tk\n",
        "from tkinter import messagebox\n",
        "\n",
        "def question():\n",
        "  answer = messagebox.askquestion(\"Question\", \" ? or ?\")\n",
        "  print(answer)\n",
        "\n",
        "root = tk.Tk()\n",
        "button = tk.Button(root, text=\"Ask\", command=question)\n",
        "button.pack()\n",
        "root.mainloop()"
      ],
      "metadata": {
        "id": "XCK-qCjL8H68"
      },
      "execution_count": null,
      "outputs": []
    },
    {
      "cell_type": "code",
      "source": [
        "#messagebox showerror\n",
        "import tkinter as tk\n",
        "from tkinter import messagebox\n",
        "\n",
        "def question():\n",
        "  answer = messagebox.showerror(\"Error !\", \"Error ! Error ! Error !\")\n",
        "  print(answer)\n",
        "\n",
        "root = tk.Tk()\n",
        "button = tk.Button(root, text=\"error message..\", command=question)\n",
        "button.pack()\n",
        "root.mainloop()"
      ],
      "metadata": {
        "id": "4blaqhgY9RmL"
      },
      "execution_count": null,
      "outputs": []
    },
    {
      "cell_type": "code",
      "source": [
        "#messagebox showwarning\n",
        "import tkinter as tk\n",
        "from tkinter import messagebox\n",
        "\n",
        "def question():\n",
        "  answer = messagebox.showwarning(\"Be careful !\", \"Mother  watching you!\")\n",
        "  print(answer)\n",
        "\n",
        "root = tk.Tk()\n",
        "button = tk.Button(root, text=\"for you..\", command=question)\n",
        "button.pack()\n",
        "root.mainloop()"
      ],
      "metadata": {
        "id": "aIxlflTn-HOj"
      },
      "execution_count": null,
      "outputs": []
    }
  ]
}