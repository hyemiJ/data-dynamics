{
  "nbformat": 4,
  "nbformat_minor": 0,
  "metadata": {
    "colab": {
      "provenance": [],
      "authorship_tag": "ABX9TyMwAhkvoVciwB8Fa8R3iNWo",
      "include_colab_link": true
    },
    "kernelspec": {
      "name": "python3",
      "display_name": "Python 3"
    },
    "language_info": {
      "name": "python"
    }
  },
  "cells": [
    {
      "cell_type": "markdown",
      "metadata": {
        "id": "view-in-github",
        "colab_type": "text"
      },
      "source": [
        "<a href=\"https://colab.research.google.com/github/hyemiJ/data-dynamics/blob/main/python_practice/05_lotto%EB%B2%88%ED%98%B8_%EC%83%9D%EC%84%B1%EA%B8%B0.ipynb\" target=\"_parent\"><img src=\"https://colab.research.google.com/assets/colab-badge.svg\" alt=\"Open In Colab\"/></a>"
      ]
    },
    {
      "cell_type": "markdown",
      "source": [
        "### 로또 번호 생성기\n",
        "- 파이썬 200제 책의 179번째 소스에서 발견된 문제로,\n",
        "이전에 풀던 방법들을 다양하게 만들어 보기 위해 정리하게 됨\n",
        "\n",
        "- 문제 요구 사항\n",
        "  - 1~45 번의 숫자 6개로 이루어진 로또 번호 추출기를 만든다\n",
        "  - 사용자에게 횟수를 받아 그 횟수만큼 로또 번호를 생성한다."
      ],
      "metadata": {
        "id": "HwkU7bz9RTdJ"
      }
    },
    {
      "cell_type": "code",
      "execution_count": 8,
      "metadata": {
        "id": "9uYkg3yNM32D"
      },
      "outputs": [],
      "source": [
        "from random import shuffle,sample\n",
        "from time import sleep"
      ]
    },
    {
      "cell_type": "code",
      "source": [
        "# 책의 내용\n",
        "gamenum = input('로또 게임 횟수를 입력하세요.')\n",
        "\n",
        "for i in range(int(gamenum)):\n",
        "  balls = [x+1 for x in range(45)]\n",
        "  ret = []\n",
        "  for j in range(6):\n",
        "    shuffle(balls)\n",
        "    number = balls.pop()\n",
        "    ret.append(number)\n",
        "  ret.sort()\n",
        "  print(f\"로또번호[{i+1}]: {ret}\")\n",
        "  sleep(1)"
      ],
      "metadata": {
        "colab": {
          "base_uri": "https://localhost:8080/"
        },
        "id": "CKT0zdjeR9xf",
        "outputId": "570622f7-95d2-467b-cba6-4955b2b669b9"
      },
      "execution_count": 2,
      "outputs": [
        {
          "output_type": "stream",
          "name": "stdout",
          "text": [
            "로또 게임 횟수를 입력하세요.2\n",
            "로또번호[1]: [5, 17, 19, 23, 30, 32]\n",
            "로또번호[2]: [5, 9, 13, 25, 31, 39]\n"
          ]
        }
      ]
    },
    {
      "cell_type": "code",
      "source": [
        "# v1.자바로 만들었던 로또번호 생성기와 비슷하게 만들어봄.\n",
        "playnumber = int(input('로또 게임 횟수를 입력하세요.'))\n",
        "\n",
        "for i in range(playnumber):\n",
        "  lotto =[]\n",
        "  while len(lotto) < 6:\n",
        "    import random\n",
        "    number = random.randint(1,45)\n",
        "    if number not in lotto:\n",
        "      lotto.append(number)\n",
        "  lotto.sort()\n",
        "  print(f\"로또번호[{i+1}]: {lotto}\")\n",
        "  sleep(1)"
      ],
      "metadata": {
        "colab": {
          "base_uri": "https://localhost:8080/"
        },
        "id": "qM_frxkMS4k8",
        "outputId": "119e1f52-8292-40a8-92e7-b5426c92dfdf"
      },
      "execution_count": 5,
      "outputs": [
        {
          "output_type": "stream",
          "name": "stdout",
          "text": [
            "로또 게임 횟수를 입력하세요.2\n",
            "로또번호[1]: [2, 5, 18, 19, 22, 24]\n",
            "로또번호[2]: [6, 7, 23, 29, 33, 39]\n"
          ]
        }
      ]
    },
    {
      "cell_type": "code",
      "source": [
        "# v2. shuffle을 이용해서 배열을 잘라봄.\n",
        "playnumber = int(input('로또 게임 횟수를 입력하세요.'))\n",
        "\n",
        "for i in range(playnumber):\n",
        "  lotto_before = list(range(1,46))\n",
        "  shuffle(lotto_before)\n",
        "  lotto_after = lotto_before[:6]\n",
        "  lotto_after.sort()\n",
        "  print(f\"로또번호[{i+1}]:{lotto_after}\")\n",
        "  sleep(1)"
      ],
      "metadata": {
        "colab": {
          "base_uri": "https://localhost:8080/"
        },
        "id": "X3qJggj1TQ5b",
        "outputId": "d0392c62-8ca6-43b1-a5d1-889690b4cf5d"
      },
      "execution_count": 7,
      "outputs": [
        {
          "output_type": "stream",
          "name": "stdout",
          "text": [
            "로또 게임 횟수를 입력하세요.2\n",
            "로또번호[1]:[1, 4, 9, 17, 28, 41]\n",
            "로또번호[2]:[1, 3, 17, 26, 32, 40]\n"
          ]
        }
      ]
    },
    {
      "cell_type": "code",
      "source": [
        "#v3. random의 sample method를 보게됨\n",
        "playnumber = int(input(\"로또 게임 횟수를 입력하세요.\"))\n",
        "\n",
        "for i in range(playnumber):\n",
        "  lotto = sample(range(1,46),6)\n",
        "  lotto.sort()\n",
        "  print(f\"로또번호[{i+1}]:{lotto}\")\n",
        "  sleep(1)"
      ],
      "metadata": {
        "colab": {
          "base_uri": "https://localhost:8080/"
        },
        "id": "CmHRQxTWUFKQ",
        "outputId": "532c85df-c535-4275-a72a-872278b5701b"
      },
      "execution_count": 9,
      "outputs": [
        {
          "output_type": "stream",
          "name": "stdout",
          "text": [
            "로또 게임 횟수를 입력하세요.2\n",
            "로또번호[1]:[3, 5, 19, 29, 34, 39]\n",
            "로또번호[2]:[8, 23, 27, 34, 37, 42]\n"
          ]
        }
      ]
    },
    {
      "cell_type": "code",
      "source": [
        ""
      ],
      "metadata": {
        "id": "xPcOUwODU3e1"
      },
      "execution_count": null,
      "outputs": []
    }
  ]
}