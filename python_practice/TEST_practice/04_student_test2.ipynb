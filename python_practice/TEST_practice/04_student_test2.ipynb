{
  "nbformat": 4,
  "nbformat_minor": 0,
  "metadata": {
    "colab": {
      "provenance": [],
      "authorship_tag": "ABX9TyMsRB1rUcRBPMelc55ceRnC",
      "include_colab_link": true
    },
    "kernelspec": {
      "name": "python3",
      "display_name": "Python 3"
    },
    "language_info": {
      "name": "python"
    }
  },
  "cells": [
    {
      "cell_type": "markdown",
      "metadata": {
        "id": "view-in-github",
        "colab_type": "text"
      },
      "source": [
        "<a href=\"https://colab.research.google.com/github/hyemiJ/data-dynamics/blob/main/python_practice/04_student_test2.ipynb\" target=\"_parent\"><img src=\"https://colab.research.google.com/assets/colab-badge.svg\" alt=\"Open In Colab\"/></a>"
      ]
    },
    {
      "cell_type": "markdown",
      "source": [
        "#### 학생 성적 처리 예제\n",
        "다음의 조건을 만족하는 학생 성적 처리 프로그램을 작성한다.\n",
        "- 최소 4명 이상의 학생 정보가 담긴 기본 데이터를 사용한다.\n",
        "- 각 학생마다 이름, 국어, 수학, 영어점수가 포함되어야 한다.\n",
        "- 모든 데이터 처리는 가능한 리스트 컴프리헨션과 딕셔너리 컴프리헨션을 활용한다.\n",
        "\n",
        "프로그램은 다음의 기능을 수행해야한다.\n",
        "- 모든 학생의 평균 점수를 계산하고 출력한다 (소수점 첫째자리 반올림)\n",
        "- 각 학생 정보에 평균 점수를 추가한다.\n",
        "- 학생 이름과 평균 점수를 연결한 딕셔너리를 생성한다\n",
        "- 각 과목별 최고 득점자를 찾는다.\n",
        "- 각 과목별 학생의 등급을 매긴다.\n",
        "- 각 과목별 평균 점수를 계산한다.\n",
        "- 모든 과목에서 80점 이상을 받은 학생을 찾는다.\n",
        "\n",
        "출력 형식은 다음을 포함해야한다.\n",
        "- 모든 학생의 평균 점수 리스트\n",
        "- 이름과 평균 연결 딕셔너리\n",
        "- 수학 고득점자 명단\n",
        "- 과목별 최고 득점자 정보\n",
        "- 학생별 과목 등급 정보\n",
        "- 과목별 평균 점수\n",
        "- 전 과목 고득점자 명단"
      ],
      "metadata": {
        "id": "KMKj81IjGMy-"
      }
    },
    {
      "cell_type": "code",
      "execution_count": 1,
      "metadata": {
        "id": "MLzox4e5F-7Q"
      },
      "outputs": [],
      "source": [
        "students = {'sunny' :{'kor':100, 'eng': 50,'math': 70},\n",
        "            'dongho':{'kor': 60, 'eng': 90,'math': 90},\n",
        "            'minji' :{'kor': 90, 'eng':100,'math': 50},\n",
        "            'best'  :{'kor': 90, 'eng':100,'math':100},}"
      ]
    },
    {
      "cell_type": "code",
      "source": [
        "def get_avg(score_list):\n",
        "  \"\"\"\n",
        "  학생 평균을 산출합니다.\n",
        "  :param scorelist: (list) 과목들의 점수를 리스트 형태\n",
        "  :return:          float\n",
        "  \"\"\"\n",
        "  return round(sum(score_list)/len(score_list),1)"
      ],
      "metadata": {
        "id": "LwQk4unVGLBO"
      },
      "execution_count": 2,
      "outputs": []
    },
    {
      "cell_type": "code",
      "source": [
        "# 데이터 저장\n",
        "all_avg_list = []\n",
        "name_avg_dict = {}\n",
        "math_over_90 = []\n",
        "subject_best_dict ={}\n",
        "student_grade_dict ={}\n",
        "subject_avg_dict ={}\n",
        "all_over_80 =[]"
      ],
      "metadata": {
        "id": "a87iqOUffRYd"
      },
      "execution_count": 3,
      "outputs": []
    },
    {
      "cell_type": "code",
      "source": [
        "# 전체 학생들의 평균 리스트\n",
        "all_avg_list= [get_avg(data.values()) for data in students.values()]"
      ],
      "metadata": {
        "id": "Jr-LezVKgc51"
      },
      "execution_count": 33,
      "outputs": []
    },
    {
      "cell_type": "code",
      "source": [
        "# 학생들의 평균 dict\n",
        "name_avg_dict = {name :get_avg(data.values()) for name,data in students.items()}"
      ],
      "metadata": {
        "id": "D2TXCdUuhSYW"
      },
      "execution_count": 34,
      "outputs": []
    },
    {
      "cell_type": "code",
      "source": [
        "# 수학 90점 이상 학생 list\n",
        "math_over_90 = [name for name, data in students.items() if data['math']>=90]"
      ],
      "metadata": {
        "colab": {
          "base_uri": "https://localhost:8080/"
        },
        "id": "O6OULiRBhvXW",
        "outputId": "09470fcd-a1f6-4264-f4ad-d10f107e5fed"
      },
      "execution_count": 7,
      "outputs": [
        {
          "output_type": "stream",
          "name": "stdout",
          "text": [
            "['dongho', 'best']\n"
          ]
        }
      ]
    },
    {
      "cell_type": "code",
      "source": [
        "# 과목별 최고점 학생 dict 및 과목별 평균 dict\n",
        "subjects = [subject for subject in students['sunny'].keys()]\n",
        "\n",
        "for subject in subjects :\n",
        "  subject_data = [data[subject] for data in students.values()]\n",
        "  subject_best_dict[subject] = [name for name, score in students.items() if max(subject_data) == score[subject]]\n",
        "  subject_avg_dict[subject] = get_avg(subject_data)"
      ],
      "metadata": {
        "id": "2F3KSNuOiNK_"
      },
      "execution_count": 36,
      "outputs": []
    },
    {
      "cell_type": "code",
      "source": [
        "def find_grade(score_list) :\n",
        "  \"\"\"\n",
        "  학생 점수의 리스트를 통해 등급 리스트를 반환합니다.\n",
        "  :param score_list: (list) 과목들의 점수를 리스트의 형태\n",
        "  :return:          list\n",
        "  \"\"\"\n",
        "  grade_list=[]\n",
        "  for score in score_list:\n",
        "    if score >= 90 : grade_list.append('A')\n",
        "    elif score >= 80 : grade_list.append('B')\n",
        "    elif score >= 70 : grade_list.append('C')\n",
        "    elif score >= 60 : grade_list.append('D')\n",
        "    else : grade_list.append('F')\n",
        "  return grade_list"
      ],
      "metadata": {
        "id": "BemSsx6VisWH"
      },
      "execution_count": 25,
      "outputs": []
    },
    {
      "cell_type": "code",
      "source": [
        "# 학생별 등급 dict\n",
        "student_grade_dict = {name : find_grade(score.values()) for name, score in students.items()}"
      ],
      "metadata": {
        "id": "HanICDHRmgie"
      },
      "execution_count": 37,
      "outputs": []
    },
    {
      "cell_type": "code",
      "source": [
        "# 전체 80점 이상자 list\n",
        "all_over_80 = [name for name, score in student_grade_dict.items() if all(s in ['A','B'] for s in score) ]"
      ],
      "metadata": {
        "id": "hMmRUD8onrCo"
      },
      "execution_count": 38,
      "outputs": []
    },
    {
      "cell_type": "code",
      "source": [
        "# 모든 학생의 평균 점수 리스트\n",
        "print('평균 리스트', all_avg_list)\n",
        "\n",
        "# 이름과 평균 연결 딕셔너리\n",
        "print('이름-평균',name_avg_dict)\n",
        "\n",
        "# 수학 고득점자 명단\n",
        "print('수학 고득점자',math_over_90)\n",
        "\n",
        "# 과목별 최고 득점자 정보\n",
        "print('과목별 최고 득점자',subject_best_dict)\n",
        "\n",
        "# 학생별 과목 등급 정보\n",
        "print('학생별 과목 등급',student_grade_dict)\n",
        "\n",
        "# 과목별 평균 점수\n",
        "print('과목별 평균 점수',subject_avg_dict)\n",
        "\n",
        "# 전 과목 고득점자 명단\n",
        "print('전 과목 우수자',all_over_80)"
      ],
      "metadata": {
        "colab": {
          "base_uri": "https://localhost:8080/"
        },
        "id": "tZSz2wKpqQC2",
        "outputId": "9643e869-5cfe-4c78-ff82-47ab3de4448b"
      },
      "execution_count": 45,
      "outputs": [
        {
          "output_type": "stream",
          "name": "stdout",
          "text": [
            "평균 리스트 [73.3, 80.0, 80.0, 96.7]\n",
            "이름-평균 {'sunny': 73.3, 'dongho': 80.0, 'minji': 80.0, 'best': 96.7}\n",
            "수학 고득점자 ['dongho', 'best']\n",
            "과목별 최고 득점자 {'kor': ['sunny'], 'eng': ['minji', 'best'], 'math': ['best']}\n",
            "학생별 과목 등급 {'sunny': ['A', 'F', 'C'], 'dongho': ['D', 'A', 'A'], 'minji': ['A', 'A', 'F'], 'best': ['A', 'A', 'A']}\n",
            "과목별 평균 점수 {'kor': 85.0, 'eng': 85.0, 'math': 77.5}\n",
            "전 과목 우수자 ['best']\n"
          ]
        }
      ]
    },
    {
      "cell_type": "code",
      "source": [],
      "metadata": {
        "id": "MJJVwSdItrMK"
      },
      "execution_count": null,
      "outputs": []
    }
  ]
}