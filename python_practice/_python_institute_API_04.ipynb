{
 "nbformat": 4,
 "nbformat_minor": 0,
 "metadata": {
  "colab": {
   "provenance": [],
   "authorship_tag": "ABX9TyPjLFbvClOsix2qsJ9pZvLK",
   "include_colab_link": true
  },
  "kernelspec": {
   "name": "python3",
   "display_name": "Python 3"
  },
  "language_info": {
   "name": "python"
  }
 },
 "cells": [
  {
   "cell_type": "markdown",
   "metadata": {
    "id": "view-in-github",
    "colab_type": "text"
   },
   "source": [
    "<a href=\"https://colab.research.google.com/github/hyemiJ/data-dynamics/blob/main/python_practice/_python_institute_API_04.ipynb\" target=\"_parent\"><img src=\"https://colab.research.google.com/assets/colab-badge.svg\" alt=\"Open In Colab\"/></a>"
   ]
  },
  {
   "cell_type": "code",
   "execution_count": null,
   "metadata": {
    "id": "_4sKcEwXpswJ"
   },
   "outputs": [],
   "source": [
    "# json server"
   ]
  },
  {
   "cell_type": "code",
   "source": [
    "!node -v"
   ],
   "metadata": {
    "colab": {
     "base_uri": "https://localhost:8080/"
    },
    "id": "_R8QShwnqKfV",
    "outputId": "6efd4e1d-9175-405a-a1cf-87905825e75d"
   },
   "execution_count": null,
   "outputs": [
    {
     "output_type": "stream",
     "name": "stdout",
     "text": [
      "v12.22.9\n"
     ]
    }
   ]
  },
  {
   "cell_type": "code",
   "source": [
    "!npm -v"
   ],
   "metadata": {
    "colab": {
     "base_uri": "https://localhost:8080/"
    },
    "id": "Dih8y8RmqcCF",
    "outputId": "5204f458-3336-41b1-c665-7f376a5a18f3"
   },
   "execution_count": null,
   "outputs": [
    {
     "output_type": "stream",
     "name": "stdout",
     "text": [
      "8.5.1\n"
     ]
    }
   ]
  },
  {
   "cell_type": "code",
   "source": [
    "import json,os\n",
    "\n",
    "# Python 딕셔너리 및 리스트로 데이터 구성\n",
    "cars_data = {\n",
    "    \"cars\": [\n",
    "        {\n",
    "            \"id\": 1,\n",
    "            \"brand\": \"Ford\",\n",
    "            \"model\": \"Mustang\",\n",
    "            \"production_year\": 1972,\n",
    "            \"price\": {\n",
    "                \"currency\": \"USD\",\n",
    "                \"value\": 35900\n",
    "            }\n",
    "        },\n",
    "        {\n",
    "            \"id\": 2,\n",
    "            \"brand\": \"Aston Martin\",\n",
    "            \"model\": \"Rapide\",\n",
    "            \"production_year\": 2010,\n",
    "            \"price\": {\n",
    "                \"currency\": \"GBP\",\n",
    "                \"value\": 32000\n",
    "            }\n",
    "        },\n",
    "        {\n",
    "            \"id\": 3,\n",
    "            \"brand\": \"Audi\",\n",
    "            \"model\": \"A4\",\n",
    "            \"production_year\": 2018,\n",
    "            \"price\": {\n",
    "                \"currency\": \"EUR\",\n",
    "                \"value\": 45000\n",
    "            }\n",
    "        },\n",
    "        {\n",
    "            \"id\": 4,\n",
    "            \"brand\": \"Tesla\",\n",
    "            \"model\": \"Model S\",\n",
    "            \"production_year\": 2020,\n",
    "            \"price\": {\n",
    "                \"currency\": \"USD\",\n",
    "                \"value\": 70000\n",
    "            }\n",
    "        },\n",
    "        {\n",
    "            \"id\": 5,\n",
    "            \"brand\": \"BMW\",\n",
    "            \"model\": \"M3\",\n",
    "            \"production_year\": 2022,\n",
    "            \"price\": {\n",
    "                \"currency\": \"EUR\",\n",
    "                \"value\": 80000\n",
    "            }\n",
    "        }\n",
    "    ]\n",
    "}\n",
    "\n",
    "# JSON 파일로 저장\n",
    "\n",
    "# 저장할 디렉토리 경로 정의\n",
    "output_dir = 'resources'\n",
    "output_file_path = os.path.join(output_dir, 'cars.json')\n",
    "\n",
    "# indent=4는 가독성을 위해 들여쓰기를 4칸으로 설정\n",
    "with open(output_file_path, 'w', encoding='utf-8') as f:\n",
    "    json.dump(cars_data, f, indent=4, ensure_ascii=False)\n",
    "\n",
    "print(\"cars.json 파일이 성공적으로 생성되었습니다.\")\n",
    "\n",
    "# 생성된 JSON 파일 내용 확인\n",
    "try:\n",
    "    with open(output_file_path, 'r', encoding='utf-8') as f:\n",
    "        print(\"\\n--- cars.json 내용 ---\")\n",
    "        print(f.read())\n",
    "        print(\"--------------------\")\n",
    "except FileNotFoundError:\n",
    "    print(f\"오류: '{output_file_path}' 파일을 찾을 수 없습니다. 경로를 다시 확인해주세요.\")\n",
    "except Exception as e:\n",
    "    print(f\"파일을 읽는 중 오류 발생: {e}\")"
   ],
   "metadata": {
    "colab": {
     "base_uri": "https://localhost:8080/"
    },
    "id": "l9_8UUccqgY0",
    "outputId": "672789de-47aa-4571-c9fe-54998d34903a",
    "ExecuteTime": {
     "end_time": "2025-07-13T13:50:08.291422Z",
     "start_time": "2025-07-13T13:50:08.282207Z"
    }
   },
   "outputs": [
    {
     "name": "stdout",
     "output_type": "stream",
     "text": [
      "cars.json 파일이 성공적으로 생성되었습니다.\n",
      "\n",
      "--- cars.json 내용 ---\n",
      "{\n",
      "    \"cars\": [\n",
      "        {\n",
      "            \"id\": 1,\n",
      "            \"brand\": \"Ford\",\n",
      "            \"model\": \"Mustang\",\n",
      "            \"production_year\": 1972,\n",
      "            \"price\": {\n",
      "                \"currency\": \"USD\",\n",
      "                \"value\": 35900\n",
      "            }\n",
      "        },\n",
      "        {\n",
      "            \"id\": 2,\n",
      "            \"brand\": \"Aston Martin\",\n",
      "            \"model\": \"Rapide\",\n",
      "            \"production_year\": 2010,\n",
      "            \"price\": {\n",
      "                \"currency\": \"GBP\",\n",
      "                \"value\": 32000\n",
      "            }\n",
      "        },\n",
      "        {\n",
      "            \"id\": 3,\n",
      "            \"brand\": \"Audi\",\n",
      "            \"model\": \"A4\",\n",
      "            \"production_year\": 2018,\n",
      "            \"price\": {\n",
      "                \"currency\": \"EUR\",\n",
      "                \"value\": 45000\n",
      "            }\n",
      "        },\n",
      "        {\n",
      "            \"id\": 4,\n",
      "            \"brand\": \"Tesla\",\n",
      "            \"model\": \"Model S\",\n",
      "            \"production_year\": 2020,\n",
      "            \"price\": {\n",
      "                \"currency\": \"USD\",\n",
      "                \"value\": 70000\n",
      "            }\n",
      "        },\n",
      "        {\n",
      "            \"id\": 5,\n",
      "            \"brand\": \"BMW\",\n",
      "            \"model\": \"M3\",\n",
      "            \"production_year\": 2022,\n",
      "            \"price\": {\n",
      "                \"currency\": \"EUR\",\n",
      "                \"value\": 80000\n",
      "            }\n",
      "        }\n",
      "    ]\n",
      "}\n",
      "--------------------\n"
     ]
    }
   ],
   "execution_count": 1
  },
  {
   "metadata": {
    "ExecuteTime": {
     "end_time": "2025-07-13T13:53:48.356987Z",
     "start_time": "2025-07-13T13:53:48.352653Z"
    }
   },
   "cell_type": "code",
   "source": [
    "#netstat -ano | findstr :3000\n",
    "#taskkill /PID 17292 /F"
   ],
   "outputs": [],
   "execution_count": 1
  },
  {
   "cell_type": "code",
   "source": "!json-server --watch resources/cars.json",
   "metadata": {
    "colab": {
     "base_uri": "https://localhost:8080/"
    },
    "id": "aynrvJVmq5Rh",
    "outputId": "24345dce-5616-48a4-d152-01c5000cb2b5",
    "ExecuteTime": {
     "end_time": "2025-07-13T14:02:42.238517Z",
     "start_time": "2025-07-13T13:55:32.500674Z"
    }
   },
   "outputs": [
    {
     "name": "stdout",
     "output_type": "stream",
     "text": [
      "^C\n"
     ]
    }
   ],
   "execution_count": 3
  },
  {
   "cell_type": "code",
   "source": [
    "#requests"
   ],
   "metadata": {
    "id": "mT3GoFE5rLPB"
   },
   "execution_count": null,
   "outputs": []
  },
  {
   "cell_type": "code",
   "source": [
    "import requests\n",
    "\n",
    "response = requests.get('https://www.google.com')\n",
    "print(response.status_code)"
   ],
   "metadata": {
    "colab": {
     "base_uri": "https://localhost:8080/"
    },
    "id": "eyL3M1EuruoA",
    "outputId": "482fbe30-084a-4c81-b35f-aafe35ab4503"
   },
   "execution_count": null,
   "outputs": [
    {
     "output_type": "stream",
     "name": "stdout",
     "text": [
      "200\n"
     ]
    }
   ]
  },
  {
   "cell_type": "code",
   "source": [
    "# 응답 코드 확인\n",
    "print(requests.codes.__dict__)"
   ],
   "metadata": {
    "colab": {
     "base_uri": "https://localhost:8080/"
    },
    "id": "EPPYPJZRuqpE",
    "outputId": "a278f22b-eac7-4909-fede-1759ae99fc39"
   },
   "execution_count": null,
   "outputs": [
    {
     "output_type": "stream",
     "name": "stdout",
     "text": [
      "{'name': 'status_codes', 'continue': 100, 'CONTINUE': 100, 'switching_protocols': 101, 'SWITCHING_PROTOCOLS': 101, 'processing': 102, 'PROCESSING': 102, 'early-hints': 102, 'EARLY-HINTS': 102, 'checkpoint': 103, 'CHECKPOINT': 103, 'uri_too_long': 414, 'URI_TOO_LONG': 414, 'request_uri_too_long': 122, 'REQUEST_URI_TOO_LONG': 122, 'ok': 200, 'OK': 200, 'okay': 200, 'OKAY': 200, 'all_ok': 200, 'ALL_OK': 200, 'all_okay': 200, 'ALL_OKAY': 200, 'all_good': 200, 'ALL_GOOD': 200, '\\\\o/': 200, '✓': 200, 'created': 201, 'CREATED': 201, 'accepted': 202, 'ACCEPTED': 202, 'non_authoritative_info': 203, 'NON_AUTHORITATIVE_INFO': 203, 'non_authoritative_information': 203, 'NON_AUTHORITATIVE_INFORMATION': 203, 'no_content': 204, 'NO_CONTENT': 204, 'reset_content': 205, 'RESET_CONTENT': 205, 'reset': 205, 'RESET': 205, 'partial_content': 206, 'PARTIAL_CONTENT': 206, 'partial': 206, 'PARTIAL': 206, 'multi_status': 207, 'MULTI_STATUS': 207, 'multiple_status': 207, 'MULTIPLE_STATUS': 207, 'multi_stati': 207, 'MULTI_STATI': 207, 'multiple_stati': 207, 'MULTIPLE_STATI': 207, 'already_reported': 208, 'ALREADY_REPORTED': 208, 'im_used': 226, 'IM_USED': 226, 'multiple_choices': 300, 'MULTIPLE_CHOICES': 300, 'moved_permanently': 301, 'MOVED_PERMANENTLY': 301, 'moved': 301, 'MOVED': 301, '\\\\o-': 301, 'found': 302, 'FOUND': 302, 'see_other': 303, 'SEE_OTHER': 303, 'other': 303, 'OTHER': 303, 'not_modified': 304, 'NOT_MODIFIED': 304, 'use_proxy': 305, 'USE_PROXY': 305, 'switch_proxy': 306, 'SWITCH_PROXY': 306, 'temporary_redirect': 307, 'TEMPORARY_REDIRECT': 307, 'temporary_moved': 307, 'TEMPORARY_MOVED': 307, 'temporary': 307, 'TEMPORARY': 307, 'permanent_redirect': 308, 'PERMANENT_REDIRECT': 308, 'resume_incomplete': 308, 'RESUME_INCOMPLETE': 308, 'resume': 308, 'RESUME': 308, 'bad_request': 400, 'BAD_REQUEST': 400, 'bad': 400, 'BAD': 400, 'unauthorized': 401, 'UNAUTHORIZED': 401, 'payment_required': 402, 'PAYMENT_REQUIRED': 402, 'payment': 402, 'PAYMENT': 402, 'forbidden': 403, 'FORBIDDEN': 403, 'not_found': 404, 'NOT_FOUND': 404, '-o-': 404, '-O-': 404, 'method_not_allowed': 405, 'METHOD_NOT_ALLOWED': 405, 'not_allowed': 405, 'NOT_ALLOWED': 405, 'not_acceptable': 406, 'NOT_ACCEPTABLE': 406, 'proxy_authentication_required': 407, 'PROXY_AUTHENTICATION_REQUIRED': 407, 'proxy_auth': 407, 'PROXY_AUTH': 407, 'proxy_authentication': 407, 'PROXY_AUTHENTICATION': 407, 'request_timeout': 408, 'REQUEST_TIMEOUT': 408, 'timeout': 408, 'TIMEOUT': 408, 'conflict': 409, 'CONFLICT': 409, 'gone': 410, 'GONE': 410, 'length_required': 411, 'LENGTH_REQUIRED': 411, 'precondition_failed': 412, 'PRECONDITION_FAILED': 412, 'precondition': 428, 'PRECONDITION': 428, 'request_entity_too_large': 413, 'REQUEST_ENTITY_TOO_LARGE': 413, 'content_too_large': 413, 'CONTENT_TOO_LARGE': 413, 'request_uri_too_large': 414, 'REQUEST_URI_TOO_LARGE': 414, 'unsupported_media_type': 415, 'UNSUPPORTED_MEDIA_TYPE': 415, 'unsupported_media': 415, 'UNSUPPORTED_MEDIA': 415, 'media_type': 415, 'MEDIA_TYPE': 415, 'requested_range_not_satisfiable': 416, 'REQUESTED_RANGE_NOT_SATISFIABLE': 416, 'requested_range': 416, 'REQUESTED_RANGE': 416, 'range_not_satisfiable': 416, 'RANGE_NOT_SATISFIABLE': 416, 'expectation_failed': 417, 'EXPECTATION_FAILED': 417, 'im_a_teapot': 418, 'IM_A_TEAPOT': 418, 'teapot': 418, 'TEAPOT': 418, 'i_am_a_teapot': 418, 'I_AM_A_TEAPOT': 418, 'misdirected_request': 421, 'MISDIRECTED_REQUEST': 421, 'unprocessable_entity': 422, 'UNPROCESSABLE_ENTITY': 422, 'unprocessable': 422, 'UNPROCESSABLE': 422, 'unprocessable_content': 422, 'UNPROCESSABLE_CONTENT': 422, 'locked': 423, 'LOCKED': 423, 'failed_dependency': 424, 'FAILED_DEPENDENCY': 424, 'dependency': 424, 'DEPENDENCY': 424, 'unordered_collection': 425, 'UNORDERED_COLLECTION': 425, 'unordered': 425, 'UNORDERED': 425, 'too_early': 425, 'TOO_EARLY': 425, 'upgrade_required': 426, 'UPGRADE_REQUIRED': 426, 'upgrade': 426, 'UPGRADE': 426, 'precondition_required': 428, 'PRECONDITION_REQUIRED': 428, 'too_many_requests': 429, 'TOO_MANY_REQUESTS': 429, 'too_many': 429, 'TOO_MANY': 429, 'header_fields_too_large': 431, 'HEADER_FIELDS_TOO_LARGE': 431, 'fields_too_large': 431, 'FIELDS_TOO_LARGE': 431, 'no_response': 444, 'NO_RESPONSE': 444, 'none': 444, 'NONE': 444, 'retry_with': 449, 'RETRY_WITH': 449, 'retry': 449, 'RETRY': 449, 'blocked_by_windows_parental_controls': 450, 'BLOCKED_BY_WINDOWS_PARENTAL_CONTROLS': 450, 'parental_controls': 450, 'PARENTAL_CONTROLS': 450, 'unavailable_for_legal_reasons': 451, 'UNAVAILABLE_FOR_LEGAL_REASONS': 451, 'legal_reasons': 451, 'LEGAL_REASONS': 451, 'client_closed_request': 499, 'CLIENT_CLOSED_REQUEST': 499, 'internal_server_error': 500, 'INTERNAL_SERVER_ERROR': 500, 'server_error': 500, 'SERVER_ERROR': 500, '/o\\\\': 500, '✗': 500, 'not_implemented': 501, 'NOT_IMPLEMENTED': 501, 'bad_gateway': 502, 'BAD_GATEWAY': 502, 'service_unavailable': 503, 'SERVICE_UNAVAILABLE': 503, 'unavailable': 503, 'UNAVAILABLE': 503, 'gateway_timeout': 504, 'GATEWAY_TIMEOUT': 504, 'http_version_not_supported': 505, 'HTTP_VERSION_NOT_SUPPORTED': 505, 'http_version': 505, 'HTTP_VERSION': 505, 'variant_also_negotiates': 506, 'VARIANT_ALSO_NEGOTIATES': 506, 'insufficient_storage': 507, 'INSUFFICIENT_STORAGE': 507, 'bandwidth_limit_exceeded': 509, 'BANDWIDTH_LIMIT_EXCEEDED': 509, 'bandwidth': 509, 'BANDWIDTH': 509, 'not_extended': 510, 'NOT_EXTENDED': 510, 'network_authentication_required': 511, 'NETWORK_AUTHENTICATION_REQUIRED': 511, 'network_auth': 511, 'NETWORK_AUTH': 511, 'network_authentication': 511, 'NETWORK_AUTHENTICATION': 511}\n"
     ]
    }
   ]
  },
  {
   "cell_type": "code",
   "source": [
    "#응답 코드 비교\n",
    "if response.status_code == requests.codes.ok:\n",
    "    print('정상입니다.')\n",
    "else:\n",
    "    print('문제가 생겼습니다.', response.status_code)"
   ],
   "metadata": {
    "colab": {
     "base_uri": "https://localhost:8080/"
    },
    "id": "BWLIYfQYvDm7",
    "outputId": "c17d510f-f230-4e76-d15e-ef1e07a08c4d"
   },
   "execution_count": null,
   "outputs": [
    {
     "output_type": "stream",
     "name": "stdout",
     "text": [
      "정상입니다.\n"
     ]
    }
   ]
  },
  {
   "cell_type": "code",
   "source": [
    "#requests.get()을 통해 얻은 응답 객체 확인하기\n",
    "print(type(response))"
   ],
   "metadata": {
    "colab": {
     "base_uri": "https://localhost:8080/"
    },
    "id": "Cf7Oj5oxsPyZ",
    "outputId": "c03087e8-b2a9-450d-82cc-cc7041fa212c"
   },
   "execution_count": null,
   "outputs": [
    {
     "output_type": "stream",
     "name": "stdout",
     "text": [
      "<class 'requests.models.Response'>\n"
     ]
    }
   ]
  },
  {
   "cell_type": "code",
   "source": [
    "print(response.headers)"
   ],
   "metadata": {
    "colab": {
     "base_uri": "https://localhost:8080/"
    },
    "id": "Dzd9jVhQufIG",
    "outputId": "62373c36-7513-49ac-f13d-9564a517b809"
   },
   "execution_count": null,
   "outputs": [
    {
     "output_type": "stream",
     "name": "stdout",
     "text": [
      "{'Date': 'Fri, 11 Jul 2025 04:24:02 GMT', 'Expires': '-1', 'Cache-Control': 'private, max-age=0', 'Content-Type': 'text/html; charset=ISO-8859-1', 'Content-Security-Policy-Report-Only': \"object-src 'none';base-uri 'self';script-src 'nonce-W18rwuqPS_SMNvxQC3i0ug' 'strict-dynamic' 'report-sample' 'unsafe-eval' 'unsafe-inline' https: http:;report-uri https://csp.withgoogle.com/csp/gws/other-hp\", 'Accept-CH': 'Sec-CH-Prefers-Color-Scheme', 'P3P': 'CP=\"This is not a P3P policy! See g.co/p3phelp for more info.\"', 'Content-Encoding': 'gzip', 'Server': 'gws', 'X-XSS-Protection': '0', 'X-Frame-Options': 'SAMEORIGIN', 'Set-Cookie': 'AEC=AVh_V2iDTEkL0FgpcG3EDMFvSaslrq-a6goMtRSLo7McbIbDM2pfy6ApGw; expires=Wed, 07-Jan-2026 04:24:02 GMT; path=/; domain=.google.com; Secure; HttpOnly; SameSite=lax, NID=525=JYnthdDY5QTHvadtT0VRQ9aCgCALvJHYPSXDkKNcYIVJgDanpi5ljmEHJ1Kv52QgwMTAFNXptdEaLCqeFRuorIoxppfWxuNDvH06c8sKdml10MUzLHCfZGDewHJX7BPAJIRb4L5YAp9uGXNd3RZ_hXCgFEd_Ye7e7mhlZ09u9Q8711xTX8N7dN4ohGA6Vm3fp0ofBgw3msCvUwo4pabnvETd; expires=Sat, 10-Jan-2026 04:24:02 GMT; path=/; domain=.google.com; HttpOnly', 'Transfer-Encoding': 'chunked'}\n"
     ]
    }
   ]
  },
  {
   "cell_type": "code",
   "source": [
    "headers = response.headers\n",
    "\n",
    "for key, value in headers.items():\n",
    "  print(f\"-- {key} : {value}\")"
   ],
   "metadata": {
    "colab": {
     "base_uri": "https://localhost:8080/"
    },
    "id": "APufYzM8vnD6",
    "outputId": "65738f65-e60b-448e-ad5e-09da3b653942"
   },
   "execution_count": null,
   "outputs": [
    {
     "output_type": "stream",
     "name": "stdout",
     "text": [
      "-- Date : Fri, 11 Jul 2025 04:24:02 GMT\n",
      "-- Expires : -1\n",
      "-- Cache-Control : private, max-age=0\n",
      "-- Content-Type : text/html; charset=ISO-8859-1\n",
      "-- Content-Security-Policy-Report-Only : object-src 'none';base-uri 'self';script-src 'nonce-W18rwuqPS_SMNvxQC3i0ug' 'strict-dynamic' 'report-sample' 'unsafe-eval' 'unsafe-inline' https: http:;report-uri https://csp.withgoogle.com/csp/gws/other-hp\n",
      "-- Accept-CH : Sec-CH-Prefers-Color-Scheme\n",
      "-- P3P : CP=\"This is not a P3P policy! See g.co/p3phelp for more info.\"\n",
      "-- Content-Encoding : gzip\n",
      "-- Server : gws\n",
      "-- X-XSS-Protection : 0\n",
      "-- X-Frame-Options : SAMEORIGIN\n",
      "-- Set-Cookie : AEC=AVh_V2iDTEkL0FgpcG3EDMFvSaslrq-a6goMtRSLo7McbIbDM2pfy6ApGw; expires=Wed, 07-Jan-2026 04:24:02 GMT; path=/; domain=.google.com; Secure; HttpOnly; SameSite=lax, NID=525=JYnthdDY5QTHvadtT0VRQ9aCgCALvJHYPSXDkKNcYIVJgDanpi5ljmEHJ1Kv52QgwMTAFNXptdEaLCqeFRuorIoxppfWxuNDvH06c8sKdml10MUzLHCfZGDewHJX7BPAJIRb4L5YAp9uGXNd3RZ_hXCgFEd_Ye7e7mhlZ09u9Q8711xTX8N7dN4ohGA6Vm3fp0ofBgw3msCvUwo4pabnvETd; expires=Sat, 10-Jan-2026 04:24:02 GMT; path=/; domain=.google.com; HttpOnly\n",
      "-- Transfer-Encoding : chunked\n"
     ]
    }
   ]
  },
  {
   "cell_type": "code",
   "source": [
    "content_type = response.headers['Content-Type']\n",
    "print(content_type)"
   ],
   "metadata": {
    "colab": {
     "base_uri": "https://localhost:8080/"
    },
    "id": "Ytwtu9evwKXc",
    "outputId": "92af2f98-a673-4822-f886-f37f7ac16ccf"
   },
   "execution_count": null,
   "outputs": [
    {
     "output_type": "stream",
     "name": "stdout",
     "text": [
      "text/html; charset=ISO-8859-1\n"
     ]
    }
   ]
  },
  {
   "cell_type": "code",
   "source": [
    "text = response.text\n",
    "\n",
    "print(text)"
   ],
   "metadata": {
    "colab": {
     "base_uri": "https://localhost:8080/"
    },
    "id": "feCESv1owntN",
    "outputId": "cfe2eb35-cf86-4c8b-9224-bdfc0087eba2"
   },
   "execution_count": null,
   "outputs": [
    {
     "output_type": "stream",
     "name": "stdout",
     "text": [
      "<!doctype html><html itemscope=\"\" itemtype=\"http://schema.org/WebPage\" lang=\"en\"><head><meta content=\"Search the world's information, including webpages, images, videos and more. Google has many special features to help you find exactly what you're looking for.\" name=\"description\"><meta content=\"noodp, \" name=\"robots\"><meta content=\"text/html; charset=UTF-8\" http-equiv=\"Content-Type\"><meta content=\"/images/branding/googleg/1x/googleg_standard_color_128dp.png\" itemprop=\"image\"><title>Google</title><script nonce=\"W18rwuqPS_SMNvxQC3i0ug\">(function(){var _g={kEI:'4pFwaJmWCP7k5NoP6brOuAE',kEXPI:'0,202792,62,2,3497436,650,442,538661,48791,46127,78218,266578,247319,42725,5230292,11389,5988647,30823996,25228681,123988,14280,14115,11942,45183,5382,2656,3438,3319,23879,9138,4600,328,6225,50576,13589,15049,8210,863,1,2,2420,4134,30380,28333,48241,4713,1259,352,18880,5870,3100,4607,7,5774,16794,3206,7611,4719,11805,3261,2990,28,7,1,1293,2126,2863,1,5970,4649,2361,80,9667,5683,3604,11409,6356,7,1,2729,1863,1,12,1601,2955,1328,2,6042,1608,489,650,4222,1,4,1487,3314,2081,337,3874,929,808,277,5,3334,1223,1,3459,2,82,135,1081,132,1628,4,1130,3,4,480,763,127,600,1033,946,6,627,3286,1219,352,380,2331,3,1261,265,115,1031,1328,2,1,2,637,439,322,169,1457,2646,98,5,4,1,321,5102,249,418,34,60,49,1214,540,443,7,38,116,2887,699,954,15,77,1813,810,475,481,806,159,3,2,2,2,1331,855,4,1129,2046,276,611,4,106,629,99,1078,1,2,288,1,42,850,1508,1206,1348,419,3480,1,1103,1554,311,98,485,723,71,55,294,242,1,2,1380,31,84,20,1397,2,155,215,24,12,12,24,271,958,527,294,144,1263,470,667,10,93,717,513,2,460,571,439,6,119,2,345,14,25,963,5,2,375,130,220,83,35,15,179,81,153,175,106,173,3,211,1,520,17,5,5,364,1,710,115,220,229,45,5,22,9,2,481,494,2,38,253,21,1421,194,133,1472,977,53,1085,89,390,3,9,1,449,1362,148,581,1,1,1,152,17,734,788,721,2,793,7,8,29,713,155,90,58,129,7,111,11,136,244,88,118,5,50,62,398,126,90,104,13,2,34,212,947,118,490,3,135,92,256,1,1,1,44,63,60,350,1245,23,16,3,601,1713,3,3,115,445,175,11,9,34,655,362,61,1977,88,10,785,1140,2206,96,448,510,1902,1127,1,134,21211972,1717,7635,5,2992,4,2960,3,1307,3026,15,4143,2,1813,894,1020,276,3,107,431,1019,434,1291,749,1086,66,968,3626167,4864736,28046,161011',kBL:'ViGJ',kOPI:89978449};(function(){var a;((a=window.google)==null?0:a.stvsc)?google.kEI=_g.kEI:window.google=_g;}).call(this);})();(function(){google.sn='webhp';google.kHL='en';})();(function(){\n",
      "var g=this||self;function k(){return window.google&&window.google.kOPI||null};var l,m=[];function n(a){for(var b;a&&(!a.getAttribute||!(b=a.getAttribute(\"eid\")));)a=a.parentNode;return b||l}function p(a){for(var b=null;a&&(!a.getAttribute||!(b=a.getAttribute(\"leid\")));)a=a.parentNode;return b}function q(a){/^http:/i.test(a)&&window.location.protocol===\"https:\"&&(google.ml&&google.ml(Error(\"a\"),!1,{src:a,glmm:1}),a=\"\");return a}\n",
      "function r(a,b,d,c,h){var e=\"\";b.search(\"&ei=\")===-1&&(e=\"&ei=\"+n(c),b.search(\"&lei=\")===-1&&(c=p(c))&&(e+=\"&lei=\"+c));var f=b.search(\"&cshid=\")===-1&&a!==\"slh\";c=\"&zx=\"+Date.now().toString();g._cshid&&f&&(c+=\"&cshid=\"+g._cshid);(d=d())&&(c+=\"&opi=\"+d);return\"/\"+(h||\"gen_204\")+\"?atyp=i&ct=\"+String(a)+\"&cad=\"+(b+e+c)};l=google.kEI;google.getEI=n;google.getLEI=p;google.ml=function(){return null};google.log=function(a,b,d,c,h,e){e=e===void 0?k:e;d||(d=r(a,b,e,c,h));if(d=q(d)){a=new Image;var f=m.length;m[f]=a;a.onerror=a.onload=a.onabort=function(){delete m[f]};a.src=d}};google.logUrl=function(a,b){b=b===void 0?k:b;return r(\"\",a,b)};}).call(this);(function(){google.y={};google.sy={};function e(a,b,c){if(a)var d=a.id;else{do d=Math.random();while(c[d])}c[d]=[a,b]}var f;(f=google).x||(f.x=function(a,b){e(a,b,google.y)});var g;(g=google).sx||(g.sx=function(a,b){e(a,b,google.sy)});google.lm=[];var h;(h=google).plm||(h.plm=function(a){google.lm.push.apply(google.lm,a)});google.lq=[];var k;(k=google).load||(k.load=function(a,b,c){google.lq.push([[a],b,c])});var l;(l=google).loadAll||(l.loadAll=function(a,b){google.lq.push([a,b])});google.bx=!1;var m;(m=google).lx||(m.lx=function(){});var n=[],p;(p=google).fce||(p.fce=function(a,b,c,d){n.push([a,b,c,d])});google.qce=n;}).call(this);google.f={};(function(){\n",
      "document.documentElement.addEventListener(\"submit\",function(b){var a;if(a=b.target){var c=a.getAttribute(\"data-submitfalse\");a=c===\"1\"||c===\"q\"&&!a.elements.q.value?!0:!1}else a=!1;a&&(b.preventDefault(),b.stopPropagation())},!0);document.documentElement.addEventListener(\"click\",function(b){var a;a:{for(a=b.target;a&&a!==document.documentElement;a=a.parentElement)if(a.tagName===\"A\"){a=a.getAttribute(\"data-nohref\")===\"1\";break a}a=!1}a&&b.preventDefault()},!0);}).call(this);</script><style>#gbar,#guser{font-size:13px;padding-top:1px !important;}#gbar{height:22px}#guser{padding-bottom:7px !important;text-align:right}.gbh,.gbd{border-top:1px solid #c9d7f1;font-size:1px}.gbh{height:0;position:absolute;top:24px;width:100%}@media all{.gb1{height:22px;margin-right:.5em;vertical-align:top}#gbar{float:left}}a.gb1,a.gb4{text-decoration:underline !important}a.gb1,a.gb4{color:#00c !important}.gbi .gb4{color:#dd8e27 !important}.gbf .gb4{color:#900 !important}\n",
      "</style><style>body,td,a,p,.h{font-family:sans-serif}body{margin:0;overflow-y:scroll}#gog{padding:3px 8px 0}td{line-height:.8em}.gac_m td{line-height:17px}form{margin-bottom:20px}.h{color:#1967d2}em{font-weight:bold;font-style:normal}.lst{height:25px;width:496px}.gsfi,.lst{font:18px sans-serif}.gsfs{font:17px sans-serif}.ds{display:inline-box;display:inline-block;margin:3px 0 4px;margin-left:4px}input{font-family:inherit}body{background:#fff;color:#1f1f1f}a{color:#681da8;text-decoration:none}a:hover,a:active{text-decoration:underline}.fl a{color:#1967d2}a:visited{color:#681da8}.sblc{padding-top:5px}.sblc a{display:block;margin:2px 0;margin-left:13px;font-size:11px}.lsbb{background:#f8f9fa;border:solid 1px;border-color:#dadce0 #70757a #70757a #dadce0;height:30px}.lsbb{display:block}#WqQANb a{display:inline-block;margin:0 12px}.lsb{background:url(/images/nav_logo229.png) 0 -261px repeat-x;color:#1f1f1f;border:none;cursor:pointer;height:30px;margin:0;outline:0;font:15px sans-serif;vertical-align:top}.lsb:active{background:#dadce0}.lst:focus{outline:none}</style><script nonce=\"W18rwuqPS_SMNvxQC3i0ug\">(function(){window.google.erd={jsr:1,bv:2251,de:true,dpf:'YJnzx_FgRcskq4dvvfXrWO6Z-Jgg7txgM9HIbopx8N4'};\n",
      "var g=this||self;var k,l=(k=g.mei)!=null?k:1,m,p=(m=g.diel)!=null?m:0,q,r=(q=g.sdo)!=null?q:!0,t=0,u,w=google.erd,x=w.jsr;google.ml=function(a,b,d,n,e){e=e===void 0?2:e;b&&(u=a&&a.message);d===void 0&&(d={});d.cad=\"ple_\"+google.ple+\".aple_\"+google.aple;if(google.dl)return google.dl(a,e,d,!0),null;b=d;if(x<0){window.console&&console.error(a,b);if(x===-2)throw a;b=!1}else b=!a||!a.message||a.message===\"Error loading script\"||t>=l&&!n?!1:!0;if(!b)return null;t++;d=d||{};b=encodeURIComponent;var c=\"/gen_204?atyp=i&ei=\"+b(google.kEI);google.kEXPI&&(c+=\"&jexpid=\"+b(google.kEXPI));c+=\"&srcpg=\"+b(google.sn)+\"&jsr=\"+b(w.jsr)+\n",
      "\"&bver=\"+b(w.bv);w.dpf&&(c+=\"&dpf=\"+b(w.dpf));var f=a.lineNumber;f!==void 0&&(c+=\"&line=\"+f);var h=a.fileName;h&&(h.indexOf(\"-extension:/\")>0&&(e=3),c+=\"&script=\"+b(h),f&&h===window.location.href&&(f=document.documentElement.outerHTML.split(\"\\n\")[f],c+=\"&cad=\"+b(f?f.substring(0,300):\"No script found.\")));google.ple&&google.ple===1&&(e=2);c+=\"&jsel=\"+e;for(var v in d)c+=\"&\",c+=b(v),c+=\"=\",c+=b(d[v]);c=c+\"&emsg=\"+b(a.name+\": \"+a.message);c=c+\"&jsst=\"+b(a.stack||\"N/A\");c.length>=12288&&(c=c.substr(0,12288));a=c;n||google.log(0,\"\",a);return a};window.onerror=function(a,b,d,n,e){u!==a&&(a=e instanceof Error?e:Error(a),d===void 0||\"lineNumber\"in a||(a.lineNumber=d),b===void 0||\"fileName\"in a||(a.fileName=b),google.ml(a,!1,void 0,!1,a.name===\"SyntaxError\"||a.message.substring(0,11)===\"SyntaxError\"||a.message.indexOf(\"Script error\")!==-1?3:p));u=null;r&&t>=l&&(window.onerror=null)};})();</script></head><body bgcolor=\"#fff\"><script nonce=\"W18rwuqPS_SMNvxQC3i0ug\">(function(){var src='/images/nav_logo229.png';var iesg=false;document.body.onload = function(){window.n && window.n();if (document.images){new Image().src=src;}\n",
      "if (!iesg){document.f&&document.f.q.focus();document.gbqf&&document.gbqf.q.focus();}\n",
      "}\n",
      "})();</script><div id=\"mngb\"><div id=gbar><nobr><b class=gb1>Search</b> <a class=gb1 href=\"https://www.google.com/imghp?hl=en&tab=wi\">Images</a> <a class=gb1 href=\"https://maps.google.com/maps?hl=en&tab=wl\">Maps</a> <a class=gb1 href=\"https://play.google.com/?hl=en&tab=w8\">Play</a> <a class=gb1 href=\"https://www.youtube.com/?tab=w1\">YouTube</a> <a class=gb1 href=\"https://news.google.com/?tab=wn\">News</a> <a class=gb1 href=\"https://mail.google.com/mail/?tab=wm\">Gmail</a> <a class=gb1 href=\"https://drive.google.com/?tab=wo\">Drive</a> <a class=gb1 style=\"text-decoration:none\" href=\"https://www.google.com/intl/en/about/products?tab=wh\"><u>More</u> &raquo;</a></nobr></div><div id=guser width=100%><nobr><span id=gbn class=gbi></span><span id=gbf class=gbf></span><span id=gbe></span><a href=\"http://www.google.com/history/optout?hl=en\" class=gb4>Web History</a> | <a  href=\"/preferences?hl=en\" class=gb4>Settings</a> | <a target=_top id=gb_70 href=\"https://accounts.google.com/ServiceLogin?hl=en&passive=true&continue=https://www.google.com/&ec=GAZAAQ\" class=gb4>Sign in</a></nobr></div><div class=gbh style=left:0></div><div class=gbh style=right:0></div></div><center><br clear=\"all\" id=\"lgpd\"><div id=\"XjhHGf\"><img alt=\"Google\" height=\"92\" src=\"/images/branding/googlelogo/1x/googlelogo_white_background_color_272x92dp.png\" style=\"padding:28px 0 14px\" width=\"272\" id=\"hplogo\"><br><br></div><form action=\"/search\" name=\"f\"><table cellpadding=\"0\" cellspacing=\"0\"><tr valign=\"top\"><td width=\"25%\">&nbsp;</td><td align=\"center\" nowrap=\"\"><input name=\"ie\" value=\"ISO-8859-1\" type=\"hidden\"><input value=\"en\" name=\"hl\" type=\"hidden\"><input name=\"source\" type=\"hidden\" value=\"hp\"><input name=\"biw\" type=\"hidden\"><input name=\"bih\" type=\"hidden\"><div class=\"ds\" style=\"height:32px;margin:4px 0\"><input class=\"lst\" style=\"margin:0;padding:5px 8px 0 6px;vertical-align:top;color:#1f1f1f\" autocomplete=\"off\" value=\"\" title=\"Google Search\" maxlength=\"2048\" name=\"q\" size=\"57\"></div><br style=\"line-height:0\"><span class=\"ds\"><span class=\"lsbb\"><input class=\"lsb\" value=\"Google Search\" name=\"btnG\" type=\"submit\"></span></span><span class=\"ds\"><span class=\"lsbb\"><input class=\"lsb\" id=\"tsuid_4pFwaJmWCP7k5NoP6brOuAE_1\" value=\"I'm Feeling Lucky\" name=\"btnI\" type=\"submit\"><script nonce=\"W18rwuqPS_SMNvxQC3i0ug\">(function(){var id='tsuid_4pFwaJmWCP7k5NoP6brOuAE_1';document.getElementById(id).onclick = function(){if (this.form.q.value){this.checked = 1;if (this.form.iflsig)this.form.iflsig.disabled = false;}\n",
      "else top.location='/doodles/';};})();</script><input value=\"AOw8s4IAAAAAaHCf8gDOBRubstc5zQJdDOGNgbhdMl1Z\" name=\"iflsig\" type=\"hidden\"></span></span></td><td class=\"fl sblc\" align=\"left\" nowrap=\"\" width=\"25%\"><a href=\"/advanced_search?hl=en&amp;authuser=0\">Advanced search</a></td></tr></table><input id=\"gbv\" name=\"gbv\" type=\"hidden\" value=\"1\"><script nonce=\"W18rwuqPS_SMNvxQC3i0ug\">(function(){var a,b=\"1\";if(document&&document.getElementById)if(typeof XMLHttpRequest!=\"undefined\")b=\"2\";else if(typeof ActiveXObject!=\"undefined\"){var c,d,e=[\"MSXML2.XMLHTTP.6.0\",\"MSXML2.XMLHTTP.3.0\",\"MSXML2.XMLHTTP\",\"Microsoft.XMLHTTP\"];for(c=0;d=e[c++];)try{new ActiveXObject(d),b=\"2\"}catch(h){}}a=b;if(a==\"2\"&&location.search.indexOf(\"&gbv=2\")==-1){var f=google.gbvu,g=document.getElementById(\"gbv\");g&&(g.value=a);f&&window.setTimeout(function(){location.href=f},0)};}).call(this);</script></form><div style=\"font-size:83%;min-height:3.5em\"><br></div><span id=\"footer\"><div style=\"font-size:10pt\"><div style=\"margin:19px auto;text-align:center\" id=\"WqQANb\"><a href=\"/intl/en/ads/\">Advertising</a><a href=\"/services/\">Business Solutions</a><a href=\"/intl/en/about.html\">About Google</a></div></div><p style=\"font-size:8pt;color:#636363\">&copy; 2025 - <a href=\"/intl/en/policies/privacy/\">Privacy</a> - <a href=\"/intl/en/policies/terms/\">Terms</a></p></span></center><script nonce=\"W18rwuqPS_SMNvxQC3i0ug\">(function(){window.google.cdo={height:757,width:1440};(function(){var a=window.innerWidth,b=window.innerHeight;if(!a||!b){var c=window.document,d=c.compatMode==\"CSS1Compat\"?c.documentElement:c.body;a=d.clientWidth;b=d.clientHeight}if(a&&b&&(a!=google.cdo.width||b!=google.cdo.height)){var e=google,f=e.log,g=\"/client_204?&atyp=i&biw=\"+a+\"&bih=\"+b+\"&ei=\"+google.kEI,h=\"\",k=window.google&&window.google.kOPI||null;k&&(h+=\"&opi=\"+k);f.call(e,\"\",\"\",g+h)};}).call(this);})();(function(){google.xjs={basecomb:'/xjs/_/js/k\\x3dxjs.hp.en.CGtX1BUR_do.es5.O/ck\\x3dxjs.hp.bEGa4_xnu14.L.X.O/am\\x3dBAAAAABAAAAAAAAAAAAAAAAAAAAAAAAAAAAAAECJwAAAAABMEAAAAAAAAQAAAAAAAAAAAIARAAAEABAIEAAAKEkA40AAgAUAKxAAOUDpAQAAAoAAAAAIAAgAAACIAAAIAAAg4AQAAAAYAOFxTAAAACAAFgAEAAAAEI8/d\\x3d1/ed\\x3d1/dg\\x3d0/ujg\\x3d1/rs\\x3dACT90oGONfj3Qjy2hXvO_Xytc8noBsYbbg',basecss:'/xjs/_/ss/k\\x3dxjs.hp.bEGa4_xnu14.L.X.O/am\\x3dBAAAAABAAAAAAAAAAAAAAAAAAAAAAAAAAAAAAECJwAAAAAAMEAAAAAAAAAAAAAAAAAAAAAARAAAEABAIEAAAKAkAAwAAgAUAKxAAOUDpAQAAAoAAAAAIAAgAAACIAAAIAAAgYAQAAAAAAAAQDAAAACAAAg/rs\\x3dACT90oGchDO0EdkLwwy6kcDniexdYbsViQ',basejs:'/xjs/_/js/k\\x3dxjs.hp.en.CGtX1BUR_do.es5.O/am\\x3dAAAAAAAAAAAAAAAAAAAAAAAAAAAAAAAAAAAAAAAAAAAAAABAAAAAAAAAAQAAAAAAAAAAAIAQAAAEAAAAAAAAAEAA4EAAAAUAAAAAOAAAAAAAAIAAAAAAAAAAAAAAAAAAAAAA4AAAAAAYAOFxTAAAACAAFgAEAAAAEI8/dg\\x3d0/rs\\x3dACT90oHYDFvCp379yI4BU3-38W--_kmtqA',excm:[]};})();(function(){var u='/xjs/_/js/k\\x3dxjs.hp.en.CGtX1BUR_do.es5.O/am\\x3dAAAAAAAAAAAAAAAAAAAAAAAAAAAAAAAAAAAAAAAAAAAAAABAAAAAAAAAAQAAAAAAAAAAAIAQAAAEAAAAAAAAAEAA4EAAAAUAAAAAOAAAAAAAAIAAAAAAAAAAAAAAAAAAAAAA4AAAAAAYAOFxTAAAACAAFgAEAAAAEI8/d\\x3d1/ed\\x3d1/dg\\x3d3/rs\\x3dACT90oHYDFvCp379yI4BU3-38W--_kmtqA/m\\x3dsb_he,d';var st=1;var amd=1000;var mmd=0;var pod=true;var pop=true;var povp=false;var fp='';\n",
      "var e=this||self;function f(){var b,a,d;if(a=b=(a=window.google)==null?void 0:(d=a.ia)==null?void 0:d.r.B2Jtyd)a=b.m,a=a===1||a===5;return a&&b.cbfd!=null&&b.cbvi!=null?b:void 0};function g(){var b=[u];if(!google.dp){for(var a=0;a<b.length;a++){var d=b[a],c=document.createElement(\"link\");c.as=\"script\";c.href=d;c.rel=\"preload\";document.body.appendChild(c)}google.dp=!0}};google.ps===void 0&&(google.ps=[]);function h(){var b=u,a=function(){};google.lx=google.stvsc?a:function(){k(b);google.lx=a};google.bx||google.lx()}function l(b,a){a&&(b.src=a);fp&&google.caft&&google.caft(function(){b.fetchPriority=fp});var d=b.onload;b.onload=function(c){d&&d(c);google.ps=google.ps.filter(function(G){return b!==G})};google.ps.push(b);document.body.appendChild(b)}google.as=l;function k(b){google.timers&&google.timers.load&&google.tick&&google.tick(\"load\",\"xjsls\");var a=document.createElement(\"script\");a.onerror=function(){google.ple=1};a.onload=function(){google.ple=0};google.xjsus=void 0;l(a,b);google.aple=-1;google.dp=!0};function m(b){var a=b.getAttribute(\"jscontroller\");return(a===\"UBXHI\"||a===\"R3fhkb\"||a===\"TSZEqd\")&&b.hasAttribute(\"data-src\")}function n(){for(var b=document.getElementsByTagName(\"img\"),a=0,d=b.length;a<d;a++){var c=b[a];if(c.hasAttribute(\"data-lzy_\")&&Number(c.getAttribute(\"data-atf\"))&1&&!m(c))return!0}return!1}for(var p=document.getElementsByTagName(\"img\"),q=0,r=p.length;q<r;++q){var t=p[q];Number(t.getAttribute(\"data-atf\"))&1&&m(t)&&(t.src=t.getAttribute(\"data-src\"))};var w,x,y,z,A,B,C,D,E,F;function H(){google.xjsu=u;e._F_jsUrl=u;A=function(){h()};w=!1;x=(st===1||st===3)&&!!google.caft&&!n();y=f();z=(st===2||st===3)&&!!y&&!n();B=pod;C=pop;D=povp;E=pop&&document.prerendering||povp&&document.hidden;F=D?\"visibilitychange\":\"prerenderingchange\"}function I(){w||x||z||E||(A(),w=!0)}\n",
      "setTimeout(function(){google&&google.tick&&google.timers&&google.timers.load&&google.tick(\"load\",\"xjspls\");H();if(x||z||E){if(x){var b=function(){x=!1;I()};google.caft(b);window.setTimeout(b,amd)}z&&(b=function(){z=!1;I()},y.cbvi.push(b),window.setTimeout(b,mmd));if(E){var a=function(){(D?document.hidden:document.prerendering)||(E=!1,I(),document.removeEventListener(F,a))};document.addEventListener(F,a,{passive:!0})}if(B||C||D)w||g()}else A()},0);})();window._ = window._ || {};window._DumpException = _._DumpException = function(e){throw e;};window._s = window._s || {};_s._DumpException = _._DumpException;window._qs = window._qs || {};_qs._DumpException = _._DumpException;(function(){var t=[4,65536,0,0,0,0,0,575668224,208,4272128,256,64,1,0,67109176,131334145,671089084,59506996,6029612,264896,32325689,277348352,8,131074,8912896,8192,5114432,100663296,208789760,1,90370,1,36624];window._F_toggles = window._xjs_toggles = t;})();window._F_installCss = window._F_installCss || function(css){};(function(){google.jl={bfl:0,dw:false,eli:false,ine:false,ubm:false,uwp:true,vs:false};})();(function(){var pmc='{\\x22d\\x22:{},\\x22sb_he\\x22:{\\x22client\\x22:\\x22heirloom-hp\\x22,\\x22dh\\x22:true,\\x22ds\\x22:\\x22\\x22,\\x22host\\x22:\\x22google.com\\x22,\\x22jsonp\\x22:true,\\x22msgs\\x22:{\\x22cibl\\x22:\\x22Clear Search\\x22,\\x22dym\\x22:\\x22Did you mean:\\x22,\\x22lcky\\x22:\\x22I\\\\u0026#39;m Feeling Lucky\\x22,\\x22lml\\x22:\\x22Learn more\\x22,\\x22psrc\\x22:\\x22This search was removed from your \\\\u003Ca href\\x3d\\\\\\x22/history\\\\\\x22\\\\u003EWeb History\\\\u003C/a\\\\u003E\\x22,\\x22psrl\\x22:\\x22Remove\\x22,\\x22sbit\\x22:\\x22Search by image\\x22,\\x22srch\\x22:\\x22Google Search\\x22},\\x22ovr\\x22:{},\\x22pq\\x22:\\x22\\x22,\\x22rfs\\x22:[],\\x22stok\\x22:\\x22wNn2X1PzoTHK8PtqJvXexZoktMQ\\x22}}';google.pmc=JSON.parse(pmc);})();</script></body></html>\n"
     ]
    }
   ]
  },
  {
   "cell_type": "code",
   "source": [
    "#Timeout\n",
    "\n",
    "import requests\n",
    "\n",
    "try:\n",
    "  response = requests.get('https://www.google.com', timeout=1)\n",
    "except requests.exceptions.Timeout:\n",
    "  print('timeout')\n",
    "else:\n",
    "  print(response.status_code)"
   ],
   "metadata": {
    "colab": {
     "base_uri": "https://localhost:8080/"
    },
    "id": "R-SW6K1fxJI4",
    "outputId": "ba909f2e-397f-439f-caa5-463703b86746"
   },
   "execution_count": null,
   "outputs": [
    {
     "output_type": "stream",
     "name": "stdout",
     "text": [
      "200\n"
     ]
    }
   ]
  },
  {
   "cell_type": "code",
   "source": [
    "import requests\n",
    "\n",
    "try:\n",
    "  response = requests.get('https://www.google.com', timeout=0.00001)\n",
    "except requests.exceptions.Timeout:\n",
    "  print('timeout')\n",
    "else:\n",
    "  print(response.status_code)"
   ],
   "metadata": {
    "colab": {
     "base_uri": "https://localhost:8080/"
    },
    "id": "YhPWeTGR4BsZ",
    "outputId": "004fe583-e87d-47e7-9131-a8f1c6653cc2"
   },
   "execution_count": null,
   "outputs": [
    {
     "output_type": "stream",
     "name": "stdout",
     "text": [
      "timeout\n"
     ]
    }
   ]
  },
  {
   "cell_type": "code",
   "source": [
    "#ConnectionError\n",
    "import requests\n",
    "\n",
    "try:\n",
    "  response = requests.get('https://www.google.com:4000', timeout=5)\n",
    "except requests.exceptions.ConnectionError:\n",
    "  print('ConnectionError')\n",
    "else:\n",
    "  print(response.status_code)"
   ],
   "metadata": {
    "colab": {
     "base_uri": "https://localhost:8080/"
    },
    "id": "8lp6380R4QWr",
    "outputId": "25d1117c-0f13-4ae9-9014-5285b7b31591"
   },
   "execution_count": null,
   "outputs": [
    {
     "output_type": "stream",
     "name": "stdout",
     "text": [
      "ConnectionError\n"
     ]
    }
   ]
  },
  {
   "cell_type": "code",
   "source": [
    "#InvalidURL\n",
    "import requests\n",
    "\n",
    "try:\n",
    "  response = requests.get('https://///')\n",
    "except requests.exceptions.InvalidURL:\n",
    "  print('InvalidURL')\n",
    "else:\n",
    "  print(response.status_code)"
   ],
   "metadata": {
    "colab": {
     "base_uri": "https://localhost:8080/"
    },
    "id": "lHj3Hmn74u_t",
    "outputId": "a0c72721-3915-46ae-9862-78e727702199"
   },
   "execution_count": null,
   "outputs": [
    {
     "output_type": "stream",
     "name": "stdout",
     "text": [
      "InvalidURL\n"
     ]
    }
   ]
  },
  {
   "cell_type": "code",
   "source": [
    "#집에서 테스트 해 볼 사항\n",
    "# CRUD [C]\n",
    "#json-server --watch cars.json\n",
    "import requests\n",
    "\n",
    "try:\n",
    "  response = requests.get(\"http://localhost:3000/cars\")\n",
    "except requests.RequestException:\n",
    "  print('ERROR')\n",
    "else:\n",
    "  if response.status_code == requests.codes.ok:\n",
    "    print(response.headers['Content-Type'])\n",
    "    print(response.json())\n",
    "  else:\n",
    "    print(\"SERVER ERROR :\",response.status_code)"
   ],
   "metadata": {
    "id": "2Pxg-F-sWfw1",
    "ExecuteTime": {
     "end_time": "2025-07-13T14:02:54.718965Z",
     "start_time": "2025-07-13T14:02:54.701482Z"
    }
   },
   "outputs": [
    {
     "name": "stdout",
     "output_type": "stream",
     "text": [
      "application/json\n",
      "[{'id': '1', 'brand': 'Ford', 'model': 'Mustang', 'production_year': 1972, 'price': {'currency': 'USD', 'value': 35900}}, {'id': '2', 'brand': 'Aston Martin', 'model': 'Rapide', 'production_year': 2010, 'price': {'currency': 'GBP', 'value': 32000}}, {'id': '3', 'brand': 'Audi', 'model': 'A4', 'production_year': 2018, 'price': {'currency': 'EUR', 'value': 45000}}, {'id': '4', 'brand': 'Tesla', 'model': 'Model S', 'production_year': 2020, 'price': {'currency': 'USD', 'value': 70000}}, {'id': '5', 'brand': 'BMW', 'model': 'M3', 'production_year': 2022, 'price': {'currency': 'EUR', 'value': 80000}}]\n"
     ]
    }
   ],
   "execution_count": 5
  },
  {
   "cell_type": "code",
   "source": [
    "import requests\n",
    "\n",
    "try:\n",
    "  response = requests.get(\"http://localhost:3000/cars/2\")\n",
    "except requests.RequestException:\n",
    "  print('ERROR')\n",
    "else:\n",
    "  if response.status_code == requests.codes.ok:\n",
    "    print(response.json())\n",
    "  elif response.status_code == requests.codes.not_found:\n",
    "    print(\"NOT FOUND\")\n",
    "  else:\n",
    "    print(\"SERVER ERROR :\",response.status_code)"
   ],
   "metadata": {
    "id": "QlZlEcdbbLt5",
    "ExecuteTime": {
     "end_time": "2025-07-13T14:03:42.496864Z",
     "start_time": "2025-07-13T14:03:42.483869Z"
    }
   },
   "outputs": [
    {
     "name": "stdout",
     "output_type": "stream",
     "text": [
      "{'id': '2', 'brand': 'Aston Martin', 'model': 'Rapide', 'production_year': 2010, 'price': {'currency': 'GBP', 'value': 32000}}\n"
     ]
    }
   ],
   "execution_count": 6
  },
  {
   "cell_type": "code",
   "source": [
    "import requests\n",
    "\n",
    "try:\n",
    "  response = requests.get(\"http://localhost:3000/cars?_sort=production_year\")\n",
    "except requests.RequestException:\n",
    "  print('ERROR')\n",
    "else:\n",
    "  if response.status_code == requests.codes.ok:\n",
    "    print(response.json())\n",
    "  elif response.status_code == requests.codes.not_found:\n",
    "    print(\"NOT FOUND\")\n",
    "  else:\n",
    "    print(\"SERVER ERROR :\",response.status_code)"
   ],
   "metadata": {
    "id": "F9FciCrJfQdv",
    "ExecuteTime": {
     "end_time": "2025-07-13T14:03:47.349982Z",
     "start_time": "2025-07-13T14:03:47.336313Z"
    }
   },
   "outputs": [
    {
     "name": "stdout",
     "output_type": "stream",
     "text": [
      "[{'id': '1', 'brand': 'Ford', 'model': 'Mustang', 'production_year': 1972, 'price': {'currency': 'USD', 'value': 35900}}, {'id': '2', 'brand': 'Aston Martin', 'model': 'Rapide', 'production_year': 2010, 'price': {'currency': 'GBP', 'value': 32000}}, {'id': '3', 'brand': 'Audi', 'model': 'A4', 'production_year': 2018, 'price': {'currency': 'EUR', 'value': 45000}}, {'id': '4', 'brand': 'Tesla', 'model': 'Model S', 'production_year': 2020, 'price': {'currency': 'USD', 'value': 70000}}, {'id': '5', 'brand': 'BMW', 'model': 'M3', 'production_year': 2022, 'price': {'currency': 'EUR', 'value': 80000}}]\n"
     ]
    }
   ],
   "execution_count": 7
  },
  {
   "cell_type": "code",
   "source": [
    "import requests\n",
    "\n",
    "try:\n",
    "  response = requests.get(\"http://localhost:3000/cars?_sort=production_year&_order=desc\")\n",
    "except requests.RequestException:\n",
    "  print('ERROR')\n",
    "else:\n",
    "  if response.status_code == requests.codes.ok:\n",
    "    print(response.json())\n",
    "  elif response.status_code == requests.codes.not_found:\n",
    "    print(\"NOT FOUND\")\n",
    "  else:\n",
    "    print(\"SERVER ERROR :\",response.status_code)"
   ],
   "metadata": {
    "id": "r7nY1ZpMgMyT",
    "ExecuteTime": {
     "end_time": "2025-07-13T14:03:53.219924Z",
     "start_time": "2025-07-13T14:03:53.189262Z"
    }
   },
   "outputs": [
    {
     "name": "stdout",
     "output_type": "stream",
     "text": [
      "[{'id': '1', 'brand': 'Ford', 'model': 'Mustang', 'production_year': 1972, 'price': {'currency': 'USD', 'value': 35900}}, {'id': '2', 'brand': 'Aston Martin', 'model': 'Rapide', 'production_year': 2010, 'price': {'currency': 'GBP', 'value': 32000}}, {'id': '3', 'brand': 'Audi', 'model': 'A4', 'production_year': 2018, 'price': {'currency': 'EUR', 'value': 45000}}, {'id': '4', 'brand': 'Tesla', 'model': 'Model S', 'production_year': 2020, 'price': {'currency': 'USD', 'value': 70000}}, {'id': '5', 'brand': 'BMW', 'model': 'M3', 'production_year': 2022, 'price': {'currency': 'EUR', 'value': 80000}}]\n"
     ]
    }
   ],
   "execution_count": 8
  },
  {
   "metadata": {},
   "cell_type": "code",
   "outputs": [],
   "execution_count": null,
   "source": ""
  }
 ]
}
